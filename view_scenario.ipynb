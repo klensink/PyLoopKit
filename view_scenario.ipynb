{
 "cells": [
  {
   "cell_type": "markdown",
   "metadata": {},
   "source": [
    "# Run Loop Algorithm & View Example Scenario"
   ]
  },
  {
   "cell_type": "code",
   "execution_count": 5,
   "metadata": {},
   "outputs": [
    {
     "name": "stdout",
     "output_type": "stream",
     "text": [
      "Cloning into 'PyLoopKit'...\n",
      "remote: Enumerating objects: 12, done.\u001b[K\n",
      "remote: Counting objects: 100% (12/12), done.\u001b[K\n",
      "remote: Compressing objects: 100% (11/11), done.\u001b[K\n",
      "remote: Total 1592 (delta 4), reused 9 (delta 1), pack-reused 1580\n",
      "Receiving objects: 100% (1592/1592), 3.10 MiB | 4.10 MiB/s, done.\n",
      "Resolving deltas: 100% (1018/1018), done.\n"
     ]
    }
   ],
   "source": [
    "# load in the pyloopkit repository\n",
    "! git clone https://github.com/tidepool-org/PyLoopKit"
   ]
  },
  {
   "cell_type": "code",
   "execution_count": 226,
   "metadata": {},
   "outputs": [],
   "source": [
    "# load in required libraries and functions\n",
    "import datetime\n",
    "import os\n",
    "import sys\n",
    "import numpy as np\n",
    "import pandas as pd\n",
    "import plotly.graph_objects as go\n",
    "\n",
    "# load in pyloop modules (functions)\n",
    "pyLoop_path = os.path.abspath(os.path.join(\".\", \"PyLoopKit\"))\n",
    "sys.path.insert(0, pyLoop_path)\n",
    "from pyloop_parser import parse_report_and_run\n",
    "from loop_math import predict_glucose\n",
    "\n",
    "# define functions\n",
    "def convert_times_and_types(obj):\n",
    "    \"\"\" Convert dose types into strings \"\"\"\n",
    "    return str(obj.name)"
   ]
  },
  {
   "cell_type": "code",
   "execution_count": 227,
   "metadata": {},
   "outputs": [
    {
     "name": "stdout",
     "output_type": "stream",
     "text": [
      "here is the output, which also includes the inputs:\n"
     ]
    },
    {
     "data": {
      "text/plain": [
       "['predicted_glucose_dates',\n",
       " 'predicted_glucose_values',\n",
       " 'recommended_temp_basal',\n",
       " 'recommended_bolus',\n",
       " 'insulin_effect_dates',\n",
       " 'insulin_effect_values',\n",
       " 'counteraction_effect_start_times',\n",
       " 'counteraction_effect_end_times',\n",
       " 'counteraction_effect_values',\n",
       " 'momentum_effect_dates',\n",
       " 'momentum_effect_values',\n",
       " 'carb_effect_dates',\n",
       " 'carb_effect_values',\n",
       " 'retrospective_effect_dates',\n",
       " 'retrospective_effect_values',\n",
       " 'carbs_on_board',\n",
       " 'cob_timeline_dates',\n",
       " 'cob_timeline_values',\n",
       " 'input_data']"
      ]
     },
     "execution_count": 227,
     "metadata": {},
     "output_type": "execute_result"
    }
   ],
   "source": [
    "# run the loop algorithm using one of example files\n",
    "example_file_name = \"example_issue_report_1.json\"\n",
    "example_file_path = os.path.join(pyLoop_path, \"example_files\")\n",
    "recommendations = parse_report_and_run(\n",
    "    example_file_path, example_file_name\n",
    ")\n",
    "print(\"here is the output, which also includes the inputs:\")\n",
    "list(recommendations.keys())"
   ]
  },
  {
   "cell_type": "markdown",
   "metadata": {},
   "source": [
    "# Get data into format for visualization"
   ]
  },
  {
   "cell_type": "code",
   "execution_count": 228,
   "metadata": {},
   "outputs": [
    {
     "name": "stdout",
     "output_type": "stream",
     "text": [
      "here is the input data list\n"
     ]
    },
    {
     "data": {
      "text/plain": [
       "['offset_applied_to_dates',\n",
       " 'time_to_calculate_at',\n",
       " 'glucose_dates',\n",
       " 'glucose_values',\n",
       " 'glucose_units',\n",
       " 'dose_types',\n",
       " 'dose_start_times',\n",
       " 'dose_end_times',\n",
       " 'dose_values',\n",
       " 'dose_value_units',\n",
       " 'carb_dates',\n",
       " 'carb_values',\n",
       " 'carb_absorption_times',\n",
       " 'carb_value_units',\n",
       " 'settings_dictionary',\n",
       " 'sensitivity_ratio_start_times',\n",
       " 'sensitivity_ratio_end_times',\n",
       " 'sensitivity_ratio_values',\n",
       " 'sensitivity_ratio_value_units',\n",
       " 'carb_ratio_start_times',\n",
       " 'carb_ratio_values',\n",
       " 'carb_ratio_value_units',\n",
       " 'basal_rate_start_times',\n",
       " 'basal_rate_minutes',\n",
       " 'basal_rate_values',\n",
       " 'basal_rate_units',\n",
       " 'target_range_start_times',\n",
       " 'target_range_end_times',\n",
       " 'target_range_minimum_values',\n",
       " 'target_range_maximum_values',\n",
       " 'target_range_value_units',\n",
       " 'last_temporary_basal']"
      ]
     },
     "execution_count": 228,
     "metadata": {},
     "output_type": "execute_result"
    }
   ],
   "source": [
    "# get input data from output file\n",
    "inputs = recommendations.get(\"input_data\")\n",
    "print(\"here is the input data list\")\n",
    "list(inputs.keys())"
   ]
  },
  {
   "cell_type": "code",
   "execution_count": 229,
   "metadata": {},
   "outputs": [
    {
     "data": {
      "text/plain": [
       "datetime.datetime(2019, 7, 26, 15, 13, 17, tzinfo=datetime.timezone.utc)"
      ]
     },
     "execution_count": 229,
     "metadata": {},
     "output_type": "execute_result"
    }
   ],
   "source": [
    "# general inputs\n",
    "current_time = inputs.get(\"time_to_calculate_at\")\n",
    "current_time"
   ]
  },
  {
   "cell_type": "markdown",
   "metadata": {},
   "source": [
    "# Blood Glucose (BG) Data"
   ]
  },
  {
   "cell_type": "code",
   "execution_count": 230,
   "metadata": {},
   "outputs": [
    {
     "data": {
      "text/html": [
       "<div>\n",
       "<style scoped>\n",
       "    .dataframe tbody tr th:only-of-type {\n",
       "        vertical-align: middle;\n",
       "    }\n",
       "\n",
       "    .dataframe tbody tr th {\n",
       "        vertical-align: top;\n",
       "    }\n",
       "\n",
       "    .dataframe thead th {\n",
       "        text-align: right;\n",
       "    }\n",
       "</style>\n",
       "<table border=\"1\" class=\"dataframe\">\n",
       "  <thead>\n",
       "    <tr style=\"text-align: right;\">\n",
       "      <th></th>\n",
       "      <th>time</th>\n",
       "      <th>mg_dL</th>\n",
       "    </tr>\n",
       "  </thead>\n",
       "  <tbody>\n",
       "    <tr>\n",
       "      <th>0</th>\n",
       "      <td>2019-07-25 16:12:46+00:00</td>\n",
       "      <td>167.566</td>\n",
       "    </tr>\n",
       "    <tr>\n",
       "      <th>1</th>\n",
       "      <td>2019-07-25 16:17:46+00:00</td>\n",
       "      <td>163.652</td>\n",
       "    </tr>\n",
       "    <tr>\n",
       "      <th>2</th>\n",
       "      <td>2019-07-25 16:22:46+00:00</td>\n",
       "      <td>167.946</td>\n",
       "    </tr>\n",
       "    <tr>\n",
       "      <th>3</th>\n",
       "      <td>2019-07-25 16:27:46+00:00</td>\n",
       "      <td>172.881</td>\n",
       "    </tr>\n",
       "    <tr>\n",
       "      <th>4</th>\n",
       "      <td>2019-07-25 16:32:46+00:00</td>\n",
       "      <td>171.076</td>\n",
       "    </tr>\n",
       "  </tbody>\n",
       "</table>\n",
       "</div>"
      ],
      "text/plain": [
       "                       time    mg_dL\n",
       "0 2019-07-25 16:12:46+00:00  167.566\n",
       "1 2019-07-25 16:17:46+00:00  163.652\n",
       "2 2019-07-25 16:22:46+00:00  167.946\n",
       "3 2019-07-25 16:27:46+00:00  172.881\n",
       "4 2019-07-25 16:32:46+00:00  171.076"
      ]
     },
     "execution_count": 230,
     "metadata": {},
     "output_type": "execute_result"
    }
   ],
   "source": [
    "# blood glucose data\n",
    "glucose_dates = pd.DataFrame(inputs.get(\"glucose_dates\"), columns=[\"time\"])\n",
    "glucose_values = pd.DataFrame(inputs.get(\"glucose_values\"), columns=[\"mg_dL\"])\n",
    "bg = pd.concat([glucose_dates, glucose_values], axis=1)\n",
    "bg.head()"
   ]
  },
  {
   "cell_type": "code",
   "execution_count": 248,
   "metadata": {},
   "outputs": [
    {
     "data": {
      "application/vnd.plotly.v1+json": {
       "config": {
        "plotlyServerURL": "https://plot.ly"
       },
       "data": [
        {
         "hoverinfo": "y+name",
         "hoverlabel": {
          "bgcolor": [
           "mediumaquamarine",
           "mediumaquamarine",
           "mediumaquamarine",
           "mediumaquamarine",
           "mediumaquamarine",
           "mediumaquamarine",
           "mediumaquamarine",
           "mediumaquamarine",
           "mediumaquamarine",
           "mediumaquamarine",
           "mediumaquamarine",
           "mediumaquamarine",
           "mediumaquamarine",
           "mediumaquamarine",
           "mediumaquamarine",
           "mediumaquamarine",
           "mediumaquamarine",
           "mediumaquamarine",
           "mediumaquamarine",
           "mediumaquamarine",
           "mediumaquamarine",
           "mediumaquamarine",
           "mediumaquamarine",
           "mediumaquamarine",
           "mediumaquamarine",
           "mediumaquamarine",
           "mediumaquamarine",
           "mediumaquamarine",
           "mediumaquamarine",
           "mediumaquamarine",
           "mediumaquamarine",
           "mediumaquamarine",
           "mediumaquamarine",
           "mediumaquamarine",
           "mediumaquamarine",
           "mediumaquamarine",
           "mediumaquamarine",
           "mediumaquamarine",
           "mediumaquamarine",
           "mediumaquamarine",
           "mediumaquamarine",
           "mediumaquamarine",
           "mediumaquamarine",
           "mediumaquamarine",
           "mediumaquamarine",
           "mediumaquamarine",
           "mediumaquamarine",
           "mediumaquamarine",
           "mediumaquamarine",
           "mediumaquamarine",
           "mediumaquamarine",
           "mediumaquamarine",
           "mediumaquamarine",
           "mediumaquamarine",
           "mediumaquamarine",
           "mediumaquamarine",
           "mediumaquamarine",
           "mediumaquamarine",
           "mediumaquamarine",
           "mediumaquamarine",
           "mediumaquamarine",
           "mediumaquamarine",
           "mediumaquamarine",
           "mediumaquamarine",
           "mediumaquamarine",
           "mediumaquamarine",
           "mediumaquamarine",
           "mediumaquamarine",
           "mediumaquamarine",
           "mediumaquamarine",
           "mediumaquamarine",
           "mediumaquamarine",
           "mediumaquamarine",
           "mediumaquamarine",
           "mediumaquamarine",
           "mediumaquamarine",
           "mediumaquamarine",
           "mediumaquamarine",
           "mediumaquamarine",
           "mediumaquamarine",
           "mediumaquamarine",
           "mediumaquamarine",
           "mediumaquamarine",
           "mediumaquamarine",
           "mediumaquamarine",
           "mediumaquamarine",
           "mediumaquamarine",
           "mediumaquamarine",
           "mediumaquamarine",
           "mediumaquamarine",
           "mediumaquamarine",
           "mediumaquamarine",
           "mediumaquamarine",
           "mediumaquamarine",
           "mediumaquamarine",
           "mediumaquamarine",
           "mediumaquamarine",
           "mediumaquamarine",
           "mediumaquamarine",
           "mediumaquamarine",
           "mediumaquamarine",
           "mediumaquamarine",
           "mediumaquamarine",
           "mediumaquamarine",
           "mediumaquamarine",
           "mediumaquamarine",
           "mediumaquamarine",
           "mediumaquamarine",
           "mediumaquamarine",
           "mediumaquamarine",
           "mediumaquamarine",
           "mediumaquamarine",
           "mediumaquamarine",
           "mediumaquamarine",
           "mediumaquamarine",
           "mediumaquamarine",
           "mediumaquamarine",
           "mediumaquamarine",
           "mediumaquamarine",
           "mediumaquamarine",
           "mediumaquamarine",
           "mediumaquamarine",
           "mediumaquamarine",
           "mediumaquamarine",
           "mediumaquamarine",
           "mediumaquamarine",
           "mediumaquamarine",
           "mediumaquamarine",
           "mediumaquamarine",
           "mediumaquamarine",
           "mediumaquamarine",
           "mediumaquamarine",
           "mediumaquamarine",
           "mediumaquamarine",
           "mediumaquamarine",
           "mediumaquamarine",
           "mediumaquamarine",
           "mediumaquamarine",
           "mediumaquamarine",
           "mediumaquamarine",
           "mediumaquamarine",
           "mediumaquamarine",
           "mediumaquamarine",
           "mediumaquamarine",
           "mediumaquamarine",
           "mediumaquamarine",
           "mediumaquamarine",
           "mediumaquamarine",
           "mediumaquamarine",
           "mediumaquamarine",
           "mediumaquamarine",
           "mediumaquamarine",
           "mediumaquamarine",
           "mediumaquamarine",
           "mediumaquamarine",
           "mediumaquamarine",
           "mediumaquamarine",
           "mediumaquamarine",
           "mediumaquamarine",
           "mediumaquamarine",
           "mediumaquamarine",
           "mediumaquamarine",
           "mediumaquamarine",
           "mediumaquamarine",
           "mediumaquamarine",
           "mediumaquamarine",
           "mediumaquamarine",
           "mediumaquamarine",
           "mediumaquamarine",
           "mediumaquamarine",
           "mediumaquamarine",
           "mediumaquamarine",
           "mediumaquamarine",
           "mediumaquamarine",
           "mediumaquamarine",
           "mediumaquamarine",
           "mediumaquamarine",
           "mediumaquamarine",
           "mediumaquamarine",
           "mediumaquamarine",
           "mediumaquamarine",
           "mediumaquamarine",
           "mediumaquamarine",
           "mediumaquamarine",
           "mediumaquamarine",
           "mediumaquamarine",
           "mediumaquamarine",
           "mediumaquamarine",
           "mediumaquamarine",
           "mediumaquamarine",
           "mediumaquamarine",
           "mediumaquamarine",
           "mediumaquamarine",
           "mediumaquamarine",
           "mediumaquamarine",
           "mediumaquamarine",
           "mediumaquamarine",
           "mediumaquamarine",
           "mediumaquamarine",
           "mediumaquamarine",
           "mediumaquamarine",
           "mediumaquamarine",
           "mediumaquamarine",
           "mediumaquamarine",
           "mediumaquamarine",
           "mediumaquamarine",
           "mediumaquamarine",
           "mediumaquamarine",
           "mediumaquamarine",
           "mediumaquamarine",
           "mediumaquamarine",
           "mediumaquamarine",
           "mediumaquamarine",
           "mediumaquamarine",
           "mediumaquamarine",
           "mediumaquamarine",
           "mediumaquamarine",
           "mediumaquamarine",
           "mediumaquamarine",
           "mediumaquamarine",
           "mediumaquamarine",
           "mediumaquamarine",
           "mediumaquamarine",
           "mediumaquamarine",
           "mediumaquamarine",
           "mediumaquamarine",
           "mediumaquamarine",
           "mediumaquamarine",
           "mediumaquamarine",
           "mediumaquamarine",
           "mediumaquamarine",
           "mediumaquamarine",
           "mediumaquamarine",
           "mediumaquamarine",
           "mediumaquamarine",
           "mediumaquamarine",
           "mediumaquamarine",
           "mediumaquamarine",
           "mediumaquamarine",
           "mediumaquamarine",
           "mediumaquamarine",
           "mediumaquamarine",
           "mediumaquamarine",
           "mediumaquamarine",
           "mediumaquamarine",
           "mediumaquamarine",
           "mediumaquamarine",
           "mediumaquamarine",
           "mediumaquamarine",
           "mediumaquamarine",
           "mediumaquamarine",
           "mediumaquamarine",
           "mediumaquamarine",
           "mediumaquamarine",
           "mediumaquamarine",
           "mediumaquamarine",
           "mediumaquamarine",
           "mediumaquamarine",
           "mediumaquamarine",
           "mediumaquamarine",
           "mediumaquamarine",
           "mediumaquamarine",
           "mediumaquamarine",
           "mediumaquamarine",
           "mediumaquamarine",
           "mediumaquamarine",
           "mediumaquamarine"
          ]
         },
         "marker": {
          "color": [
           "mediumaquamarine",
           "mediumaquamarine",
           "mediumaquamarine",
           "mediumaquamarine",
           "mediumaquamarine",
           "mediumaquamarine",
           "mediumaquamarine",
           "mediumaquamarine",
           "mediumaquamarine",
           "mediumaquamarine",
           "mediumaquamarine",
           "mediumaquamarine",
           "mediumaquamarine",
           "mediumaquamarine",
           "mediumaquamarine",
           "mediumaquamarine",
           "mediumaquamarine",
           "mediumaquamarine",
           "mediumaquamarine",
           "mediumaquamarine",
           "mediumaquamarine",
           "mediumaquamarine",
           "mediumaquamarine",
           "mediumaquamarine",
           "mediumaquamarine",
           "mediumaquamarine",
           "mediumaquamarine",
           "mediumaquamarine",
           "mediumaquamarine",
           "mediumaquamarine",
           "mediumaquamarine",
           "mediumaquamarine",
           "mediumaquamarine",
           "mediumaquamarine",
           "mediumaquamarine",
           "mediumaquamarine",
           "mediumaquamarine",
           "mediumaquamarine",
           "mediumaquamarine",
           "mediumaquamarine",
           "mediumaquamarine",
           "mediumaquamarine",
           "mediumaquamarine",
           "mediumaquamarine",
           "mediumaquamarine",
           "mediumaquamarine",
           "mediumaquamarine",
           "mediumaquamarine",
           "mediumaquamarine",
           "mediumaquamarine",
           "mediumaquamarine",
           "mediumaquamarine",
           "mediumaquamarine",
           "mediumaquamarine",
           "mediumaquamarine",
           "mediumaquamarine",
           "mediumaquamarine",
           "mediumaquamarine",
           "mediumaquamarine",
           "mediumaquamarine",
           "mediumaquamarine",
           "mediumaquamarine",
           "mediumaquamarine",
           "mediumaquamarine",
           "mediumaquamarine",
           "mediumaquamarine",
           "mediumaquamarine",
           "mediumaquamarine",
           "mediumaquamarine",
           "mediumaquamarine",
           "mediumaquamarine",
           "mediumaquamarine",
           "mediumaquamarine",
           "mediumaquamarine",
           "mediumaquamarine",
           "mediumaquamarine",
           "mediumaquamarine",
           "mediumaquamarine",
           "mediumaquamarine",
           "mediumaquamarine",
           "mediumaquamarine",
           "mediumaquamarine",
           "mediumaquamarine",
           "mediumaquamarine",
           "mediumaquamarine",
           "mediumaquamarine",
           "mediumaquamarine",
           "mediumaquamarine",
           "mediumaquamarine",
           "mediumaquamarine",
           "mediumaquamarine",
           "mediumaquamarine",
           "mediumaquamarine",
           "mediumaquamarine",
           "mediumaquamarine",
           "mediumaquamarine",
           "mediumaquamarine",
           "mediumaquamarine",
           "mediumaquamarine",
           "mediumaquamarine",
           "mediumaquamarine",
           "mediumaquamarine",
           "mediumaquamarine",
           "mediumaquamarine",
           "mediumaquamarine",
           "mediumaquamarine",
           "mediumaquamarine",
           "mediumaquamarine",
           "mediumaquamarine",
           "mediumaquamarine",
           "mediumaquamarine",
           "mediumaquamarine",
           "mediumaquamarine",
           "mediumaquamarine",
           "mediumaquamarine",
           "mediumaquamarine",
           "mediumaquamarine",
           "mediumaquamarine",
           "mediumaquamarine",
           "mediumaquamarine",
           "mediumaquamarine",
           "mediumaquamarine",
           "mediumaquamarine",
           "mediumaquamarine",
           "mediumaquamarine",
           "mediumaquamarine",
           "mediumaquamarine",
           "mediumaquamarine",
           "mediumaquamarine",
           "mediumaquamarine",
           "mediumaquamarine",
           "mediumaquamarine",
           "mediumaquamarine",
           "mediumaquamarine",
           "mediumaquamarine",
           "mediumaquamarine",
           "mediumaquamarine",
           "mediumaquamarine",
           "mediumaquamarine",
           "mediumaquamarine",
           "mediumaquamarine",
           "mediumaquamarine",
           "mediumaquamarine",
           "mediumaquamarine",
           "mediumaquamarine",
           "mediumaquamarine",
           "mediumaquamarine",
           "mediumaquamarine",
           "mediumaquamarine",
           "mediumaquamarine",
           "mediumaquamarine",
           "mediumaquamarine",
           "mediumaquamarine",
           "mediumaquamarine",
           "mediumaquamarine",
           "mediumaquamarine",
           "mediumaquamarine",
           "mediumaquamarine",
           "mediumaquamarine",
           "mediumaquamarine",
           "mediumaquamarine",
           "mediumaquamarine",
           "mediumaquamarine",
           "mediumaquamarine",
           "mediumaquamarine",
           "mediumaquamarine",
           "mediumaquamarine",
           "mediumaquamarine",
           "mediumaquamarine",
           "mediumaquamarine",
           "mediumaquamarine",
           "mediumaquamarine",
           "mediumaquamarine",
           "mediumaquamarine",
           "mediumaquamarine",
           "mediumaquamarine",
           "mediumaquamarine",
           "mediumaquamarine",
           "mediumaquamarine",
           "mediumaquamarine",
           "mediumaquamarine",
           "mediumaquamarine",
           "mediumaquamarine",
           "mediumaquamarine",
           "mediumaquamarine",
           "mediumaquamarine",
           "mediumaquamarine",
           "mediumaquamarine",
           "mediumaquamarine",
           "mediumaquamarine",
           "mediumaquamarine",
           "mediumaquamarine",
           "mediumaquamarine",
           "mediumaquamarine",
           "mediumaquamarine",
           "mediumaquamarine",
           "mediumaquamarine",
           "mediumaquamarine",
           "mediumaquamarine",
           "mediumaquamarine",
           "mediumaquamarine",
           "mediumaquamarine",
           "mediumaquamarine",
           "mediumaquamarine",
           "mediumaquamarine",
           "mediumaquamarine",
           "mediumaquamarine",
           "mediumaquamarine",
           "mediumaquamarine",
           "mediumaquamarine",
           "mediumaquamarine",
           "mediumaquamarine",
           "mediumaquamarine",
           "mediumaquamarine",
           "mediumaquamarine",
           "mediumaquamarine",
           "mediumaquamarine",
           "mediumaquamarine",
           "mediumaquamarine",
           "mediumaquamarine",
           "mediumaquamarine",
           "mediumaquamarine",
           "mediumaquamarine",
           "mediumaquamarine",
           "mediumaquamarine",
           "mediumaquamarine",
           "mediumaquamarine",
           "mediumaquamarine",
           "mediumaquamarine",
           "mediumaquamarine",
           "mediumaquamarine",
           "mediumaquamarine",
           "mediumaquamarine",
           "mediumaquamarine",
           "mediumaquamarine",
           "mediumaquamarine",
           "mediumaquamarine",
           "mediumaquamarine",
           "mediumaquamarine",
           "mediumaquamarine",
           "mediumaquamarine",
           "mediumaquamarine",
           "mediumaquamarine",
           "mediumaquamarine",
           "mediumaquamarine",
           "mediumaquamarine",
           "mediumaquamarine",
           "mediumaquamarine",
           "mediumaquamarine",
           "mediumaquamarine",
           "mediumaquamarine",
           "mediumaquamarine",
           "mediumaquamarine",
           "mediumaquamarine",
           "mediumaquamarine",
           "mediumaquamarine",
           "mediumaquamarine",
           "mediumaquamarine",
           "mediumaquamarine",
           "mediumaquamarine",
           "mediumaquamarine",
           "mediumaquamarine",
           "mediumaquamarine",
           "mediumaquamarine",
           "mediumaquamarine",
           "mediumaquamarine",
           "mediumaquamarine"
          ],
          "line": {
           "width": 0
          },
          "size": 6
         },
         "mode": "markers",
         "name": "cgm",
         "type": "scattergl",
         "x": [
          "2019-07-25T16:12:46+00:00",
          "2019-07-25T16:17:46+00:00",
          "2019-07-25T16:22:46+00:00",
          "2019-07-25T16:27:46+00:00",
          "2019-07-25T16:32:46+00:00",
          "2019-07-25T16:37:46+00:00",
          "2019-07-25T16:42:46+00:00",
          "2019-07-25T16:47:46+00:00",
          "2019-07-25T16:52:46+00:00",
          "2019-07-25T16:57:46+00:00",
          "2019-07-25T17:02:46+00:00",
          "2019-07-25T17:07:46+00:00",
          "2019-07-25T17:12:46+00:00",
          "2019-07-25T17:17:46+00:00",
          "2019-07-25T17:22:46+00:00",
          "2019-07-25T17:27:46+00:00",
          "2019-07-25T17:32:46+00:00",
          "2019-07-25T17:37:46+00:00",
          "2019-07-25T17:42:46+00:00",
          "2019-07-25T17:47:46+00:00",
          "2019-07-25T17:52:46+00:00",
          "2019-07-25T17:57:46+00:00",
          "2019-07-25T18:02:46+00:00",
          "2019-07-25T18:07:46+00:00",
          "2019-07-25T18:12:46+00:00",
          "2019-07-25T18:17:46+00:00",
          "2019-07-25T18:22:46+00:00",
          "2019-07-25T18:27:46+00:00",
          "2019-07-25T18:32:46+00:00",
          "2019-07-25T18:37:46+00:00",
          "2019-07-25T18:42:46+00:00",
          "2019-07-25T18:47:46+00:00",
          "2019-07-25T18:52:46+00:00",
          "2019-07-25T18:57:46+00:00",
          "2019-07-25T19:02:46+00:00",
          "2019-07-25T19:07:46+00:00",
          "2019-07-25T19:12:46+00:00",
          "2019-07-25T19:17:46+00:00",
          "2019-07-25T19:22:46+00:00",
          "2019-07-25T19:27:46+00:00",
          "2019-07-25T19:32:46+00:00",
          "2019-07-25T19:37:46+00:00",
          "2019-07-25T19:42:46+00:00",
          "2019-07-25T19:47:46+00:00",
          "2019-07-25T19:52:46+00:00",
          "2019-07-25T19:57:46+00:00",
          "2019-07-25T20:02:46+00:00",
          "2019-07-25T20:07:46+00:00",
          "2019-07-25T20:12:46+00:00",
          "2019-07-25T20:17:46+00:00",
          "2019-07-25T20:22:46+00:00",
          "2019-07-25T20:27:46+00:00",
          "2019-07-25T20:32:46+00:00",
          "2019-07-25T20:37:46+00:00",
          "2019-07-25T20:42:46+00:00",
          "2019-07-25T20:47:46+00:00",
          "2019-07-25T20:52:46+00:00",
          "2019-07-25T20:57:46+00:00",
          "2019-07-25T21:02:46+00:00",
          "2019-07-25T21:07:46+00:00",
          "2019-07-25T21:12:46+00:00",
          "2019-07-25T21:17:46+00:00",
          "2019-07-25T21:27:46+00:00",
          "2019-07-25T21:32:46+00:00",
          "2019-07-25T21:37:46+00:00",
          "2019-07-25T21:42:46+00:00",
          "2019-07-25T21:47:46+00:00",
          "2019-07-25T21:52:46+00:00",
          "2019-07-25T21:57:46+00:00",
          "2019-07-25T22:02:46+00:00",
          "2019-07-25T22:07:46+00:00",
          "2019-07-25T22:12:46+00:00",
          "2019-07-25T22:17:46+00:00",
          "2019-07-25T22:27:46+00:00",
          "2019-07-25T22:32:46+00:00",
          "2019-07-25T22:37:46+00:00",
          "2019-07-25T22:42:46+00:00",
          "2019-07-25T22:47:46+00:00",
          "2019-07-25T22:52:46+00:00",
          "2019-07-25T22:57:46+00:00",
          "2019-07-25T23:02:46+00:00",
          "2019-07-25T23:07:46+00:00",
          "2019-07-25T23:17:46+00:00",
          "2019-07-25T23:22:46+00:00",
          "2019-07-25T23:27:46+00:00",
          "2019-07-25T23:32:46+00:00",
          "2019-07-25T23:37:46+00:00",
          "2019-07-25T23:42:46+00:00",
          "2019-07-25T23:47:46+00:00",
          "2019-07-25T23:52:46+00:00",
          "2019-07-25T23:57:46+00:00",
          "2019-07-26T00:02:46+00:00",
          "2019-07-26T00:07:46+00:00",
          "2019-07-26T00:12:46+00:00",
          "2019-07-26T00:17:46+00:00",
          "2019-07-26T00:22:46+00:00",
          "2019-07-26T00:27:46+00:00",
          "2019-07-26T00:37:46+00:00",
          "2019-07-26T00:42:46+00:00",
          "2019-07-26T00:47:46+00:00",
          "2019-07-26T00:52:46+00:00",
          "2019-07-26T00:57:46+00:00",
          "2019-07-26T01:02:46+00:00",
          "2019-07-26T01:07:46+00:00",
          "2019-07-26T01:12:46+00:00",
          "2019-07-26T01:17:46+00:00",
          "2019-07-26T01:22:46+00:00",
          "2019-07-26T01:27:46+00:00",
          "2019-07-26T01:32:46+00:00",
          "2019-07-26T01:37:46+00:00",
          "2019-07-26T01:42:46+00:00",
          "2019-07-26T01:47:46+00:00",
          "2019-07-26T01:52:46+00:00",
          "2019-07-26T01:57:46+00:00",
          "2019-07-26T02:02:46+00:00",
          "2019-07-26T02:07:46+00:00",
          "2019-07-26T02:12:46+00:00",
          "2019-07-26T02:17:46+00:00",
          "2019-07-26T02:22:46+00:00",
          "2019-07-26T02:27:46+00:00",
          "2019-07-26T02:32:46+00:00",
          "2019-07-26T02:37:46+00:00",
          "2019-07-26T02:42:46+00:00",
          "2019-07-26T02:47:46+00:00",
          "2019-07-26T02:52:46+00:00",
          "2019-07-26T02:57:46+00:00",
          "2019-07-26T03:02:46+00:00",
          "2019-07-26T03:07:46+00:00",
          "2019-07-26T03:12:46+00:00",
          "2019-07-26T03:17:46+00:00",
          "2019-07-26T03:22:46+00:00",
          "2019-07-26T03:27:46+00:00",
          "2019-07-26T03:32:46+00:00",
          "2019-07-26T03:37:46+00:00",
          "2019-07-26T03:42:46+00:00",
          "2019-07-26T03:47:46+00:00",
          "2019-07-26T03:52:46+00:00",
          "2019-07-26T03:57:46+00:00",
          "2019-07-26T04:02:46+00:00",
          "2019-07-26T04:07:46+00:00",
          "2019-07-26T04:12:46+00:00",
          "2019-07-26T04:17:46+00:00",
          "2019-07-26T04:22:46+00:00",
          "2019-07-26T04:27:46+00:00",
          "2019-07-26T04:32:46+00:00",
          "2019-07-26T04:37:46+00:00",
          "2019-07-26T04:42:46+00:00",
          "2019-07-26T04:47:46+00:00",
          "2019-07-26T04:52:46+00:00",
          "2019-07-26T04:57:46+00:00",
          "2019-07-26T05:02:46+00:00",
          "2019-07-26T05:07:46+00:00",
          "2019-07-26T05:12:46+00:00",
          "2019-07-26T05:17:46+00:00",
          "2019-07-26T05:22:46+00:00",
          "2019-07-26T05:27:46+00:00",
          "2019-07-26T05:32:46+00:00",
          "2019-07-26T05:37:46+00:00",
          "2019-07-26T05:42:46+00:00",
          "2019-07-26T05:47:46+00:00",
          "2019-07-26T05:52:46+00:00",
          "2019-07-26T05:57:46+00:00",
          "2019-07-26T06:02:46+00:00",
          "2019-07-26T06:07:46+00:00",
          "2019-07-26T06:12:46+00:00",
          "2019-07-26T06:17:46+00:00",
          "2019-07-26T06:22:46+00:00",
          "2019-07-26T06:27:46+00:00",
          "2019-07-26T06:32:46+00:00",
          "2019-07-26T06:37:46+00:00",
          "2019-07-26T06:42:46+00:00",
          "2019-07-26T06:47:46+00:00",
          "2019-07-26T06:52:46+00:00",
          "2019-07-26T06:57:46+00:00",
          "2019-07-26T07:02:46+00:00",
          "2019-07-26T07:07:46+00:00",
          "2019-07-26T07:17:46+00:00",
          "2019-07-26T07:22:46+00:00",
          "2019-07-26T07:27:46+00:00",
          "2019-07-26T07:32:46+00:00",
          "2019-07-26T07:37:46+00:00",
          "2019-07-26T07:42:46+00:00",
          "2019-07-26T07:47:46+00:00",
          "2019-07-26T07:52:46+00:00",
          "2019-07-26T07:57:46+00:00",
          "2019-07-26T08:02:46+00:00",
          "2019-07-26T08:07:46+00:00",
          "2019-07-26T08:12:46+00:00",
          "2019-07-26T08:22:46+00:00",
          "2019-07-26T08:32:46+00:00",
          "2019-07-26T08:37:46+00:00",
          "2019-07-26T08:42:46+00:00",
          "2019-07-26T08:47:46+00:00",
          "2019-07-26T08:52:46+00:00",
          "2019-07-26T08:57:46+00:00",
          "2019-07-26T09:02:46+00:00",
          "2019-07-26T09:07:46+00:00",
          "2019-07-26T09:12:46+00:00",
          "2019-07-26T09:17:46+00:00",
          "2019-07-26T09:22:46+00:00",
          "2019-07-26T09:27:46+00:00",
          "2019-07-26T09:32:46+00:00",
          "2019-07-26T09:37:46+00:00",
          "2019-07-26T09:42:46+00:00",
          "2019-07-26T09:47:46+00:00",
          "2019-07-26T09:52:46+00:00",
          "2019-07-26T09:57:46+00:00",
          "2019-07-26T10:02:46+00:00",
          "2019-07-26T10:07:46+00:00",
          "2019-07-26T10:12:46+00:00",
          "2019-07-26T10:17:46+00:00",
          "2019-07-26T10:22:46+00:00",
          "2019-07-26T10:27:46+00:00",
          "2019-07-26T10:32:46+00:00",
          "2019-07-26T10:37:46+00:00",
          "2019-07-26T10:42:46+00:00",
          "2019-07-26T10:47:46+00:00",
          "2019-07-26T10:52:46+00:00",
          "2019-07-26T11:02:46+00:00",
          "2019-07-26T11:07:46+00:00",
          "2019-07-26T11:12:46+00:00",
          "2019-07-26T11:17:46+00:00",
          "2019-07-26T11:22:46+00:00",
          "2019-07-26T11:27:46+00:00",
          "2019-07-26T11:32:46+00:00",
          "2019-07-26T11:42:46+00:00",
          "2019-07-26T11:47:46+00:00",
          "2019-07-26T11:52:46+00:00",
          "2019-07-26T11:57:46+00:00",
          "2019-07-26T12:02:46+00:00",
          "2019-07-26T12:07:46+00:00",
          "2019-07-26T12:12:46+00:00",
          "2019-07-26T12:17:46+00:00",
          "2019-07-26T12:22:46+00:00",
          "2019-07-26T12:27:46+00:00",
          "2019-07-26T12:32:46+00:00",
          "2019-07-26T12:37:46+00:00",
          "2019-07-26T12:42:46+00:00",
          "2019-07-26T12:47:46+00:00",
          "2019-07-26T12:52:46+00:00",
          "2019-07-26T12:57:46+00:00",
          "2019-07-26T13:02:46+00:00",
          "2019-07-26T13:07:46+00:00",
          "2019-07-26T13:12:46+00:00",
          "2019-07-26T13:17:46+00:00",
          "2019-07-26T13:22:46+00:00",
          "2019-07-26T13:27:46+00:00",
          "2019-07-26T13:32:46+00:00",
          "2019-07-26T13:37:46+00:00",
          "2019-07-26T13:42:46+00:00",
          "2019-07-26T13:47:46+00:00",
          "2019-07-26T13:52:46+00:00",
          "2019-07-26T14:02:46+00:00",
          "2019-07-26T14:07:46+00:00",
          "2019-07-26T14:12:46+00:00",
          "2019-07-26T14:17:46+00:00",
          "2019-07-26T14:22:46+00:00",
          "2019-07-26T14:27:46+00:00",
          "2019-07-26T14:32:46+00:00",
          "2019-07-26T14:37:46+00:00",
          "2019-07-26T14:42:46+00:00",
          "2019-07-26T14:47:46+00:00",
          "2019-07-26T14:52:46+00:00",
          "2019-07-26T14:57:46+00:00",
          "2019-07-26T15:02:46+00:00",
          "2019-07-26T15:07:46+00:00",
          "2019-07-26T15:12:46+00:00"
         ],
         "y": [
          167.566,
          163.652,
          167.946,
          172.881,
          171.076,
          170.151,
          166.688,
          172.115,
          173.963,
          170.667,
          164.468,
          163.089,
          171.643,
          167.193,
          161.512,
          161.135,
          163.35,
          156.961,
          159.502,
          160.789,
          152.023,
          159.48,
          151.599,
          151.344,
          149.563,
          150.161,
          145.305,
          143.629,
          142.146,
          137.398,
          143.46,
          141.097,
          135.426,
          131.104,
          138.409,
          130.823,
          133.313,
          133.449,
          134.108,
          134.733,
          135.073,
          126.458,
          127.202,
          133.241,
          132.021,
          130.302,
          129.657,
          136.853,
          128.434,
          132.322,
          130.75,
          139.515,
          134.101,
          136.061,
          137.246,
          139.577,
          143.936,
          140.338,
          148.367,
          148.861,
          148.992,
          154.657,
          160.387,
          155.594,
          159.328,
          158.985,
          163.361,
          167.809,
          161.837,
          166.119,
          162.786,
          165.696,
          171.629,
          168.607,
          174.311,
          170.368,
          168.636,
          174.886,
          168.902,
          170.788,
          173.239,
          164.547,
          166.736,
          161.479,
          166.182,
          165.876,
          161.587,
          163.263,
          158.573,
          158.603,
          159.833,
          153.695,
          149.252,
          147.69,
          145.765,
          142.682,
          149.362,
          136.534,
          146.928,
          138.378,
          140.627,
          138.626,
          131.064,
          133.099,
          130.005,
          129.793,
          130.687,
          127.631,
          128.377,
          129.795,
          126.689,
          133.929,
          129.669,
          130.752,
          129.762,
          132.242,
          136.861,
          134.72,
          137.601,
          134.317,
          141.902,
          138.119,
          141.119,
          138.729,
          143.022,
          141.245,
          144.101,
          144.661,
          152.612,
          149.7,
          156.423,
          154.557,
          157.065,
          162.283,
          163.47,
          157.465,
          159.279,
          161.204,
          166.619,
          165.086,
          165.785,
          172.608,
          171.221,
          168.168,
          171.027,
          167.458,
          173.837,
          167.565,
          164.834,
          173.266,
          169.951,
          172.927,
          165.772,
          167.194,
          166.933,
          164.01,
          163.655,
          159.955,
          158.469,
          159.95,
          160.038,
          151.425,
          154.451,
          152.113,
          153.638,
          149.997,
          141.215,
          142.654,
          147.253,
          137.056,
          138.146,
          137.971,
          133.515,
          131.956,
          139.256,
          138.244,
          136.203,
          131.834,
          130.319,
          134.166,
          127.989,
          126.877,
          137.9,
          134.87,
          127.58,
          134.316,
          134.966,
          129.92,
          135.127,
          133.805,
          141.022,
          143.45,
          140.854,
          142.059,
          140.864,
          147.877,
          146.81,
          147.764,
          153.712,
          152.399,
          158.311,
          154.515,
          154.98,
          161.152,
          164.922,
          162.116,
          165.064,
          167.306,
          172.166,
          168.182,
          163.381,
          172.067,
          171.106,
          169.759,
          174.435,
          172.012,
          172.56,
          169.774,
          170.554,
          171.62,
          171.662,
          158.654,
          168.066,
          159.489,
          165.321,
          163.137,
          153.326,
          159.809,
          153.797,
          156.9,
          148.938,
          147.484,
          148.945,
          143.919,
          142.492,
          145.309,
          138.783,
          143.897,
          136.412,
          139.515,
          136.686,
          130.935,
          137.846,
          130.119,
          131.209,
          127.391,
          131.171,
          133.203,
          132.964,
          125.394,
          126.578,
          127.162,
          127.237,
          136.697,
          128.675,
          135.39,
          136.488,
          138.63,
          138.762,
          142.521,
          143.365,
          144.025,
          145.58,
          146.192,
          147.372,
          145.342,
          152.968
         ]
        }
       ],
       "layout": {
        "annotations": [
         {
          "arrowhead": 1,
          "ax": 0,
          "ay": 425,
          "ayref": "y",
          "showarrow": true,
          "text": "current time",
          "x": "2019-07-26T15:13:17+00:00",
          "xref": "x",
          "y": 162.968,
          "yref": "y"
         }
        ],
        "autosize": true,
        "dragmode": "pan",
        "hovermode": "x",
        "plot_bgcolor": "white",
        "showlegend": true,
        "template": {
         "data": {
          "bar": [
           {
            "error_x": {
             "color": "#2a3f5f"
            },
            "error_y": {
             "color": "#2a3f5f"
            },
            "marker": {
             "line": {
              "color": "#E5ECF6",
              "width": 0.5
             }
            },
            "type": "bar"
           }
          ],
          "barpolar": [
           {
            "marker": {
             "line": {
              "color": "#E5ECF6",
              "width": 0.5
             }
            },
            "type": "barpolar"
           }
          ],
          "carpet": [
           {
            "aaxis": {
             "endlinecolor": "#2a3f5f",
             "gridcolor": "white",
             "linecolor": "white",
             "minorgridcolor": "white",
             "startlinecolor": "#2a3f5f"
            },
            "baxis": {
             "endlinecolor": "#2a3f5f",
             "gridcolor": "white",
             "linecolor": "white",
             "minorgridcolor": "white",
             "startlinecolor": "#2a3f5f"
            },
            "type": "carpet"
           }
          ],
          "choropleth": [
           {
            "colorbar": {
             "outlinewidth": 0,
             "ticks": ""
            },
            "type": "choropleth"
           }
          ],
          "contour": [
           {
            "colorbar": {
             "outlinewidth": 0,
             "ticks": ""
            },
            "colorscale": [
             [
              0,
              "#0d0887"
             ],
             [
              0.1111111111111111,
              "#46039f"
             ],
             [
              0.2222222222222222,
              "#7201a8"
             ],
             [
              0.3333333333333333,
              "#9c179e"
             ],
             [
              0.4444444444444444,
              "#bd3786"
             ],
             [
              0.5555555555555556,
              "#d8576b"
             ],
             [
              0.6666666666666666,
              "#ed7953"
             ],
             [
              0.7777777777777778,
              "#fb9f3a"
             ],
             [
              0.8888888888888888,
              "#fdca26"
             ],
             [
              1,
              "#f0f921"
             ]
            ],
            "type": "contour"
           }
          ],
          "contourcarpet": [
           {
            "colorbar": {
             "outlinewidth": 0,
             "ticks": ""
            },
            "type": "contourcarpet"
           }
          ],
          "heatmap": [
           {
            "colorbar": {
             "outlinewidth": 0,
             "ticks": ""
            },
            "colorscale": [
             [
              0,
              "#0d0887"
             ],
             [
              0.1111111111111111,
              "#46039f"
             ],
             [
              0.2222222222222222,
              "#7201a8"
             ],
             [
              0.3333333333333333,
              "#9c179e"
             ],
             [
              0.4444444444444444,
              "#bd3786"
             ],
             [
              0.5555555555555556,
              "#d8576b"
             ],
             [
              0.6666666666666666,
              "#ed7953"
             ],
             [
              0.7777777777777778,
              "#fb9f3a"
             ],
             [
              0.8888888888888888,
              "#fdca26"
             ],
             [
              1,
              "#f0f921"
             ]
            ],
            "type": "heatmap"
           }
          ],
          "heatmapgl": [
           {
            "colorbar": {
             "outlinewidth": 0,
             "ticks": ""
            },
            "colorscale": [
             [
              0,
              "#0d0887"
             ],
             [
              0.1111111111111111,
              "#46039f"
             ],
             [
              0.2222222222222222,
              "#7201a8"
             ],
             [
              0.3333333333333333,
              "#9c179e"
             ],
             [
              0.4444444444444444,
              "#bd3786"
             ],
             [
              0.5555555555555556,
              "#d8576b"
             ],
             [
              0.6666666666666666,
              "#ed7953"
             ],
             [
              0.7777777777777778,
              "#fb9f3a"
             ],
             [
              0.8888888888888888,
              "#fdca26"
             ],
             [
              1,
              "#f0f921"
             ]
            ],
            "type": "heatmapgl"
           }
          ],
          "histogram": [
           {
            "marker": {
             "colorbar": {
              "outlinewidth": 0,
              "ticks": ""
             }
            },
            "type": "histogram"
           }
          ],
          "histogram2d": [
           {
            "colorbar": {
             "outlinewidth": 0,
             "ticks": ""
            },
            "colorscale": [
             [
              0,
              "#0d0887"
             ],
             [
              0.1111111111111111,
              "#46039f"
             ],
             [
              0.2222222222222222,
              "#7201a8"
             ],
             [
              0.3333333333333333,
              "#9c179e"
             ],
             [
              0.4444444444444444,
              "#bd3786"
             ],
             [
              0.5555555555555556,
              "#d8576b"
             ],
             [
              0.6666666666666666,
              "#ed7953"
             ],
             [
              0.7777777777777778,
              "#fb9f3a"
             ],
             [
              0.8888888888888888,
              "#fdca26"
             ],
             [
              1,
              "#f0f921"
             ]
            ],
            "type": "histogram2d"
           }
          ],
          "histogram2dcontour": [
           {
            "colorbar": {
             "outlinewidth": 0,
             "ticks": ""
            },
            "colorscale": [
             [
              0,
              "#0d0887"
             ],
             [
              0.1111111111111111,
              "#46039f"
             ],
             [
              0.2222222222222222,
              "#7201a8"
             ],
             [
              0.3333333333333333,
              "#9c179e"
             ],
             [
              0.4444444444444444,
              "#bd3786"
             ],
             [
              0.5555555555555556,
              "#d8576b"
             ],
             [
              0.6666666666666666,
              "#ed7953"
             ],
             [
              0.7777777777777778,
              "#fb9f3a"
             ],
             [
              0.8888888888888888,
              "#fdca26"
             ],
             [
              1,
              "#f0f921"
             ]
            ],
            "type": "histogram2dcontour"
           }
          ],
          "mesh3d": [
           {
            "colorbar": {
             "outlinewidth": 0,
             "ticks": ""
            },
            "type": "mesh3d"
           }
          ],
          "parcoords": [
           {
            "line": {
             "colorbar": {
              "outlinewidth": 0,
              "ticks": ""
             }
            },
            "type": "parcoords"
           }
          ],
          "scatter": [
           {
            "marker": {
             "colorbar": {
              "outlinewidth": 0,
              "ticks": ""
             }
            },
            "type": "scatter"
           }
          ],
          "scatter3d": [
           {
            "line": {
             "colorbar": {
              "outlinewidth": 0,
              "ticks": ""
             }
            },
            "marker": {
             "colorbar": {
              "outlinewidth": 0,
              "ticks": ""
             }
            },
            "type": "scatter3d"
           }
          ],
          "scattercarpet": [
           {
            "marker": {
             "colorbar": {
              "outlinewidth": 0,
              "ticks": ""
             }
            },
            "type": "scattercarpet"
           }
          ],
          "scattergeo": [
           {
            "marker": {
             "colorbar": {
              "outlinewidth": 0,
              "ticks": ""
             }
            },
            "type": "scattergeo"
           }
          ],
          "scattergl": [
           {
            "marker": {
             "colorbar": {
              "outlinewidth": 0,
              "ticks": ""
             }
            },
            "type": "scattergl"
           }
          ],
          "scattermapbox": [
           {
            "marker": {
             "colorbar": {
              "outlinewidth": 0,
              "ticks": ""
             }
            },
            "type": "scattermapbox"
           }
          ],
          "scatterpolar": [
           {
            "marker": {
             "colorbar": {
              "outlinewidth": 0,
              "ticks": ""
             }
            },
            "type": "scatterpolar"
           }
          ],
          "scatterpolargl": [
           {
            "marker": {
             "colorbar": {
              "outlinewidth": 0,
              "ticks": ""
             }
            },
            "type": "scatterpolargl"
           }
          ],
          "scatterternary": [
           {
            "marker": {
             "colorbar": {
              "outlinewidth": 0,
              "ticks": ""
             }
            },
            "type": "scatterternary"
           }
          ],
          "surface": [
           {
            "colorbar": {
             "outlinewidth": 0,
             "ticks": ""
            },
            "colorscale": [
             [
              0,
              "#0d0887"
             ],
             [
              0.1111111111111111,
              "#46039f"
             ],
             [
              0.2222222222222222,
              "#7201a8"
             ],
             [
              0.3333333333333333,
              "#9c179e"
             ],
             [
              0.4444444444444444,
              "#bd3786"
             ],
             [
              0.5555555555555556,
              "#d8576b"
             ],
             [
              0.6666666666666666,
              "#ed7953"
             ],
             [
              0.7777777777777778,
              "#fb9f3a"
             ],
             [
              0.8888888888888888,
              "#fdca26"
             ],
             [
              1,
              "#f0f921"
             ]
            ],
            "type": "surface"
           }
          ],
          "table": [
           {
            "cells": {
             "fill": {
              "color": "#EBF0F8"
             },
             "line": {
              "color": "white"
             }
            },
            "header": {
             "fill": {
              "color": "#C8D4E3"
             },
             "line": {
              "color": "white"
             }
            },
            "type": "table"
           }
          ]
         },
         "layout": {
          "annotationdefaults": {
           "arrowcolor": "#2a3f5f",
           "arrowhead": 0,
           "arrowwidth": 1
          },
          "colorscale": {
           "diverging": [
            [
             0,
             "#8e0152"
            ],
            [
             0.1,
             "#c51b7d"
            ],
            [
             0.2,
             "#de77ae"
            ],
            [
             0.3,
             "#f1b6da"
            ],
            [
             0.4,
             "#fde0ef"
            ],
            [
             0.5,
             "#f7f7f7"
            ],
            [
             0.6,
             "#e6f5d0"
            ],
            [
             0.7,
             "#b8e186"
            ],
            [
             0.8,
             "#7fbc41"
            ],
            [
             0.9,
             "#4d9221"
            ],
            [
             1,
             "#276419"
            ]
           ],
           "sequential": [
            [
             0,
             "#0d0887"
            ],
            [
             0.1111111111111111,
             "#46039f"
            ],
            [
             0.2222222222222222,
             "#7201a8"
            ],
            [
             0.3333333333333333,
             "#9c179e"
            ],
            [
             0.4444444444444444,
             "#bd3786"
            ],
            [
             0.5555555555555556,
             "#d8576b"
            ],
            [
             0.6666666666666666,
             "#ed7953"
            ],
            [
             0.7777777777777778,
             "#fb9f3a"
            ],
            [
             0.8888888888888888,
             "#fdca26"
            ],
            [
             1,
             "#f0f921"
            ]
           ],
           "sequentialminus": [
            [
             0,
             "#0d0887"
            ],
            [
             0.1111111111111111,
             "#46039f"
            ],
            [
             0.2222222222222222,
             "#7201a8"
            ],
            [
             0.3333333333333333,
             "#9c179e"
            ],
            [
             0.4444444444444444,
             "#bd3786"
            ],
            [
             0.5555555555555556,
             "#d8576b"
            ],
            [
             0.6666666666666666,
             "#ed7953"
            ],
            [
             0.7777777777777778,
             "#fb9f3a"
            ],
            [
             0.8888888888888888,
             "#fdca26"
            ],
            [
             1,
             "#f0f921"
            ]
           ]
          },
          "colorway": [
           "#636efa",
           "#EF553B",
           "#00cc96",
           "#ab63fa",
           "#FFA15A",
           "#19d3f3",
           "#FF6692",
           "#B6E880",
           "#FF97FF",
           "#FECB52"
          ],
          "font": {
           "color": "#2a3f5f"
          },
          "geo": {
           "bgcolor": "white",
           "lakecolor": "white",
           "landcolor": "#E5ECF6",
           "showlakes": true,
           "showland": true,
           "subunitcolor": "white"
          },
          "hoverlabel": {
           "align": "left"
          },
          "hovermode": "closest",
          "mapbox": {
           "style": "light"
          },
          "paper_bgcolor": "white",
          "plot_bgcolor": "#E5ECF6",
          "polar": {
           "angularaxis": {
            "gridcolor": "white",
            "linecolor": "white",
            "ticks": ""
           },
           "bgcolor": "#E5ECF6",
           "radialaxis": {
            "gridcolor": "white",
            "linecolor": "white",
            "ticks": ""
           }
          },
          "scene": {
           "xaxis": {
            "backgroundcolor": "#E5ECF6",
            "gridcolor": "white",
            "gridwidth": 2,
            "linecolor": "white",
            "showbackground": true,
            "ticks": "",
            "zerolinecolor": "white"
           },
           "yaxis": {
            "backgroundcolor": "#E5ECF6",
            "gridcolor": "white",
            "gridwidth": 2,
            "linecolor": "white",
            "showbackground": true,
            "ticks": "",
            "zerolinecolor": "white"
           },
           "zaxis": {
            "backgroundcolor": "#E5ECF6",
            "gridcolor": "white",
            "gridwidth": 2,
            "linecolor": "white",
            "showbackground": true,
            "ticks": "",
            "zerolinecolor": "white"
           }
          },
          "shapedefaults": {
           "line": {
            "color": "#2a3f5f"
           }
          },
          "ternary": {
           "aaxis": {
            "gridcolor": "white",
            "linecolor": "white",
            "ticks": ""
           },
           "baxis": {
            "gridcolor": "white",
            "linecolor": "white",
            "ticks": ""
           },
           "bgcolor": "#E5ECF6",
           "caxis": {
            "gridcolor": "white",
            "linecolor": "white",
            "ticks": ""
           }
          },
          "title": {
           "x": 0.05
          },
          "xaxis": {
           "automargin": true,
           "gridcolor": "white",
           "linecolor": "white",
           "ticks": "",
           "zerolinecolor": "white",
           "zerolinewidth": 2
          },
          "yaxis": {
           "automargin": true,
           "gridcolor": "white",
           "linecolor": "white",
           "ticks": "",
           "zerolinecolor": "white",
           "zerolinewidth": 2
          }
         }
        },
        "xaxis": {
         "gridcolor": "#c0c0c0",
         "range": [
          "2019-07-26T07:13:17+00:00",
          "2019-07-26T16:13:17+00:00"
         ],
         "showgrid": true,
         "type": "date"
        },
        "yaxis": {
         "fixedrange": true,
         "gridcolor": "#c0c0c0",
         "hoverformat": ".0f",
         "range": [
          40,
          400
         ],
         "showgrid": true,
         "tickvals": [
          -100,
          40,
          70,
          180,
          250,
          400
         ],
         "title": {
          "font": {
           "size": 12
          },
          "text": "Blood Glucose (mg/dL)"
         },
         "type": "linear",
         "zeroline": false
        }
       }
      },
      "image/png": "[encoded data removed]",
      "text/html": [
       "<div>\n",
       "        \n",
       "        \n",
       "            <div id=\"f04ade03-a848-463c-8e15-5f7405bdeffe\" class=\"plotly-graph-div\" style=\"height:525px; width:100%;\"></div>\n",
       "            <script type=\"text/javascript\">\n",
       "                require([\"plotly\"], function(Plotly) {\n",
       "                    window.PLOTLYENV=window.PLOTLYENV || {};\n",
       "                    \n",
       "                if (document.getElementById(\"f04ade03-a848-463c-8e15-5f7405bdeffe\")) {\n",
       "                    Plotly.newPlot(\n",
       "                        'f04ade03-a848-463c-8e15-5f7405bdeffe',\n",
       "                        [{\"hoverinfo\": \"y+name\", \"hoverlabel\": {\"bgcolor\": [\"mediumaquamarine\", \"mediumaquamarine\", \"mediumaquamarine\", \"mediumaquamarine\", \"mediumaquamarine\", \"mediumaquamarine\", \"mediumaquamarine\", \"mediumaquamarine\", \"mediumaquamarine\", \"mediumaquamarine\", \"mediumaquamarine\", \"mediumaquamarine\", \"mediumaquamarine\", \"mediumaquamarine\", \"mediumaquamarine\", \"mediumaquamarine\", \"mediumaquamarine\", \"mediumaquamarine\", \"mediumaquamarine\", \"mediumaquamarine\", \"mediumaquamarine\", \"mediumaquamarine\", \"mediumaquamarine\", \"mediumaquamarine\", \"mediumaquamarine\", \"mediumaquamarine\", \"mediumaquamarine\", \"mediumaquamarine\", \"mediumaquamarine\", \"mediumaquamarine\", \"mediumaquamarine\", \"mediumaquamarine\", \"mediumaquamarine\", \"mediumaquamarine\", \"mediumaquamarine\", \"mediumaquamarine\", \"mediumaquamarine\", \"mediumaquamarine\", \"mediumaquamarine\", \"mediumaquamarine\", \"mediumaquamarine\", \"mediumaquamarine\", \"mediumaquamarine\", \"mediumaquamarine\", \"mediumaquamarine\", \"mediumaquamarine\", \"mediumaquamarine\", \"mediumaquamarine\", \"mediumaquamarine\", \"mediumaquamarine\", \"mediumaquamarine\", \"mediumaquamarine\", \"mediumaquamarine\", \"mediumaquamarine\", \"mediumaquamarine\", \"mediumaquamarine\", \"mediumaquamarine\", \"mediumaquamarine\", \"mediumaquamarine\", \"mediumaquamarine\", \"mediumaquamarine\", \"mediumaquamarine\", \"mediumaquamarine\", \"mediumaquamarine\", \"mediumaquamarine\", \"mediumaquamarine\", \"mediumaquamarine\", \"mediumaquamarine\", \"mediumaquamarine\", \"mediumaquamarine\", \"mediumaquamarine\", \"mediumaquamarine\", \"mediumaquamarine\", \"mediumaquamarine\", \"mediumaquamarine\", \"mediumaquamarine\", \"mediumaquamarine\", \"mediumaquamarine\", \"mediumaquamarine\", \"mediumaquamarine\", \"mediumaquamarine\", \"mediumaquamarine\", \"mediumaquamarine\", \"mediumaquamarine\", \"mediumaquamarine\", \"mediumaquamarine\", \"mediumaquamarine\", \"mediumaquamarine\", \"mediumaquamarine\", \"mediumaquamarine\", \"mediumaquamarine\", \"mediumaquamarine\", \"mediumaquamarine\", \"mediumaquamarine\", \"mediumaquamarine\", \"mediumaquamarine\", \"mediumaquamarine\", \"mediumaquamarine\", \"mediumaquamarine\", \"mediumaquamarine\", \"mediumaquamarine\", \"mediumaquamarine\", \"mediumaquamarine\", \"mediumaquamarine\", \"mediumaquamarine\", \"mediumaquamarine\", \"mediumaquamarine\", \"mediumaquamarine\", \"mediumaquamarine\", \"mediumaquamarine\", \"mediumaquamarine\", \"mediumaquamarine\", \"mediumaquamarine\", \"mediumaquamarine\", \"mediumaquamarine\", \"mediumaquamarine\", \"mediumaquamarine\", \"mediumaquamarine\", \"mediumaquamarine\", \"mediumaquamarine\", \"mediumaquamarine\", \"mediumaquamarine\", \"mediumaquamarine\", \"mediumaquamarine\", \"mediumaquamarine\", \"mediumaquamarine\", \"mediumaquamarine\", \"mediumaquamarine\", \"mediumaquamarine\", \"mediumaquamarine\", \"mediumaquamarine\", \"mediumaquamarine\", \"mediumaquamarine\", \"mediumaquamarine\", \"mediumaquamarine\", \"mediumaquamarine\", \"mediumaquamarine\", \"mediumaquamarine\", \"mediumaquamarine\", \"mediumaquamarine\", \"mediumaquamarine\", \"mediumaquamarine\", \"mediumaquamarine\", \"mediumaquamarine\", \"mediumaquamarine\", \"mediumaquamarine\", \"mediumaquamarine\", \"mediumaquamarine\", \"mediumaquamarine\", \"mediumaquamarine\", \"mediumaquamarine\", \"mediumaquamarine\", \"mediumaquamarine\", \"mediumaquamarine\", \"mediumaquamarine\", \"mediumaquamarine\", \"mediumaquamarine\", \"mediumaquamarine\", \"mediumaquamarine\", \"mediumaquamarine\", \"mediumaquamarine\", \"mediumaquamarine\", \"mediumaquamarine\", \"mediumaquamarine\", \"mediumaquamarine\", \"mediumaquamarine\", \"mediumaquamarine\", \"mediumaquamarine\", \"mediumaquamarine\", \"mediumaquamarine\", \"mediumaquamarine\", \"mediumaquamarine\", \"mediumaquamarine\", \"mediumaquamarine\", \"mediumaquamarine\", \"mediumaquamarine\", \"mediumaquamarine\", \"mediumaquamarine\", \"mediumaquamarine\", \"mediumaquamarine\", \"mediumaquamarine\", \"mediumaquamarine\", \"mediumaquamarine\", \"mediumaquamarine\", \"mediumaquamarine\", \"mediumaquamarine\", \"mediumaquamarine\", \"mediumaquamarine\", \"mediumaquamarine\", \"mediumaquamarine\", \"mediumaquamarine\", \"mediumaquamarine\", \"mediumaquamarine\", \"mediumaquamarine\", \"mediumaquamarine\", \"mediumaquamarine\", \"mediumaquamarine\", \"mediumaquamarine\", \"mediumaquamarine\", \"mediumaquamarine\", \"mediumaquamarine\", \"mediumaquamarine\", \"mediumaquamarine\", \"mediumaquamarine\", \"mediumaquamarine\", \"mediumaquamarine\", \"mediumaquamarine\", \"mediumaquamarine\", \"mediumaquamarine\", \"mediumaquamarine\", \"mediumaquamarine\", \"mediumaquamarine\", \"mediumaquamarine\", \"mediumaquamarine\", \"mediumaquamarine\", \"mediumaquamarine\", \"mediumaquamarine\", \"mediumaquamarine\", \"mediumaquamarine\", \"mediumaquamarine\", \"mediumaquamarine\", \"mediumaquamarine\", \"mediumaquamarine\", \"mediumaquamarine\", \"mediumaquamarine\", \"mediumaquamarine\", \"mediumaquamarine\", \"mediumaquamarine\", \"mediumaquamarine\", \"mediumaquamarine\", \"mediumaquamarine\", \"mediumaquamarine\", \"mediumaquamarine\", \"mediumaquamarine\", \"mediumaquamarine\", \"mediumaquamarine\", \"mediumaquamarine\", \"mediumaquamarine\", \"mediumaquamarine\", \"mediumaquamarine\", \"mediumaquamarine\", \"mediumaquamarine\", \"mediumaquamarine\", \"mediumaquamarine\", \"mediumaquamarine\", \"mediumaquamarine\", \"mediumaquamarine\", \"mediumaquamarine\", \"mediumaquamarine\", \"mediumaquamarine\", \"mediumaquamarine\", \"mediumaquamarine\", \"mediumaquamarine\", \"mediumaquamarine\", \"mediumaquamarine\", \"mediumaquamarine\", \"mediumaquamarine\", \"mediumaquamarine\", \"mediumaquamarine\", \"mediumaquamarine\", \"mediumaquamarine\", \"mediumaquamarine\", \"mediumaquamarine\", \"mediumaquamarine\", \"mediumaquamarine\", \"mediumaquamarine\", \"mediumaquamarine\"]}, \"marker\": {\"color\": [\"mediumaquamarine\", \"mediumaquamarine\", \"mediumaquamarine\", \"mediumaquamarine\", \"mediumaquamarine\", \"mediumaquamarine\", \"mediumaquamarine\", \"mediumaquamarine\", \"mediumaquamarine\", \"mediumaquamarine\", \"mediumaquamarine\", \"mediumaquamarine\", \"mediumaquamarine\", \"mediumaquamarine\", \"mediumaquamarine\", \"mediumaquamarine\", \"mediumaquamarine\", \"mediumaquamarine\", \"mediumaquamarine\", \"mediumaquamarine\", \"mediumaquamarine\", \"mediumaquamarine\", \"mediumaquamarine\", \"mediumaquamarine\", \"mediumaquamarine\", \"mediumaquamarine\", \"mediumaquamarine\", \"mediumaquamarine\", \"mediumaquamarine\", \"mediumaquamarine\", \"mediumaquamarine\", \"mediumaquamarine\", \"mediumaquamarine\", \"mediumaquamarine\", \"mediumaquamarine\", \"mediumaquamarine\", \"mediumaquamarine\", \"mediumaquamarine\", \"mediumaquamarine\", \"mediumaquamarine\", \"mediumaquamarine\", \"mediumaquamarine\", \"mediumaquamarine\", \"mediumaquamarine\", \"mediumaquamarine\", \"mediumaquamarine\", \"mediumaquamarine\", \"mediumaquamarine\", \"mediumaquamarine\", \"mediumaquamarine\", \"mediumaquamarine\", \"mediumaquamarine\", \"mediumaquamarine\", \"mediumaquamarine\", \"mediumaquamarine\", \"mediumaquamarine\", \"mediumaquamarine\", \"mediumaquamarine\", \"mediumaquamarine\", \"mediumaquamarine\", \"mediumaquamarine\", \"mediumaquamarine\", \"mediumaquamarine\", \"mediumaquamarine\", \"mediumaquamarine\", \"mediumaquamarine\", \"mediumaquamarine\", \"mediumaquamarine\", \"mediumaquamarine\", \"mediumaquamarine\", \"mediumaquamarine\", \"mediumaquamarine\", \"mediumaquamarine\", \"mediumaquamarine\", \"mediumaquamarine\", \"mediumaquamarine\", \"mediumaquamarine\", \"mediumaquamarine\", \"mediumaquamarine\", \"mediumaquamarine\", \"mediumaquamarine\", \"mediumaquamarine\", \"mediumaquamarine\", \"mediumaquamarine\", \"mediumaquamarine\", \"mediumaquamarine\", \"mediumaquamarine\", \"mediumaquamarine\", \"mediumaquamarine\", \"mediumaquamarine\", \"mediumaquamarine\", \"mediumaquamarine\", \"mediumaquamarine\", \"mediumaquamarine\", \"mediumaquamarine\", \"mediumaquamarine\", \"mediumaquamarine\", \"mediumaquamarine\", \"mediumaquamarine\", \"mediumaquamarine\", \"mediumaquamarine\", \"mediumaquamarine\", \"mediumaquamarine\", \"mediumaquamarine\", \"mediumaquamarine\", \"mediumaquamarine\", \"mediumaquamarine\", \"mediumaquamarine\", \"mediumaquamarine\", \"mediumaquamarine\", \"mediumaquamarine\", \"mediumaquamarine\", \"mediumaquamarine\", \"mediumaquamarine\", \"mediumaquamarine\", \"mediumaquamarine\", \"mediumaquamarine\", \"mediumaquamarine\", \"mediumaquamarine\", \"mediumaquamarine\", \"mediumaquamarine\", \"mediumaquamarine\", \"mediumaquamarine\", \"mediumaquamarine\", \"mediumaquamarine\", \"mediumaquamarine\", \"mediumaquamarine\", \"mediumaquamarine\", \"mediumaquamarine\", \"mediumaquamarine\", \"mediumaquamarine\", \"mediumaquamarine\", \"mediumaquamarine\", \"mediumaquamarine\", \"mediumaquamarine\", \"mediumaquamarine\", \"mediumaquamarine\", \"mediumaquamarine\", \"mediumaquamarine\", \"mediumaquamarine\", \"mediumaquamarine\", \"mediumaquamarine\", \"mediumaquamarine\", \"mediumaquamarine\", \"mediumaquamarine\", \"mediumaquamarine\", \"mediumaquamarine\", \"mediumaquamarine\", \"mediumaquamarine\", \"mediumaquamarine\", \"mediumaquamarine\", \"mediumaquamarine\", \"mediumaquamarine\", \"mediumaquamarine\", \"mediumaquamarine\", \"mediumaquamarine\", \"mediumaquamarine\", \"mediumaquamarine\", \"mediumaquamarine\", \"mediumaquamarine\", \"mediumaquamarine\", \"mediumaquamarine\", \"mediumaquamarine\", \"mediumaquamarine\", \"mediumaquamarine\", \"mediumaquamarine\", \"mediumaquamarine\", \"mediumaquamarine\", \"mediumaquamarine\", \"mediumaquamarine\", \"mediumaquamarine\", \"mediumaquamarine\", \"mediumaquamarine\", \"mediumaquamarine\", \"mediumaquamarine\", \"mediumaquamarine\", \"mediumaquamarine\", \"mediumaquamarine\", \"mediumaquamarine\", \"mediumaquamarine\", \"mediumaquamarine\", \"mediumaquamarine\", \"mediumaquamarine\", \"mediumaquamarine\", \"mediumaquamarine\", \"mediumaquamarine\", \"mediumaquamarine\", \"mediumaquamarine\", \"mediumaquamarine\", \"mediumaquamarine\", \"mediumaquamarine\", \"mediumaquamarine\", \"mediumaquamarine\", \"mediumaquamarine\", \"mediumaquamarine\", \"mediumaquamarine\", \"mediumaquamarine\", \"mediumaquamarine\", \"mediumaquamarine\", \"mediumaquamarine\", \"mediumaquamarine\", \"mediumaquamarine\", \"mediumaquamarine\", \"mediumaquamarine\", \"mediumaquamarine\", \"mediumaquamarine\", \"mediumaquamarine\", \"mediumaquamarine\", \"mediumaquamarine\", \"mediumaquamarine\", \"mediumaquamarine\", \"mediumaquamarine\", \"mediumaquamarine\", \"mediumaquamarine\", \"mediumaquamarine\", \"mediumaquamarine\", \"mediumaquamarine\", \"mediumaquamarine\", \"mediumaquamarine\", \"mediumaquamarine\", \"mediumaquamarine\", \"mediumaquamarine\", \"mediumaquamarine\", \"mediumaquamarine\", \"mediumaquamarine\", \"mediumaquamarine\", \"mediumaquamarine\", \"mediumaquamarine\", \"mediumaquamarine\", \"mediumaquamarine\", \"mediumaquamarine\", \"mediumaquamarine\", \"mediumaquamarine\", \"mediumaquamarine\", \"mediumaquamarine\", \"mediumaquamarine\", \"mediumaquamarine\", \"mediumaquamarine\", \"mediumaquamarine\", \"mediumaquamarine\", \"mediumaquamarine\", \"mediumaquamarine\", \"mediumaquamarine\", \"mediumaquamarine\", \"mediumaquamarine\", \"mediumaquamarine\", \"mediumaquamarine\", \"mediumaquamarine\", \"mediumaquamarine\", \"mediumaquamarine\", \"mediumaquamarine\", \"mediumaquamarine\", \"mediumaquamarine\", \"mediumaquamarine\", \"mediumaquamarine\", \"mediumaquamarine\", \"mediumaquamarine\", \"mediumaquamarine\", \"mediumaquamarine\", \"mediumaquamarine\", \"mediumaquamarine\", \"mediumaquamarine\", \"mediumaquamarine\", \"mediumaquamarine\", \"mediumaquamarine\", \"mediumaquamarine\", \"mediumaquamarine\"], \"line\": {\"width\": 0}, \"size\": 6}, \"mode\": \"markers\", \"name\": \"cgm\", \"type\": \"scattergl\", \"x\": [\"2019-07-25T16:12:46+00:00\", \"2019-07-25T16:17:46+00:00\", \"2019-07-25T16:22:46+00:00\", \"2019-07-25T16:27:46+00:00\", \"2019-07-25T16:32:46+00:00\", \"2019-07-25T16:37:46+00:00\", \"2019-07-25T16:42:46+00:00\", \"2019-07-25T16:47:46+00:00\", \"2019-07-25T16:52:46+00:00\", \"2019-07-25T16:57:46+00:00\", \"2019-07-25T17:02:46+00:00\", \"2019-07-25T17:07:46+00:00\", \"2019-07-25T17:12:46+00:00\", \"2019-07-25T17:17:46+00:00\", \"2019-07-25T17:22:46+00:00\", \"2019-07-25T17:27:46+00:00\", \"2019-07-25T17:32:46+00:00\", \"2019-07-25T17:37:46+00:00\", \"2019-07-25T17:42:46+00:00\", \"2019-07-25T17:47:46+00:00\", \"2019-07-25T17:52:46+00:00\", \"2019-07-25T17:57:46+00:00\", \"2019-07-25T18:02:46+00:00\", \"2019-07-25T18:07:46+00:00\", \"2019-07-25T18:12:46+00:00\", \"2019-07-25T18:17:46+00:00\", \"2019-07-25T18:22:46+00:00\", \"2019-07-25T18:27:46+00:00\", \"2019-07-25T18:32:46+00:00\", \"2019-07-25T18:37:46+00:00\", \"2019-07-25T18:42:46+00:00\", \"2019-07-25T18:47:46+00:00\", \"2019-07-25T18:52:46+00:00\", \"2019-07-25T18:57:46+00:00\", \"2019-07-25T19:02:46+00:00\", \"2019-07-25T19:07:46+00:00\", \"2019-07-25T19:12:46+00:00\", \"2019-07-25T19:17:46+00:00\", \"2019-07-25T19:22:46+00:00\", \"2019-07-25T19:27:46+00:00\", \"2019-07-25T19:32:46+00:00\", \"2019-07-25T19:37:46+00:00\", \"2019-07-25T19:42:46+00:00\", \"2019-07-25T19:47:46+00:00\", \"2019-07-25T19:52:46+00:00\", \"2019-07-25T19:57:46+00:00\", \"2019-07-25T20:02:46+00:00\", \"2019-07-25T20:07:46+00:00\", \"2019-07-25T20:12:46+00:00\", \"2019-07-25T20:17:46+00:00\", \"2019-07-25T20:22:46+00:00\", \"2019-07-25T20:27:46+00:00\", \"2019-07-25T20:32:46+00:00\", \"2019-07-25T20:37:46+00:00\", \"2019-07-25T20:42:46+00:00\", \"2019-07-25T20:47:46+00:00\", \"2019-07-25T20:52:46+00:00\", \"2019-07-25T20:57:46+00:00\", \"2019-07-25T21:02:46+00:00\", \"2019-07-25T21:07:46+00:00\", \"2019-07-25T21:12:46+00:00\", \"2019-07-25T21:17:46+00:00\", \"2019-07-25T21:27:46+00:00\", \"2019-07-25T21:32:46+00:00\", \"2019-07-25T21:37:46+00:00\", \"2019-07-25T21:42:46+00:00\", \"2019-07-25T21:47:46+00:00\", \"2019-07-25T21:52:46+00:00\", \"2019-07-25T21:57:46+00:00\", \"2019-07-25T22:02:46+00:00\", \"2019-07-25T22:07:46+00:00\", \"2019-07-25T22:12:46+00:00\", \"2019-07-25T22:17:46+00:00\", \"2019-07-25T22:27:46+00:00\", \"2019-07-25T22:32:46+00:00\", \"2019-07-25T22:37:46+00:00\", \"2019-07-25T22:42:46+00:00\", \"2019-07-25T22:47:46+00:00\", \"2019-07-25T22:52:46+00:00\", \"2019-07-25T22:57:46+00:00\", \"2019-07-25T23:02:46+00:00\", \"2019-07-25T23:07:46+00:00\", \"2019-07-25T23:17:46+00:00\", \"2019-07-25T23:22:46+00:00\", \"2019-07-25T23:27:46+00:00\", \"2019-07-25T23:32:46+00:00\", \"2019-07-25T23:37:46+00:00\", \"2019-07-25T23:42:46+00:00\", \"2019-07-25T23:47:46+00:00\", \"2019-07-25T23:52:46+00:00\", \"2019-07-25T23:57:46+00:00\", \"2019-07-26T00:02:46+00:00\", \"2019-07-26T00:07:46+00:00\", \"2019-07-26T00:12:46+00:00\", \"2019-07-26T00:17:46+00:00\", \"2019-07-26T00:22:46+00:00\", \"2019-07-26T00:27:46+00:00\", \"2019-07-26T00:37:46+00:00\", \"2019-07-26T00:42:46+00:00\", \"2019-07-26T00:47:46+00:00\", \"2019-07-26T00:52:46+00:00\", \"2019-07-26T00:57:46+00:00\", \"2019-07-26T01:02:46+00:00\", \"2019-07-26T01:07:46+00:00\", \"2019-07-26T01:12:46+00:00\", \"2019-07-26T01:17:46+00:00\", \"2019-07-26T01:22:46+00:00\", \"2019-07-26T01:27:46+00:00\", \"2019-07-26T01:32:46+00:00\", \"2019-07-26T01:37:46+00:00\", \"2019-07-26T01:42:46+00:00\", \"2019-07-26T01:47:46+00:00\", \"2019-07-26T01:52:46+00:00\", \"2019-07-26T01:57:46+00:00\", \"2019-07-26T02:02:46+00:00\", \"2019-07-26T02:07:46+00:00\", \"2019-07-26T02:12:46+00:00\", \"2019-07-26T02:17:46+00:00\", \"2019-07-26T02:22:46+00:00\", \"2019-07-26T02:27:46+00:00\", \"2019-07-26T02:32:46+00:00\", \"2019-07-26T02:37:46+00:00\", \"2019-07-26T02:42:46+00:00\", \"2019-07-26T02:47:46+00:00\", \"2019-07-26T02:52:46+00:00\", \"2019-07-26T02:57:46+00:00\", \"2019-07-26T03:02:46+00:00\", \"2019-07-26T03:07:46+00:00\", \"2019-07-26T03:12:46+00:00\", \"2019-07-26T03:17:46+00:00\", \"2019-07-26T03:22:46+00:00\", \"2019-07-26T03:27:46+00:00\", \"2019-07-26T03:32:46+00:00\", \"2019-07-26T03:37:46+00:00\", \"2019-07-26T03:42:46+00:00\", \"2019-07-26T03:47:46+00:00\", \"2019-07-26T03:52:46+00:00\", \"2019-07-26T03:57:46+00:00\", \"2019-07-26T04:02:46+00:00\", \"2019-07-26T04:07:46+00:00\", \"2019-07-26T04:12:46+00:00\", \"2019-07-26T04:17:46+00:00\", \"2019-07-26T04:22:46+00:00\", \"2019-07-26T04:27:46+00:00\", \"2019-07-26T04:32:46+00:00\", \"2019-07-26T04:37:46+00:00\", \"2019-07-26T04:42:46+00:00\", \"2019-07-26T04:47:46+00:00\", \"2019-07-26T04:52:46+00:00\", \"2019-07-26T04:57:46+00:00\", \"2019-07-26T05:02:46+00:00\", \"2019-07-26T05:07:46+00:00\", \"2019-07-26T05:12:46+00:00\", \"2019-07-26T05:17:46+00:00\", \"2019-07-26T05:22:46+00:00\", \"2019-07-26T05:27:46+00:00\", \"2019-07-26T05:32:46+00:00\", \"2019-07-26T05:37:46+00:00\", \"2019-07-26T05:42:46+00:00\", \"2019-07-26T05:47:46+00:00\", \"2019-07-26T05:52:46+00:00\", \"2019-07-26T05:57:46+00:00\", \"2019-07-26T06:02:46+00:00\", \"2019-07-26T06:07:46+00:00\", \"2019-07-26T06:12:46+00:00\", \"2019-07-26T06:17:46+00:00\", \"2019-07-26T06:22:46+00:00\", \"2019-07-26T06:27:46+00:00\", \"2019-07-26T06:32:46+00:00\", \"2019-07-26T06:37:46+00:00\", \"2019-07-26T06:42:46+00:00\", \"2019-07-26T06:47:46+00:00\", \"2019-07-26T06:52:46+00:00\", \"2019-07-26T06:57:46+00:00\", \"2019-07-26T07:02:46+00:00\", \"2019-07-26T07:07:46+00:00\", \"2019-07-26T07:17:46+00:00\", \"2019-07-26T07:22:46+00:00\", \"2019-07-26T07:27:46+00:00\", \"2019-07-26T07:32:46+00:00\", \"2019-07-26T07:37:46+00:00\", \"2019-07-26T07:42:46+00:00\", \"2019-07-26T07:47:46+00:00\", \"2019-07-26T07:52:46+00:00\", \"2019-07-26T07:57:46+00:00\", \"2019-07-26T08:02:46+00:00\", \"2019-07-26T08:07:46+00:00\", \"2019-07-26T08:12:46+00:00\", \"2019-07-26T08:22:46+00:00\", \"2019-07-26T08:32:46+00:00\", \"2019-07-26T08:37:46+00:00\", \"2019-07-26T08:42:46+00:00\", \"2019-07-26T08:47:46+00:00\", \"2019-07-26T08:52:46+00:00\", \"2019-07-26T08:57:46+00:00\", \"2019-07-26T09:02:46+00:00\", \"2019-07-26T09:07:46+00:00\", \"2019-07-26T09:12:46+00:00\", \"2019-07-26T09:17:46+00:00\", \"2019-07-26T09:22:46+00:00\", \"2019-07-26T09:27:46+00:00\", \"2019-07-26T09:32:46+00:00\", \"2019-07-26T09:37:46+00:00\", \"2019-07-26T09:42:46+00:00\", \"2019-07-26T09:47:46+00:00\", \"2019-07-26T09:52:46+00:00\", \"2019-07-26T09:57:46+00:00\", \"2019-07-26T10:02:46+00:00\", \"2019-07-26T10:07:46+00:00\", \"2019-07-26T10:12:46+00:00\", \"2019-07-26T10:17:46+00:00\", \"2019-07-26T10:22:46+00:00\", \"2019-07-26T10:27:46+00:00\", \"2019-07-26T10:32:46+00:00\", \"2019-07-26T10:37:46+00:00\", \"2019-07-26T10:42:46+00:00\", \"2019-07-26T10:47:46+00:00\", \"2019-07-26T10:52:46+00:00\", \"2019-07-26T11:02:46+00:00\", \"2019-07-26T11:07:46+00:00\", \"2019-07-26T11:12:46+00:00\", \"2019-07-26T11:17:46+00:00\", \"2019-07-26T11:22:46+00:00\", \"2019-07-26T11:27:46+00:00\", \"2019-07-26T11:32:46+00:00\", \"2019-07-26T11:42:46+00:00\", \"2019-07-26T11:47:46+00:00\", \"2019-07-26T11:52:46+00:00\", \"2019-07-26T11:57:46+00:00\", \"2019-07-26T12:02:46+00:00\", \"2019-07-26T12:07:46+00:00\", \"2019-07-26T12:12:46+00:00\", \"2019-07-26T12:17:46+00:00\", \"2019-07-26T12:22:46+00:00\", \"2019-07-26T12:27:46+00:00\", \"2019-07-26T12:32:46+00:00\", \"2019-07-26T12:37:46+00:00\", \"2019-07-26T12:42:46+00:00\", \"2019-07-26T12:47:46+00:00\", \"2019-07-26T12:52:46+00:00\", \"2019-07-26T12:57:46+00:00\", \"2019-07-26T13:02:46+00:00\", \"2019-07-26T13:07:46+00:00\", \"2019-07-26T13:12:46+00:00\", \"2019-07-26T13:17:46+00:00\", \"2019-07-26T13:22:46+00:00\", \"2019-07-26T13:27:46+00:00\", \"2019-07-26T13:32:46+00:00\", \"2019-07-26T13:37:46+00:00\", \"2019-07-26T13:42:46+00:00\", \"2019-07-26T13:47:46+00:00\", \"2019-07-26T13:52:46+00:00\", \"2019-07-26T14:02:46+00:00\", \"2019-07-26T14:07:46+00:00\", \"2019-07-26T14:12:46+00:00\", \"2019-07-26T14:17:46+00:00\", \"2019-07-26T14:22:46+00:00\", \"2019-07-26T14:27:46+00:00\", \"2019-07-26T14:32:46+00:00\", \"2019-07-26T14:37:46+00:00\", \"2019-07-26T14:42:46+00:00\", \"2019-07-26T14:47:46+00:00\", \"2019-07-26T14:52:46+00:00\", \"2019-07-26T14:57:46+00:00\", \"2019-07-26T15:02:46+00:00\", \"2019-07-26T15:07:46+00:00\", \"2019-07-26T15:12:46+00:00\"], \"y\": [167.566, 163.652, 167.946, 172.881, 171.076, 170.151, 166.688, 172.115, 173.963, 170.667, 164.468, 163.089, 171.643, 167.193, 161.512, 161.135, 163.35, 156.961, 159.502, 160.789, 152.023, 159.48, 151.599, 151.344, 149.563, 150.161, 145.305, 143.629, 142.146, 137.398, 143.46, 141.097, 135.426, 131.104, 138.409, 130.823, 133.313, 133.449, 134.108, 134.733, 135.073, 126.458, 127.202, 133.241, 132.021, 130.302, 129.657, 136.853, 128.434, 132.322, 130.75, 139.515, 134.101, 136.061, 137.246, 139.577, 143.936, 140.338, 148.367, 148.861, 148.992, 154.657, 160.387, 155.594, 159.328, 158.985, 163.361, 167.809, 161.837, 166.119, 162.786, 165.696, 171.629, 168.607, 174.311, 170.368, 168.636, 174.886, 168.902, 170.788, 173.239, 164.547, 166.736, 161.479, 166.182, 165.876, 161.587, 163.263, 158.573, 158.603, 159.833, 153.695, 149.252, 147.69, 145.765, 142.682, 149.362, 136.534, 146.928, 138.378, 140.627, 138.626, 131.064, 133.099, 130.005, 129.793, 130.687, 127.631, 128.377, 129.795, 126.689, 133.929, 129.669, 130.752, 129.762, 132.242, 136.861, 134.72, 137.601, 134.317, 141.902, 138.119, 141.119, 138.729, 143.022, 141.245, 144.101, 144.661, 152.612, 149.7, 156.423, 154.557, 157.065, 162.283, 163.47, 157.465, 159.279, 161.204, 166.619, 165.086, 165.785, 172.608, 171.221, 168.168, 171.027, 167.458, 173.837, 167.565, 164.834, 173.266, 169.951, 172.927, 165.772, 167.194, 166.933, 164.01, 163.655, 159.955, 158.469, 159.95, 160.038, 151.425, 154.451, 152.113, 153.638, 149.997, 141.215, 142.654, 147.253, 137.056, 138.146, 137.971, 133.515, 131.956, 139.256, 138.244, 136.203, 131.834, 130.319, 134.166, 127.989, 126.877, 137.9, 134.87, 127.58, 134.316, 134.966, 129.92, 135.127, 133.805, 141.022, 143.45, 140.854, 142.059, 140.864, 147.877, 146.81, 147.764, 153.712, 152.399, 158.311, 154.515, 154.98, 161.152, 164.922, 162.116, 165.064, 167.306, 172.166, 168.182, 163.381, 172.067, 171.106, 169.759, 174.435, 172.012, 172.56, 169.774, 170.554, 171.62, 171.662, 158.654, 168.066, 159.489, 165.321, 163.137, 153.326, 159.809, 153.797, 156.9, 148.938, 147.484, 148.945, 143.919, 142.492, 145.309, 138.783, 143.897, 136.412, 139.515, 136.686, 130.935, 137.846, 130.119, 131.209, 127.391, 131.171, 133.203, 132.964, 125.394, 126.578, 127.162, 127.237, 136.697, 128.675, 135.39, 136.488, 138.63, 138.762, 142.521, 143.365, 144.025, 145.58, 146.192, 147.372, 145.342, 152.968]}],\n",
       "                        {\"annotations\": [{\"arrowhead\": 1, \"ax\": 0, \"ay\": 425, \"ayref\": \"y\", \"showarrow\": true, \"text\": \"current time\", \"x\": \"2019-07-26T15:13:17+00:00\", \"xref\": \"x\", \"y\": 162.968, \"yref\": \"y\"}], \"dragmode\": \"pan\", \"hovermode\": \"x\", \"plot_bgcolor\": \"white\", \"showlegend\": true, \"template\": {\"data\": {\"bar\": [{\"error_x\": {\"color\": \"#2a3f5f\"}, \"error_y\": {\"color\": \"#2a3f5f\"}, \"marker\": {\"line\": {\"color\": \"#E5ECF6\", \"width\": 0.5}}, \"type\": \"bar\"}], \"barpolar\": [{\"marker\": {\"line\": {\"color\": \"#E5ECF6\", \"width\": 0.5}}, \"type\": \"barpolar\"}], \"carpet\": [{\"aaxis\": {\"endlinecolor\": \"#2a3f5f\", \"gridcolor\": \"white\", \"linecolor\": \"white\", \"minorgridcolor\": \"white\", \"startlinecolor\": \"#2a3f5f\"}, \"baxis\": {\"endlinecolor\": \"#2a3f5f\", \"gridcolor\": \"white\", \"linecolor\": \"white\", \"minorgridcolor\": \"white\", \"startlinecolor\": \"#2a3f5f\"}, \"type\": \"carpet\"}], \"choropleth\": [{\"colorbar\": {\"outlinewidth\": 0, \"ticks\": \"\"}, \"type\": \"choropleth\"}], \"contour\": [{\"colorbar\": {\"outlinewidth\": 0, \"ticks\": \"\"}, \"colorscale\": [[0.0, \"#0d0887\"], [0.1111111111111111, \"#46039f\"], [0.2222222222222222, \"#7201a8\"], [0.3333333333333333, \"#9c179e\"], [0.4444444444444444, \"#bd3786\"], [0.5555555555555556, \"#d8576b\"], [0.6666666666666666, \"#ed7953\"], [0.7777777777777778, \"#fb9f3a\"], [0.8888888888888888, \"#fdca26\"], [1.0, \"#f0f921\"]], \"type\": \"contour\"}], \"contourcarpet\": [{\"colorbar\": {\"outlinewidth\": 0, \"ticks\": \"\"}, \"type\": \"contourcarpet\"}], \"heatmap\": [{\"colorbar\": {\"outlinewidth\": 0, \"ticks\": \"\"}, \"colorscale\": [[0.0, \"#0d0887\"], [0.1111111111111111, \"#46039f\"], [0.2222222222222222, \"#7201a8\"], [0.3333333333333333, \"#9c179e\"], [0.4444444444444444, \"#bd3786\"], [0.5555555555555556, \"#d8576b\"], [0.6666666666666666, \"#ed7953\"], [0.7777777777777778, \"#fb9f3a\"], [0.8888888888888888, \"#fdca26\"], [1.0, \"#f0f921\"]], \"type\": \"heatmap\"}], \"heatmapgl\": [{\"colorbar\": {\"outlinewidth\": 0, \"ticks\": \"\"}, \"colorscale\": [[0.0, \"#0d0887\"], [0.1111111111111111, \"#46039f\"], [0.2222222222222222, \"#7201a8\"], [0.3333333333333333, \"#9c179e\"], [0.4444444444444444, \"#bd3786\"], [0.5555555555555556, \"#d8576b\"], [0.6666666666666666, \"#ed7953\"], [0.7777777777777778, \"#fb9f3a\"], [0.8888888888888888, \"#fdca26\"], [1.0, \"#f0f921\"]], \"type\": \"heatmapgl\"}], \"histogram\": [{\"marker\": {\"colorbar\": {\"outlinewidth\": 0, \"ticks\": \"\"}}, \"type\": \"histogram\"}], \"histogram2d\": [{\"colorbar\": {\"outlinewidth\": 0, \"ticks\": \"\"}, \"colorscale\": [[0.0, \"#0d0887\"], [0.1111111111111111, \"#46039f\"], [0.2222222222222222, \"#7201a8\"], [0.3333333333333333, \"#9c179e\"], [0.4444444444444444, \"#bd3786\"], [0.5555555555555556, \"#d8576b\"], [0.6666666666666666, \"#ed7953\"], [0.7777777777777778, \"#fb9f3a\"], [0.8888888888888888, \"#fdca26\"], [1.0, \"#f0f921\"]], \"type\": \"histogram2d\"}], \"histogram2dcontour\": [{\"colorbar\": {\"outlinewidth\": 0, \"ticks\": \"\"}, \"colorscale\": [[0.0, \"#0d0887\"], [0.1111111111111111, \"#46039f\"], [0.2222222222222222, \"#7201a8\"], [0.3333333333333333, \"#9c179e\"], [0.4444444444444444, \"#bd3786\"], [0.5555555555555556, \"#d8576b\"], [0.6666666666666666, \"#ed7953\"], [0.7777777777777778, \"#fb9f3a\"], [0.8888888888888888, \"#fdca26\"], [1.0, \"#f0f921\"]], \"type\": \"histogram2dcontour\"}], \"mesh3d\": [{\"colorbar\": {\"outlinewidth\": 0, \"ticks\": \"\"}, \"type\": \"mesh3d\"}], \"parcoords\": [{\"line\": {\"colorbar\": {\"outlinewidth\": 0, \"ticks\": \"\"}}, \"type\": \"parcoords\"}], \"scatter\": [{\"marker\": {\"colorbar\": {\"outlinewidth\": 0, \"ticks\": \"\"}}, \"type\": \"scatter\"}], \"scatter3d\": [{\"line\": {\"colorbar\": {\"outlinewidth\": 0, \"ticks\": \"\"}}, \"marker\": {\"colorbar\": {\"outlinewidth\": 0, \"ticks\": \"\"}}, \"type\": \"scatter3d\"}], \"scattercarpet\": [{\"marker\": {\"colorbar\": {\"outlinewidth\": 0, \"ticks\": \"\"}}, \"type\": \"scattercarpet\"}], \"scattergeo\": [{\"marker\": {\"colorbar\": {\"outlinewidth\": 0, \"ticks\": \"\"}}, \"type\": \"scattergeo\"}], \"scattergl\": [{\"marker\": {\"colorbar\": {\"outlinewidth\": 0, \"ticks\": \"\"}}, \"type\": \"scattergl\"}], \"scattermapbox\": [{\"marker\": {\"colorbar\": {\"outlinewidth\": 0, \"ticks\": \"\"}}, \"type\": \"scattermapbox\"}], \"scatterpolar\": [{\"marker\": {\"colorbar\": {\"outlinewidth\": 0, \"ticks\": \"\"}}, \"type\": \"scatterpolar\"}], \"scatterpolargl\": [{\"marker\": {\"colorbar\": {\"outlinewidth\": 0, \"ticks\": \"\"}}, \"type\": \"scatterpolargl\"}], \"scatterternary\": [{\"marker\": {\"colorbar\": {\"outlinewidth\": 0, \"ticks\": \"\"}}, \"type\": \"scatterternary\"}], \"surface\": [{\"colorbar\": {\"outlinewidth\": 0, \"ticks\": \"\"}, \"colorscale\": [[0.0, \"#0d0887\"], [0.1111111111111111, \"#46039f\"], [0.2222222222222222, \"#7201a8\"], [0.3333333333333333, \"#9c179e\"], [0.4444444444444444, \"#bd3786\"], [0.5555555555555556, \"#d8576b\"], [0.6666666666666666, \"#ed7953\"], [0.7777777777777778, \"#fb9f3a\"], [0.8888888888888888, \"#fdca26\"], [1.0, \"#f0f921\"]], \"type\": \"surface\"}], \"table\": [{\"cells\": {\"fill\": {\"color\": \"#EBF0F8\"}, \"line\": {\"color\": \"white\"}}, \"header\": {\"fill\": {\"color\": \"#C8D4E3\"}, \"line\": {\"color\": \"white\"}}, \"type\": \"table\"}]}, \"layout\": {\"annotationdefaults\": {\"arrowcolor\": \"#2a3f5f\", \"arrowhead\": 0, \"arrowwidth\": 1}, \"colorscale\": {\"diverging\": [[0, \"#8e0152\"], [0.1, \"#c51b7d\"], [0.2, \"#de77ae\"], [0.3, \"#f1b6da\"], [0.4, \"#fde0ef\"], [0.5, \"#f7f7f7\"], [0.6, \"#e6f5d0\"], [0.7, \"#b8e186\"], [0.8, \"#7fbc41\"], [0.9, \"#4d9221\"], [1, \"#276419\"]], \"sequential\": [[0.0, \"#0d0887\"], [0.1111111111111111, \"#46039f\"], [0.2222222222222222, \"#7201a8\"], [0.3333333333333333, \"#9c179e\"], [0.4444444444444444, \"#bd3786\"], [0.5555555555555556, \"#d8576b\"], [0.6666666666666666, \"#ed7953\"], [0.7777777777777778, \"#fb9f3a\"], [0.8888888888888888, \"#fdca26\"], [1.0, \"#f0f921\"]], \"sequentialminus\": [[0.0, \"#0d0887\"], [0.1111111111111111, \"#46039f\"], [0.2222222222222222, \"#7201a8\"], [0.3333333333333333, \"#9c179e\"], [0.4444444444444444, \"#bd3786\"], [0.5555555555555556, \"#d8576b\"], [0.6666666666666666, \"#ed7953\"], [0.7777777777777778, \"#fb9f3a\"], [0.8888888888888888, \"#fdca26\"], [1.0, \"#f0f921\"]]}, \"colorway\": [\"#636efa\", \"#EF553B\", \"#00cc96\", \"#ab63fa\", \"#FFA15A\", \"#19d3f3\", \"#FF6692\", \"#B6E880\", \"#FF97FF\", \"#FECB52\"], \"font\": {\"color\": \"#2a3f5f\"}, \"geo\": {\"bgcolor\": \"white\", \"lakecolor\": \"white\", \"landcolor\": \"#E5ECF6\", \"showlakes\": true, \"showland\": true, \"subunitcolor\": \"white\"}, \"hoverlabel\": {\"align\": \"left\"}, \"hovermode\": \"closest\", \"mapbox\": {\"style\": \"light\"}, \"paper_bgcolor\": \"white\", \"plot_bgcolor\": \"#E5ECF6\", \"polar\": {\"angularaxis\": {\"gridcolor\": \"white\", \"linecolor\": \"white\", \"ticks\": \"\"}, \"bgcolor\": \"#E5ECF6\", \"radialaxis\": {\"gridcolor\": \"white\", \"linecolor\": \"white\", \"ticks\": \"\"}}, \"scene\": {\"xaxis\": {\"backgroundcolor\": \"#E5ECF6\", \"gridcolor\": \"white\", \"gridwidth\": 2, \"linecolor\": \"white\", \"showbackground\": true, \"ticks\": \"\", \"zerolinecolor\": \"white\"}, \"yaxis\": {\"backgroundcolor\": \"#E5ECF6\", \"gridcolor\": \"white\", \"gridwidth\": 2, \"linecolor\": \"white\", \"showbackground\": true, \"ticks\": \"\", \"zerolinecolor\": \"white\"}, \"zaxis\": {\"backgroundcolor\": \"#E5ECF6\", \"gridcolor\": \"white\", \"gridwidth\": 2, \"linecolor\": \"white\", \"showbackground\": true, \"ticks\": \"\", \"zerolinecolor\": \"white\"}}, \"shapedefaults\": {\"line\": {\"color\": \"#2a3f5f\"}}, \"ternary\": {\"aaxis\": {\"gridcolor\": \"white\", \"linecolor\": \"white\", \"ticks\": \"\"}, \"baxis\": {\"gridcolor\": \"white\", \"linecolor\": \"white\", \"ticks\": \"\"}, \"bgcolor\": \"#E5ECF6\", \"caxis\": {\"gridcolor\": \"white\", \"linecolor\": \"white\", \"ticks\": \"\"}}, \"title\": {\"x\": 0.05}, \"xaxis\": {\"automargin\": true, \"gridcolor\": \"white\", \"linecolor\": \"white\", \"ticks\": \"\", \"zerolinecolor\": \"white\", \"zerolinewidth\": 2}, \"yaxis\": {\"automargin\": true, \"gridcolor\": \"white\", \"linecolor\": \"white\", \"ticks\": \"\", \"zerolinecolor\": \"white\", \"zerolinewidth\": 2}}}, \"xaxis\": {\"gridcolor\": \"#c0c0c0\", \"range\": [\"2019-07-26T07:13:17+00:00\", \"2019-07-26T16:13:17+00:00\"], \"showgrid\": true}, \"yaxis\": {\"fixedrange\": true, \"gridcolor\": \"#c0c0c0\", \"hoverformat\": \".0f\", \"range\": [40, 400], \"showgrid\": true, \"tickvals\": [-100, 40, 70, 180, 250, 400], \"title\": {\"font\": {\"size\": 12}, \"text\": \"Blood Glucose (mg/dL)\"}, \"zeroline\": false}},\n",
       "                        {\"responsive\": true}\n",
       "                    ).then(function(){\n",
       "                            \n",
       "var gd = document.getElementById('f04ade03-a848-463c-8e15-5f7405bdeffe');\n",
       "var x = new MutationObserver(function (mutations, observer) {{\n",
       "        var display = window.getComputedStyle(gd).display;\n",
       "        if (!display || display === 'none') {{\n",
       "            console.log([gd, 'removed!']);\n",
       "            Plotly.purge(gd);\n",
       "            observer.disconnect();\n",
       "        }}\n",
       "}});\n",
       "\n",
       "// Listen for the removal of the full notebook cells\n",
       "var notebookContainer = gd.closest('#notebook-container');\n",
       "if (notebookContainer) {{\n",
       "    x.observe(notebookContainer, {childList: true});\n",
       "}}\n",
       "\n",
       "// Listen for the clearing of the current output cell\n",
       "var outputEl = gd.closest('.output');\n",
       "if (outputEl) {{\n",
       "    x.observe(outputEl, {childList: true});\n",
       "}}\n",
       "\n",
       "                        })\n",
       "                };\n",
       "                });\n",
       "            </script>\n",
       "        </div>"
      ]
     },
     "metadata": {},
     "output_type": "display_data"
    }
   ],
   "source": [
    "# view BG inputs\n",
    "# Set bg color values\n",
    "bg['bg_colors'] = 'mediumaquamarine'\n",
    "bg.loc[bg['mg_dL'] < 54, 'bg_colors'] = 'indianred'\n",
    "low_location = (bg['mg_dL'] > 54) & (bg['mg_dL'] < 70)\n",
    "bg.loc[low_location, 'bg_colors'] = 'lightcoral'\n",
    "high_location = (bg['mg_dL'] > 180) & (bg['mg_dL'] <= 250)\n",
    "bg.loc[high_location, 'bg_colors'] = 'mediumpurple'\n",
    "bg.loc[(bg['mg_dL'] > 250), 'bg_colors'] = 'slateblue'\n",
    "\n",
    "bg_trace = go.Scattergl(\n",
    "    name=\"cgm\",\n",
    "    x=bg[\"time\"],\n",
    "    y=bg[\"mg_dL\"],\n",
    "    hoverinfo=\"y+name\",\n",
    "    hoverlabel=dict(\n",
    "        bgcolor=bg[\"bg_colors\"]\n",
    "    ),\n",
    "    mode='markers',\n",
    "    marker=dict(\n",
    "        size=6,\n",
    "        line=dict(width=0),\n",
    "        color=bg[\"bg_colors\"]\n",
    "    )\n",
    ")\n",
    "\n",
    "layout = go.Layout(\n",
    "    showlegend=True,\n",
    "    plot_bgcolor=\"white\",\n",
    "    yaxis=dict(\n",
    "        range=[40, 400],\n",
    "        tickvals=[-100, 40, 70, 180, 250, 400],\n",
    "        fixedrange=True,\n",
    "        hoverformat=\".0f\",\n",
    "        zeroline=False,\n",
    "        showgrid=True,\n",
    "        gridcolor=\"#c0c0c0\",\n",
    "        title=dict(\n",
    "            text=\"Blood Glucose (mg/dL)\",\n",
    "            font=dict(\n",
    "                size=12\n",
    "            )\n",
    "        )\n",
    "    ),\n",
    "    xaxis=dict(\n",
    "        range=(\n",
    "            current_time - datetime.timedelta(hours=8),\n",
    "            current_time + datetime.timedelta(hours=1)\n",
    "        ),\n",
    "        showgrid=True,\n",
    "        gridcolor=\"#c0c0c0\",\n",
    "    ),\n",
    "    annotations=[\n",
    "        go.layout.Annotation(\n",
    "            x=current_time,\n",
    "            y=bg[\"mg_dL\"].values[-1] + 10,\n",
    "            xref=\"x\",\n",
    "            yref=\"y\",\n",
    "            text=\"current time\",\n",
    "            showarrow=True,\n",
    "            arrowhead=1,\n",
    "            ax=0,\n",
    "            ayref=\"y\",\n",
    "            ay=425\n",
    "        )\n",
    "    ],\n",
    "    dragmode=\"pan\",\n",
    "    hovermode=\"x\"\n",
    ")\n",
    "\n",
    "fig = go.Figure(data=bg_trace, layout=layout)\n",
    "fig"
   ]
  },
  {
   "cell_type": "markdown",
   "metadata": {},
   "source": [
    "# Insulin & Carb Event Data (bolus, basals, suspends, and carbs)"
   ]
  },
  {
   "cell_type": "markdown",
   "metadata": {},
   "source": [
    "## Insulin (Dose) Data"
   ]
  },
  {
   "cell_type": "code",
   "execution_count": 232,
   "metadata": {},
   "outputs": [
    {
     "data": {
      "text/html": [
       "<div>\n",
       "<style scoped>\n",
       "    .dataframe tbody tr th:only-of-type {\n",
       "        vertical-align: middle;\n",
       "    }\n",
       "\n",
       "    .dataframe tbody tr th {\n",
       "        vertical-align: top;\n",
       "    }\n",
       "\n",
       "    .dataframe thead th {\n",
       "        text-align: right;\n",
       "    }\n",
       "</style>\n",
       "<table border=\"1\" class=\"dataframe\">\n",
       "  <thead>\n",
       "    <tr style=\"text-align: right;\">\n",
       "      <th></th>\n",
       "      <th>startTime</th>\n",
       "      <th>endTime</th>\n",
       "      <th>dose</th>\n",
       "      <th>type</th>\n",
       "      <th>duration</th>\n",
       "    </tr>\n",
       "  </thead>\n",
       "  <tbody>\n",
       "    <tr>\n",
       "      <th>0</th>\n",
       "      <td>2019-07-26 15:13:11+00:00</td>\n",
       "      <td>2019-07-26 15:15:11+00:00</td>\n",
       "      <td>3.0</td>\n",
       "      <td>bolus</td>\n",
       "      <td>120</td>\n",
       "    </tr>\n",
       "  </tbody>\n",
       "</table>\n",
       "</div>"
      ],
      "text/plain": [
       "                  startTime                   endTime  dose   type  duration\n",
       "0 2019-07-26 15:13:11+00:00 2019-07-26 15:15:11+00:00   3.0  bolus       120"
      ]
     },
     "execution_count": 232,
     "metadata": {},
     "output_type": "execute_result"
    }
   ],
   "source": [
    " # insulin (dose) data\n",
    "dose_start_times = (\n",
    "    pd.DataFrame(inputs.get(\"dose_start_times\"), columns=[\"startTime\"])\n",
    ")\n",
    "dose_end_times = (\n",
    "    pd.DataFrame(inputs.get(\"dose_end_times\"), columns=[\"endTime\"])\n",
    ")\n",
    "dose_values = (\n",
    "    pd.DataFrame(inputs.get(\"dose_values\"), columns=[\"dose\"])\n",
    ")\n",
    "dose_types = (\n",
    "    pd.DataFrame(inputs.get(\"dose_types\"), columns=[\"type\"])\n",
    ")\n",
    "dose_types[\"type\"] = dose_types[\"type\"].apply(convert_times_and_types)\n",
    "dose = pd.concat(\n",
    "    [dose_start_times, dose_end_times, dose_values, dose_types],\n",
    "    axis=1\n",
    ")\n",
    "\n",
    "dose[\"duration\"] = (dose[\"endTime\"] - dose[\"startTime\"]).dt.seconds\n",
    "unique_dose_types = dose[\"type\"].unique()\n",
    "dose.head()"
   ]
  },
  {
   "cell_type": "markdown",
   "metadata": {},
   "source": [
    "### Bolus Data"
   ]
  },
  {
   "cell_type": "code",
   "execution_count": 233,
   "metadata": {},
   "outputs": [
    {
     "data": {
      "text/html": [
       "<div>\n",
       "<style scoped>\n",
       "    .dataframe tbody tr th:only-of-type {\n",
       "        vertical-align: middle;\n",
       "    }\n",
       "\n",
       "    .dataframe tbody tr th {\n",
       "        vertical-align: top;\n",
       "    }\n",
       "\n",
       "    .dataframe thead th {\n",
       "        text-align: right;\n",
       "    }\n",
       "</style>\n",
       "<table border=\"1\" class=\"dataframe\">\n",
       "  <thead>\n",
       "    <tr style=\"text-align: right;\">\n",
       "      <th></th>\n",
       "      <th>startTime</th>\n",
       "      <th>endTime</th>\n",
       "      <th>dose</th>\n",
       "      <th>type</th>\n",
       "      <th>duration</th>\n",
       "    </tr>\n",
       "  </thead>\n",
       "  <tbody>\n",
       "    <tr>\n",
       "      <th>0</th>\n",
       "      <td>2019-07-26 15:13:11+00:00</td>\n",
       "      <td>2019-07-26 15:15:11+00:00</td>\n",
       "      <td>3.0</td>\n",
       "      <td>bolus</td>\n",
       "      <td>120</td>\n",
       "    </tr>\n",
       "  </tbody>\n",
       "</table>\n",
       "</div>"
      ],
      "text/plain": [
       "                  startTime                   endTime  dose   type  duration\n",
       "0 2019-07-26 15:13:11+00:00 2019-07-26 15:15:11+00:00   3.0  bolus       120"
      ]
     },
     "execution_count": 233,
     "metadata": {},
     "output_type": "execute_result"
    }
   ],
   "source": [
    "# bolus data\n",
    "if \"bolus\" in unique_dose_types:\n",
    "    bolus = dose[dose[\"type\"] == \"bolus\"]\n",
    "\n",
    "bolus.head()"
   ]
  },
  {
   "cell_type": "markdown",
   "metadata": {},
   "source": [
    "### Basal Data (Scheduled & Temp Basal Rates)"
   ]
  },
  {
   "cell_type": "code",
   "execution_count": 234,
   "metadata": {},
   "outputs": [
    {
     "data": {
      "text/html": [
       "<div>\n",
       "<style scoped>\n",
       "    .dataframe tbody tr th:only-of-type {\n",
       "        vertical-align: middle;\n",
       "    }\n",
       "\n",
       "    .dataframe tbody tr th {\n",
       "        vertical-align: top;\n",
       "    }\n",
       "\n",
       "    .dataframe thead th {\n",
       "        text-align: right;\n",
       "    }\n",
       "</style>\n",
       "<table border=\"1\" class=\"dataframe\">\n",
       "  <thead>\n",
       "    <tr style=\"text-align: right;\">\n",
       "      <th></th>\n",
       "      <th>datetime</th>\n",
       "      <th>time</th>\n",
       "      <th>duration</th>\n",
       "      <th>sbr</th>\n",
       "      <th>tbr</th>\n",
       "      <th>delivered</th>\n",
       "    </tr>\n",
       "  </thead>\n",
       "  <tbody>\n",
       "    <tr>\n",
       "      <th>0</th>\n",
       "      <td>2019-07-24 21:00:00+00:00</td>\n",
       "      <td>21:00:00</td>\n",
       "      <td>1260.0</td>\n",
       "      <td>0.75</td>\n",
       "      <td>NaN</td>\n",
       "      <td>0.75</td>\n",
       "    </tr>\n",
       "    <tr>\n",
       "      <th>1</th>\n",
       "      <td>2019-07-24 21:05:00+00:00</td>\n",
       "      <td>21:05:00</td>\n",
       "      <td>NaN</td>\n",
       "      <td>0.75</td>\n",
       "      <td>NaN</td>\n",
       "      <td>0.75</td>\n",
       "    </tr>\n",
       "    <tr>\n",
       "      <th>2</th>\n",
       "      <td>2019-07-24 21:10:00+00:00</td>\n",
       "      <td>21:10:00</td>\n",
       "      <td>NaN</td>\n",
       "      <td>0.75</td>\n",
       "      <td>NaN</td>\n",
       "      <td>0.75</td>\n",
       "    </tr>\n",
       "    <tr>\n",
       "      <th>3</th>\n",
       "      <td>2019-07-24 21:15:00+00:00</td>\n",
       "      <td>21:15:00</td>\n",
       "      <td>NaN</td>\n",
       "      <td>0.75</td>\n",
       "      <td>NaN</td>\n",
       "      <td>0.75</td>\n",
       "    </tr>\n",
       "    <tr>\n",
       "      <th>4</th>\n",
       "      <td>2019-07-24 21:20:00+00:00</td>\n",
       "      <td>21:20:00</td>\n",
       "      <td>NaN</td>\n",
       "      <td>0.75</td>\n",
       "      <td>NaN</td>\n",
       "      <td>0.75</td>\n",
       "    </tr>\n",
       "  </tbody>\n",
       "</table>\n",
       "</div>"
      ],
      "text/plain": [
       "                    datetime      time  duration   sbr  tbr  delivered\n",
       "0  2019-07-24 21:00:00+00:00  21:00:00    1260.0  0.75  NaN       0.75\n",
       "1  2019-07-24 21:05:00+00:00  21:05:00       NaN  0.75  NaN       0.75\n",
       "2  2019-07-24 21:10:00+00:00  21:10:00       NaN  0.75  NaN       0.75\n",
       "3  2019-07-24 21:15:00+00:00  21:15:00       NaN  0.75  NaN       0.75\n",
       "4  2019-07-24 21:20:00+00:00  21:20:00       NaN  0.75  NaN       0.75"
      ]
     },
     "execution_count": 234,
     "metadata": {},
     "output_type": "execute_result"
    }
   ],
   "source": [
    "# scheduled basal rate\n",
    "basal_rate_start_times = (\n",
    "    pd.DataFrame(inputs.get(\"basal_rate_start_times\"), columns=[\"time\"])\n",
    ")\n",
    "basal_rate_minutes = (\n",
    "    pd.DataFrame(inputs.get(\"basal_rate_minutes\"), columns=[\"duration\"])\n",
    ")\n",
    "basal_rate_values = (\n",
    "    pd.DataFrame(inputs.get(\"basal_rate_values\"), columns=[\"sbr\"])\n",
    ")\n",
    "sbr = pd.concat(\n",
    "    [basal_rate_start_times, basal_rate_minutes, basal_rate_values],\n",
    "    axis=1\n",
    ")\n",
    "\n",
    "# create a contiguous basal time series\n",
    "bg_range = pd.date_range(\n",
    "    bg[\"time\"].min() - datetime.timedelta(days=1),\n",
    "    current_time,\n",
    "    freq=\"1s\"\n",
    ")\n",
    "contig_ts = pd.DataFrame(bg_range, columns=[\"datetime\"])\n",
    "contig_ts[\"time\"] = contig_ts[\"datetime\"].dt.time\n",
    "basal = pd.merge(contig_ts, sbr, on=\"time\", how=\"left\")\n",
    "basal[\"sbr\"].fillna(method='ffill', inplace=True)\n",
    "basal.dropna(subset=['sbr'], inplace=True)\n",
    "\n",
    "# temp basal data\n",
    "if ((\"basal\" in unique_dose_types) | (\"suspend\" in unique_dose_types)):\n",
    "    temp_basal = (\n",
    "        dose[((dose[\"type\"] == \"basal\") | (dose[\"type\"] == \"suspend\"))]\n",
    "    )\n",
    "\n",
    "    temp_basal[\"type\"].replace(\"basal\", \"temp\", inplace=True)\n",
    "    all_temps = pd.DataFrame()\n",
    "    for idx in temp_basal.index:\n",
    "        rng = pd.date_range(\n",
    "            temp_basal.loc[idx, \"startTime\"],\n",
    "            temp_basal.loc[idx, \"endTime\"] - datetime.timedelta(seconds=1),\n",
    "            freq=\"1s\"\n",
    "        )\n",
    "        temp_ts = pd.DataFrame(rng, columns=[\"datetime\"])\n",
    "        temp_ts[\"tbr\"] = temp_basal.loc[idx, \"dose\"]\n",
    "        temp_ts[\"type\"] = temp_basal.loc[idx, \"type\"]\n",
    "        all_temps = pd.concat([all_temps, temp_ts])\n",
    "\n",
    "    basal = pd.merge(basal, all_temps, on=\"datetime\", how=\"left\")\n",
    "    basal[\"type\"].fillna(\"scheduled\", inplace=True)\n",
    "\n",
    "else:\n",
    "    basal[\"tbr\"] = np.nan\n",
    "\n",
    "basal[\"delivered\"] = basal[\"tbr\"]\n",
    "basal.loc[basal[\"delivered\"].isnull(), \"delivered\"] = (\n",
    "    basal.loc[basal[\"delivered\"].isnull(), \"sbr\"]\n",
    ")\n",
    "\n",
    "# downsample basal\n",
    "basal_range = pd.date_range(\n",
    "    basal[\"datetime\"].min(),\n",
    "    current_time,\n",
    "    freq=\"5min\"\n",
    ")\n",
    "basal_ts = pd.DataFrame(basal_range, columns=[\"datetime\"])\n",
    "basal = pd.merge(basal_ts, basal, on=\"datetime\", how=\"left\")\n",
    "# add back in the current time\n",
    "last_index = basal.index.max()\n",
    "basal.loc[last_index + 1, \"datetime\"] = current_time\n",
    "basal.loc[last_index + 1, \"sbr\"] = basal.loc[last_index, \"sbr\"]\n",
    "basal.loc[last_index + 1, \"tbr\"] = basal.loc[last_index, \"tbr\"]\n",
    "basal.loc[last_index + 1, \"delivered\"] = basal.loc[last_index, \"delivered\"]\n",
    "basal.head()"
   ]
  },
  {
   "cell_type": "markdown",
   "metadata": {},
   "source": [
    "## Carb Data (CIR and Carb Events)"
   ]
  },
  {
   "cell_type": "code",
   "execution_count": 235,
   "metadata": {},
   "outputs": [
    {
     "data": {
      "text/html": [
       "<div>\n",
       "<style scoped>\n",
       "    .dataframe tbody tr th:only-of-type {\n",
       "        vertical-align: middle;\n",
       "    }\n",
       "\n",
       "    .dataframe tbody tr th {\n",
       "        vertical-align: top;\n",
       "    }\n",
       "\n",
       "    .dataframe thead th {\n",
       "        text-align: right;\n",
       "    }\n",
       "</style>\n",
       "<table border=\"1\" class=\"dataframe\">\n",
       "  <thead>\n",
       "    <tr style=\"text-align: right;\">\n",
       "      <th></th>\n",
       "      <th>datetime</th>\n",
       "      <th>time</th>\n",
       "      <th>cir</th>\n",
       "      <th>grams</th>\n",
       "      <th>aborption_time</th>\n",
       "      <th>bolus_height</th>\n",
       "    </tr>\n",
       "  </thead>\n",
       "  <tbody>\n",
       "    <tr>\n",
       "      <th>168181</th>\n",
       "      <td>2019-07-26 15:13:01+00:00</td>\n",
       "      <td>15:13:01</td>\n",
       "      <td>12.0</td>\n",
       "      <td>40.0</td>\n",
       "      <td>240.0</td>\n",
       "      <td>3.333333</td>\n",
       "    </tr>\n",
       "  </tbody>\n",
       "</table>\n",
       "</div>"
      ],
      "text/plain": [
       "                        datetime      time   cir  grams  aborption_time  \\\n",
       "168181 2019-07-26 15:13:01+00:00  15:13:01  12.0   40.0           240.0   \n",
       "\n",
       "        bolus_height  \n",
       "168181      3.333333  "
      ]
     },
     "execution_count": 235,
     "metadata": {},
     "output_type": "execute_result"
    }
   ],
   "source": [
    "# carb-to-insulin-ratio\n",
    "carb_ratio_start_times = (\n",
    "    pd.DataFrame(inputs.get(\"carb_ratio_start_times\"), columns=[\"time\"])\n",
    ")\n",
    "carb_ratio_values = (\n",
    "    pd.DataFrame(inputs.get(\"carb_ratio_values\"), columns=[\"cir\"])\n",
    ")\n",
    "cir = pd.concat([carb_ratio_start_times, carb_ratio_values], axis=1)\n",
    "\n",
    "carbs = pd.merge(contig_ts, cir, on=\"time\", how=\"left\")\n",
    "carbs[\"cir\"].fillna(method='ffill', inplace=True)\n",
    "carbs.dropna(subset=['cir'], inplace=True)\n",
    "\n",
    "# carb events\n",
    "carb_dates = pd.DataFrame(inputs.get(\"carb_dates\"), columns=[\"datetime\"])\n",
    "carb_values = pd.DataFrame(inputs.get(\"carb_values\"), columns=[\"grams\"])\n",
    "carb_absorption_times = (\n",
    "    pd.DataFrame(\n",
    "        inputs.get(\"carb_absorption_times\"),\n",
    "        columns=[\"aborption_time\"]\n",
    "    )\n",
    ")\n",
    "carb_events = (\n",
    "    pd.concat([carb_dates, carb_values, carb_absorption_times], axis=1)\n",
    ")\n",
    "\n",
    "carbs = pd.merge(carbs, carb_events, on=\"datetime\", how=\"left\")\n",
    "\n",
    "# add bolus height for figure\n",
    "carbs[\"bolus_height\"] = carbs[\"grams\"] / carbs[\"cir\"]\n",
    "\n",
    "# TODO: visualize the carb-to-insulin-ratio (cir)\n",
    "# in the meantime drop rows where grams is null\n",
    "carbs.dropna(subset=['grams'], inplace=True)\n",
    "carbs.head()"
   ]
  },
  {
   "cell_type": "markdown",
   "metadata": {},
   "source": [
    "# Visualize Insulin & Carb Event Data"
   ]
  },
  {
   "cell_type": "code",
   "execution_count": 236,
   "metadata": {},
   "outputs": [
    {
     "data": {
      "application/vnd.plotly.v1+json": {
       "config": {
        "plotlyServerURL": "https://plot.ly"
       },
       "data": [
        {
         "fill": "tonexty",
         "hoverinfo": "y+name",
         "line": {
          "color": "cornflowerblue",
          "shape": "vh"
         },
         "mode": "lines",
         "name": "delivered",
         "type": "scatter",
         "x": [
          "2019-07-24T21:00:00+00:00",
          "2019-07-24T21:05:00+00:00",
          "2019-07-24T21:10:00+00:00",
          "2019-07-24T21:15:00+00:00",
          "2019-07-24T21:20:00+00:00",
          "2019-07-24T21:25:00+00:00",
          "2019-07-24T21:30:00+00:00",
          "2019-07-24T21:35:00+00:00",
          "2019-07-24T21:40:00+00:00",
          "2019-07-24T21:45:00+00:00",
          "2019-07-24T21:50:00+00:00",
          "2019-07-24T21:55:00+00:00",
          "2019-07-24T22:00:00+00:00",
          "2019-07-24T22:05:00+00:00",
          "2019-07-24T22:10:00+00:00",
          "2019-07-24T22:15:00+00:00",
          "2019-07-24T22:20:00+00:00",
          "2019-07-24T22:25:00+00:00",
          "2019-07-24T22:30:00+00:00",
          "2019-07-24T22:35:00+00:00",
          "2019-07-24T22:40:00+00:00",
          "2019-07-24T22:45:00+00:00",
          "2019-07-24T22:50:00+00:00",
          "2019-07-24T22:55:00+00:00",
          "2019-07-24T23:00:00+00:00",
          "2019-07-24T23:05:00+00:00",
          "2019-07-24T23:10:00+00:00",
          "2019-07-24T23:15:00+00:00",
          "2019-07-24T23:20:00+00:00",
          "2019-07-24T23:25:00+00:00",
          "2019-07-24T23:30:00+00:00",
          "2019-07-24T23:35:00+00:00",
          "2019-07-24T23:40:00+00:00",
          "2019-07-24T23:45:00+00:00",
          "2019-07-24T23:50:00+00:00",
          "2019-07-24T23:55:00+00:00",
          "2019-07-25T00:00:00+00:00",
          "2019-07-25T00:05:00+00:00",
          "2019-07-25T00:10:00+00:00",
          "2019-07-25T00:15:00+00:00",
          "2019-07-25T00:20:00+00:00",
          "2019-07-25T00:25:00+00:00",
          "2019-07-25T00:30:00+00:00",
          "2019-07-25T00:35:00+00:00",
          "2019-07-25T00:40:00+00:00",
          "2019-07-25T00:45:00+00:00",
          "2019-07-25T00:50:00+00:00",
          "2019-07-25T00:55:00+00:00",
          "2019-07-25T01:00:00+00:00",
          "2019-07-25T01:05:00+00:00",
          "2019-07-25T01:10:00+00:00",
          "2019-07-25T01:15:00+00:00",
          "2019-07-25T01:20:00+00:00",
          "2019-07-25T01:25:00+00:00",
          "2019-07-25T01:30:00+00:00",
          "2019-07-25T01:35:00+00:00",
          "2019-07-25T01:40:00+00:00",
          "2019-07-25T01:45:00+00:00",
          "2019-07-25T01:50:00+00:00",
          "2019-07-25T01:55:00+00:00",
          "2019-07-25T02:00:00+00:00",
          "2019-07-25T02:05:00+00:00",
          "2019-07-25T02:10:00+00:00",
          "2019-07-25T02:15:00+00:00",
          "2019-07-25T02:20:00+00:00",
          "2019-07-25T02:25:00+00:00",
          "2019-07-25T02:30:00+00:00",
          "2019-07-25T02:35:00+00:00",
          "2019-07-25T02:40:00+00:00",
          "2019-07-25T02:45:00+00:00",
          "2019-07-25T02:50:00+00:00",
          "2019-07-25T02:55:00+00:00",
          "2019-07-25T03:00:00+00:00",
          "2019-07-25T03:05:00+00:00",
          "2019-07-25T03:10:00+00:00",
          "2019-07-25T03:15:00+00:00",
          "2019-07-25T03:20:00+00:00",
          "2019-07-25T03:25:00+00:00",
          "2019-07-25T03:30:00+00:00",
          "2019-07-25T03:35:00+00:00",
          "2019-07-25T03:40:00+00:00",
          "2019-07-25T03:45:00+00:00",
          "2019-07-25T03:50:00+00:00",
          "2019-07-25T03:55:00+00:00",
          "2019-07-25T04:00:00+00:00",
          "2019-07-25T04:05:00+00:00",
          "2019-07-25T04:10:00+00:00",
          "2019-07-25T04:15:00+00:00",
          "2019-07-25T04:20:00+00:00",
          "2019-07-25T04:25:00+00:00",
          "2019-07-25T04:30:00+00:00",
          "2019-07-25T04:35:00+00:00",
          "2019-07-25T04:40:00+00:00",
          "2019-07-25T04:45:00+00:00",
          "2019-07-25T04:50:00+00:00",
          "2019-07-25T04:55:00+00:00",
          "2019-07-25T05:00:00+00:00",
          "2019-07-25T05:05:00+00:00",
          "2019-07-25T05:10:00+00:00",
          "2019-07-25T05:15:00+00:00",
          "2019-07-25T05:20:00+00:00",
          "2019-07-25T05:25:00+00:00",
          "2019-07-25T05:30:00+00:00",
          "2019-07-25T05:35:00+00:00",
          "2019-07-25T05:40:00+00:00",
          "2019-07-25T05:45:00+00:00",
          "2019-07-25T05:50:00+00:00",
          "2019-07-25T05:55:00+00:00",
          "2019-07-25T06:00:00+00:00",
          "2019-07-25T06:05:00+00:00",
          "2019-07-25T06:10:00+00:00",
          "2019-07-25T06:15:00+00:00",
          "2019-07-25T06:20:00+00:00",
          "2019-07-25T06:25:00+00:00",
          "2019-07-25T06:30:00+00:00",
          "2019-07-25T06:35:00+00:00",
          "2019-07-25T06:40:00+00:00",
          "2019-07-25T06:45:00+00:00",
          "2019-07-25T06:50:00+00:00",
          "2019-07-25T06:55:00+00:00",
          "2019-07-25T07:00:00+00:00",
          "2019-07-25T07:05:00+00:00",
          "2019-07-25T07:10:00+00:00",
          "2019-07-25T07:15:00+00:00",
          "2019-07-25T07:20:00+00:00",
          "2019-07-25T07:25:00+00:00",
          "2019-07-25T07:30:00+00:00",
          "2019-07-25T07:35:00+00:00",
          "2019-07-25T07:40:00+00:00",
          "2019-07-25T07:45:00+00:00",
          "2019-07-25T07:50:00+00:00",
          "2019-07-25T07:55:00+00:00",
          "2019-07-25T08:00:00+00:00",
          "2019-07-25T08:05:00+00:00",
          "2019-07-25T08:10:00+00:00",
          "2019-07-25T08:15:00+00:00",
          "2019-07-25T08:20:00+00:00",
          "2019-07-25T08:25:00+00:00",
          "2019-07-25T08:30:00+00:00",
          "2019-07-25T08:35:00+00:00",
          "2019-07-25T08:40:00+00:00",
          "2019-07-25T08:45:00+00:00",
          "2019-07-25T08:50:00+00:00",
          "2019-07-25T08:55:00+00:00",
          "2019-07-25T09:00:00+00:00",
          "2019-07-25T09:05:00+00:00",
          "2019-07-25T09:10:00+00:00",
          "2019-07-25T09:15:00+00:00",
          "2019-07-25T09:20:00+00:00",
          "2019-07-25T09:25:00+00:00",
          "2019-07-25T09:30:00+00:00",
          "2019-07-25T09:35:00+00:00",
          "2019-07-25T09:40:00+00:00",
          "2019-07-25T09:45:00+00:00",
          "2019-07-25T09:50:00+00:00",
          "2019-07-25T09:55:00+00:00",
          "2019-07-25T10:00:00+00:00",
          "2019-07-25T10:05:00+00:00",
          "2019-07-25T10:10:00+00:00",
          "2019-07-25T10:15:00+00:00",
          "2019-07-25T10:20:00+00:00",
          "2019-07-25T10:25:00+00:00",
          "2019-07-25T10:30:00+00:00",
          "2019-07-25T10:35:00+00:00",
          "2019-07-25T10:40:00+00:00",
          "2019-07-25T10:45:00+00:00",
          "2019-07-25T10:50:00+00:00",
          "2019-07-25T10:55:00+00:00",
          "2019-07-25T11:00:00+00:00",
          "2019-07-25T11:05:00+00:00",
          "2019-07-25T11:10:00+00:00",
          "2019-07-25T11:15:00+00:00",
          "2019-07-25T11:20:00+00:00",
          "2019-07-25T11:25:00+00:00",
          "2019-07-25T11:30:00+00:00",
          "2019-07-25T11:35:00+00:00",
          "2019-07-25T11:40:00+00:00",
          "2019-07-25T11:45:00+00:00",
          "2019-07-25T11:50:00+00:00",
          "2019-07-25T11:55:00+00:00",
          "2019-07-25T12:00:00+00:00",
          "2019-07-25T12:05:00+00:00",
          "2019-07-25T12:10:00+00:00",
          "2019-07-25T12:15:00+00:00",
          "2019-07-25T12:20:00+00:00",
          "2019-07-25T12:25:00+00:00",
          "2019-07-25T12:30:00+00:00",
          "2019-07-25T12:35:00+00:00",
          "2019-07-25T12:40:00+00:00",
          "2019-07-25T12:45:00+00:00",
          "2019-07-25T12:50:00+00:00",
          "2019-07-25T12:55:00+00:00",
          "2019-07-25T13:00:00+00:00",
          "2019-07-25T13:05:00+00:00",
          "2019-07-25T13:10:00+00:00",
          "2019-07-25T13:15:00+00:00",
          "2019-07-25T13:20:00+00:00",
          "2019-07-25T13:25:00+00:00",
          "2019-07-25T13:30:00+00:00",
          "2019-07-25T13:35:00+00:00",
          "2019-07-25T13:40:00+00:00",
          "2019-07-25T13:45:00+00:00",
          "2019-07-25T13:50:00+00:00",
          "2019-07-25T13:55:00+00:00",
          "2019-07-25T14:00:00+00:00",
          "2019-07-25T14:05:00+00:00",
          "2019-07-25T14:10:00+00:00",
          "2019-07-25T14:15:00+00:00",
          "2019-07-25T14:20:00+00:00",
          "2019-07-25T14:25:00+00:00",
          "2019-07-25T14:30:00+00:00",
          "2019-07-25T14:35:00+00:00",
          "2019-07-25T14:40:00+00:00",
          "2019-07-25T14:45:00+00:00",
          "2019-07-25T14:50:00+00:00",
          "2019-07-25T14:55:00+00:00",
          "2019-07-25T15:00:00+00:00",
          "2019-07-25T15:05:00+00:00",
          "2019-07-25T15:10:00+00:00",
          "2019-07-25T15:15:00+00:00",
          "2019-07-25T15:20:00+00:00",
          "2019-07-25T15:25:00+00:00",
          "2019-07-25T15:30:00+00:00",
          "2019-07-25T15:35:00+00:00",
          "2019-07-25T15:40:00+00:00",
          "2019-07-25T15:45:00+00:00",
          "2019-07-25T15:50:00+00:00",
          "2019-07-25T15:55:00+00:00",
          "2019-07-25T16:00:00+00:00",
          "2019-07-25T16:05:00+00:00",
          "2019-07-25T16:10:00+00:00",
          "2019-07-25T16:15:00+00:00",
          "2019-07-25T16:20:00+00:00",
          "2019-07-25T16:25:00+00:00",
          "2019-07-25T16:30:00+00:00",
          "2019-07-25T16:35:00+00:00",
          "2019-07-25T16:40:00+00:00",
          "2019-07-25T16:45:00+00:00",
          "2019-07-25T16:50:00+00:00",
          "2019-07-25T16:55:00+00:00",
          "2019-07-25T17:00:00+00:00",
          "2019-07-25T17:05:00+00:00",
          "2019-07-25T17:10:00+00:00",
          "2019-07-25T17:15:00+00:00",
          "2019-07-25T17:20:00+00:00",
          "2019-07-25T17:25:00+00:00",
          "2019-07-25T17:30:00+00:00",
          "2019-07-25T17:35:00+00:00",
          "2019-07-25T17:40:00+00:00",
          "2019-07-25T17:45:00+00:00",
          "2019-07-25T17:50:00+00:00",
          "2019-07-25T17:55:00+00:00",
          "2019-07-25T18:00:00+00:00",
          "2019-07-25T18:05:00+00:00",
          "2019-07-25T18:10:00+00:00",
          "2019-07-25T18:15:00+00:00",
          "2019-07-25T18:20:00+00:00",
          "2019-07-25T18:25:00+00:00",
          "2019-07-25T18:30:00+00:00",
          "2019-07-25T18:35:00+00:00",
          "2019-07-25T18:40:00+00:00",
          "2019-07-25T18:45:00+00:00",
          "2019-07-25T18:50:00+00:00",
          "2019-07-25T18:55:00+00:00",
          "2019-07-25T19:00:00+00:00",
          "2019-07-25T19:05:00+00:00",
          "2019-07-25T19:10:00+00:00",
          "2019-07-25T19:15:00+00:00",
          "2019-07-25T19:20:00+00:00",
          "2019-07-25T19:25:00+00:00",
          "2019-07-25T19:30:00+00:00",
          "2019-07-25T19:35:00+00:00",
          "2019-07-25T19:40:00+00:00",
          "2019-07-25T19:45:00+00:00",
          "2019-07-25T19:50:00+00:00",
          "2019-07-25T19:55:00+00:00",
          "2019-07-25T20:00:00+00:00",
          "2019-07-25T20:05:00+00:00",
          "2019-07-25T20:10:00+00:00",
          "2019-07-25T20:15:00+00:00",
          "2019-07-25T20:20:00+00:00",
          "2019-07-25T20:25:00+00:00",
          "2019-07-25T20:30:00+00:00",
          "2019-07-25T20:35:00+00:00",
          "2019-07-25T20:40:00+00:00",
          "2019-07-25T20:45:00+00:00",
          "2019-07-25T20:50:00+00:00",
          "2019-07-25T20:55:00+00:00",
          "2019-07-25T21:00:00+00:00",
          "2019-07-25T21:05:00+00:00",
          "2019-07-25T21:10:00+00:00",
          "2019-07-25T21:15:00+00:00",
          "2019-07-25T21:20:00+00:00",
          "2019-07-25T21:25:00+00:00",
          "2019-07-25T21:30:00+00:00",
          "2019-07-25T21:35:00+00:00",
          "2019-07-25T21:40:00+00:00",
          "2019-07-25T21:45:00+00:00",
          "2019-07-25T21:50:00+00:00",
          "2019-07-25T21:55:00+00:00",
          "2019-07-25T22:00:00+00:00",
          "2019-07-25T22:05:00+00:00",
          "2019-07-25T22:10:00+00:00",
          "2019-07-25T22:15:00+00:00",
          "2019-07-25T22:20:00+00:00",
          "2019-07-25T22:25:00+00:00",
          "2019-07-25T22:30:00+00:00",
          "2019-07-25T22:35:00+00:00",
          "2019-07-25T22:40:00+00:00",
          "2019-07-25T22:45:00+00:00",
          "2019-07-25T22:50:00+00:00",
          "2019-07-25T22:55:00+00:00",
          "2019-07-25T23:00:00+00:00",
          "2019-07-25T23:05:00+00:00",
          "2019-07-25T23:10:00+00:00",
          "2019-07-25T23:15:00+00:00",
          "2019-07-25T23:20:00+00:00",
          "2019-07-25T23:25:00+00:00",
          "2019-07-25T23:30:00+00:00",
          "2019-07-25T23:35:00+00:00",
          "2019-07-25T23:40:00+00:00",
          "2019-07-25T23:45:00+00:00",
          "2019-07-25T23:50:00+00:00",
          "2019-07-25T23:55:00+00:00",
          "2019-07-26T00:00:00+00:00",
          "2019-07-26T00:05:00+00:00",
          "2019-07-26T00:10:00+00:00",
          "2019-07-26T00:15:00+00:00",
          "2019-07-26T00:20:00+00:00",
          "2019-07-26T00:25:00+00:00",
          "2019-07-26T00:30:00+00:00",
          "2019-07-26T00:35:00+00:00",
          "2019-07-26T00:40:00+00:00",
          "2019-07-26T00:45:00+00:00",
          "2019-07-26T00:50:00+00:00",
          "2019-07-26T00:55:00+00:00",
          "2019-07-26T01:00:00+00:00",
          "2019-07-26T01:05:00+00:00",
          "2019-07-26T01:10:00+00:00",
          "2019-07-26T01:15:00+00:00",
          "2019-07-26T01:20:00+00:00",
          "2019-07-26T01:25:00+00:00",
          "2019-07-26T01:30:00+00:00",
          "2019-07-26T01:35:00+00:00",
          "2019-07-26T01:40:00+00:00",
          "2019-07-26T01:45:00+00:00",
          "2019-07-26T01:50:00+00:00",
          "2019-07-26T01:55:00+00:00",
          "2019-07-26T02:00:00+00:00",
          "2019-07-26T02:05:00+00:00",
          "2019-07-26T02:10:00+00:00",
          "2019-07-26T02:15:00+00:00",
          "2019-07-26T02:20:00+00:00",
          "2019-07-26T02:25:00+00:00",
          "2019-07-26T02:30:00+00:00",
          "2019-07-26T02:35:00+00:00",
          "2019-07-26T02:40:00+00:00",
          "2019-07-26T02:45:00+00:00",
          "2019-07-26T02:50:00+00:00",
          "2019-07-26T02:55:00+00:00",
          "2019-07-26T03:00:00+00:00",
          "2019-07-26T03:05:00+00:00",
          "2019-07-26T03:10:00+00:00",
          "2019-07-26T03:15:00+00:00",
          "2019-07-26T03:20:00+00:00",
          "2019-07-26T03:25:00+00:00",
          "2019-07-26T03:30:00+00:00",
          "2019-07-26T03:35:00+00:00",
          "2019-07-26T03:40:00+00:00",
          "2019-07-26T03:45:00+00:00",
          "2019-07-26T03:50:00+00:00",
          "2019-07-26T03:55:00+00:00",
          "2019-07-26T04:00:00+00:00",
          "2019-07-26T04:05:00+00:00",
          "2019-07-26T04:10:00+00:00",
          "2019-07-26T04:15:00+00:00",
          "2019-07-26T04:20:00+00:00",
          "2019-07-26T04:25:00+00:00",
          "2019-07-26T04:30:00+00:00",
          "2019-07-26T04:35:00+00:00",
          "2019-07-26T04:40:00+00:00",
          "2019-07-26T04:45:00+00:00",
          "2019-07-26T04:50:00+00:00",
          "2019-07-26T04:55:00+00:00",
          "2019-07-26T05:00:00+00:00",
          "2019-07-26T05:05:00+00:00",
          "2019-07-26T05:10:00+00:00",
          "2019-07-26T05:15:00+00:00",
          "2019-07-26T05:20:00+00:00",
          "2019-07-26T05:25:00+00:00",
          "2019-07-26T05:30:00+00:00",
          "2019-07-26T05:35:00+00:00",
          "2019-07-26T05:40:00+00:00",
          "2019-07-26T05:45:00+00:00",
          "2019-07-26T05:50:00+00:00",
          "2019-07-26T05:55:00+00:00",
          "2019-07-26T06:00:00+00:00",
          "2019-07-26T06:05:00+00:00",
          "2019-07-26T06:10:00+00:00",
          "2019-07-26T06:15:00+00:00",
          "2019-07-26T06:20:00+00:00",
          "2019-07-26T06:25:00+00:00",
          "2019-07-26T06:30:00+00:00",
          "2019-07-26T06:35:00+00:00",
          "2019-07-26T06:40:00+00:00",
          "2019-07-26T06:45:00+00:00",
          "2019-07-26T06:50:00+00:00",
          "2019-07-26T06:55:00+00:00",
          "2019-07-26T07:00:00+00:00",
          "2019-07-26T07:05:00+00:00",
          "2019-07-26T07:10:00+00:00",
          "2019-07-26T07:15:00+00:00",
          "2019-07-26T07:20:00+00:00",
          "2019-07-26T07:25:00+00:00",
          "2019-07-26T07:30:00+00:00",
          "2019-07-26T07:35:00+00:00",
          "2019-07-26T07:40:00+00:00",
          "2019-07-26T07:45:00+00:00",
          "2019-07-26T07:50:00+00:00",
          "2019-07-26T07:55:00+00:00",
          "2019-07-26T08:00:00+00:00",
          "2019-07-26T08:05:00+00:00",
          "2019-07-26T08:10:00+00:00",
          "2019-07-26T08:15:00+00:00",
          "2019-07-26T08:20:00+00:00",
          "2019-07-26T08:25:00+00:00",
          "2019-07-26T08:30:00+00:00",
          "2019-07-26T08:35:00+00:00",
          "2019-07-26T08:40:00+00:00",
          "2019-07-26T08:45:00+00:00",
          "2019-07-26T08:50:00+00:00",
          "2019-07-26T08:55:00+00:00",
          "2019-07-26T09:00:00+00:00",
          "2019-07-26T09:05:00+00:00",
          "2019-07-26T09:10:00+00:00",
          "2019-07-26T09:15:00+00:00",
          "2019-07-26T09:20:00+00:00",
          "2019-07-26T09:25:00+00:00",
          "2019-07-26T09:30:00+00:00",
          "2019-07-26T09:35:00+00:00",
          "2019-07-26T09:40:00+00:00",
          "2019-07-26T09:45:00+00:00",
          "2019-07-26T09:50:00+00:00",
          "2019-07-26T09:55:00+00:00",
          "2019-07-26T10:00:00+00:00",
          "2019-07-26T10:05:00+00:00",
          "2019-07-26T10:10:00+00:00",
          "2019-07-26T10:15:00+00:00",
          "2019-07-26T10:20:00+00:00",
          "2019-07-26T10:25:00+00:00",
          "2019-07-26T10:30:00+00:00",
          "2019-07-26T10:35:00+00:00",
          "2019-07-26T10:40:00+00:00",
          "2019-07-26T10:45:00+00:00",
          "2019-07-26T10:50:00+00:00",
          "2019-07-26T10:55:00+00:00",
          "2019-07-26T11:00:00+00:00",
          "2019-07-26T11:05:00+00:00",
          "2019-07-26T11:10:00+00:00",
          "2019-07-26T11:15:00+00:00",
          "2019-07-26T11:20:00+00:00",
          "2019-07-26T11:25:00+00:00",
          "2019-07-26T11:30:00+00:00",
          "2019-07-26T11:35:00+00:00",
          "2019-07-26T11:40:00+00:00",
          "2019-07-26T11:45:00+00:00",
          "2019-07-26T11:50:00+00:00",
          "2019-07-26T11:55:00+00:00",
          "2019-07-26T12:00:00+00:00",
          "2019-07-26T12:05:00+00:00",
          "2019-07-26T12:10:00+00:00",
          "2019-07-26T12:15:00+00:00",
          "2019-07-26T12:20:00+00:00",
          "2019-07-26T12:25:00+00:00",
          "2019-07-26T12:30:00+00:00",
          "2019-07-26T12:35:00+00:00",
          "2019-07-26T12:40:00+00:00",
          "2019-07-26T12:45:00+00:00",
          "2019-07-26T12:50:00+00:00",
          "2019-07-26T12:55:00+00:00",
          "2019-07-26T13:00:00+00:00",
          "2019-07-26T13:05:00+00:00",
          "2019-07-26T13:10:00+00:00",
          "2019-07-26T13:15:00+00:00",
          "2019-07-26T13:20:00+00:00",
          "2019-07-26T13:25:00+00:00",
          "2019-07-26T13:30:00+00:00",
          "2019-07-26T13:35:00+00:00",
          "2019-07-26T13:40:00+00:00",
          "2019-07-26T13:45:00+00:00",
          "2019-07-26T13:50:00+00:00",
          "2019-07-26T13:55:00+00:00",
          "2019-07-26T14:00:00+00:00",
          "2019-07-26T14:05:00+00:00",
          "2019-07-26T14:10:00+00:00",
          "2019-07-26T14:15:00+00:00",
          "2019-07-26T14:20:00+00:00",
          "2019-07-26T14:25:00+00:00",
          "2019-07-26T14:30:00+00:00",
          "2019-07-26T14:35:00+00:00",
          "2019-07-26T14:40:00+00:00",
          "2019-07-26T14:45:00+00:00",
          "2019-07-26T14:50:00+00:00",
          "2019-07-26T14:55:00+00:00",
          "2019-07-26T15:00:00+00:00",
          "2019-07-26T15:05:00+00:00",
          "2019-07-26T15:10:00+00:00",
          "2019-07-26T15:13:17+00:00"
         ],
         "y": [
          0.75,
          0.75,
          0.75,
          0.75,
          0.75,
          0.75,
          0.75,
          0.75,
          0.75,
          0.75,
          0.75,
          0.75,
          0.75,
          0.75,
          0.75,
          0.75,
          0.75,
          0.75,
          0.75,
          0.75,
          0.75,
          0.75,
          0.75,
          0.75,
          0.75,
          0.75,
          0.75,
          0.75,
          0.75,
          0.75,
          0.75,
          0.75,
          0.75,
          0.75,
          0.75,
          0.75,
          1.45,
          1.45,
          1.45,
          1.45,
          1.45,
          1.45,
          1.45,
          1.45,
          1.45,
          1.45,
          1.45,
          1.45,
          1.45,
          1.45,
          1.45,
          1.45,
          1.45,
          1.45,
          1.45,
          1.45,
          1.45,
          1.45,
          1.45,
          1.45,
          1.45,
          1.45,
          1.45,
          1.45,
          1.45,
          1.45,
          1.45,
          1.45,
          1.45,
          1.45,
          1.45,
          1.45,
          1.45,
          1.45,
          1.45,
          1.45,
          1.45,
          1.45,
          1.45,
          1.45,
          1.45,
          1.45,
          1.45,
          1.45,
          1.45,
          1.45,
          1.45,
          1.45,
          1.45,
          1.45,
          1.45,
          1.45,
          1.45,
          1.45,
          1.45,
          1.45,
          1.45,
          1.45,
          1.45,
          1.45,
          1.45,
          1.45,
          1.45,
          1.45,
          1.45,
          1.45,
          1.45,
          1.45,
          1.45,
          1.45,
          1.45,
          1.45,
          1.45,
          1.45,
          1.45,
          1.45,
          1.45,
          1.45,
          1.45,
          1.45,
          1.45,
          1.45,
          1.45,
          1.45,
          1.45,
          1.45,
          1.45,
          1.45,
          1.45,
          1.45,
          1.45,
          1.45,
          1.45,
          1.45,
          1.45,
          1.45,
          1.45,
          1.45,
          1.45,
          1.45,
          1.45,
          1.45,
          1.45,
          1.45,
          1.45,
          1.45,
          1.45,
          1.45,
          1.45,
          1.45,
          0.9,
          0.9,
          0.9,
          0.9,
          0.9,
          0.9,
          0.9,
          0.9,
          0.9,
          0.9,
          0.9,
          0.9,
          0.9,
          0.9,
          0.9,
          0.9,
          0.9,
          0.9,
          0.9,
          0.9,
          0.9,
          0.9,
          0.9,
          0.9,
          0.9,
          0.9,
          0.9,
          0.9,
          0.9,
          0.9,
          0.9,
          0.9,
          0.9,
          0.9,
          0.9,
          0.9,
          0.9,
          0.9,
          0.9,
          0.9,
          0.9,
          0.9,
          0.9,
          0.9,
          0.9,
          0.9,
          0.9,
          0.9,
          0.9,
          0.9,
          0.9,
          0.9,
          0.9,
          0.9,
          0.9,
          0.9,
          0.9,
          0.9,
          0.9,
          0.9,
          0.9,
          0.9,
          0.9,
          0.9,
          0.9,
          0.9,
          0.9,
          0.9,
          0.9,
          0.9,
          0.9,
          0.9,
          0.9,
          0.9,
          0.9,
          0.9,
          0.9,
          0.9,
          0.9,
          0.9,
          0.9,
          0.9,
          0.9,
          0.9,
          0.9,
          0.9,
          0.9,
          0.9,
          0.9,
          0.9,
          0.9,
          0.9,
          0.9,
          0.9,
          0.9,
          0.9,
          0.9,
          0.9,
          0.9,
          0.9,
          0.9,
          0.9,
          0.9,
          0.9,
          0.9,
          0.9,
          0.9,
          0.9,
          0.9,
          0.9,
          0.9,
          0.9,
          0.9,
          0.9,
          0.9,
          0.9,
          0.9,
          0.9,
          0.9,
          0.9,
          0.9,
          0.9,
          0.9,
          0.9,
          0.9,
          0.9,
          0.9,
          0.9,
          0.9,
          0.9,
          0.9,
          0.9,
          0.9,
          0.9,
          0.9,
          0.9,
          0.9,
          0.9,
          0.75,
          0.75,
          0.75,
          0.75,
          0.75,
          0.75,
          0.75,
          0.75,
          0.75,
          0.75,
          0.75,
          0.75,
          0.75,
          0.75,
          0.75,
          0.75,
          0.75,
          0.75,
          0.75,
          0.75,
          0.75,
          0.75,
          0.75,
          0.75,
          0.75,
          0.75,
          0.75,
          0.75,
          0.75,
          0.75,
          0.75,
          0.75,
          0.75,
          0.75,
          0.75,
          0.75,
          1.45,
          1.45,
          1.45,
          1.45,
          1.45,
          1.45,
          1.45,
          1.45,
          1.45,
          1.45,
          1.45,
          1.45,
          1.45,
          1.45,
          1.45,
          1.45,
          1.45,
          1.45,
          1.45,
          1.45,
          1.45,
          1.45,
          1.45,
          1.45,
          1.45,
          1.45,
          1.45,
          1.45,
          1.45,
          1.45,
          1.45,
          1.45,
          1.45,
          1.45,
          1.45,
          1.45,
          1.45,
          1.45,
          1.45,
          1.45,
          1.45,
          1.45,
          1.45,
          1.45,
          1.45,
          1.45,
          1.45,
          1.45,
          1.45,
          1.45,
          1.45,
          1.45,
          1.45,
          1.45,
          1.45,
          1.45,
          1.45,
          1.45,
          1.45,
          1.45,
          1.45,
          1.45,
          1.45,
          1.45,
          1.45,
          1.45,
          1.45,
          1.45,
          1.45,
          1.45,
          1.45,
          1.45,
          1.45,
          1.45,
          1.45,
          1.45,
          1.45,
          1.45,
          1.45,
          1.45,
          1.45,
          1.45,
          1.45,
          1.45,
          1.45,
          1.45,
          1.45,
          1.45,
          1.45,
          1.45,
          1.45,
          1.45,
          1.45,
          1.45,
          1.45,
          1.45,
          1.45,
          1.45,
          1.45,
          1.45,
          1.45,
          1.45,
          1.45,
          1.45,
          1.45,
          1.45,
          1.45,
          1.45,
          1.45,
          1.45,
          1.45,
          1.45,
          1.45,
          1.45,
          0.9,
          0.9,
          0.9,
          0.9,
          0.9,
          0.9,
          0.9,
          0.9,
          0.9,
          0.9,
          0.9,
          0.9,
          0.9,
          0.9,
          0.9,
          0.9,
          0.9,
          0.9,
          0.9,
          0.9,
          0.9,
          0.9,
          0.9,
          0.9,
          0.9,
          0.9,
          0.9,
          0.9,
          0.9,
          0.9,
          0.9,
          0.9,
          0.9,
          0.9,
          0.9,
          0.9,
          0.9,
          0.9,
          0.9,
          0.9,
          0.9,
          0.9,
          0.9,
          0.9,
          0.9,
          0.9,
          0.9,
          0.9,
          0.9,
          0.9,
          0.9,
          0.9,
          0.9,
          0.9,
          0.9,
          0.9,
          0.9,
          0.9,
          0.9,
          0.9,
          0.9,
          0.9,
          0.9,
          0.9,
          0.9,
          0.9,
          0.9,
          0.9,
          0.9,
          0.9
         ]
        },
        {
         "hoverinfo": "y+name",
         "line": {
          "color": "cornflowerblue",
          "dash": "dot",
          "shape": "vh"
         },
         "mode": "lines",
         "name": "scheduled",
         "type": "scattergl",
         "x": [
          "2019-07-24T21:00:00+00:00",
          "2019-07-24T21:05:00+00:00",
          "2019-07-24T21:10:00+00:00",
          "2019-07-24T21:15:00+00:00",
          "2019-07-24T21:20:00+00:00",
          "2019-07-24T21:25:00+00:00",
          "2019-07-24T21:30:00+00:00",
          "2019-07-24T21:35:00+00:00",
          "2019-07-24T21:40:00+00:00",
          "2019-07-24T21:45:00+00:00",
          "2019-07-24T21:50:00+00:00",
          "2019-07-24T21:55:00+00:00",
          "2019-07-24T22:00:00+00:00",
          "2019-07-24T22:05:00+00:00",
          "2019-07-24T22:10:00+00:00",
          "2019-07-24T22:15:00+00:00",
          "2019-07-24T22:20:00+00:00",
          "2019-07-24T22:25:00+00:00",
          "2019-07-24T22:30:00+00:00",
          "2019-07-24T22:35:00+00:00",
          "2019-07-24T22:40:00+00:00",
          "2019-07-24T22:45:00+00:00",
          "2019-07-24T22:50:00+00:00",
          "2019-07-24T22:55:00+00:00",
          "2019-07-24T23:00:00+00:00",
          "2019-07-24T23:05:00+00:00",
          "2019-07-24T23:10:00+00:00",
          "2019-07-24T23:15:00+00:00",
          "2019-07-24T23:20:00+00:00",
          "2019-07-24T23:25:00+00:00",
          "2019-07-24T23:30:00+00:00",
          "2019-07-24T23:35:00+00:00",
          "2019-07-24T23:40:00+00:00",
          "2019-07-24T23:45:00+00:00",
          "2019-07-24T23:50:00+00:00",
          "2019-07-24T23:55:00+00:00",
          "2019-07-25T00:00:00+00:00",
          "2019-07-25T00:05:00+00:00",
          "2019-07-25T00:10:00+00:00",
          "2019-07-25T00:15:00+00:00",
          "2019-07-25T00:20:00+00:00",
          "2019-07-25T00:25:00+00:00",
          "2019-07-25T00:30:00+00:00",
          "2019-07-25T00:35:00+00:00",
          "2019-07-25T00:40:00+00:00",
          "2019-07-25T00:45:00+00:00",
          "2019-07-25T00:50:00+00:00",
          "2019-07-25T00:55:00+00:00",
          "2019-07-25T01:00:00+00:00",
          "2019-07-25T01:05:00+00:00",
          "2019-07-25T01:10:00+00:00",
          "2019-07-25T01:15:00+00:00",
          "2019-07-25T01:20:00+00:00",
          "2019-07-25T01:25:00+00:00",
          "2019-07-25T01:30:00+00:00",
          "2019-07-25T01:35:00+00:00",
          "2019-07-25T01:40:00+00:00",
          "2019-07-25T01:45:00+00:00",
          "2019-07-25T01:50:00+00:00",
          "2019-07-25T01:55:00+00:00",
          "2019-07-25T02:00:00+00:00",
          "2019-07-25T02:05:00+00:00",
          "2019-07-25T02:10:00+00:00",
          "2019-07-25T02:15:00+00:00",
          "2019-07-25T02:20:00+00:00",
          "2019-07-25T02:25:00+00:00",
          "2019-07-25T02:30:00+00:00",
          "2019-07-25T02:35:00+00:00",
          "2019-07-25T02:40:00+00:00",
          "2019-07-25T02:45:00+00:00",
          "2019-07-25T02:50:00+00:00",
          "2019-07-25T02:55:00+00:00",
          "2019-07-25T03:00:00+00:00",
          "2019-07-25T03:05:00+00:00",
          "2019-07-25T03:10:00+00:00",
          "2019-07-25T03:15:00+00:00",
          "2019-07-25T03:20:00+00:00",
          "2019-07-25T03:25:00+00:00",
          "2019-07-25T03:30:00+00:00",
          "2019-07-25T03:35:00+00:00",
          "2019-07-25T03:40:00+00:00",
          "2019-07-25T03:45:00+00:00",
          "2019-07-25T03:50:00+00:00",
          "2019-07-25T03:55:00+00:00",
          "2019-07-25T04:00:00+00:00",
          "2019-07-25T04:05:00+00:00",
          "2019-07-25T04:10:00+00:00",
          "2019-07-25T04:15:00+00:00",
          "2019-07-25T04:20:00+00:00",
          "2019-07-25T04:25:00+00:00",
          "2019-07-25T04:30:00+00:00",
          "2019-07-25T04:35:00+00:00",
          "2019-07-25T04:40:00+00:00",
          "2019-07-25T04:45:00+00:00",
          "2019-07-25T04:50:00+00:00",
          "2019-07-25T04:55:00+00:00",
          "2019-07-25T05:00:00+00:00",
          "2019-07-25T05:05:00+00:00",
          "2019-07-25T05:10:00+00:00",
          "2019-07-25T05:15:00+00:00",
          "2019-07-25T05:20:00+00:00",
          "2019-07-25T05:25:00+00:00",
          "2019-07-25T05:30:00+00:00",
          "2019-07-25T05:35:00+00:00",
          "2019-07-25T05:40:00+00:00",
          "2019-07-25T05:45:00+00:00",
          "2019-07-25T05:50:00+00:00",
          "2019-07-25T05:55:00+00:00",
          "2019-07-25T06:00:00+00:00",
          "2019-07-25T06:05:00+00:00",
          "2019-07-25T06:10:00+00:00",
          "2019-07-25T06:15:00+00:00",
          "2019-07-25T06:20:00+00:00",
          "2019-07-25T06:25:00+00:00",
          "2019-07-25T06:30:00+00:00",
          "2019-07-25T06:35:00+00:00",
          "2019-07-25T06:40:00+00:00",
          "2019-07-25T06:45:00+00:00",
          "2019-07-25T06:50:00+00:00",
          "2019-07-25T06:55:00+00:00",
          "2019-07-25T07:00:00+00:00",
          "2019-07-25T07:05:00+00:00",
          "2019-07-25T07:10:00+00:00",
          "2019-07-25T07:15:00+00:00",
          "2019-07-25T07:20:00+00:00",
          "2019-07-25T07:25:00+00:00",
          "2019-07-25T07:30:00+00:00",
          "2019-07-25T07:35:00+00:00",
          "2019-07-25T07:40:00+00:00",
          "2019-07-25T07:45:00+00:00",
          "2019-07-25T07:50:00+00:00",
          "2019-07-25T07:55:00+00:00",
          "2019-07-25T08:00:00+00:00",
          "2019-07-25T08:05:00+00:00",
          "2019-07-25T08:10:00+00:00",
          "2019-07-25T08:15:00+00:00",
          "2019-07-25T08:20:00+00:00",
          "2019-07-25T08:25:00+00:00",
          "2019-07-25T08:30:00+00:00",
          "2019-07-25T08:35:00+00:00",
          "2019-07-25T08:40:00+00:00",
          "2019-07-25T08:45:00+00:00",
          "2019-07-25T08:50:00+00:00",
          "2019-07-25T08:55:00+00:00",
          "2019-07-25T09:00:00+00:00",
          "2019-07-25T09:05:00+00:00",
          "2019-07-25T09:10:00+00:00",
          "2019-07-25T09:15:00+00:00",
          "2019-07-25T09:20:00+00:00",
          "2019-07-25T09:25:00+00:00",
          "2019-07-25T09:30:00+00:00",
          "2019-07-25T09:35:00+00:00",
          "2019-07-25T09:40:00+00:00",
          "2019-07-25T09:45:00+00:00",
          "2019-07-25T09:50:00+00:00",
          "2019-07-25T09:55:00+00:00",
          "2019-07-25T10:00:00+00:00",
          "2019-07-25T10:05:00+00:00",
          "2019-07-25T10:10:00+00:00",
          "2019-07-25T10:15:00+00:00",
          "2019-07-25T10:20:00+00:00",
          "2019-07-25T10:25:00+00:00",
          "2019-07-25T10:30:00+00:00",
          "2019-07-25T10:35:00+00:00",
          "2019-07-25T10:40:00+00:00",
          "2019-07-25T10:45:00+00:00",
          "2019-07-25T10:50:00+00:00",
          "2019-07-25T10:55:00+00:00",
          "2019-07-25T11:00:00+00:00",
          "2019-07-25T11:05:00+00:00",
          "2019-07-25T11:10:00+00:00",
          "2019-07-25T11:15:00+00:00",
          "2019-07-25T11:20:00+00:00",
          "2019-07-25T11:25:00+00:00",
          "2019-07-25T11:30:00+00:00",
          "2019-07-25T11:35:00+00:00",
          "2019-07-25T11:40:00+00:00",
          "2019-07-25T11:45:00+00:00",
          "2019-07-25T11:50:00+00:00",
          "2019-07-25T11:55:00+00:00",
          "2019-07-25T12:00:00+00:00",
          "2019-07-25T12:05:00+00:00",
          "2019-07-25T12:10:00+00:00",
          "2019-07-25T12:15:00+00:00",
          "2019-07-25T12:20:00+00:00",
          "2019-07-25T12:25:00+00:00",
          "2019-07-25T12:30:00+00:00",
          "2019-07-25T12:35:00+00:00",
          "2019-07-25T12:40:00+00:00",
          "2019-07-25T12:45:00+00:00",
          "2019-07-25T12:50:00+00:00",
          "2019-07-25T12:55:00+00:00",
          "2019-07-25T13:00:00+00:00",
          "2019-07-25T13:05:00+00:00",
          "2019-07-25T13:10:00+00:00",
          "2019-07-25T13:15:00+00:00",
          "2019-07-25T13:20:00+00:00",
          "2019-07-25T13:25:00+00:00",
          "2019-07-25T13:30:00+00:00",
          "2019-07-25T13:35:00+00:00",
          "2019-07-25T13:40:00+00:00",
          "2019-07-25T13:45:00+00:00",
          "2019-07-25T13:50:00+00:00",
          "2019-07-25T13:55:00+00:00",
          "2019-07-25T14:00:00+00:00",
          "2019-07-25T14:05:00+00:00",
          "2019-07-25T14:10:00+00:00",
          "2019-07-25T14:15:00+00:00",
          "2019-07-25T14:20:00+00:00",
          "2019-07-25T14:25:00+00:00",
          "2019-07-25T14:30:00+00:00",
          "2019-07-25T14:35:00+00:00",
          "2019-07-25T14:40:00+00:00",
          "2019-07-25T14:45:00+00:00",
          "2019-07-25T14:50:00+00:00",
          "2019-07-25T14:55:00+00:00",
          "2019-07-25T15:00:00+00:00",
          "2019-07-25T15:05:00+00:00",
          "2019-07-25T15:10:00+00:00",
          "2019-07-25T15:15:00+00:00",
          "2019-07-25T15:20:00+00:00",
          "2019-07-25T15:25:00+00:00",
          "2019-07-25T15:30:00+00:00",
          "2019-07-25T15:35:00+00:00",
          "2019-07-25T15:40:00+00:00",
          "2019-07-25T15:45:00+00:00",
          "2019-07-25T15:50:00+00:00",
          "2019-07-25T15:55:00+00:00",
          "2019-07-25T16:00:00+00:00",
          "2019-07-25T16:05:00+00:00",
          "2019-07-25T16:10:00+00:00",
          "2019-07-25T16:15:00+00:00",
          "2019-07-25T16:20:00+00:00",
          "2019-07-25T16:25:00+00:00",
          "2019-07-25T16:30:00+00:00",
          "2019-07-25T16:35:00+00:00",
          "2019-07-25T16:40:00+00:00",
          "2019-07-25T16:45:00+00:00",
          "2019-07-25T16:50:00+00:00",
          "2019-07-25T16:55:00+00:00",
          "2019-07-25T17:00:00+00:00",
          "2019-07-25T17:05:00+00:00",
          "2019-07-25T17:10:00+00:00",
          "2019-07-25T17:15:00+00:00",
          "2019-07-25T17:20:00+00:00",
          "2019-07-25T17:25:00+00:00",
          "2019-07-25T17:30:00+00:00",
          "2019-07-25T17:35:00+00:00",
          "2019-07-25T17:40:00+00:00",
          "2019-07-25T17:45:00+00:00",
          "2019-07-25T17:50:00+00:00",
          "2019-07-25T17:55:00+00:00",
          "2019-07-25T18:00:00+00:00",
          "2019-07-25T18:05:00+00:00",
          "2019-07-25T18:10:00+00:00",
          "2019-07-25T18:15:00+00:00",
          "2019-07-25T18:20:00+00:00",
          "2019-07-25T18:25:00+00:00",
          "2019-07-25T18:30:00+00:00",
          "2019-07-25T18:35:00+00:00",
          "2019-07-25T18:40:00+00:00",
          "2019-07-25T18:45:00+00:00",
          "2019-07-25T18:50:00+00:00",
          "2019-07-25T18:55:00+00:00",
          "2019-07-25T19:00:00+00:00",
          "2019-07-25T19:05:00+00:00",
          "2019-07-25T19:10:00+00:00",
          "2019-07-25T19:15:00+00:00",
          "2019-07-25T19:20:00+00:00",
          "2019-07-25T19:25:00+00:00",
          "2019-07-25T19:30:00+00:00",
          "2019-07-25T19:35:00+00:00",
          "2019-07-25T19:40:00+00:00",
          "2019-07-25T19:45:00+00:00",
          "2019-07-25T19:50:00+00:00",
          "2019-07-25T19:55:00+00:00",
          "2019-07-25T20:00:00+00:00",
          "2019-07-25T20:05:00+00:00",
          "2019-07-25T20:10:00+00:00",
          "2019-07-25T20:15:00+00:00",
          "2019-07-25T20:20:00+00:00",
          "2019-07-25T20:25:00+00:00",
          "2019-07-25T20:30:00+00:00",
          "2019-07-25T20:35:00+00:00",
          "2019-07-25T20:40:00+00:00",
          "2019-07-25T20:45:00+00:00",
          "2019-07-25T20:50:00+00:00",
          "2019-07-25T20:55:00+00:00",
          "2019-07-25T21:00:00+00:00",
          "2019-07-25T21:05:00+00:00",
          "2019-07-25T21:10:00+00:00",
          "2019-07-25T21:15:00+00:00",
          "2019-07-25T21:20:00+00:00",
          "2019-07-25T21:25:00+00:00",
          "2019-07-25T21:30:00+00:00",
          "2019-07-25T21:35:00+00:00",
          "2019-07-25T21:40:00+00:00",
          "2019-07-25T21:45:00+00:00",
          "2019-07-25T21:50:00+00:00",
          "2019-07-25T21:55:00+00:00",
          "2019-07-25T22:00:00+00:00",
          "2019-07-25T22:05:00+00:00",
          "2019-07-25T22:10:00+00:00",
          "2019-07-25T22:15:00+00:00",
          "2019-07-25T22:20:00+00:00",
          "2019-07-25T22:25:00+00:00",
          "2019-07-25T22:30:00+00:00",
          "2019-07-25T22:35:00+00:00",
          "2019-07-25T22:40:00+00:00",
          "2019-07-25T22:45:00+00:00",
          "2019-07-25T22:50:00+00:00",
          "2019-07-25T22:55:00+00:00",
          "2019-07-25T23:00:00+00:00",
          "2019-07-25T23:05:00+00:00",
          "2019-07-25T23:10:00+00:00",
          "2019-07-25T23:15:00+00:00",
          "2019-07-25T23:20:00+00:00",
          "2019-07-25T23:25:00+00:00",
          "2019-07-25T23:30:00+00:00",
          "2019-07-25T23:35:00+00:00",
          "2019-07-25T23:40:00+00:00",
          "2019-07-25T23:45:00+00:00",
          "2019-07-25T23:50:00+00:00",
          "2019-07-25T23:55:00+00:00",
          "2019-07-26T00:00:00+00:00",
          "2019-07-26T00:05:00+00:00",
          "2019-07-26T00:10:00+00:00",
          "2019-07-26T00:15:00+00:00",
          "2019-07-26T00:20:00+00:00",
          "2019-07-26T00:25:00+00:00",
          "2019-07-26T00:30:00+00:00",
          "2019-07-26T00:35:00+00:00",
          "2019-07-26T00:40:00+00:00",
          "2019-07-26T00:45:00+00:00",
          "2019-07-26T00:50:00+00:00",
          "2019-07-26T00:55:00+00:00",
          "2019-07-26T01:00:00+00:00",
          "2019-07-26T01:05:00+00:00",
          "2019-07-26T01:10:00+00:00",
          "2019-07-26T01:15:00+00:00",
          "2019-07-26T01:20:00+00:00",
          "2019-07-26T01:25:00+00:00",
          "2019-07-26T01:30:00+00:00",
          "2019-07-26T01:35:00+00:00",
          "2019-07-26T01:40:00+00:00",
          "2019-07-26T01:45:00+00:00",
          "2019-07-26T01:50:00+00:00",
          "2019-07-26T01:55:00+00:00",
          "2019-07-26T02:00:00+00:00",
          "2019-07-26T02:05:00+00:00",
          "2019-07-26T02:10:00+00:00",
          "2019-07-26T02:15:00+00:00",
          "2019-07-26T02:20:00+00:00",
          "2019-07-26T02:25:00+00:00",
          "2019-07-26T02:30:00+00:00",
          "2019-07-26T02:35:00+00:00",
          "2019-07-26T02:40:00+00:00",
          "2019-07-26T02:45:00+00:00",
          "2019-07-26T02:50:00+00:00",
          "2019-07-26T02:55:00+00:00",
          "2019-07-26T03:00:00+00:00",
          "2019-07-26T03:05:00+00:00",
          "2019-07-26T03:10:00+00:00",
          "2019-07-26T03:15:00+00:00",
          "2019-07-26T03:20:00+00:00",
          "2019-07-26T03:25:00+00:00",
          "2019-07-26T03:30:00+00:00",
          "2019-07-26T03:35:00+00:00",
          "2019-07-26T03:40:00+00:00",
          "2019-07-26T03:45:00+00:00",
          "2019-07-26T03:50:00+00:00",
          "2019-07-26T03:55:00+00:00",
          "2019-07-26T04:00:00+00:00",
          "2019-07-26T04:05:00+00:00",
          "2019-07-26T04:10:00+00:00",
          "2019-07-26T04:15:00+00:00",
          "2019-07-26T04:20:00+00:00",
          "2019-07-26T04:25:00+00:00",
          "2019-07-26T04:30:00+00:00",
          "2019-07-26T04:35:00+00:00",
          "2019-07-26T04:40:00+00:00",
          "2019-07-26T04:45:00+00:00",
          "2019-07-26T04:50:00+00:00",
          "2019-07-26T04:55:00+00:00",
          "2019-07-26T05:00:00+00:00",
          "2019-07-26T05:05:00+00:00",
          "2019-07-26T05:10:00+00:00",
          "2019-07-26T05:15:00+00:00",
          "2019-07-26T05:20:00+00:00",
          "2019-07-26T05:25:00+00:00",
          "2019-07-26T05:30:00+00:00",
          "2019-07-26T05:35:00+00:00",
          "2019-07-26T05:40:00+00:00",
          "2019-07-26T05:45:00+00:00",
          "2019-07-26T05:50:00+00:00",
          "2019-07-26T05:55:00+00:00",
          "2019-07-26T06:00:00+00:00",
          "2019-07-26T06:05:00+00:00",
          "2019-07-26T06:10:00+00:00",
          "2019-07-26T06:15:00+00:00",
          "2019-07-26T06:20:00+00:00",
          "2019-07-26T06:25:00+00:00",
          "2019-07-26T06:30:00+00:00",
          "2019-07-26T06:35:00+00:00",
          "2019-07-26T06:40:00+00:00",
          "2019-07-26T06:45:00+00:00",
          "2019-07-26T06:50:00+00:00",
          "2019-07-26T06:55:00+00:00",
          "2019-07-26T07:00:00+00:00",
          "2019-07-26T07:05:00+00:00",
          "2019-07-26T07:10:00+00:00",
          "2019-07-26T07:15:00+00:00",
          "2019-07-26T07:20:00+00:00",
          "2019-07-26T07:25:00+00:00",
          "2019-07-26T07:30:00+00:00",
          "2019-07-26T07:35:00+00:00",
          "2019-07-26T07:40:00+00:00",
          "2019-07-26T07:45:00+00:00",
          "2019-07-26T07:50:00+00:00",
          "2019-07-26T07:55:00+00:00",
          "2019-07-26T08:00:00+00:00",
          "2019-07-26T08:05:00+00:00",
          "2019-07-26T08:10:00+00:00",
          "2019-07-26T08:15:00+00:00",
          "2019-07-26T08:20:00+00:00",
          "2019-07-26T08:25:00+00:00",
          "2019-07-26T08:30:00+00:00",
          "2019-07-26T08:35:00+00:00",
          "2019-07-26T08:40:00+00:00",
          "2019-07-26T08:45:00+00:00",
          "2019-07-26T08:50:00+00:00",
          "2019-07-26T08:55:00+00:00",
          "2019-07-26T09:00:00+00:00",
          "2019-07-26T09:05:00+00:00",
          "2019-07-26T09:10:00+00:00",
          "2019-07-26T09:15:00+00:00",
          "2019-07-26T09:20:00+00:00",
          "2019-07-26T09:25:00+00:00",
          "2019-07-26T09:30:00+00:00",
          "2019-07-26T09:35:00+00:00",
          "2019-07-26T09:40:00+00:00",
          "2019-07-26T09:45:00+00:00",
          "2019-07-26T09:50:00+00:00",
          "2019-07-26T09:55:00+00:00",
          "2019-07-26T10:00:00+00:00",
          "2019-07-26T10:05:00+00:00",
          "2019-07-26T10:10:00+00:00",
          "2019-07-26T10:15:00+00:00",
          "2019-07-26T10:20:00+00:00",
          "2019-07-26T10:25:00+00:00",
          "2019-07-26T10:30:00+00:00",
          "2019-07-26T10:35:00+00:00",
          "2019-07-26T10:40:00+00:00",
          "2019-07-26T10:45:00+00:00",
          "2019-07-26T10:50:00+00:00",
          "2019-07-26T10:55:00+00:00",
          "2019-07-26T11:00:00+00:00",
          "2019-07-26T11:05:00+00:00",
          "2019-07-26T11:10:00+00:00",
          "2019-07-26T11:15:00+00:00",
          "2019-07-26T11:20:00+00:00",
          "2019-07-26T11:25:00+00:00",
          "2019-07-26T11:30:00+00:00",
          "2019-07-26T11:35:00+00:00",
          "2019-07-26T11:40:00+00:00",
          "2019-07-26T11:45:00+00:00",
          "2019-07-26T11:50:00+00:00",
          "2019-07-26T11:55:00+00:00",
          "2019-07-26T12:00:00+00:00",
          "2019-07-26T12:05:00+00:00",
          "2019-07-26T12:10:00+00:00",
          "2019-07-26T12:15:00+00:00",
          "2019-07-26T12:20:00+00:00",
          "2019-07-26T12:25:00+00:00",
          "2019-07-26T12:30:00+00:00",
          "2019-07-26T12:35:00+00:00",
          "2019-07-26T12:40:00+00:00",
          "2019-07-26T12:45:00+00:00",
          "2019-07-26T12:50:00+00:00",
          "2019-07-26T12:55:00+00:00",
          "2019-07-26T13:00:00+00:00",
          "2019-07-26T13:05:00+00:00",
          "2019-07-26T13:10:00+00:00",
          "2019-07-26T13:15:00+00:00",
          "2019-07-26T13:20:00+00:00",
          "2019-07-26T13:25:00+00:00",
          "2019-07-26T13:30:00+00:00",
          "2019-07-26T13:35:00+00:00",
          "2019-07-26T13:40:00+00:00",
          "2019-07-26T13:45:00+00:00",
          "2019-07-26T13:50:00+00:00",
          "2019-07-26T13:55:00+00:00",
          "2019-07-26T14:00:00+00:00",
          "2019-07-26T14:05:00+00:00",
          "2019-07-26T14:10:00+00:00",
          "2019-07-26T14:15:00+00:00",
          "2019-07-26T14:20:00+00:00",
          "2019-07-26T14:25:00+00:00",
          "2019-07-26T14:30:00+00:00",
          "2019-07-26T14:35:00+00:00",
          "2019-07-26T14:40:00+00:00",
          "2019-07-26T14:45:00+00:00",
          "2019-07-26T14:50:00+00:00",
          "2019-07-26T14:55:00+00:00",
          "2019-07-26T15:00:00+00:00",
          "2019-07-26T15:05:00+00:00",
          "2019-07-26T15:10:00+00:00",
          "2019-07-26T15:13:17+00:00"
         ],
         "y": [
          0.75,
          0.75,
          0.75,
          0.75,
          0.75,
          0.75,
          0.75,
          0.75,
          0.75,
          0.75,
          0.75,
          0.75,
          0.75,
          0.75,
          0.75,
          0.75,
          0.75,
          0.75,
          0.75,
          0.75,
          0.75,
          0.75,
          0.75,
          0.75,
          0.75,
          0.75,
          0.75,
          0.75,
          0.75,
          0.75,
          0.75,
          0.75,
          0.75,
          0.75,
          0.75,
          0.75,
          1.45,
          1.45,
          1.45,
          1.45,
          1.45,
          1.45,
          1.45,
          1.45,
          1.45,
          1.45,
          1.45,
          1.45,
          1.45,
          1.45,
          1.45,
          1.45,
          1.45,
          1.45,
          1.45,
          1.45,
          1.45,
          1.45,
          1.45,
          1.45,
          1.45,
          1.45,
          1.45,
          1.45,
          1.45,
          1.45,
          1.45,
          1.45,
          1.45,
          1.45,
          1.45,
          1.45,
          1.45,
          1.45,
          1.45,
          1.45,
          1.45,
          1.45,
          1.45,
          1.45,
          1.45,
          1.45,
          1.45,
          1.45,
          1.45,
          1.45,
          1.45,
          1.45,
          1.45,
          1.45,
          1.45,
          1.45,
          1.45,
          1.45,
          1.45,
          1.45,
          1.45,
          1.45,
          1.45,
          1.45,
          1.45,
          1.45,
          1.45,
          1.45,
          1.45,
          1.45,
          1.45,
          1.45,
          1.45,
          1.45,
          1.45,
          1.45,
          1.45,
          1.45,
          1.45,
          1.45,
          1.45,
          1.45,
          1.45,
          1.45,
          1.45,
          1.45,
          1.45,
          1.45,
          1.45,
          1.45,
          1.45,
          1.45,
          1.45,
          1.45,
          1.45,
          1.45,
          1.45,
          1.45,
          1.45,
          1.45,
          1.45,
          1.45,
          1.45,
          1.45,
          1.45,
          1.45,
          1.45,
          1.45,
          1.45,
          1.45,
          1.45,
          1.45,
          1.45,
          1.45,
          0.9,
          0.9,
          0.9,
          0.9,
          0.9,
          0.9,
          0.9,
          0.9,
          0.9,
          0.9,
          0.9,
          0.9,
          0.9,
          0.9,
          0.9,
          0.9,
          0.9,
          0.9,
          0.9,
          0.9,
          0.9,
          0.9,
          0.9,
          0.9,
          0.9,
          0.9,
          0.9,
          0.9,
          0.9,
          0.9,
          0.9,
          0.9,
          0.9,
          0.9,
          0.9,
          0.9,
          0.9,
          0.9,
          0.9,
          0.9,
          0.9,
          0.9,
          0.9,
          0.9,
          0.9,
          0.9,
          0.9,
          0.9,
          0.9,
          0.9,
          0.9,
          0.9,
          0.9,
          0.9,
          0.9,
          0.9,
          0.9,
          0.9,
          0.9,
          0.9,
          0.9,
          0.9,
          0.9,
          0.9,
          0.9,
          0.9,
          0.9,
          0.9,
          0.9,
          0.9,
          0.9,
          0.9,
          0.9,
          0.9,
          0.9,
          0.9,
          0.9,
          0.9,
          0.9,
          0.9,
          0.9,
          0.9,
          0.9,
          0.9,
          0.9,
          0.9,
          0.9,
          0.9,
          0.9,
          0.9,
          0.9,
          0.9,
          0.9,
          0.9,
          0.9,
          0.9,
          0.9,
          0.9,
          0.9,
          0.9,
          0.9,
          0.9,
          0.9,
          0.9,
          0.9,
          0.9,
          0.9,
          0.9,
          0.9,
          0.9,
          0.9,
          0.9,
          0.9,
          0.9,
          0.9,
          0.9,
          0.9,
          0.9,
          0.9,
          0.9,
          0.9,
          0.9,
          0.9,
          0.9,
          0.9,
          0.9,
          0.9,
          0.9,
          0.9,
          0.9,
          0.9,
          0.9,
          0.9,
          0.9,
          0.9,
          0.9,
          0.9,
          0.9,
          0.75,
          0.75,
          0.75,
          0.75,
          0.75,
          0.75,
          0.75,
          0.75,
          0.75,
          0.75,
          0.75,
          0.75,
          0.75,
          0.75,
          0.75,
          0.75,
          0.75,
          0.75,
          0.75,
          0.75,
          0.75,
          0.75,
          0.75,
          0.75,
          0.75,
          0.75,
          0.75,
          0.75,
          0.75,
          0.75,
          0.75,
          0.75,
          0.75,
          0.75,
          0.75,
          0.75,
          1.45,
          1.45,
          1.45,
          1.45,
          1.45,
          1.45,
          1.45,
          1.45,
          1.45,
          1.45,
          1.45,
          1.45,
          1.45,
          1.45,
          1.45,
          1.45,
          1.45,
          1.45,
          1.45,
          1.45,
          1.45,
          1.45,
          1.45,
          1.45,
          1.45,
          1.45,
          1.45,
          1.45,
          1.45,
          1.45,
          1.45,
          1.45,
          1.45,
          1.45,
          1.45,
          1.45,
          1.45,
          1.45,
          1.45,
          1.45,
          1.45,
          1.45,
          1.45,
          1.45,
          1.45,
          1.45,
          1.45,
          1.45,
          1.45,
          1.45,
          1.45,
          1.45,
          1.45,
          1.45,
          1.45,
          1.45,
          1.45,
          1.45,
          1.45,
          1.45,
          1.45,
          1.45,
          1.45,
          1.45,
          1.45,
          1.45,
          1.45,
          1.45,
          1.45,
          1.45,
          1.45,
          1.45,
          1.45,
          1.45,
          1.45,
          1.45,
          1.45,
          1.45,
          1.45,
          1.45,
          1.45,
          1.45,
          1.45,
          1.45,
          1.45,
          1.45,
          1.45,
          1.45,
          1.45,
          1.45,
          1.45,
          1.45,
          1.45,
          1.45,
          1.45,
          1.45,
          1.45,
          1.45,
          1.45,
          1.45,
          1.45,
          1.45,
          1.45,
          1.45,
          1.45,
          1.45,
          1.45,
          1.45,
          1.45,
          1.45,
          1.45,
          1.45,
          1.45,
          1.45,
          0.9,
          0.9,
          0.9,
          0.9,
          0.9,
          0.9,
          0.9,
          0.9,
          0.9,
          0.9,
          0.9,
          0.9,
          0.9,
          0.9,
          0.9,
          0.9,
          0.9,
          0.9,
          0.9,
          0.9,
          0.9,
          0.9,
          0.9,
          0.9,
          0.9,
          0.9,
          0.9,
          0.9,
          0.9,
          0.9,
          0.9,
          0.9,
          0.9,
          0.9,
          0.9,
          0.9,
          0.9,
          0.9,
          0.9,
          0.9,
          0.9,
          0.9,
          0.9,
          0.9,
          0.9,
          0.9,
          0.9,
          0.9,
          0.9,
          0.9,
          0.9,
          0.9,
          0.9,
          0.9,
          0.9,
          0.9,
          0.9,
          0.9,
          0.9,
          0.9,
          0.9,
          0.9,
          0.9,
          0.9,
          0.9,
          0.9,
          0.9,
          0.9,
          0.9,
          0.9
         ]
        },
        {
         "hoverinfo": "y+name",
         "marker": {
          "color": "cornflowerblue"
         },
         "name": "bolus",
         "opacity": 0.5,
         "type": "bar",
         "width": 1200000,
         "x": [
          "2019-07-26T15:13:11+00:00"
         ],
         "y": [
          3
         ]
        },
        {
         "hoverinfo": "name",
         "marker": {
          "color": "gold",
          "size": 25
         },
         "mode": "markers+text",
         "name": "carbs",
         "text": [
          40
         ],
         "textposition": "middle center",
         "type": "scatter",
         "x": [
          "2019-07-26T15:13:01+00:00"
         ],
         "y": [
          3.8333333333333335
         ]
        }
       ],
       "layout": {
        "annotations": [
         {
          "arrowhead": 1,
          "ax": 0,
          "ay": -0.5,
          "ayref": "y",
          "showarrow": true,
          "text": "current time",
          "x": "2019-07-26T15:13:17+00:00",
          "xref": "x",
          "y": 0,
          "yref": "y"
         }
        ],
        "autosize": true,
        "dragmode": "pan",
        "hovermode": "x",
        "plot_bgcolor": "white",
        "showlegend": true,
        "template": {
         "data": {
          "bar": [
           {
            "error_x": {
             "color": "#2a3f5f"
            },
            "error_y": {
             "color": "#2a3f5f"
            },
            "marker": {
             "line": {
              "color": "#E5ECF6",
              "width": 0.5
             }
            },
            "type": "bar"
           }
          ],
          "barpolar": [
           {
            "marker": {
             "line": {
              "color": "#E5ECF6",
              "width": 0.5
             }
            },
            "type": "barpolar"
           }
          ],
          "carpet": [
           {
            "aaxis": {
             "endlinecolor": "#2a3f5f",
             "gridcolor": "white",
             "linecolor": "white",
             "minorgridcolor": "white",
             "startlinecolor": "#2a3f5f"
            },
            "baxis": {
             "endlinecolor": "#2a3f5f",
             "gridcolor": "white",
             "linecolor": "white",
             "minorgridcolor": "white",
             "startlinecolor": "#2a3f5f"
            },
            "type": "carpet"
           }
          ],
          "choropleth": [
           {
            "colorbar": {
             "outlinewidth": 0,
             "ticks": ""
            },
            "type": "choropleth"
           }
          ],
          "contour": [
           {
            "colorbar": {
             "outlinewidth": 0,
             "ticks": ""
            },
            "colorscale": [
             [
              0,
              "#0d0887"
             ],
             [
              0.1111111111111111,
              "#46039f"
             ],
             [
              0.2222222222222222,
              "#7201a8"
             ],
             [
              0.3333333333333333,
              "#9c179e"
             ],
             [
              0.4444444444444444,
              "#bd3786"
             ],
             [
              0.5555555555555556,
              "#d8576b"
             ],
             [
              0.6666666666666666,
              "#ed7953"
             ],
             [
              0.7777777777777778,
              "#fb9f3a"
             ],
             [
              0.8888888888888888,
              "#fdca26"
             ],
             [
              1,
              "#f0f921"
             ]
            ],
            "type": "contour"
           }
          ],
          "contourcarpet": [
           {
            "colorbar": {
             "outlinewidth": 0,
             "ticks": ""
            },
            "type": "contourcarpet"
           }
          ],
          "heatmap": [
           {
            "colorbar": {
             "outlinewidth": 0,
             "ticks": ""
            },
            "colorscale": [
             [
              0,
              "#0d0887"
             ],
             [
              0.1111111111111111,
              "#46039f"
             ],
             [
              0.2222222222222222,
              "#7201a8"
             ],
             [
              0.3333333333333333,
              "#9c179e"
             ],
             [
              0.4444444444444444,
              "#bd3786"
             ],
             [
              0.5555555555555556,
              "#d8576b"
             ],
             [
              0.6666666666666666,
              "#ed7953"
             ],
             [
              0.7777777777777778,
              "#fb9f3a"
             ],
             [
              0.8888888888888888,
              "#fdca26"
             ],
             [
              1,
              "#f0f921"
             ]
            ],
            "type": "heatmap"
           }
          ],
          "heatmapgl": [
           {
            "colorbar": {
             "outlinewidth": 0,
             "ticks": ""
            },
            "colorscale": [
             [
              0,
              "#0d0887"
             ],
             [
              0.1111111111111111,
              "#46039f"
             ],
             [
              0.2222222222222222,
              "#7201a8"
             ],
             [
              0.3333333333333333,
              "#9c179e"
             ],
             [
              0.4444444444444444,
              "#bd3786"
             ],
             [
              0.5555555555555556,
              "#d8576b"
             ],
             [
              0.6666666666666666,
              "#ed7953"
             ],
             [
              0.7777777777777778,
              "#fb9f3a"
             ],
             [
              0.8888888888888888,
              "#fdca26"
             ],
             [
              1,
              "#f0f921"
             ]
            ],
            "type": "heatmapgl"
           }
          ],
          "histogram": [
           {
            "marker": {
             "colorbar": {
              "outlinewidth": 0,
              "ticks": ""
             }
            },
            "type": "histogram"
           }
          ],
          "histogram2d": [
           {
            "colorbar": {
             "outlinewidth": 0,
             "ticks": ""
            },
            "colorscale": [
             [
              0,
              "#0d0887"
             ],
             [
              0.1111111111111111,
              "#46039f"
             ],
             [
              0.2222222222222222,
              "#7201a8"
             ],
             [
              0.3333333333333333,
              "#9c179e"
             ],
             [
              0.4444444444444444,
              "#bd3786"
             ],
             [
              0.5555555555555556,
              "#d8576b"
             ],
             [
              0.6666666666666666,
              "#ed7953"
             ],
             [
              0.7777777777777778,
              "#fb9f3a"
             ],
             [
              0.8888888888888888,
              "#fdca26"
             ],
             [
              1,
              "#f0f921"
             ]
            ],
            "type": "histogram2d"
           }
          ],
          "histogram2dcontour": [
           {
            "colorbar": {
             "outlinewidth": 0,
             "ticks": ""
            },
            "colorscale": [
             [
              0,
              "#0d0887"
             ],
             [
              0.1111111111111111,
              "#46039f"
             ],
             [
              0.2222222222222222,
              "#7201a8"
             ],
             [
              0.3333333333333333,
              "#9c179e"
             ],
             [
              0.4444444444444444,
              "#bd3786"
             ],
             [
              0.5555555555555556,
              "#d8576b"
             ],
             [
              0.6666666666666666,
              "#ed7953"
             ],
             [
              0.7777777777777778,
              "#fb9f3a"
             ],
             [
              0.8888888888888888,
              "#fdca26"
             ],
             [
              1,
              "#f0f921"
             ]
            ],
            "type": "histogram2dcontour"
           }
          ],
          "mesh3d": [
           {
            "colorbar": {
             "outlinewidth": 0,
             "ticks": ""
            },
            "type": "mesh3d"
           }
          ],
          "parcoords": [
           {
            "line": {
             "colorbar": {
              "outlinewidth": 0,
              "ticks": ""
             }
            },
            "type": "parcoords"
           }
          ],
          "scatter": [
           {
            "marker": {
             "colorbar": {
              "outlinewidth": 0,
              "ticks": ""
             }
            },
            "type": "scatter"
           }
          ],
          "scatter3d": [
           {
            "line": {
             "colorbar": {
              "outlinewidth": 0,
              "ticks": ""
             }
            },
            "marker": {
             "colorbar": {
              "outlinewidth": 0,
              "ticks": ""
             }
            },
            "type": "scatter3d"
           }
          ],
          "scattercarpet": [
           {
            "marker": {
             "colorbar": {
              "outlinewidth": 0,
              "ticks": ""
             }
            },
            "type": "scattercarpet"
           }
          ],
          "scattergeo": [
           {
            "marker": {
             "colorbar": {
              "outlinewidth": 0,
              "ticks": ""
             }
            },
            "type": "scattergeo"
           }
          ],
          "scattergl": [
           {
            "marker": {
             "colorbar": {
              "outlinewidth": 0,
              "ticks": ""
             }
            },
            "type": "scattergl"
           }
          ],
          "scattermapbox": [
           {
            "marker": {
             "colorbar": {
              "outlinewidth": 0,
              "ticks": ""
             }
            },
            "type": "scattermapbox"
           }
          ],
          "scatterpolar": [
           {
            "marker": {
             "colorbar": {
              "outlinewidth": 0,
              "ticks": ""
             }
            },
            "type": "scatterpolar"
           }
          ],
          "scatterpolargl": [
           {
            "marker": {
             "colorbar": {
              "outlinewidth": 0,
              "ticks": ""
             }
            },
            "type": "scatterpolargl"
           }
          ],
          "scatterternary": [
           {
            "marker": {
             "colorbar": {
              "outlinewidth": 0,
              "ticks": ""
             }
            },
            "type": "scatterternary"
           }
          ],
          "surface": [
           {
            "colorbar": {
             "outlinewidth": 0,
             "ticks": ""
            },
            "colorscale": [
             [
              0,
              "#0d0887"
             ],
             [
              0.1111111111111111,
              "#46039f"
             ],
             [
              0.2222222222222222,
              "#7201a8"
             ],
             [
              0.3333333333333333,
              "#9c179e"
             ],
             [
              0.4444444444444444,
              "#bd3786"
             ],
             [
              0.5555555555555556,
              "#d8576b"
             ],
             [
              0.6666666666666666,
              "#ed7953"
             ],
             [
              0.7777777777777778,
              "#fb9f3a"
             ],
             [
              0.8888888888888888,
              "#fdca26"
             ],
             [
              1,
              "#f0f921"
             ]
            ],
            "type": "surface"
           }
          ],
          "table": [
           {
            "cells": {
             "fill": {
              "color": "#EBF0F8"
             },
             "line": {
              "color": "white"
             }
            },
            "header": {
             "fill": {
              "color": "#C8D4E3"
             },
             "line": {
              "color": "white"
             }
            },
            "type": "table"
           }
          ]
         },
         "layout": {
          "annotationdefaults": {
           "arrowcolor": "#2a3f5f",
           "arrowhead": 0,
           "arrowwidth": 1
          },
          "colorscale": {
           "diverging": [
            [
             0,
             "#8e0152"
            ],
            [
             0.1,
             "#c51b7d"
            ],
            [
             0.2,
             "#de77ae"
            ],
            [
             0.3,
             "#f1b6da"
            ],
            [
             0.4,
             "#fde0ef"
            ],
            [
             0.5,
             "#f7f7f7"
            ],
            [
             0.6,
             "#e6f5d0"
            ],
            [
             0.7,
             "#b8e186"
            ],
            [
             0.8,
             "#7fbc41"
            ],
            [
             0.9,
             "#4d9221"
            ],
            [
             1,
             "#276419"
            ]
           ],
           "sequential": [
            [
             0,
             "#0d0887"
            ],
            [
             0.1111111111111111,
             "#46039f"
            ],
            [
             0.2222222222222222,
             "#7201a8"
            ],
            [
             0.3333333333333333,
             "#9c179e"
            ],
            [
             0.4444444444444444,
             "#bd3786"
            ],
            [
             0.5555555555555556,
             "#d8576b"
            ],
            [
             0.6666666666666666,
             "#ed7953"
            ],
            [
             0.7777777777777778,
             "#fb9f3a"
            ],
            [
             0.8888888888888888,
             "#fdca26"
            ],
            [
             1,
             "#f0f921"
            ]
           ],
           "sequentialminus": [
            [
             0,
             "#0d0887"
            ],
            [
             0.1111111111111111,
             "#46039f"
            ],
            [
             0.2222222222222222,
             "#7201a8"
            ],
            [
             0.3333333333333333,
             "#9c179e"
            ],
            [
             0.4444444444444444,
             "#bd3786"
            ],
            [
             0.5555555555555556,
             "#d8576b"
            ],
            [
             0.6666666666666666,
             "#ed7953"
            ],
            [
             0.7777777777777778,
             "#fb9f3a"
            ],
            [
             0.8888888888888888,
             "#fdca26"
            ],
            [
             1,
             "#f0f921"
            ]
           ]
          },
          "colorway": [
           "#636efa",
           "#EF553B",
           "#00cc96",
           "#ab63fa",
           "#FFA15A",
           "#19d3f3",
           "#FF6692",
           "#B6E880",
           "#FF97FF",
           "#FECB52"
          ],
          "font": {
           "color": "#2a3f5f"
          },
          "geo": {
           "bgcolor": "white",
           "lakecolor": "white",
           "landcolor": "#E5ECF6",
           "showlakes": true,
           "showland": true,
           "subunitcolor": "white"
          },
          "hoverlabel": {
           "align": "left"
          },
          "hovermode": "closest",
          "mapbox": {
           "style": "light"
          },
          "paper_bgcolor": "white",
          "plot_bgcolor": "#E5ECF6",
          "polar": {
           "angularaxis": {
            "gridcolor": "white",
            "linecolor": "white",
            "ticks": ""
           },
           "bgcolor": "#E5ECF6",
           "radialaxis": {
            "gridcolor": "white",
            "linecolor": "white",
            "ticks": ""
           }
          },
          "scene": {
           "xaxis": {
            "backgroundcolor": "#E5ECF6",
            "gridcolor": "white",
            "gridwidth": 2,
            "linecolor": "white",
            "showbackground": true,
            "ticks": "",
            "zerolinecolor": "white"
           },
           "yaxis": {
            "backgroundcolor": "#E5ECF6",
            "gridcolor": "white",
            "gridwidth": 2,
            "linecolor": "white",
            "showbackground": true,
            "ticks": "",
            "zerolinecolor": "white"
           },
           "zaxis": {
            "backgroundcolor": "#E5ECF6",
            "gridcolor": "white",
            "gridwidth": 2,
            "linecolor": "white",
            "showbackground": true,
            "ticks": "",
            "zerolinecolor": "white"
           }
          },
          "shapedefaults": {
           "line": {
            "color": "#2a3f5f"
           }
          },
          "ternary": {
           "aaxis": {
            "gridcolor": "white",
            "linecolor": "white",
            "ticks": ""
           },
           "baxis": {
            "gridcolor": "white",
            "linecolor": "white",
            "ticks": ""
           },
           "bgcolor": "#E5ECF6",
           "caxis": {
            "gridcolor": "white",
            "linecolor": "white",
            "ticks": ""
           }
          },
          "title": {
           "x": 0.05
          },
          "xaxis": {
           "automargin": true,
           "gridcolor": "white",
           "linecolor": "white",
           "ticks": "",
           "zerolinecolor": "white",
           "zerolinewidth": 2
          },
          "yaxis": {
           "automargin": true,
           "gridcolor": "white",
           "linecolor": "white",
           "ticks": "",
           "zerolinecolor": "white",
           "zerolinewidth": 2
          }
         }
        },
        "xaxis": {
         "gridcolor": "#c0c0c0",
         "range": [
          "2019-07-26T07:13:17+00:00",
          "2019-07-26T16:13:17+00:00"
         ],
         "showgrid": true,
         "type": "date"
        },
        "yaxis": {
         "fixedrange": true,
         "gridcolor": "#c0c0c0",
         "hoverformat": ".2f",
         "range": [
          0,
          4.333333333333334
         ],
         "showgrid": true,
         "title": {
          "font": {
           "size": 12
          },
          "text": "Insulin (U, U/hr)"
         },
         "type": "linear"
        }
       }
      },
      "image/png": "[encoded data removed]",
      "text/html": [
       "<div>\n",
       "        \n",
       "        \n",
       "            <div id=\"0cc61d32-0ad0-4a4d-931e-0774a3db6085\" class=\"plotly-graph-div\" style=\"height:525px; width:100%;\"></div>\n",
       "            <script type=\"text/javascript\">\n",
       "                require([\"plotly\"], function(Plotly) {\n",
       "                    window.PLOTLYENV=window.PLOTLYENV || {};\n",
       "                    \n",
       "                if (document.getElementById(\"0cc61d32-0ad0-4a4d-931e-0774a3db6085\")) {\n",
       "                    Plotly.newPlot(\n",
       "                        '0cc61d32-0ad0-4a4d-931e-0774a3db6085',\n",
       "                        [{\"fill\": \"tonexty\", \"hoverinfo\": \"y+name\", \"line\": {\"color\": \"cornflowerblue\", \"shape\": \"vh\"}, \"mode\": \"lines\", \"name\": \"delivered\", \"type\": \"scatter\", \"x\": [\"2019-07-24T21:00:00+00:00\", \"2019-07-24T21:05:00+00:00\", \"2019-07-24T21:10:00+00:00\", \"2019-07-24T21:15:00+00:00\", \"2019-07-24T21:20:00+00:00\", \"2019-07-24T21:25:00+00:00\", \"2019-07-24T21:30:00+00:00\", \"2019-07-24T21:35:00+00:00\", \"2019-07-24T21:40:00+00:00\", \"2019-07-24T21:45:00+00:00\", \"2019-07-24T21:50:00+00:00\", \"2019-07-24T21:55:00+00:00\", \"2019-07-24T22:00:00+00:00\", \"2019-07-24T22:05:00+00:00\", \"2019-07-24T22:10:00+00:00\", \"2019-07-24T22:15:00+00:00\", \"2019-07-24T22:20:00+00:00\", \"2019-07-24T22:25:00+00:00\", \"2019-07-24T22:30:00+00:00\", \"2019-07-24T22:35:00+00:00\", \"2019-07-24T22:40:00+00:00\", \"2019-07-24T22:45:00+00:00\", \"2019-07-24T22:50:00+00:00\", \"2019-07-24T22:55:00+00:00\", \"2019-07-24T23:00:00+00:00\", \"2019-07-24T23:05:00+00:00\", \"2019-07-24T23:10:00+00:00\", \"2019-07-24T23:15:00+00:00\", \"2019-07-24T23:20:00+00:00\", \"2019-07-24T23:25:00+00:00\", \"2019-07-24T23:30:00+00:00\", \"2019-07-24T23:35:00+00:00\", \"2019-07-24T23:40:00+00:00\", \"2019-07-24T23:45:00+00:00\", \"2019-07-24T23:50:00+00:00\", \"2019-07-24T23:55:00+00:00\", \"2019-07-25T00:00:00+00:00\", \"2019-07-25T00:05:00+00:00\", \"2019-07-25T00:10:00+00:00\", \"2019-07-25T00:15:00+00:00\", \"2019-07-25T00:20:00+00:00\", \"2019-07-25T00:25:00+00:00\", \"2019-07-25T00:30:00+00:00\", \"2019-07-25T00:35:00+00:00\", \"2019-07-25T00:40:00+00:00\", \"2019-07-25T00:45:00+00:00\", \"2019-07-25T00:50:00+00:00\", \"2019-07-25T00:55:00+00:00\", \"2019-07-25T01:00:00+00:00\", \"2019-07-25T01:05:00+00:00\", \"2019-07-25T01:10:00+00:00\", \"2019-07-25T01:15:00+00:00\", \"2019-07-25T01:20:00+00:00\", \"2019-07-25T01:25:00+00:00\", \"2019-07-25T01:30:00+00:00\", \"2019-07-25T01:35:00+00:00\", \"2019-07-25T01:40:00+00:00\", \"2019-07-25T01:45:00+00:00\", \"2019-07-25T01:50:00+00:00\", \"2019-07-25T01:55:00+00:00\", \"2019-07-25T02:00:00+00:00\", \"2019-07-25T02:05:00+00:00\", \"2019-07-25T02:10:00+00:00\", \"2019-07-25T02:15:00+00:00\", \"2019-07-25T02:20:00+00:00\", \"2019-07-25T02:25:00+00:00\", \"2019-07-25T02:30:00+00:00\", \"2019-07-25T02:35:00+00:00\", \"2019-07-25T02:40:00+00:00\", \"2019-07-25T02:45:00+00:00\", \"2019-07-25T02:50:00+00:00\", \"2019-07-25T02:55:00+00:00\", \"2019-07-25T03:00:00+00:00\", \"2019-07-25T03:05:00+00:00\", \"2019-07-25T03:10:00+00:00\", \"2019-07-25T03:15:00+00:00\", \"2019-07-25T03:20:00+00:00\", \"2019-07-25T03:25:00+00:00\", \"2019-07-25T03:30:00+00:00\", \"2019-07-25T03:35:00+00:00\", \"2019-07-25T03:40:00+00:00\", \"2019-07-25T03:45:00+00:00\", \"2019-07-25T03:50:00+00:00\", \"2019-07-25T03:55:00+00:00\", \"2019-07-25T04:00:00+00:00\", \"2019-07-25T04:05:00+00:00\", \"2019-07-25T04:10:00+00:00\", \"2019-07-25T04:15:00+00:00\", \"2019-07-25T04:20:00+00:00\", \"2019-07-25T04:25:00+00:00\", \"2019-07-25T04:30:00+00:00\", \"2019-07-25T04:35:00+00:00\", \"2019-07-25T04:40:00+00:00\", \"2019-07-25T04:45:00+00:00\", \"2019-07-25T04:50:00+00:00\", \"2019-07-25T04:55:00+00:00\", \"2019-07-25T05:00:00+00:00\", \"2019-07-25T05:05:00+00:00\", \"2019-07-25T05:10:00+00:00\", \"2019-07-25T05:15:00+00:00\", \"2019-07-25T05:20:00+00:00\", \"2019-07-25T05:25:00+00:00\", \"2019-07-25T05:30:00+00:00\", \"2019-07-25T05:35:00+00:00\", \"2019-07-25T05:40:00+00:00\", \"2019-07-25T05:45:00+00:00\", \"2019-07-25T05:50:00+00:00\", \"2019-07-25T05:55:00+00:00\", \"2019-07-25T06:00:00+00:00\", \"2019-07-25T06:05:00+00:00\", \"2019-07-25T06:10:00+00:00\", \"2019-07-25T06:15:00+00:00\", \"2019-07-25T06:20:00+00:00\", \"2019-07-25T06:25:00+00:00\", \"2019-07-25T06:30:00+00:00\", \"2019-07-25T06:35:00+00:00\", \"2019-07-25T06:40:00+00:00\", \"2019-07-25T06:45:00+00:00\", \"2019-07-25T06:50:00+00:00\", \"2019-07-25T06:55:00+00:00\", \"2019-07-25T07:00:00+00:00\", \"2019-07-25T07:05:00+00:00\", \"2019-07-25T07:10:00+00:00\", \"2019-07-25T07:15:00+00:00\", \"2019-07-25T07:20:00+00:00\", \"2019-07-25T07:25:00+00:00\", \"2019-07-25T07:30:00+00:00\", \"2019-07-25T07:35:00+00:00\", \"2019-07-25T07:40:00+00:00\", \"2019-07-25T07:45:00+00:00\", \"2019-07-25T07:50:00+00:00\", \"2019-07-25T07:55:00+00:00\", \"2019-07-25T08:00:00+00:00\", \"2019-07-25T08:05:00+00:00\", \"2019-07-25T08:10:00+00:00\", \"2019-07-25T08:15:00+00:00\", \"2019-07-25T08:20:00+00:00\", \"2019-07-25T08:25:00+00:00\", \"2019-07-25T08:30:00+00:00\", \"2019-07-25T08:35:00+00:00\", \"2019-07-25T08:40:00+00:00\", \"2019-07-25T08:45:00+00:00\", \"2019-07-25T08:50:00+00:00\", \"2019-07-25T08:55:00+00:00\", \"2019-07-25T09:00:00+00:00\", \"2019-07-25T09:05:00+00:00\", \"2019-07-25T09:10:00+00:00\", \"2019-07-25T09:15:00+00:00\", \"2019-07-25T09:20:00+00:00\", \"2019-07-25T09:25:00+00:00\", \"2019-07-25T09:30:00+00:00\", \"2019-07-25T09:35:00+00:00\", \"2019-07-25T09:40:00+00:00\", \"2019-07-25T09:45:00+00:00\", \"2019-07-25T09:50:00+00:00\", \"2019-07-25T09:55:00+00:00\", \"2019-07-25T10:00:00+00:00\", \"2019-07-25T10:05:00+00:00\", \"2019-07-25T10:10:00+00:00\", \"2019-07-25T10:15:00+00:00\", \"2019-07-25T10:20:00+00:00\", \"2019-07-25T10:25:00+00:00\", \"2019-07-25T10:30:00+00:00\", \"2019-07-25T10:35:00+00:00\", \"2019-07-25T10:40:00+00:00\", \"2019-07-25T10:45:00+00:00\", \"2019-07-25T10:50:00+00:00\", \"2019-07-25T10:55:00+00:00\", \"2019-07-25T11:00:00+00:00\", \"2019-07-25T11:05:00+00:00\", \"2019-07-25T11:10:00+00:00\", \"2019-07-25T11:15:00+00:00\", \"2019-07-25T11:20:00+00:00\", \"2019-07-25T11:25:00+00:00\", \"2019-07-25T11:30:00+00:00\", \"2019-07-25T11:35:00+00:00\", \"2019-07-25T11:40:00+00:00\", \"2019-07-25T11:45:00+00:00\", \"2019-07-25T11:50:00+00:00\", \"2019-07-25T11:55:00+00:00\", \"2019-07-25T12:00:00+00:00\", \"2019-07-25T12:05:00+00:00\", \"2019-07-25T12:10:00+00:00\", \"2019-07-25T12:15:00+00:00\", \"2019-07-25T12:20:00+00:00\", \"2019-07-25T12:25:00+00:00\", \"2019-07-25T12:30:00+00:00\", \"2019-07-25T12:35:00+00:00\", \"2019-07-25T12:40:00+00:00\", \"2019-07-25T12:45:00+00:00\", \"2019-07-25T12:50:00+00:00\", \"2019-07-25T12:55:00+00:00\", \"2019-07-25T13:00:00+00:00\", \"2019-07-25T13:05:00+00:00\", \"2019-07-25T13:10:00+00:00\", \"2019-07-25T13:15:00+00:00\", \"2019-07-25T13:20:00+00:00\", \"2019-07-25T13:25:00+00:00\", \"2019-07-25T13:30:00+00:00\", \"2019-07-25T13:35:00+00:00\", \"2019-07-25T13:40:00+00:00\", \"2019-07-25T13:45:00+00:00\", \"2019-07-25T13:50:00+00:00\", \"2019-07-25T13:55:00+00:00\", \"2019-07-25T14:00:00+00:00\", \"2019-07-25T14:05:00+00:00\", \"2019-07-25T14:10:00+00:00\", \"2019-07-25T14:15:00+00:00\", \"2019-07-25T14:20:00+00:00\", \"2019-07-25T14:25:00+00:00\", \"2019-07-25T14:30:00+00:00\", \"2019-07-25T14:35:00+00:00\", \"2019-07-25T14:40:00+00:00\", \"2019-07-25T14:45:00+00:00\", \"2019-07-25T14:50:00+00:00\", \"2019-07-25T14:55:00+00:00\", \"2019-07-25T15:00:00+00:00\", \"2019-07-25T15:05:00+00:00\", \"2019-07-25T15:10:00+00:00\", \"2019-07-25T15:15:00+00:00\", \"2019-07-25T15:20:00+00:00\", \"2019-07-25T15:25:00+00:00\", \"2019-07-25T15:30:00+00:00\", \"2019-07-25T15:35:00+00:00\", \"2019-07-25T15:40:00+00:00\", \"2019-07-25T15:45:00+00:00\", \"2019-07-25T15:50:00+00:00\", \"2019-07-25T15:55:00+00:00\", \"2019-07-25T16:00:00+00:00\", \"2019-07-25T16:05:00+00:00\", \"2019-07-25T16:10:00+00:00\", \"2019-07-25T16:15:00+00:00\", \"2019-07-25T16:20:00+00:00\", \"2019-07-25T16:25:00+00:00\", \"2019-07-25T16:30:00+00:00\", \"2019-07-25T16:35:00+00:00\", \"2019-07-25T16:40:00+00:00\", \"2019-07-25T16:45:00+00:00\", \"2019-07-25T16:50:00+00:00\", \"2019-07-25T16:55:00+00:00\", \"2019-07-25T17:00:00+00:00\", \"2019-07-25T17:05:00+00:00\", \"2019-07-25T17:10:00+00:00\", \"2019-07-25T17:15:00+00:00\", \"2019-07-25T17:20:00+00:00\", \"2019-07-25T17:25:00+00:00\", \"2019-07-25T17:30:00+00:00\", \"2019-07-25T17:35:00+00:00\", \"2019-07-25T17:40:00+00:00\", \"2019-07-25T17:45:00+00:00\", \"2019-07-25T17:50:00+00:00\", \"2019-07-25T17:55:00+00:00\", \"2019-07-25T18:00:00+00:00\", \"2019-07-25T18:05:00+00:00\", \"2019-07-25T18:10:00+00:00\", \"2019-07-25T18:15:00+00:00\", \"2019-07-25T18:20:00+00:00\", \"2019-07-25T18:25:00+00:00\", \"2019-07-25T18:30:00+00:00\", \"2019-07-25T18:35:00+00:00\", \"2019-07-25T18:40:00+00:00\", \"2019-07-25T18:45:00+00:00\", \"2019-07-25T18:50:00+00:00\", \"2019-07-25T18:55:00+00:00\", \"2019-07-25T19:00:00+00:00\", \"2019-07-25T19:05:00+00:00\", \"2019-07-25T19:10:00+00:00\", \"2019-07-25T19:15:00+00:00\", \"2019-07-25T19:20:00+00:00\", \"2019-07-25T19:25:00+00:00\", \"2019-07-25T19:30:00+00:00\", \"2019-07-25T19:35:00+00:00\", \"2019-07-25T19:40:00+00:00\", \"2019-07-25T19:45:00+00:00\", \"2019-07-25T19:50:00+00:00\", \"2019-07-25T19:55:00+00:00\", \"2019-07-25T20:00:00+00:00\", \"2019-07-25T20:05:00+00:00\", \"2019-07-25T20:10:00+00:00\", \"2019-07-25T20:15:00+00:00\", \"2019-07-25T20:20:00+00:00\", \"2019-07-25T20:25:00+00:00\", \"2019-07-25T20:30:00+00:00\", \"2019-07-25T20:35:00+00:00\", \"2019-07-25T20:40:00+00:00\", \"2019-07-25T20:45:00+00:00\", \"2019-07-25T20:50:00+00:00\", \"2019-07-25T20:55:00+00:00\", \"2019-07-25T21:00:00+00:00\", \"2019-07-25T21:05:00+00:00\", \"2019-07-25T21:10:00+00:00\", \"2019-07-25T21:15:00+00:00\", \"2019-07-25T21:20:00+00:00\", \"2019-07-25T21:25:00+00:00\", \"2019-07-25T21:30:00+00:00\", \"2019-07-25T21:35:00+00:00\", \"2019-07-25T21:40:00+00:00\", \"2019-07-25T21:45:00+00:00\", \"2019-07-25T21:50:00+00:00\", \"2019-07-25T21:55:00+00:00\", \"2019-07-25T22:00:00+00:00\", \"2019-07-25T22:05:00+00:00\", \"2019-07-25T22:10:00+00:00\", \"2019-07-25T22:15:00+00:00\", \"2019-07-25T22:20:00+00:00\", \"2019-07-25T22:25:00+00:00\", \"2019-07-25T22:30:00+00:00\", \"2019-07-25T22:35:00+00:00\", \"2019-07-25T22:40:00+00:00\", \"2019-07-25T22:45:00+00:00\", \"2019-07-25T22:50:00+00:00\", \"2019-07-25T22:55:00+00:00\", \"2019-07-25T23:00:00+00:00\", \"2019-07-25T23:05:00+00:00\", \"2019-07-25T23:10:00+00:00\", \"2019-07-25T23:15:00+00:00\", \"2019-07-25T23:20:00+00:00\", \"2019-07-25T23:25:00+00:00\", \"2019-07-25T23:30:00+00:00\", \"2019-07-25T23:35:00+00:00\", \"2019-07-25T23:40:00+00:00\", \"2019-07-25T23:45:00+00:00\", \"2019-07-25T23:50:00+00:00\", \"2019-07-25T23:55:00+00:00\", \"2019-07-26T00:00:00+00:00\", \"2019-07-26T00:05:00+00:00\", \"2019-07-26T00:10:00+00:00\", \"2019-07-26T00:15:00+00:00\", \"2019-07-26T00:20:00+00:00\", \"2019-07-26T00:25:00+00:00\", \"2019-07-26T00:30:00+00:00\", \"2019-07-26T00:35:00+00:00\", \"2019-07-26T00:40:00+00:00\", \"2019-07-26T00:45:00+00:00\", \"2019-07-26T00:50:00+00:00\", \"2019-07-26T00:55:00+00:00\", \"2019-07-26T01:00:00+00:00\", \"2019-07-26T01:05:00+00:00\", \"2019-07-26T01:10:00+00:00\", \"2019-07-26T01:15:00+00:00\", \"2019-07-26T01:20:00+00:00\", \"2019-07-26T01:25:00+00:00\", \"2019-07-26T01:30:00+00:00\", \"2019-07-26T01:35:00+00:00\", \"2019-07-26T01:40:00+00:00\", \"2019-07-26T01:45:00+00:00\", \"2019-07-26T01:50:00+00:00\", \"2019-07-26T01:55:00+00:00\", \"2019-07-26T02:00:00+00:00\", \"2019-07-26T02:05:00+00:00\", \"2019-07-26T02:10:00+00:00\", \"2019-07-26T02:15:00+00:00\", \"2019-07-26T02:20:00+00:00\", \"2019-07-26T02:25:00+00:00\", \"2019-07-26T02:30:00+00:00\", \"2019-07-26T02:35:00+00:00\", \"2019-07-26T02:40:00+00:00\", \"2019-07-26T02:45:00+00:00\", \"2019-07-26T02:50:00+00:00\", \"2019-07-26T02:55:00+00:00\", \"2019-07-26T03:00:00+00:00\", \"2019-07-26T03:05:00+00:00\", \"2019-07-26T03:10:00+00:00\", \"2019-07-26T03:15:00+00:00\", \"2019-07-26T03:20:00+00:00\", \"2019-07-26T03:25:00+00:00\", \"2019-07-26T03:30:00+00:00\", \"2019-07-26T03:35:00+00:00\", \"2019-07-26T03:40:00+00:00\", \"2019-07-26T03:45:00+00:00\", \"2019-07-26T03:50:00+00:00\", \"2019-07-26T03:55:00+00:00\", \"2019-07-26T04:00:00+00:00\", \"2019-07-26T04:05:00+00:00\", \"2019-07-26T04:10:00+00:00\", \"2019-07-26T04:15:00+00:00\", \"2019-07-26T04:20:00+00:00\", \"2019-07-26T04:25:00+00:00\", \"2019-07-26T04:30:00+00:00\", \"2019-07-26T04:35:00+00:00\", \"2019-07-26T04:40:00+00:00\", \"2019-07-26T04:45:00+00:00\", \"2019-07-26T04:50:00+00:00\", \"2019-07-26T04:55:00+00:00\", \"2019-07-26T05:00:00+00:00\", \"2019-07-26T05:05:00+00:00\", \"2019-07-26T05:10:00+00:00\", \"2019-07-26T05:15:00+00:00\", \"2019-07-26T05:20:00+00:00\", \"2019-07-26T05:25:00+00:00\", \"2019-07-26T05:30:00+00:00\", \"2019-07-26T05:35:00+00:00\", \"2019-07-26T05:40:00+00:00\", \"2019-07-26T05:45:00+00:00\", \"2019-07-26T05:50:00+00:00\", \"2019-07-26T05:55:00+00:00\", \"2019-07-26T06:00:00+00:00\", \"2019-07-26T06:05:00+00:00\", \"2019-07-26T06:10:00+00:00\", \"2019-07-26T06:15:00+00:00\", \"2019-07-26T06:20:00+00:00\", \"2019-07-26T06:25:00+00:00\", \"2019-07-26T06:30:00+00:00\", \"2019-07-26T06:35:00+00:00\", \"2019-07-26T06:40:00+00:00\", \"2019-07-26T06:45:00+00:00\", \"2019-07-26T06:50:00+00:00\", \"2019-07-26T06:55:00+00:00\", \"2019-07-26T07:00:00+00:00\", \"2019-07-26T07:05:00+00:00\", \"2019-07-26T07:10:00+00:00\", \"2019-07-26T07:15:00+00:00\", \"2019-07-26T07:20:00+00:00\", \"2019-07-26T07:25:00+00:00\", \"2019-07-26T07:30:00+00:00\", \"2019-07-26T07:35:00+00:00\", \"2019-07-26T07:40:00+00:00\", \"2019-07-26T07:45:00+00:00\", \"2019-07-26T07:50:00+00:00\", \"2019-07-26T07:55:00+00:00\", \"2019-07-26T08:00:00+00:00\", \"2019-07-26T08:05:00+00:00\", \"2019-07-26T08:10:00+00:00\", \"2019-07-26T08:15:00+00:00\", \"2019-07-26T08:20:00+00:00\", \"2019-07-26T08:25:00+00:00\", \"2019-07-26T08:30:00+00:00\", \"2019-07-26T08:35:00+00:00\", \"2019-07-26T08:40:00+00:00\", \"2019-07-26T08:45:00+00:00\", \"2019-07-26T08:50:00+00:00\", \"2019-07-26T08:55:00+00:00\", \"2019-07-26T09:00:00+00:00\", \"2019-07-26T09:05:00+00:00\", \"2019-07-26T09:10:00+00:00\", \"2019-07-26T09:15:00+00:00\", \"2019-07-26T09:20:00+00:00\", \"2019-07-26T09:25:00+00:00\", \"2019-07-26T09:30:00+00:00\", \"2019-07-26T09:35:00+00:00\", \"2019-07-26T09:40:00+00:00\", \"2019-07-26T09:45:00+00:00\", \"2019-07-26T09:50:00+00:00\", \"2019-07-26T09:55:00+00:00\", \"2019-07-26T10:00:00+00:00\", \"2019-07-26T10:05:00+00:00\", \"2019-07-26T10:10:00+00:00\", \"2019-07-26T10:15:00+00:00\", \"2019-07-26T10:20:00+00:00\", \"2019-07-26T10:25:00+00:00\", \"2019-07-26T10:30:00+00:00\", \"2019-07-26T10:35:00+00:00\", \"2019-07-26T10:40:00+00:00\", \"2019-07-26T10:45:00+00:00\", \"2019-07-26T10:50:00+00:00\", \"2019-07-26T10:55:00+00:00\", \"2019-07-26T11:00:00+00:00\", \"2019-07-26T11:05:00+00:00\", \"2019-07-26T11:10:00+00:00\", \"2019-07-26T11:15:00+00:00\", \"2019-07-26T11:20:00+00:00\", \"2019-07-26T11:25:00+00:00\", \"2019-07-26T11:30:00+00:00\", \"2019-07-26T11:35:00+00:00\", \"2019-07-26T11:40:00+00:00\", \"2019-07-26T11:45:00+00:00\", \"2019-07-26T11:50:00+00:00\", \"2019-07-26T11:55:00+00:00\", \"2019-07-26T12:00:00+00:00\", \"2019-07-26T12:05:00+00:00\", \"2019-07-26T12:10:00+00:00\", \"2019-07-26T12:15:00+00:00\", \"2019-07-26T12:20:00+00:00\", \"2019-07-26T12:25:00+00:00\", \"2019-07-26T12:30:00+00:00\", \"2019-07-26T12:35:00+00:00\", \"2019-07-26T12:40:00+00:00\", \"2019-07-26T12:45:00+00:00\", \"2019-07-26T12:50:00+00:00\", \"2019-07-26T12:55:00+00:00\", \"2019-07-26T13:00:00+00:00\", \"2019-07-26T13:05:00+00:00\", \"2019-07-26T13:10:00+00:00\", \"2019-07-26T13:15:00+00:00\", \"2019-07-26T13:20:00+00:00\", \"2019-07-26T13:25:00+00:00\", \"2019-07-26T13:30:00+00:00\", \"2019-07-26T13:35:00+00:00\", \"2019-07-26T13:40:00+00:00\", \"2019-07-26T13:45:00+00:00\", \"2019-07-26T13:50:00+00:00\", \"2019-07-26T13:55:00+00:00\", \"2019-07-26T14:00:00+00:00\", \"2019-07-26T14:05:00+00:00\", \"2019-07-26T14:10:00+00:00\", \"2019-07-26T14:15:00+00:00\", \"2019-07-26T14:20:00+00:00\", \"2019-07-26T14:25:00+00:00\", \"2019-07-26T14:30:00+00:00\", \"2019-07-26T14:35:00+00:00\", \"2019-07-26T14:40:00+00:00\", \"2019-07-26T14:45:00+00:00\", \"2019-07-26T14:50:00+00:00\", \"2019-07-26T14:55:00+00:00\", \"2019-07-26T15:00:00+00:00\", \"2019-07-26T15:05:00+00:00\", \"2019-07-26T15:10:00+00:00\", \"2019-07-26T15:13:17+00:00\"], \"y\": [0.75, 0.75, 0.75, 0.75, 0.75, 0.75, 0.75, 0.75, 0.75, 0.75, 0.75, 0.75, 0.75, 0.75, 0.75, 0.75, 0.75, 0.75, 0.75, 0.75, 0.75, 0.75, 0.75, 0.75, 0.75, 0.75, 0.75, 0.75, 0.75, 0.75, 0.75, 0.75, 0.75, 0.75, 0.75, 0.75, 1.45, 1.45, 1.45, 1.45, 1.45, 1.45, 1.45, 1.45, 1.45, 1.45, 1.45, 1.45, 1.45, 1.45, 1.45, 1.45, 1.45, 1.45, 1.45, 1.45, 1.45, 1.45, 1.45, 1.45, 1.45, 1.45, 1.45, 1.45, 1.45, 1.45, 1.45, 1.45, 1.45, 1.45, 1.45, 1.45, 1.45, 1.45, 1.45, 1.45, 1.45, 1.45, 1.45, 1.45, 1.45, 1.45, 1.45, 1.45, 1.45, 1.45, 1.45, 1.45, 1.45, 1.45, 1.45, 1.45, 1.45, 1.45, 1.45, 1.45, 1.45, 1.45, 1.45, 1.45, 1.45, 1.45, 1.45, 1.45, 1.45, 1.45, 1.45, 1.45, 1.45, 1.45, 1.45, 1.45, 1.45, 1.45, 1.45, 1.45, 1.45, 1.45, 1.45, 1.45, 1.45, 1.45, 1.45, 1.45, 1.45, 1.45, 1.45, 1.45, 1.45, 1.45, 1.45, 1.45, 1.45, 1.45, 1.45, 1.45, 1.45, 1.45, 1.45, 1.45, 1.45, 1.45, 1.45, 1.45, 1.45, 1.45, 1.45, 1.45, 1.45, 1.45, 0.9, 0.9, 0.9, 0.9, 0.9, 0.9, 0.9, 0.9, 0.9, 0.9, 0.9, 0.9, 0.9, 0.9, 0.9, 0.9, 0.9, 0.9, 0.9, 0.9, 0.9, 0.9, 0.9, 0.9, 0.9, 0.9, 0.9, 0.9, 0.9, 0.9, 0.9, 0.9, 0.9, 0.9, 0.9, 0.9, 0.9, 0.9, 0.9, 0.9, 0.9, 0.9, 0.9, 0.9, 0.9, 0.9, 0.9, 0.9, 0.9, 0.9, 0.9, 0.9, 0.9, 0.9, 0.9, 0.9, 0.9, 0.9, 0.9, 0.9, 0.9, 0.9, 0.9, 0.9, 0.9, 0.9, 0.9, 0.9, 0.9, 0.9, 0.9, 0.9, 0.9, 0.9, 0.9, 0.9, 0.9, 0.9, 0.9, 0.9, 0.9, 0.9, 0.9, 0.9, 0.9, 0.9, 0.9, 0.9, 0.9, 0.9, 0.9, 0.9, 0.9, 0.9, 0.9, 0.9, 0.9, 0.9, 0.9, 0.9, 0.9, 0.9, 0.9, 0.9, 0.9, 0.9, 0.9, 0.9, 0.9, 0.9, 0.9, 0.9, 0.9, 0.9, 0.9, 0.9, 0.9, 0.9, 0.9, 0.9, 0.9, 0.9, 0.9, 0.9, 0.9, 0.9, 0.9, 0.9, 0.9, 0.9, 0.9, 0.9, 0.9, 0.9, 0.9, 0.9, 0.9, 0.9, 0.75, 0.75, 0.75, 0.75, 0.75, 0.75, 0.75, 0.75, 0.75, 0.75, 0.75, 0.75, 0.75, 0.75, 0.75, 0.75, 0.75, 0.75, 0.75, 0.75, 0.75, 0.75, 0.75, 0.75, 0.75, 0.75, 0.75, 0.75, 0.75, 0.75, 0.75, 0.75, 0.75, 0.75, 0.75, 0.75, 1.45, 1.45, 1.45, 1.45, 1.45, 1.45, 1.45, 1.45, 1.45, 1.45, 1.45, 1.45, 1.45, 1.45, 1.45, 1.45, 1.45, 1.45, 1.45, 1.45, 1.45, 1.45, 1.45, 1.45, 1.45, 1.45, 1.45, 1.45, 1.45, 1.45, 1.45, 1.45, 1.45, 1.45, 1.45, 1.45, 1.45, 1.45, 1.45, 1.45, 1.45, 1.45, 1.45, 1.45, 1.45, 1.45, 1.45, 1.45, 1.45, 1.45, 1.45, 1.45, 1.45, 1.45, 1.45, 1.45, 1.45, 1.45, 1.45, 1.45, 1.45, 1.45, 1.45, 1.45, 1.45, 1.45, 1.45, 1.45, 1.45, 1.45, 1.45, 1.45, 1.45, 1.45, 1.45, 1.45, 1.45, 1.45, 1.45, 1.45, 1.45, 1.45, 1.45, 1.45, 1.45, 1.45, 1.45, 1.45, 1.45, 1.45, 1.45, 1.45, 1.45, 1.45, 1.45, 1.45, 1.45, 1.45, 1.45, 1.45, 1.45, 1.45, 1.45, 1.45, 1.45, 1.45, 1.45, 1.45, 1.45, 1.45, 1.45, 1.45, 1.45, 1.45, 0.9, 0.9, 0.9, 0.9, 0.9, 0.9, 0.9, 0.9, 0.9, 0.9, 0.9, 0.9, 0.9, 0.9, 0.9, 0.9, 0.9, 0.9, 0.9, 0.9, 0.9, 0.9, 0.9, 0.9, 0.9, 0.9, 0.9, 0.9, 0.9, 0.9, 0.9, 0.9, 0.9, 0.9, 0.9, 0.9, 0.9, 0.9, 0.9, 0.9, 0.9, 0.9, 0.9, 0.9, 0.9, 0.9, 0.9, 0.9, 0.9, 0.9, 0.9, 0.9, 0.9, 0.9, 0.9, 0.9, 0.9, 0.9, 0.9, 0.9, 0.9, 0.9, 0.9, 0.9, 0.9, 0.9, 0.9, 0.9, 0.9, 0.9]}, {\"hoverinfo\": \"y+name\", \"line\": {\"color\": \"cornflowerblue\", \"dash\": \"dot\", \"shape\": \"vh\"}, \"mode\": \"lines\", \"name\": \"scheduled\", \"type\": \"scattergl\", \"x\": [\"2019-07-24T21:00:00+00:00\", \"2019-07-24T21:05:00+00:00\", \"2019-07-24T21:10:00+00:00\", \"2019-07-24T21:15:00+00:00\", \"2019-07-24T21:20:00+00:00\", \"2019-07-24T21:25:00+00:00\", \"2019-07-24T21:30:00+00:00\", \"2019-07-24T21:35:00+00:00\", \"2019-07-24T21:40:00+00:00\", \"2019-07-24T21:45:00+00:00\", \"2019-07-24T21:50:00+00:00\", \"2019-07-24T21:55:00+00:00\", \"2019-07-24T22:00:00+00:00\", \"2019-07-24T22:05:00+00:00\", \"2019-07-24T22:10:00+00:00\", \"2019-07-24T22:15:00+00:00\", \"2019-07-24T22:20:00+00:00\", \"2019-07-24T22:25:00+00:00\", \"2019-07-24T22:30:00+00:00\", \"2019-07-24T22:35:00+00:00\", \"2019-07-24T22:40:00+00:00\", \"2019-07-24T22:45:00+00:00\", \"2019-07-24T22:50:00+00:00\", \"2019-07-24T22:55:00+00:00\", \"2019-07-24T23:00:00+00:00\", \"2019-07-24T23:05:00+00:00\", \"2019-07-24T23:10:00+00:00\", \"2019-07-24T23:15:00+00:00\", \"2019-07-24T23:20:00+00:00\", \"2019-07-24T23:25:00+00:00\", \"2019-07-24T23:30:00+00:00\", \"2019-07-24T23:35:00+00:00\", \"2019-07-24T23:40:00+00:00\", \"2019-07-24T23:45:00+00:00\", \"2019-07-24T23:50:00+00:00\", \"2019-07-24T23:55:00+00:00\", \"2019-07-25T00:00:00+00:00\", \"2019-07-25T00:05:00+00:00\", \"2019-07-25T00:10:00+00:00\", \"2019-07-25T00:15:00+00:00\", \"2019-07-25T00:20:00+00:00\", \"2019-07-25T00:25:00+00:00\", \"2019-07-25T00:30:00+00:00\", \"2019-07-25T00:35:00+00:00\", \"2019-07-25T00:40:00+00:00\", \"2019-07-25T00:45:00+00:00\", \"2019-07-25T00:50:00+00:00\", \"2019-07-25T00:55:00+00:00\", \"2019-07-25T01:00:00+00:00\", \"2019-07-25T01:05:00+00:00\", \"2019-07-25T01:10:00+00:00\", \"2019-07-25T01:15:00+00:00\", \"2019-07-25T01:20:00+00:00\", \"2019-07-25T01:25:00+00:00\", \"2019-07-25T01:30:00+00:00\", \"2019-07-25T01:35:00+00:00\", \"2019-07-25T01:40:00+00:00\", \"2019-07-25T01:45:00+00:00\", \"2019-07-25T01:50:00+00:00\", \"2019-07-25T01:55:00+00:00\", \"2019-07-25T02:00:00+00:00\", \"2019-07-25T02:05:00+00:00\", \"2019-07-25T02:10:00+00:00\", \"2019-07-25T02:15:00+00:00\", \"2019-07-25T02:20:00+00:00\", \"2019-07-25T02:25:00+00:00\", \"2019-07-25T02:30:00+00:00\", \"2019-07-25T02:35:00+00:00\", \"2019-07-25T02:40:00+00:00\", \"2019-07-25T02:45:00+00:00\", \"2019-07-25T02:50:00+00:00\", \"2019-07-25T02:55:00+00:00\", \"2019-07-25T03:00:00+00:00\", \"2019-07-25T03:05:00+00:00\", \"2019-07-25T03:10:00+00:00\", \"2019-07-25T03:15:00+00:00\", \"2019-07-25T03:20:00+00:00\", \"2019-07-25T03:25:00+00:00\", \"2019-07-25T03:30:00+00:00\", \"2019-07-25T03:35:00+00:00\", \"2019-07-25T03:40:00+00:00\", \"2019-07-25T03:45:00+00:00\", \"2019-07-25T03:50:00+00:00\", \"2019-07-25T03:55:00+00:00\", \"2019-07-25T04:00:00+00:00\", \"2019-07-25T04:05:00+00:00\", \"2019-07-25T04:10:00+00:00\", \"2019-07-25T04:15:00+00:00\", \"2019-07-25T04:20:00+00:00\", \"2019-07-25T04:25:00+00:00\", \"2019-07-25T04:30:00+00:00\", \"2019-07-25T04:35:00+00:00\", \"2019-07-25T04:40:00+00:00\", \"2019-07-25T04:45:00+00:00\", \"2019-07-25T04:50:00+00:00\", \"2019-07-25T04:55:00+00:00\", \"2019-07-25T05:00:00+00:00\", \"2019-07-25T05:05:00+00:00\", \"2019-07-25T05:10:00+00:00\", \"2019-07-25T05:15:00+00:00\", \"2019-07-25T05:20:00+00:00\", \"2019-07-25T05:25:00+00:00\", \"2019-07-25T05:30:00+00:00\", \"2019-07-25T05:35:00+00:00\", \"2019-07-25T05:40:00+00:00\", \"2019-07-25T05:45:00+00:00\", \"2019-07-25T05:50:00+00:00\", \"2019-07-25T05:55:00+00:00\", \"2019-07-25T06:00:00+00:00\", \"2019-07-25T06:05:00+00:00\", \"2019-07-25T06:10:00+00:00\", \"2019-07-25T06:15:00+00:00\", \"2019-07-25T06:20:00+00:00\", \"2019-07-25T06:25:00+00:00\", \"2019-07-25T06:30:00+00:00\", \"2019-07-25T06:35:00+00:00\", \"2019-07-25T06:40:00+00:00\", \"2019-07-25T06:45:00+00:00\", \"2019-07-25T06:50:00+00:00\", \"2019-07-25T06:55:00+00:00\", \"2019-07-25T07:00:00+00:00\", \"2019-07-25T07:05:00+00:00\", \"2019-07-25T07:10:00+00:00\", \"2019-07-25T07:15:00+00:00\", \"2019-07-25T07:20:00+00:00\", \"2019-07-25T07:25:00+00:00\", \"2019-07-25T07:30:00+00:00\", \"2019-07-25T07:35:00+00:00\", \"2019-07-25T07:40:00+00:00\", \"2019-07-25T07:45:00+00:00\", \"2019-07-25T07:50:00+00:00\", \"2019-07-25T07:55:00+00:00\", \"2019-07-25T08:00:00+00:00\", \"2019-07-25T08:05:00+00:00\", \"2019-07-25T08:10:00+00:00\", \"2019-07-25T08:15:00+00:00\", \"2019-07-25T08:20:00+00:00\", \"2019-07-25T08:25:00+00:00\", \"2019-07-25T08:30:00+00:00\", \"2019-07-25T08:35:00+00:00\", \"2019-07-25T08:40:00+00:00\", \"2019-07-25T08:45:00+00:00\", \"2019-07-25T08:50:00+00:00\", \"2019-07-25T08:55:00+00:00\", \"2019-07-25T09:00:00+00:00\", \"2019-07-25T09:05:00+00:00\", \"2019-07-25T09:10:00+00:00\", \"2019-07-25T09:15:00+00:00\", \"2019-07-25T09:20:00+00:00\", \"2019-07-25T09:25:00+00:00\", \"2019-07-25T09:30:00+00:00\", \"2019-07-25T09:35:00+00:00\", \"2019-07-25T09:40:00+00:00\", \"2019-07-25T09:45:00+00:00\", \"2019-07-25T09:50:00+00:00\", \"2019-07-25T09:55:00+00:00\", \"2019-07-25T10:00:00+00:00\", \"2019-07-25T10:05:00+00:00\", \"2019-07-25T10:10:00+00:00\", \"2019-07-25T10:15:00+00:00\", \"2019-07-25T10:20:00+00:00\", \"2019-07-25T10:25:00+00:00\", \"2019-07-25T10:30:00+00:00\", \"2019-07-25T10:35:00+00:00\", \"2019-07-25T10:40:00+00:00\", \"2019-07-25T10:45:00+00:00\", \"2019-07-25T10:50:00+00:00\", \"2019-07-25T10:55:00+00:00\", \"2019-07-25T11:00:00+00:00\", \"2019-07-25T11:05:00+00:00\", \"2019-07-25T11:10:00+00:00\", \"2019-07-25T11:15:00+00:00\", \"2019-07-25T11:20:00+00:00\", \"2019-07-25T11:25:00+00:00\", \"2019-07-25T11:30:00+00:00\", \"2019-07-25T11:35:00+00:00\", \"2019-07-25T11:40:00+00:00\", \"2019-07-25T11:45:00+00:00\", \"2019-07-25T11:50:00+00:00\", \"2019-07-25T11:55:00+00:00\", \"2019-07-25T12:00:00+00:00\", \"2019-07-25T12:05:00+00:00\", \"2019-07-25T12:10:00+00:00\", \"2019-07-25T12:15:00+00:00\", \"2019-07-25T12:20:00+00:00\", \"2019-07-25T12:25:00+00:00\", \"2019-07-25T12:30:00+00:00\", \"2019-07-25T12:35:00+00:00\", \"2019-07-25T12:40:00+00:00\", \"2019-07-25T12:45:00+00:00\", \"2019-07-25T12:50:00+00:00\", \"2019-07-25T12:55:00+00:00\", \"2019-07-25T13:00:00+00:00\", \"2019-07-25T13:05:00+00:00\", \"2019-07-25T13:10:00+00:00\", \"2019-07-25T13:15:00+00:00\", \"2019-07-25T13:20:00+00:00\", \"2019-07-25T13:25:00+00:00\", \"2019-07-25T13:30:00+00:00\", \"2019-07-25T13:35:00+00:00\", \"2019-07-25T13:40:00+00:00\", \"2019-07-25T13:45:00+00:00\", \"2019-07-25T13:50:00+00:00\", \"2019-07-25T13:55:00+00:00\", \"2019-07-25T14:00:00+00:00\", \"2019-07-25T14:05:00+00:00\", \"2019-07-25T14:10:00+00:00\", \"2019-07-25T14:15:00+00:00\", \"2019-07-25T14:20:00+00:00\", \"2019-07-25T14:25:00+00:00\", \"2019-07-25T14:30:00+00:00\", \"2019-07-25T14:35:00+00:00\", \"2019-07-25T14:40:00+00:00\", \"2019-07-25T14:45:00+00:00\", \"2019-07-25T14:50:00+00:00\", \"2019-07-25T14:55:00+00:00\", \"2019-07-25T15:00:00+00:00\", \"2019-07-25T15:05:00+00:00\", \"2019-07-25T15:10:00+00:00\", \"2019-07-25T15:15:00+00:00\", \"2019-07-25T15:20:00+00:00\", \"2019-07-25T15:25:00+00:00\", \"2019-07-25T15:30:00+00:00\", \"2019-07-25T15:35:00+00:00\", \"2019-07-25T15:40:00+00:00\", \"2019-07-25T15:45:00+00:00\", \"2019-07-25T15:50:00+00:00\", \"2019-07-25T15:55:00+00:00\", \"2019-07-25T16:00:00+00:00\", \"2019-07-25T16:05:00+00:00\", \"2019-07-25T16:10:00+00:00\", \"2019-07-25T16:15:00+00:00\", \"2019-07-25T16:20:00+00:00\", \"2019-07-25T16:25:00+00:00\", \"2019-07-25T16:30:00+00:00\", \"2019-07-25T16:35:00+00:00\", \"2019-07-25T16:40:00+00:00\", \"2019-07-25T16:45:00+00:00\", \"2019-07-25T16:50:00+00:00\", \"2019-07-25T16:55:00+00:00\", \"2019-07-25T17:00:00+00:00\", \"2019-07-25T17:05:00+00:00\", \"2019-07-25T17:10:00+00:00\", \"2019-07-25T17:15:00+00:00\", \"2019-07-25T17:20:00+00:00\", \"2019-07-25T17:25:00+00:00\", \"2019-07-25T17:30:00+00:00\", \"2019-07-25T17:35:00+00:00\", \"2019-07-25T17:40:00+00:00\", \"2019-07-25T17:45:00+00:00\", \"2019-07-25T17:50:00+00:00\", \"2019-07-25T17:55:00+00:00\", \"2019-07-25T18:00:00+00:00\", \"2019-07-25T18:05:00+00:00\", \"2019-07-25T18:10:00+00:00\", \"2019-07-25T18:15:00+00:00\", \"2019-07-25T18:20:00+00:00\", \"2019-07-25T18:25:00+00:00\", \"2019-07-25T18:30:00+00:00\", \"2019-07-25T18:35:00+00:00\", \"2019-07-25T18:40:00+00:00\", \"2019-07-25T18:45:00+00:00\", \"2019-07-25T18:50:00+00:00\", \"2019-07-25T18:55:00+00:00\", \"2019-07-25T19:00:00+00:00\", \"2019-07-25T19:05:00+00:00\", \"2019-07-25T19:10:00+00:00\", \"2019-07-25T19:15:00+00:00\", \"2019-07-25T19:20:00+00:00\", \"2019-07-25T19:25:00+00:00\", \"2019-07-25T19:30:00+00:00\", \"2019-07-25T19:35:00+00:00\", \"2019-07-25T19:40:00+00:00\", \"2019-07-25T19:45:00+00:00\", \"2019-07-25T19:50:00+00:00\", \"2019-07-25T19:55:00+00:00\", \"2019-07-25T20:00:00+00:00\", \"2019-07-25T20:05:00+00:00\", \"2019-07-25T20:10:00+00:00\", \"2019-07-25T20:15:00+00:00\", \"2019-07-25T20:20:00+00:00\", \"2019-07-25T20:25:00+00:00\", \"2019-07-25T20:30:00+00:00\", \"2019-07-25T20:35:00+00:00\", \"2019-07-25T20:40:00+00:00\", \"2019-07-25T20:45:00+00:00\", \"2019-07-25T20:50:00+00:00\", \"2019-07-25T20:55:00+00:00\", \"2019-07-25T21:00:00+00:00\", \"2019-07-25T21:05:00+00:00\", \"2019-07-25T21:10:00+00:00\", \"2019-07-25T21:15:00+00:00\", \"2019-07-25T21:20:00+00:00\", \"2019-07-25T21:25:00+00:00\", \"2019-07-25T21:30:00+00:00\", \"2019-07-25T21:35:00+00:00\", \"2019-07-25T21:40:00+00:00\", \"2019-07-25T21:45:00+00:00\", \"2019-07-25T21:50:00+00:00\", \"2019-07-25T21:55:00+00:00\", \"2019-07-25T22:00:00+00:00\", \"2019-07-25T22:05:00+00:00\", \"2019-07-25T22:10:00+00:00\", \"2019-07-25T22:15:00+00:00\", \"2019-07-25T22:20:00+00:00\", \"2019-07-25T22:25:00+00:00\", \"2019-07-25T22:30:00+00:00\", \"2019-07-25T22:35:00+00:00\", \"2019-07-25T22:40:00+00:00\", \"2019-07-25T22:45:00+00:00\", \"2019-07-25T22:50:00+00:00\", \"2019-07-25T22:55:00+00:00\", \"2019-07-25T23:00:00+00:00\", \"2019-07-25T23:05:00+00:00\", \"2019-07-25T23:10:00+00:00\", \"2019-07-25T23:15:00+00:00\", \"2019-07-25T23:20:00+00:00\", \"2019-07-25T23:25:00+00:00\", \"2019-07-25T23:30:00+00:00\", \"2019-07-25T23:35:00+00:00\", \"2019-07-25T23:40:00+00:00\", \"2019-07-25T23:45:00+00:00\", \"2019-07-25T23:50:00+00:00\", \"2019-07-25T23:55:00+00:00\", \"2019-07-26T00:00:00+00:00\", \"2019-07-26T00:05:00+00:00\", \"2019-07-26T00:10:00+00:00\", \"2019-07-26T00:15:00+00:00\", \"2019-07-26T00:20:00+00:00\", \"2019-07-26T00:25:00+00:00\", \"2019-07-26T00:30:00+00:00\", \"2019-07-26T00:35:00+00:00\", \"2019-07-26T00:40:00+00:00\", \"2019-07-26T00:45:00+00:00\", \"2019-07-26T00:50:00+00:00\", \"2019-07-26T00:55:00+00:00\", \"2019-07-26T01:00:00+00:00\", \"2019-07-26T01:05:00+00:00\", \"2019-07-26T01:10:00+00:00\", \"2019-07-26T01:15:00+00:00\", \"2019-07-26T01:20:00+00:00\", \"2019-07-26T01:25:00+00:00\", \"2019-07-26T01:30:00+00:00\", \"2019-07-26T01:35:00+00:00\", \"2019-07-26T01:40:00+00:00\", \"2019-07-26T01:45:00+00:00\", \"2019-07-26T01:50:00+00:00\", \"2019-07-26T01:55:00+00:00\", \"2019-07-26T02:00:00+00:00\", \"2019-07-26T02:05:00+00:00\", \"2019-07-26T02:10:00+00:00\", \"2019-07-26T02:15:00+00:00\", \"2019-07-26T02:20:00+00:00\", \"2019-07-26T02:25:00+00:00\", \"2019-07-26T02:30:00+00:00\", \"2019-07-26T02:35:00+00:00\", \"2019-07-26T02:40:00+00:00\", \"2019-07-26T02:45:00+00:00\", \"2019-07-26T02:50:00+00:00\", \"2019-07-26T02:55:00+00:00\", \"2019-07-26T03:00:00+00:00\", \"2019-07-26T03:05:00+00:00\", \"2019-07-26T03:10:00+00:00\", \"2019-07-26T03:15:00+00:00\", \"2019-07-26T03:20:00+00:00\", \"2019-07-26T03:25:00+00:00\", \"2019-07-26T03:30:00+00:00\", \"2019-07-26T03:35:00+00:00\", \"2019-07-26T03:40:00+00:00\", \"2019-07-26T03:45:00+00:00\", \"2019-07-26T03:50:00+00:00\", \"2019-07-26T03:55:00+00:00\", \"2019-07-26T04:00:00+00:00\", \"2019-07-26T04:05:00+00:00\", \"2019-07-26T04:10:00+00:00\", \"2019-07-26T04:15:00+00:00\", \"2019-07-26T04:20:00+00:00\", \"2019-07-26T04:25:00+00:00\", \"2019-07-26T04:30:00+00:00\", \"2019-07-26T04:35:00+00:00\", \"2019-07-26T04:40:00+00:00\", \"2019-07-26T04:45:00+00:00\", \"2019-07-26T04:50:00+00:00\", \"2019-07-26T04:55:00+00:00\", \"2019-07-26T05:00:00+00:00\", \"2019-07-26T05:05:00+00:00\", \"2019-07-26T05:10:00+00:00\", \"2019-07-26T05:15:00+00:00\", \"2019-07-26T05:20:00+00:00\", \"2019-07-26T05:25:00+00:00\", \"2019-07-26T05:30:00+00:00\", \"2019-07-26T05:35:00+00:00\", \"2019-07-26T05:40:00+00:00\", \"2019-07-26T05:45:00+00:00\", \"2019-07-26T05:50:00+00:00\", \"2019-07-26T05:55:00+00:00\", \"2019-07-26T06:00:00+00:00\", \"2019-07-26T06:05:00+00:00\", \"2019-07-26T06:10:00+00:00\", \"2019-07-26T06:15:00+00:00\", \"2019-07-26T06:20:00+00:00\", \"2019-07-26T06:25:00+00:00\", \"2019-07-26T06:30:00+00:00\", \"2019-07-26T06:35:00+00:00\", \"2019-07-26T06:40:00+00:00\", \"2019-07-26T06:45:00+00:00\", \"2019-07-26T06:50:00+00:00\", \"2019-07-26T06:55:00+00:00\", \"2019-07-26T07:00:00+00:00\", \"2019-07-26T07:05:00+00:00\", \"2019-07-26T07:10:00+00:00\", \"2019-07-26T07:15:00+00:00\", \"2019-07-26T07:20:00+00:00\", \"2019-07-26T07:25:00+00:00\", \"2019-07-26T07:30:00+00:00\", \"2019-07-26T07:35:00+00:00\", \"2019-07-26T07:40:00+00:00\", \"2019-07-26T07:45:00+00:00\", \"2019-07-26T07:50:00+00:00\", \"2019-07-26T07:55:00+00:00\", \"2019-07-26T08:00:00+00:00\", \"2019-07-26T08:05:00+00:00\", \"2019-07-26T08:10:00+00:00\", \"2019-07-26T08:15:00+00:00\", \"2019-07-26T08:20:00+00:00\", \"2019-07-26T08:25:00+00:00\", \"2019-07-26T08:30:00+00:00\", \"2019-07-26T08:35:00+00:00\", \"2019-07-26T08:40:00+00:00\", \"2019-07-26T08:45:00+00:00\", \"2019-07-26T08:50:00+00:00\", \"2019-07-26T08:55:00+00:00\", \"2019-07-26T09:00:00+00:00\", \"2019-07-26T09:05:00+00:00\", \"2019-07-26T09:10:00+00:00\", \"2019-07-26T09:15:00+00:00\", \"2019-07-26T09:20:00+00:00\", \"2019-07-26T09:25:00+00:00\", \"2019-07-26T09:30:00+00:00\", \"2019-07-26T09:35:00+00:00\", \"2019-07-26T09:40:00+00:00\", \"2019-07-26T09:45:00+00:00\", \"2019-07-26T09:50:00+00:00\", \"2019-07-26T09:55:00+00:00\", \"2019-07-26T10:00:00+00:00\", \"2019-07-26T10:05:00+00:00\", \"2019-07-26T10:10:00+00:00\", \"2019-07-26T10:15:00+00:00\", \"2019-07-26T10:20:00+00:00\", \"2019-07-26T10:25:00+00:00\", \"2019-07-26T10:30:00+00:00\", \"2019-07-26T10:35:00+00:00\", \"2019-07-26T10:40:00+00:00\", \"2019-07-26T10:45:00+00:00\", \"2019-07-26T10:50:00+00:00\", \"2019-07-26T10:55:00+00:00\", \"2019-07-26T11:00:00+00:00\", \"2019-07-26T11:05:00+00:00\", \"2019-07-26T11:10:00+00:00\", \"2019-07-26T11:15:00+00:00\", \"2019-07-26T11:20:00+00:00\", \"2019-07-26T11:25:00+00:00\", \"2019-07-26T11:30:00+00:00\", \"2019-07-26T11:35:00+00:00\", \"2019-07-26T11:40:00+00:00\", \"2019-07-26T11:45:00+00:00\", \"2019-07-26T11:50:00+00:00\", \"2019-07-26T11:55:00+00:00\", \"2019-07-26T12:00:00+00:00\", \"2019-07-26T12:05:00+00:00\", \"2019-07-26T12:10:00+00:00\", \"2019-07-26T12:15:00+00:00\", \"2019-07-26T12:20:00+00:00\", \"2019-07-26T12:25:00+00:00\", \"2019-07-26T12:30:00+00:00\", \"2019-07-26T12:35:00+00:00\", \"2019-07-26T12:40:00+00:00\", \"2019-07-26T12:45:00+00:00\", \"2019-07-26T12:50:00+00:00\", \"2019-07-26T12:55:00+00:00\", \"2019-07-26T13:00:00+00:00\", \"2019-07-26T13:05:00+00:00\", \"2019-07-26T13:10:00+00:00\", \"2019-07-26T13:15:00+00:00\", \"2019-07-26T13:20:00+00:00\", \"2019-07-26T13:25:00+00:00\", \"2019-07-26T13:30:00+00:00\", \"2019-07-26T13:35:00+00:00\", \"2019-07-26T13:40:00+00:00\", \"2019-07-26T13:45:00+00:00\", \"2019-07-26T13:50:00+00:00\", \"2019-07-26T13:55:00+00:00\", \"2019-07-26T14:00:00+00:00\", \"2019-07-26T14:05:00+00:00\", \"2019-07-26T14:10:00+00:00\", \"2019-07-26T14:15:00+00:00\", \"2019-07-26T14:20:00+00:00\", \"2019-07-26T14:25:00+00:00\", \"2019-07-26T14:30:00+00:00\", \"2019-07-26T14:35:00+00:00\", \"2019-07-26T14:40:00+00:00\", \"2019-07-26T14:45:00+00:00\", \"2019-07-26T14:50:00+00:00\", \"2019-07-26T14:55:00+00:00\", \"2019-07-26T15:00:00+00:00\", \"2019-07-26T15:05:00+00:00\", \"2019-07-26T15:10:00+00:00\", \"2019-07-26T15:13:17+00:00\"], \"y\": [0.75, 0.75, 0.75, 0.75, 0.75, 0.75, 0.75, 0.75, 0.75, 0.75, 0.75, 0.75, 0.75, 0.75, 0.75, 0.75, 0.75, 0.75, 0.75, 0.75, 0.75, 0.75, 0.75, 0.75, 0.75, 0.75, 0.75, 0.75, 0.75, 0.75, 0.75, 0.75, 0.75, 0.75, 0.75, 0.75, 1.45, 1.45, 1.45, 1.45, 1.45, 1.45, 1.45, 1.45, 1.45, 1.45, 1.45, 1.45, 1.45, 1.45, 1.45, 1.45, 1.45, 1.45, 1.45, 1.45, 1.45, 1.45, 1.45, 1.45, 1.45, 1.45, 1.45, 1.45, 1.45, 1.45, 1.45, 1.45, 1.45, 1.45, 1.45, 1.45, 1.45, 1.45, 1.45, 1.45, 1.45, 1.45, 1.45, 1.45, 1.45, 1.45, 1.45, 1.45, 1.45, 1.45, 1.45, 1.45, 1.45, 1.45, 1.45, 1.45, 1.45, 1.45, 1.45, 1.45, 1.45, 1.45, 1.45, 1.45, 1.45, 1.45, 1.45, 1.45, 1.45, 1.45, 1.45, 1.45, 1.45, 1.45, 1.45, 1.45, 1.45, 1.45, 1.45, 1.45, 1.45, 1.45, 1.45, 1.45, 1.45, 1.45, 1.45, 1.45, 1.45, 1.45, 1.45, 1.45, 1.45, 1.45, 1.45, 1.45, 1.45, 1.45, 1.45, 1.45, 1.45, 1.45, 1.45, 1.45, 1.45, 1.45, 1.45, 1.45, 1.45, 1.45, 1.45, 1.45, 1.45, 1.45, 0.9, 0.9, 0.9, 0.9, 0.9, 0.9, 0.9, 0.9, 0.9, 0.9, 0.9, 0.9, 0.9, 0.9, 0.9, 0.9, 0.9, 0.9, 0.9, 0.9, 0.9, 0.9, 0.9, 0.9, 0.9, 0.9, 0.9, 0.9, 0.9, 0.9, 0.9, 0.9, 0.9, 0.9, 0.9, 0.9, 0.9, 0.9, 0.9, 0.9, 0.9, 0.9, 0.9, 0.9, 0.9, 0.9, 0.9, 0.9, 0.9, 0.9, 0.9, 0.9, 0.9, 0.9, 0.9, 0.9, 0.9, 0.9, 0.9, 0.9, 0.9, 0.9, 0.9, 0.9, 0.9, 0.9, 0.9, 0.9, 0.9, 0.9, 0.9, 0.9, 0.9, 0.9, 0.9, 0.9, 0.9, 0.9, 0.9, 0.9, 0.9, 0.9, 0.9, 0.9, 0.9, 0.9, 0.9, 0.9, 0.9, 0.9, 0.9, 0.9, 0.9, 0.9, 0.9, 0.9, 0.9, 0.9, 0.9, 0.9, 0.9, 0.9, 0.9, 0.9, 0.9, 0.9, 0.9, 0.9, 0.9, 0.9, 0.9, 0.9, 0.9, 0.9, 0.9, 0.9, 0.9, 0.9, 0.9, 0.9, 0.9, 0.9, 0.9, 0.9, 0.9, 0.9, 0.9, 0.9, 0.9, 0.9, 0.9, 0.9, 0.9, 0.9, 0.9, 0.9, 0.9, 0.9, 0.75, 0.75, 0.75, 0.75, 0.75, 0.75, 0.75, 0.75, 0.75, 0.75, 0.75, 0.75, 0.75, 0.75, 0.75, 0.75, 0.75, 0.75, 0.75, 0.75, 0.75, 0.75, 0.75, 0.75, 0.75, 0.75, 0.75, 0.75, 0.75, 0.75, 0.75, 0.75, 0.75, 0.75, 0.75, 0.75, 1.45, 1.45, 1.45, 1.45, 1.45, 1.45, 1.45, 1.45, 1.45, 1.45, 1.45, 1.45, 1.45, 1.45, 1.45, 1.45, 1.45, 1.45, 1.45, 1.45, 1.45, 1.45, 1.45, 1.45, 1.45, 1.45, 1.45, 1.45, 1.45, 1.45, 1.45, 1.45, 1.45, 1.45, 1.45, 1.45, 1.45, 1.45, 1.45, 1.45, 1.45, 1.45, 1.45, 1.45, 1.45, 1.45, 1.45, 1.45, 1.45, 1.45, 1.45, 1.45, 1.45, 1.45, 1.45, 1.45, 1.45, 1.45, 1.45, 1.45, 1.45, 1.45, 1.45, 1.45, 1.45, 1.45, 1.45, 1.45, 1.45, 1.45, 1.45, 1.45, 1.45, 1.45, 1.45, 1.45, 1.45, 1.45, 1.45, 1.45, 1.45, 1.45, 1.45, 1.45, 1.45, 1.45, 1.45, 1.45, 1.45, 1.45, 1.45, 1.45, 1.45, 1.45, 1.45, 1.45, 1.45, 1.45, 1.45, 1.45, 1.45, 1.45, 1.45, 1.45, 1.45, 1.45, 1.45, 1.45, 1.45, 1.45, 1.45, 1.45, 1.45, 1.45, 0.9, 0.9, 0.9, 0.9, 0.9, 0.9, 0.9, 0.9, 0.9, 0.9, 0.9, 0.9, 0.9, 0.9, 0.9, 0.9, 0.9, 0.9, 0.9, 0.9, 0.9, 0.9, 0.9, 0.9, 0.9, 0.9, 0.9, 0.9, 0.9, 0.9, 0.9, 0.9, 0.9, 0.9, 0.9, 0.9, 0.9, 0.9, 0.9, 0.9, 0.9, 0.9, 0.9, 0.9, 0.9, 0.9, 0.9, 0.9, 0.9, 0.9, 0.9, 0.9, 0.9, 0.9, 0.9, 0.9, 0.9, 0.9, 0.9, 0.9, 0.9, 0.9, 0.9, 0.9, 0.9, 0.9, 0.9, 0.9, 0.9, 0.9]}, {\"hoverinfo\": \"y+name\", \"marker\": {\"color\": \"cornflowerblue\"}, \"name\": \"bolus\", \"opacity\": 0.5, \"type\": \"bar\", \"width\": 1200000, \"x\": [\"2019-07-26T15:13:11+00:00\"], \"y\": [3.0]}, {\"hoverinfo\": \"name\", \"marker\": {\"color\": \"gold\", \"size\": 25}, \"mode\": \"markers+text\", \"name\": \"carbs\", \"text\": [40.0], \"textposition\": \"middle center\", \"type\": \"scatter\", \"x\": [\"2019-07-26T15:13:01+00:00\"], \"y\": [3.8333333333333335]}],\n",
       "                        {\"annotations\": [{\"arrowhead\": 1, \"ax\": 0, \"ay\": -0.5, \"ayref\": \"y\", \"showarrow\": true, \"text\": \"current time\", \"x\": \"2019-07-26T15:13:17+00:00\", \"xref\": \"x\", \"y\": 0, \"yref\": \"y\"}], \"dragmode\": \"pan\", \"hovermode\": \"x\", \"plot_bgcolor\": \"white\", \"showlegend\": true, \"template\": {\"data\": {\"bar\": [{\"error_x\": {\"color\": \"#2a3f5f\"}, \"error_y\": {\"color\": \"#2a3f5f\"}, \"marker\": {\"line\": {\"color\": \"#E5ECF6\", \"width\": 0.5}}, \"type\": \"bar\"}], \"barpolar\": [{\"marker\": {\"line\": {\"color\": \"#E5ECF6\", \"width\": 0.5}}, \"type\": \"barpolar\"}], \"carpet\": [{\"aaxis\": {\"endlinecolor\": \"#2a3f5f\", \"gridcolor\": \"white\", \"linecolor\": \"white\", \"minorgridcolor\": \"white\", \"startlinecolor\": \"#2a3f5f\"}, \"baxis\": {\"endlinecolor\": \"#2a3f5f\", \"gridcolor\": \"white\", \"linecolor\": \"white\", \"minorgridcolor\": \"white\", \"startlinecolor\": \"#2a3f5f\"}, \"type\": \"carpet\"}], \"choropleth\": [{\"colorbar\": {\"outlinewidth\": 0, \"ticks\": \"\"}, \"type\": \"choropleth\"}], \"contour\": [{\"colorbar\": {\"outlinewidth\": 0, \"ticks\": \"\"}, \"colorscale\": [[0.0, \"#0d0887\"], [0.1111111111111111, \"#46039f\"], [0.2222222222222222, \"#7201a8\"], [0.3333333333333333, \"#9c179e\"], [0.4444444444444444, \"#bd3786\"], [0.5555555555555556, \"#d8576b\"], [0.6666666666666666, \"#ed7953\"], [0.7777777777777778, \"#fb9f3a\"], [0.8888888888888888, \"#fdca26\"], [1.0, \"#f0f921\"]], \"type\": \"contour\"}], \"contourcarpet\": [{\"colorbar\": {\"outlinewidth\": 0, \"ticks\": \"\"}, \"type\": \"contourcarpet\"}], \"heatmap\": [{\"colorbar\": {\"outlinewidth\": 0, \"ticks\": \"\"}, \"colorscale\": [[0.0, \"#0d0887\"], [0.1111111111111111, \"#46039f\"], [0.2222222222222222, \"#7201a8\"], [0.3333333333333333, \"#9c179e\"], [0.4444444444444444, \"#bd3786\"], [0.5555555555555556, \"#d8576b\"], [0.6666666666666666, \"#ed7953\"], [0.7777777777777778, \"#fb9f3a\"], [0.8888888888888888, \"#fdca26\"], [1.0, \"#f0f921\"]], \"type\": \"heatmap\"}], \"heatmapgl\": [{\"colorbar\": {\"outlinewidth\": 0, \"ticks\": \"\"}, \"colorscale\": [[0.0, \"#0d0887\"], [0.1111111111111111, \"#46039f\"], [0.2222222222222222, \"#7201a8\"], [0.3333333333333333, \"#9c179e\"], [0.4444444444444444, \"#bd3786\"], [0.5555555555555556, \"#d8576b\"], [0.6666666666666666, \"#ed7953\"], [0.7777777777777778, \"#fb9f3a\"], [0.8888888888888888, \"#fdca26\"], [1.0, \"#f0f921\"]], \"type\": \"heatmapgl\"}], \"histogram\": [{\"marker\": {\"colorbar\": {\"outlinewidth\": 0, \"ticks\": \"\"}}, \"type\": \"histogram\"}], \"histogram2d\": [{\"colorbar\": {\"outlinewidth\": 0, \"ticks\": \"\"}, \"colorscale\": [[0.0, \"#0d0887\"], [0.1111111111111111, \"#46039f\"], [0.2222222222222222, \"#7201a8\"], [0.3333333333333333, \"#9c179e\"], [0.4444444444444444, \"#bd3786\"], [0.5555555555555556, \"#d8576b\"], [0.6666666666666666, \"#ed7953\"], [0.7777777777777778, \"#fb9f3a\"], [0.8888888888888888, \"#fdca26\"], [1.0, \"#f0f921\"]], \"type\": \"histogram2d\"}], \"histogram2dcontour\": [{\"colorbar\": {\"outlinewidth\": 0, \"ticks\": \"\"}, \"colorscale\": [[0.0, \"#0d0887\"], [0.1111111111111111, \"#46039f\"], [0.2222222222222222, \"#7201a8\"], [0.3333333333333333, \"#9c179e\"], [0.4444444444444444, \"#bd3786\"], [0.5555555555555556, \"#d8576b\"], [0.6666666666666666, \"#ed7953\"], [0.7777777777777778, \"#fb9f3a\"], [0.8888888888888888, \"#fdca26\"], [1.0, \"#f0f921\"]], \"type\": \"histogram2dcontour\"}], \"mesh3d\": [{\"colorbar\": {\"outlinewidth\": 0, \"ticks\": \"\"}, \"type\": \"mesh3d\"}], \"parcoords\": [{\"line\": {\"colorbar\": {\"outlinewidth\": 0, \"ticks\": \"\"}}, \"type\": \"parcoords\"}], \"scatter\": [{\"marker\": {\"colorbar\": {\"outlinewidth\": 0, \"ticks\": \"\"}}, \"type\": \"scatter\"}], \"scatter3d\": [{\"line\": {\"colorbar\": {\"outlinewidth\": 0, \"ticks\": \"\"}}, \"marker\": {\"colorbar\": {\"outlinewidth\": 0, \"ticks\": \"\"}}, \"type\": \"scatter3d\"}], \"scattercarpet\": [{\"marker\": {\"colorbar\": {\"outlinewidth\": 0, \"ticks\": \"\"}}, \"type\": \"scattercarpet\"}], \"scattergeo\": [{\"marker\": {\"colorbar\": {\"outlinewidth\": 0, \"ticks\": \"\"}}, \"type\": \"scattergeo\"}], \"scattergl\": [{\"marker\": {\"colorbar\": {\"outlinewidth\": 0, \"ticks\": \"\"}}, \"type\": \"scattergl\"}], \"scattermapbox\": [{\"marker\": {\"colorbar\": {\"outlinewidth\": 0, \"ticks\": \"\"}}, \"type\": \"scattermapbox\"}], \"scatterpolar\": [{\"marker\": {\"colorbar\": {\"outlinewidth\": 0, \"ticks\": \"\"}}, \"type\": \"scatterpolar\"}], \"scatterpolargl\": [{\"marker\": {\"colorbar\": {\"outlinewidth\": 0, \"ticks\": \"\"}}, \"type\": \"scatterpolargl\"}], \"scatterternary\": [{\"marker\": {\"colorbar\": {\"outlinewidth\": 0, \"ticks\": \"\"}}, \"type\": \"scatterternary\"}], \"surface\": [{\"colorbar\": {\"outlinewidth\": 0, \"ticks\": \"\"}, \"colorscale\": [[0.0, \"#0d0887\"], [0.1111111111111111, \"#46039f\"], [0.2222222222222222, \"#7201a8\"], [0.3333333333333333, \"#9c179e\"], [0.4444444444444444, \"#bd3786\"], [0.5555555555555556, \"#d8576b\"], [0.6666666666666666, \"#ed7953\"], [0.7777777777777778, \"#fb9f3a\"], [0.8888888888888888, \"#fdca26\"], [1.0, \"#f0f921\"]], \"type\": \"surface\"}], \"table\": [{\"cells\": {\"fill\": {\"color\": \"#EBF0F8\"}, \"line\": {\"color\": \"white\"}}, \"header\": {\"fill\": {\"color\": \"#C8D4E3\"}, \"line\": {\"color\": \"white\"}}, \"type\": \"table\"}]}, \"layout\": {\"annotationdefaults\": {\"arrowcolor\": \"#2a3f5f\", \"arrowhead\": 0, \"arrowwidth\": 1}, \"colorscale\": {\"diverging\": [[0, \"#8e0152\"], [0.1, \"#c51b7d\"], [0.2, \"#de77ae\"], [0.3, \"#f1b6da\"], [0.4, \"#fde0ef\"], [0.5, \"#f7f7f7\"], [0.6, \"#e6f5d0\"], [0.7, \"#b8e186\"], [0.8, \"#7fbc41\"], [0.9, \"#4d9221\"], [1, \"#276419\"]], \"sequential\": [[0.0, \"#0d0887\"], [0.1111111111111111, \"#46039f\"], [0.2222222222222222, \"#7201a8\"], [0.3333333333333333, \"#9c179e\"], [0.4444444444444444, \"#bd3786\"], [0.5555555555555556, \"#d8576b\"], [0.6666666666666666, \"#ed7953\"], [0.7777777777777778, \"#fb9f3a\"], [0.8888888888888888, \"#fdca26\"], [1.0, \"#f0f921\"]], \"sequentialminus\": [[0.0, \"#0d0887\"], [0.1111111111111111, \"#46039f\"], [0.2222222222222222, \"#7201a8\"], [0.3333333333333333, \"#9c179e\"], [0.4444444444444444, \"#bd3786\"], [0.5555555555555556, \"#d8576b\"], [0.6666666666666666, \"#ed7953\"], [0.7777777777777778, \"#fb9f3a\"], [0.8888888888888888, \"#fdca26\"], [1.0, \"#f0f921\"]]}, \"colorway\": [\"#636efa\", \"#EF553B\", \"#00cc96\", \"#ab63fa\", \"#FFA15A\", \"#19d3f3\", \"#FF6692\", \"#B6E880\", \"#FF97FF\", \"#FECB52\"], \"font\": {\"color\": \"#2a3f5f\"}, \"geo\": {\"bgcolor\": \"white\", \"lakecolor\": \"white\", \"landcolor\": \"#E5ECF6\", \"showlakes\": true, \"showland\": true, \"subunitcolor\": \"white\"}, \"hoverlabel\": {\"align\": \"left\"}, \"hovermode\": \"closest\", \"mapbox\": {\"style\": \"light\"}, \"paper_bgcolor\": \"white\", \"plot_bgcolor\": \"#E5ECF6\", \"polar\": {\"angularaxis\": {\"gridcolor\": \"white\", \"linecolor\": \"white\", \"ticks\": \"\"}, \"bgcolor\": \"#E5ECF6\", \"radialaxis\": {\"gridcolor\": \"white\", \"linecolor\": \"white\", \"ticks\": \"\"}}, \"scene\": {\"xaxis\": {\"backgroundcolor\": \"#E5ECF6\", \"gridcolor\": \"white\", \"gridwidth\": 2, \"linecolor\": \"white\", \"showbackground\": true, \"ticks\": \"\", \"zerolinecolor\": \"white\"}, \"yaxis\": {\"backgroundcolor\": \"#E5ECF6\", \"gridcolor\": \"white\", \"gridwidth\": 2, \"linecolor\": \"white\", \"showbackground\": true, \"ticks\": \"\", \"zerolinecolor\": \"white\"}, \"zaxis\": {\"backgroundcolor\": \"#E5ECF6\", \"gridcolor\": \"white\", \"gridwidth\": 2, \"linecolor\": \"white\", \"showbackground\": true, \"ticks\": \"\", \"zerolinecolor\": \"white\"}}, \"shapedefaults\": {\"line\": {\"color\": \"#2a3f5f\"}}, \"ternary\": {\"aaxis\": {\"gridcolor\": \"white\", \"linecolor\": \"white\", \"ticks\": \"\"}, \"baxis\": {\"gridcolor\": \"white\", \"linecolor\": \"white\", \"ticks\": \"\"}, \"bgcolor\": \"#E5ECF6\", \"caxis\": {\"gridcolor\": \"white\", \"linecolor\": \"white\", \"ticks\": \"\"}}, \"title\": {\"x\": 0.05}, \"xaxis\": {\"automargin\": true, \"gridcolor\": \"white\", \"linecolor\": \"white\", \"ticks\": \"\", \"zerolinecolor\": \"white\", \"zerolinewidth\": 2}, \"yaxis\": {\"automargin\": true, \"gridcolor\": \"white\", \"linecolor\": \"white\", \"ticks\": \"\", \"zerolinecolor\": \"white\", \"zerolinewidth\": 2}}}, \"xaxis\": {\"gridcolor\": \"#c0c0c0\", \"range\": [\"2019-07-26T07:13:17+00:00\", \"2019-07-26T16:13:17+00:00\"], \"showgrid\": true}, \"yaxis\": {\"fixedrange\": true, \"gridcolor\": \"#c0c0c0\", \"hoverformat\": \".2f\", \"range\": [0, 4.333333333333334], \"showgrid\": true, \"title\": {\"font\": {\"size\": 12}, \"text\": \"Insulin (U, U/hr)\"}}},\n",
       "                        {\"responsive\": true}\n",
       "                    ).then(function(){\n",
       "                            \n",
       "var gd = document.getElementById('0cc61d32-0ad0-4a4d-931e-0774a3db6085');\n",
       "var x = new MutationObserver(function (mutations, observer) {{\n",
       "        var display = window.getComputedStyle(gd).display;\n",
       "        if (!display || display === 'none') {{\n",
       "            console.log([gd, 'removed!']);\n",
       "            Plotly.purge(gd);\n",
       "            observer.disconnect();\n",
       "        }}\n",
       "}});\n",
       "\n",
       "// Listen for the removal of the full notebook cells\n",
       "var notebookContainer = gd.closest('#notebook-container');\n",
       "if (notebookContainer) {{\n",
       "    x.observe(notebookContainer, {childList: true});\n",
       "}}\n",
       "\n",
       "// Listen for the clearing of the current output cell\n",
       "var outputEl = gd.closest('.output');\n",
       "if (outputEl) {{\n",
       "    x.observe(outputEl, {childList: true});\n",
       "}}\n",
       "\n",
       "                        })\n",
       "                };\n",
       "                });\n",
       "            </script>\n",
       "        </div>"
      ]
     },
     "metadata": {},
     "output_type": "display_data"
    }
   ],
   "source": [
    "bolus_trace = go.Bar(\n",
    "    name=\"bolus\",\n",
    "    x=bolus[\"startTime\"],\n",
    "    y=bolus[\"dose\"],\n",
    "    hoverinfo=\"y+name\",\n",
    "    width=2000*60*10,\n",
    "    marker=dict(color='cornflowerblue'),\n",
    "    opacity=0.5\n",
    ")\n",
    "\n",
    "sbr_trace = go.Scattergl(\n",
    "    name=\"scheduled\",\n",
    "    mode='lines',\n",
    "    x=basal[\"datetime\"],\n",
    "    y=basal[\"sbr\"],\n",
    "    hoverinfo=\"y+name\",\n",
    "    line=dict(\n",
    "        shape='vh',\n",
    "        color='cornflowerblue',\n",
    "        dash='dot'\n",
    "    )\n",
    ")\n",
    "\n",
    "basal_trace = go.Scatter(\n",
    "    name=\"delivered\",\n",
    "    mode='lines',\n",
    "    x=basal[\"datetime\"],\n",
    "    y=basal[\"delivered\"],\n",
    "    hoverinfo=\"y+name\",\n",
    "    line=dict(\n",
    "        shape='vh',\n",
    "        color='cornflowerblue'\n",
    "    ),\n",
    "    fill='tonexty'\n",
    ")\n",
    "\n",
    "carb_trace = go.Scatter(\n",
    "    name=\"carbs\",\n",
    "    mode='markers + text',\n",
    "    x=carbs[\"datetime\"],\n",
    "    y=carbs[\"bolus_height\"] + 0.5,\n",
    "    hoverinfo=\"name\",\n",
    "    marker=dict(\n",
    "        color='gold',\n",
    "        size=25\n",
    "    ),\n",
    "    text=carbs[\"grams\"],\n",
    "    textposition='middle center'\n",
    ")\n",
    "data = [\n",
    "    basal_trace, sbr_trace,\n",
    "    bolus_trace, carb_trace,\n",
    "]\n",
    "\n",
    "y_height = max(\n",
    "    basal[\"sbr\"].max(),\n",
    "    basal[\"tbr\"].max(),\n",
    "    bolus[\"dose\"].max(),\n",
    "    carbs[\"bolus_height\"].max()\n",
    ") + 1\n",
    "\n",
    "layout = go.Layout(\n",
    "    showlegend=True,\n",
    "    plot_bgcolor=\"white\",\n",
    "    yaxis=dict(\n",
    "        range=[0, y_height],\n",
    "        fixedrange=True,\n",
    "        hoverformat=\".2f\",\n",
    "        showgrid=True,\n",
    "        gridcolor=\"#c0c0c0\",\n",
    "        title=dict(\n",
    "            text=\"Insulin (U, U/hr)\",\n",
    "            font=dict(\n",
    "                size=12\n",
    "            )\n",
    "        )\n",
    "    ),\n",
    "    xaxis=dict(\n",
    "        range=(\n",
    "            current_time - datetime.timedelta(hours=8),\n",
    "            current_time + datetime.timedelta(hours=1)\n",
    "        ),\n",
    "        showgrid=True,\n",
    "        gridcolor=\"#c0c0c0\",\n",
    "    ),\n",
    "    annotations=[\n",
    "        go.layout.Annotation(\n",
    "            x=current_time,\n",
    "            y=0,\n",
    "            xref=\"x\",\n",
    "            yref=\"y\",\n",
    "            text=\"current time\",\n",
    "            showarrow=True,\n",
    "            arrowhead=1,\n",
    "            ax=0,\n",
    "            ayref=\"y\",\n",
    "            ay=-0.5\n",
    "        )\n",
    "    ],\n",
    "    dragmode=\"pan\",\n",
    "    hovermode=\"x\"\n",
    ")\n",
    "\n",
    "# TODO: put basal and bolus amounts on the same scale\n",
    "# so that the amount of insulin is represented by the area\n",
    "# of the bars\n",
    "fig = go.Figure(data=data, layout=layout)\n",
    "fig"
   ]
  },
  {
   "cell_type": "markdown",
   "metadata": {},
   "source": [
    "# Visualize Recommended Temp Basal (and Bolus)"
   ]
  },
  {
   "cell_type": "code",
   "execution_count": 246,
   "metadata": {},
   "outputs": [
    {
     "data": {
      "application/vnd.plotly.v1+json": {
       "config": {
        "plotlyServerURL": "https://plot.ly"
       },
       "data": [
        {
         "fill": "tozeroy",
         "hoverinfo": "y+name",
         "line": {
          "color": "#5ac6fa",
          "dash": "dot",
          "shape": "vh"
         },
         "mode": "lines",
         "name": "temp basal set",
         "type": "scatter",
         "x": [
          "2019-07-26T15:13:17+00:00",
          "2019-07-26T15:43:17+00:00"
         ],
         "y": [
          1.2,
          1.2
         ]
        },
        {
         "hoverinfo": "y+name",
         "marker": {
          "color": "#5ac6fa"
         },
         "name": "bolus recommended",
         "type": "bar",
         "width": 120000,
         "x": [
          "2019-07-26T15:13:17+00:00"
         ],
         "y": [
          0.15
         ]
        }
       ],
       "layout": {
        "annotations": [
         {
          "arrowhead": 1,
          "ax": 0,
          "ay": -0.5,
          "ayref": "y",
          "showarrow": true,
          "text": "current time",
          "x": "2019-07-26T15:13:17+00:00",
          "xref": "x",
          "y": 0,
          "yref": "y"
         }
        ],
        "autosize": true,
        "dragmode": "pan",
        "hovermode": "x",
        "plot_bgcolor": "white",
        "showlegend": true,
        "template": {
         "data": {
          "bar": [
           {
            "error_x": {
             "color": "#2a3f5f"
            },
            "error_y": {
             "color": "#2a3f5f"
            },
            "marker": {
             "line": {
              "color": "#E5ECF6",
              "width": 0.5
             }
            },
            "type": "bar"
           }
          ],
          "barpolar": [
           {
            "marker": {
             "line": {
              "color": "#E5ECF6",
              "width": 0.5
             }
            },
            "type": "barpolar"
           }
          ],
          "carpet": [
           {
            "aaxis": {
             "endlinecolor": "#2a3f5f",
             "gridcolor": "white",
             "linecolor": "white",
             "minorgridcolor": "white",
             "startlinecolor": "#2a3f5f"
            },
            "baxis": {
             "endlinecolor": "#2a3f5f",
             "gridcolor": "white",
             "linecolor": "white",
             "minorgridcolor": "white",
             "startlinecolor": "#2a3f5f"
            },
            "type": "carpet"
           }
          ],
          "choropleth": [
           {
            "colorbar": {
             "outlinewidth": 0,
             "ticks": ""
            },
            "type": "choropleth"
           }
          ],
          "contour": [
           {
            "colorbar": {
             "outlinewidth": 0,
             "ticks": ""
            },
            "colorscale": [
             [
              0,
              "#0d0887"
             ],
             [
              0.1111111111111111,
              "#46039f"
             ],
             [
              0.2222222222222222,
              "#7201a8"
             ],
             [
              0.3333333333333333,
              "#9c179e"
             ],
             [
              0.4444444444444444,
              "#bd3786"
             ],
             [
              0.5555555555555556,
              "#d8576b"
             ],
             [
              0.6666666666666666,
              "#ed7953"
             ],
             [
              0.7777777777777778,
              "#fb9f3a"
             ],
             [
              0.8888888888888888,
              "#fdca26"
             ],
             [
              1,
              "#f0f921"
             ]
            ],
            "type": "contour"
           }
          ],
          "contourcarpet": [
           {
            "colorbar": {
             "outlinewidth": 0,
             "ticks": ""
            },
            "type": "contourcarpet"
           }
          ],
          "heatmap": [
           {
            "colorbar": {
             "outlinewidth": 0,
             "ticks": ""
            },
            "colorscale": [
             [
              0,
              "#0d0887"
             ],
             [
              0.1111111111111111,
              "#46039f"
             ],
             [
              0.2222222222222222,
              "#7201a8"
             ],
             [
              0.3333333333333333,
              "#9c179e"
             ],
             [
              0.4444444444444444,
              "#bd3786"
             ],
             [
              0.5555555555555556,
              "#d8576b"
             ],
             [
              0.6666666666666666,
              "#ed7953"
             ],
             [
              0.7777777777777778,
              "#fb9f3a"
             ],
             [
              0.8888888888888888,
              "#fdca26"
             ],
             [
              1,
              "#f0f921"
             ]
            ],
            "type": "heatmap"
           }
          ],
          "heatmapgl": [
           {
            "colorbar": {
             "outlinewidth": 0,
             "ticks": ""
            },
            "colorscale": [
             [
              0,
              "#0d0887"
             ],
             [
              0.1111111111111111,
              "#46039f"
             ],
             [
              0.2222222222222222,
              "#7201a8"
             ],
             [
              0.3333333333333333,
              "#9c179e"
             ],
             [
              0.4444444444444444,
              "#bd3786"
             ],
             [
              0.5555555555555556,
              "#d8576b"
             ],
             [
              0.6666666666666666,
              "#ed7953"
             ],
             [
              0.7777777777777778,
              "#fb9f3a"
             ],
             [
              0.8888888888888888,
              "#fdca26"
             ],
             [
              1,
              "#f0f921"
             ]
            ],
            "type": "heatmapgl"
           }
          ],
          "histogram": [
           {
            "marker": {
             "colorbar": {
              "outlinewidth": 0,
              "ticks": ""
             }
            },
            "type": "histogram"
           }
          ],
          "histogram2d": [
           {
            "colorbar": {
             "outlinewidth": 0,
             "ticks": ""
            },
            "colorscale": [
             [
              0,
              "#0d0887"
             ],
             [
              0.1111111111111111,
              "#46039f"
             ],
             [
              0.2222222222222222,
              "#7201a8"
             ],
             [
              0.3333333333333333,
              "#9c179e"
             ],
             [
              0.4444444444444444,
              "#bd3786"
             ],
             [
              0.5555555555555556,
              "#d8576b"
             ],
             [
              0.6666666666666666,
              "#ed7953"
             ],
             [
              0.7777777777777778,
              "#fb9f3a"
             ],
             [
              0.8888888888888888,
              "#fdca26"
             ],
             [
              1,
              "#f0f921"
             ]
            ],
            "type": "histogram2d"
           }
          ],
          "histogram2dcontour": [
           {
            "colorbar": {
             "outlinewidth": 0,
             "ticks": ""
            },
            "colorscale": [
             [
              0,
              "#0d0887"
             ],
             [
              0.1111111111111111,
              "#46039f"
             ],
             [
              0.2222222222222222,
              "#7201a8"
             ],
             [
              0.3333333333333333,
              "#9c179e"
             ],
             [
              0.4444444444444444,
              "#bd3786"
             ],
             [
              0.5555555555555556,
              "#d8576b"
             ],
             [
              0.6666666666666666,
              "#ed7953"
             ],
             [
              0.7777777777777778,
              "#fb9f3a"
             ],
             [
              0.8888888888888888,
              "#fdca26"
             ],
             [
              1,
              "#f0f921"
             ]
            ],
            "type": "histogram2dcontour"
           }
          ],
          "mesh3d": [
           {
            "colorbar": {
             "outlinewidth": 0,
             "ticks": ""
            },
            "type": "mesh3d"
           }
          ],
          "parcoords": [
           {
            "line": {
             "colorbar": {
              "outlinewidth": 0,
              "ticks": ""
             }
            },
            "type": "parcoords"
           }
          ],
          "scatter": [
           {
            "marker": {
             "colorbar": {
              "outlinewidth": 0,
              "ticks": ""
             }
            },
            "type": "scatter"
           }
          ],
          "scatter3d": [
           {
            "line": {
             "colorbar": {
              "outlinewidth": 0,
              "ticks": ""
             }
            },
            "marker": {
             "colorbar": {
              "outlinewidth": 0,
              "ticks": ""
             }
            },
            "type": "scatter3d"
           }
          ],
          "scattercarpet": [
           {
            "marker": {
             "colorbar": {
              "outlinewidth": 0,
              "ticks": ""
             }
            },
            "type": "scattercarpet"
           }
          ],
          "scattergeo": [
           {
            "marker": {
             "colorbar": {
              "outlinewidth": 0,
              "ticks": ""
             }
            },
            "type": "scattergeo"
           }
          ],
          "scattergl": [
           {
            "marker": {
             "colorbar": {
              "outlinewidth": 0,
              "ticks": ""
             }
            },
            "type": "scattergl"
           }
          ],
          "scattermapbox": [
           {
            "marker": {
             "colorbar": {
              "outlinewidth": 0,
              "ticks": ""
             }
            },
            "type": "scattermapbox"
           }
          ],
          "scatterpolar": [
           {
            "marker": {
             "colorbar": {
              "outlinewidth": 0,
              "ticks": ""
             }
            },
            "type": "scatterpolar"
           }
          ],
          "scatterpolargl": [
           {
            "marker": {
             "colorbar": {
              "outlinewidth": 0,
              "ticks": ""
             }
            },
            "type": "scatterpolargl"
           }
          ],
          "scatterternary": [
           {
            "marker": {
             "colorbar": {
              "outlinewidth": 0,
              "ticks": ""
             }
            },
            "type": "scatterternary"
           }
          ],
          "surface": [
           {
            "colorbar": {
             "outlinewidth": 0,
             "ticks": ""
            },
            "colorscale": [
             [
              0,
              "#0d0887"
             ],
             [
              0.1111111111111111,
              "#46039f"
             ],
             [
              0.2222222222222222,
              "#7201a8"
             ],
             [
              0.3333333333333333,
              "#9c179e"
             ],
             [
              0.4444444444444444,
              "#bd3786"
             ],
             [
              0.5555555555555556,
              "#d8576b"
             ],
             [
              0.6666666666666666,
              "#ed7953"
             ],
             [
              0.7777777777777778,
              "#fb9f3a"
             ],
             [
              0.8888888888888888,
              "#fdca26"
             ],
             [
              1,
              "#f0f921"
             ]
            ],
            "type": "surface"
           }
          ],
          "table": [
           {
            "cells": {
             "fill": {
              "color": "#EBF0F8"
             },
             "line": {
              "color": "white"
             }
            },
            "header": {
             "fill": {
              "color": "#C8D4E3"
             },
             "line": {
              "color": "white"
             }
            },
            "type": "table"
           }
          ]
         },
         "layout": {
          "annotationdefaults": {
           "arrowcolor": "#2a3f5f",
           "arrowhead": 0,
           "arrowwidth": 1
          },
          "colorscale": {
           "diverging": [
            [
             0,
             "#8e0152"
            ],
            [
             0.1,
             "#c51b7d"
            ],
            [
             0.2,
             "#de77ae"
            ],
            [
             0.3,
             "#f1b6da"
            ],
            [
             0.4,
             "#fde0ef"
            ],
            [
             0.5,
             "#f7f7f7"
            ],
            [
             0.6,
             "#e6f5d0"
            ],
            [
             0.7,
             "#b8e186"
            ],
            [
             0.8,
             "#7fbc41"
            ],
            [
             0.9,
             "#4d9221"
            ],
            [
             1,
             "#276419"
            ]
           ],
           "sequential": [
            [
             0,
             "#0d0887"
            ],
            [
             0.1111111111111111,
             "#46039f"
            ],
            [
             0.2222222222222222,
             "#7201a8"
            ],
            [
             0.3333333333333333,
             "#9c179e"
            ],
            [
             0.4444444444444444,
             "#bd3786"
            ],
            [
             0.5555555555555556,
             "#d8576b"
            ],
            [
             0.6666666666666666,
             "#ed7953"
            ],
            [
             0.7777777777777778,
             "#fb9f3a"
            ],
            [
             0.8888888888888888,
             "#fdca26"
            ],
            [
             1,
             "#f0f921"
            ]
           ],
           "sequentialminus": [
            [
             0,
             "#0d0887"
            ],
            [
             0.1111111111111111,
             "#46039f"
            ],
            [
             0.2222222222222222,
             "#7201a8"
            ],
            [
             0.3333333333333333,
             "#9c179e"
            ],
            [
             0.4444444444444444,
             "#bd3786"
            ],
            [
             0.5555555555555556,
             "#d8576b"
            ],
            [
             0.6666666666666666,
             "#ed7953"
            ],
            [
             0.7777777777777778,
             "#fb9f3a"
            ],
            [
             0.8888888888888888,
             "#fdca26"
            ],
            [
             1,
             "#f0f921"
            ]
           ]
          },
          "colorway": [
           "#636efa",
           "#EF553B",
           "#00cc96",
           "#ab63fa",
           "#FFA15A",
           "#19d3f3",
           "#FF6692",
           "#B6E880",
           "#FF97FF",
           "#FECB52"
          ],
          "font": {
           "color": "#2a3f5f"
          },
          "geo": {
           "bgcolor": "white",
           "lakecolor": "white",
           "landcolor": "#E5ECF6",
           "showlakes": true,
           "showland": true,
           "subunitcolor": "white"
          },
          "hoverlabel": {
           "align": "left"
          },
          "hovermode": "closest",
          "mapbox": {
           "style": "light"
          },
          "paper_bgcolor": "white",
          "plot_bgcolor": "#E5ECF6",
          "polar": {
           "angularaxis": {
            "gridcolor": "white",
            "linecolor": "white",
            "ticks": ""
           },
           "bgcolor": "#E5ECF6",
           "radialaxis": {
            "gridcolor": "white",
            "linecolor": "white",
            "ticks": ""
           }
          },
          "scene": {
           "xaxis": {
            "backgroundcolor": "#E5ECF6",
            "gridcolor": "white",
            "gridwidth": 2,
            "linecolor": "white",
            "showbackground": true,
            "ticks": "",
            "zerolinecolor": "white"
           },
           "yaxis": {
            "backgroundcolor": "#E5ECF6",
            "gridcolor": "white",
            "gridwidth": 2,
            "linecolor": "white",
            "showbackground": true,
            "ticks": "",
            "zerolinecolor": "white"
           },
           "zaxis": {
            "backgroundcolor": "#E5ECF6",
            "gridcolor": "white",
            "gridwidth": 2,
            "linecolor": "white",
            "showbackground": true,
            "ticks": "",
            "zerolinecolor": "white"
           }
          },
          "shapedefaults": {
           "line": {
            "color": "#2a3f5f"
           }
          },
          "ternary": {
           "aaxis": {
            "gridcolor": "white",
            "linecolor": "white",
            "ticks": ""
           },
           "baxis": {
            "gridcolor": "white",
            "linecolor": "white",
            "ticks": ""
           },
           "bgcolor": "#E5ECF6",
           "caxis": {
            "gridcolor": "white",
            "linecolor": "white",
            "ticks": ""
           }
          },
          "title": {
           "x": 0.05
          },
          "xaxis": {
           "automargin": true,
           "gridcolor": "white",
           "linecolor": "white",
           "ticks": "",
           "zerolinecolor": "white",
           "zerolinewidth": 2
          },
          "yaxis": {
           "automargin": true,
           "gridcolor": "white",
           "linecolor": "white",
           "ticks": "",
           "zerolinecolor": "white",
           "zerolinewidth": 2
          }
         }
        },
        "xaxis": {
         "gridcolor": "#c0c0c0",
         "range": [
          "2019-07-26T14:13:17+00:00",
          "2019-07-26T16:13:17+00:00"
         ],
         "showgrid": true,
         "type": "date"
        },
        "yaxis": {
         "fixedrange": true,
         "gridcolor": "#c0c0c0",
         "hoverformat": ".2f",
         "range": [
          0,
          2.2
         ],
         "showgrid": true,
         "title": {
          "font": {
           "size": 12
          },
          "text": "Insulin (U, U/hr)"
         },
         "type": "linear"
        }
       }
      },
      "image/png": "[encoded data removed]",
      "text/html": [
       "<div>\n",
       "        \n",
       "        \n",
       "            <div id=\"7a9c92c8-2479-45fe-8f64-e57e2e2305a1\" class=\"plotly-graph-div\" style=\"height:525px; width:100%;\"></div>\n",
       "            <script type=\"text/javascript\">\n",
       "                require([\"plotly\"], function(Plotly) {\n",
       "                    window.PLOTLYENV=window.PLOTLYENV || {};\n",
       "                    \n",
       "                if (document.getElementById(\"7a9c92c8-2479-45fe-8f64-e57e2e2305a1\")) {\n",
       "                    Plotly.newPlot(\n",
       "                        '7a9c92c8-2479-45fe-8f64-e57e2e2305a1',\n",
       "                        [{\"fill\": \"tozeroy\", \"hoverinfo\": \"y+name\", \"line\": {\"color\": \"#5ac6fa\", \"dash\": \"dot\", \"shape\": \"vh\"}, \"mode\": \"lines\", \"name\": \"temp basal set\", \"type\": \"scatter\", \"x\": [\"2019-07-26T15:13:17+00:00\", \"2019-07-26T15:43:17+00:00\"], \"y\": [1.2, 1.2]}, {\"hoverinfo\": \"y+name\", \"marker\": {\"color\": \"#5ac6fa\"}, \"name\": \"bolus recommended\", \"type\": \"bar\", \"width\": 120000, \"x\": [\"2019-07-26T15:13:17+00:00\"], \"y\": [0.15]}],\n",
       "                        {\"annotations\": [{\"arrowhead\": 1, \"ax\": 0, \"ay\": -0.5, \"ayref\": \"y\", \"showarrow\": true, \"text\": \"current time\", \"x\": \"2019-07-26T15:13:17+00:00\", \"xref\": \"x\", \"y\": 0, \"yref\": \"y\"}], \"dragmode\": \"pan\", \"hovermode\": \"x\", \"plot_bgcolor\": \"white\", \"showlegend\": true, \"template\": {\"data\": {\"bar\": [{\"error_x\": {\"color\": \"#2a3f5f\"}, \"error_y\": {\"color\": \"#2a3f5f\"}, \"marker\": {\"line\": {\"color\": \"#E5ECF6\", \"width\": 0.5}}, \"type\": \"bar\"}], \"barpolar\": [{\"marker\": {\"line\": {\"color\": \"#E5ECF6\", \"width\": 0.5}}, \"type\": \"barpolar\"}], \"carpet\": [{\"aaxis\": {\"endlinecolor\": \"#2a3f5f\", \"gridcolor\": \"white\", \"linecolor\": \"white\", \"minorgridcolor\": \"white\", \"startlinecolor\": \"#2a3f5f\"}, \"baxis\": {\"endlinecolor\": \"#2a3f5f\", \"gridcolor\": \"white\", \"linecolor\": \"white\", \"minorgridcolor\": \"white\", \"startlinecolor\": \"#2a3f5f\"}, \"type\": \"carpet\"}], \"choropleth\": [{\"colorbar\": {\"outlinewidth\": 0, \"ticks\": \"\"}, \"type\": \"choropleth\"}], \"contour\": [{\"colorbar\": {\"outlinewidth\": 0, \"ticks\": \"\"}, \"colorscale\": [[0.0, \"#0d0887\"], [0.1111111111111111, \"#46039f\"], [0.2222222222222222, \"#7201a8\"], [0.3333333333333333, \"#9c179e\"], [0.4444444444444444, \"#bd3786\"], [0.5555555555555556, \"#d8576b\"], [0.6666666666666666, \"#ed7953\"], [0.7777777777777778, \"#fb9f3a\"], [0.8888888888888888, \"#fdca26\"], [1.0, \"#f0f921\"]], \"type\": \"contour\"}], \"contourcarpet\": [{\"colorbar\": {\"outlinewidth\": 0, \"ticks\": \"\"}, \"type\": \"contourcarpet\"}], \"heatmap\": [{\"colorbar\": {\"outlinewidth\": 0, \"ticks\": \"\"}, \"colorscale\": [[0.0, \"#0d0887\"], [0.1111111111111111, \"#46039f\"], [0.2222222222222222, \"#7201a8\"], [0.3333333333333333, \"#9c179e\"], [0.4444444444444444, \"#bd3786\"], [0.5555555555555556, \"#d8576b\"], [0.6666666666666666, \"#ed7953\"], [0.7777777777777778, \"#fb9f3a\"], [0.8888888888888888, \"#fdca26\"], [1.0, \"#f0f921\"]], \"type\": \"heatmap\"}], \"heatmapgl\": [{\"colorbar\": {\"outlinewidth\": 0, \"ticks\": \"\"}, \"colorscale\": [[0.0, \"#0d0887\"], [0.1111111111111111, \"#46039f\"], [0.2222222222222222, \"#7201a8\"], [0.3333333333333333, \"#9c179e\"], [0.4444444444444444, \"#bd3786\"], [0.5555555555555556, \"#d8576b\"], [0.6666666666666666, \"#ed7953\"], [0.7777777777777778, \"#fb9f3a\"], [0.8888888888888888, \"#fdca26\"], [1.0, \"#f0f921\"]], \"type\": \"heatmapgl\"}], \"histogram\": [{\"marker\": {\"colorbar\": {\"outlinewidth\": 0, \"ticks\": \"\"}}, \"type\": \"histogram\"}], \"histogram2d\": [{\"colorbar\": {\"outlinewidth\": 0, \"ticks\": \"\"}, \"colorscale\": [[0.0, \"#0d0887\"], [0.1111111111111111, \"#46039f\"], [0.2222222222222222, \"#7201a8\"], [0.3333333333333333, \"#9c179e\"], [0.4444444444444444, \"#bd3786\"], [0.5555555555555556, \"#d8576b\"], [0.6666666666666666, \"#ed7953\"], [0.7777777777777778, \"#fb9f3a\"], [0.8888888888888888, \"#fdca26\"], [1.0, \"#f0f921\"]], \"type\": \"histogram2d\"}], \"histogram2dcontour\": [{\"colorbar\": {\"outlinewidth\": 0, \"ticks\": \"\"}, \"colorscale\": [[0.0, \"#0d0887\"], [0.1111111111111111, \"#46039f\"], [0.2222222222222222, \"#7201a8\"], [0.3333333333333333, \"#9c179e\"], [0.4444444444444444, \"#bd3786\"], [0.5555555555555556, \"#d8576b\"], [0.6666666666666666, \"#ed7953\"], [0.7777777777777778, \"#fb9f3a\"], [0.8888888888888888, \"#fdca26\"], [1.0, \"#f0f921\"]], \"type\": \"histogram2dcontour\"}], \"mesh3d\": [{\"colorbar\": {\"outlinewidth\": 0, \"ticks\": \"\"}, \"type\": \"mesh3d\"}], \"parcoords\": [{\"line\": {\"colorbar\": {\"outlinewidth\": 0, \"ticks\": \"\"}}, \"type\": \"parcoords\"}], \"scatter\": [{\"marker\": {\"colorbar\": {\"outlinewidth\": 0, \"ticks\": \"\"}}, \"type\": \"scatter\"}], \"scatter3d\": [{\"line\": {\"colorbar\": {\"outlinewidth\": 0, \"ticks\": \"\"}}, \"marker\": {\"colorbar\": {\"outlinewidth\": 0, \"ticks\": \"\"}}, \"type\": \"scatter3d\"}], \"scattercarpet\": [{\"marker\": {\"colorbar\": {\"outlinewidth\": 0, \"ticks\": \"\"}}, \"type\": \"scattercarpet\"}], \"scattergeo\": [{\"marker\": {\"colorbar\": {\"outlinewidth\": 0, \"ticks\": \"\"}}, \"type\": \"scattergeo\"}], \"scattergl\": [{\"marker\": {\"colorbar\": {\"outlinewidth\": 0, \"ticks\": \"\"}}, \"type\": \"scattergl\"}], \"scattermapbox\": [{\"marker\": {\"colorbar\": {\"outlinewidth\": 0, \"ticks\": \"\"}}, \"type\": \"scattermapbox\"}], \"scatterpolar\": [{\"marker\": {\"colorbar\": {\"outlinewidth\": 0, \"ticks\": \"\"}}, \"type\": \"scatterpolar\"}], \"scatterpolargl\": [{\"marker\": {\"colorbar\": {\"outlinewidth\": 0, \"ticks\": \"\"}}, \"type\": \"scatterpolargl\"}], \"scatterternary\": [{\"marker\": {\"colorbar\": {\"outlinewidth\": 0, \"ticks\": \"\"}}, \"type\": \"scatterternary\"}], \"surface\": [{\"colorbar\": {\"outlinewidth\": 0, \"ticks\": \"\"}, \"colorscale\": [[0.0, \"#0d0887\"], [0.1111111111111111, \"#46039f\"], [0.2222222222222222, \"#7201a8\"], [0.3333333333333333, \"#9c179e\"], [0.4444444444444444, \"#bd3786\"], [0.5555555555555556, \"#d8576b\"], [0.6666666666666666, \"#ed7953\"], [0.7777777777777778, \"#fb9f3a\"], [0.8888888888888888, \"#fdca26\"], [1.0, \"#f0f921\"]], \"type\": \"surface\"}], \"table\": [{\"cells\": {\"fill\": {\"color\": \"#EBF0F8\"}, \"line\": {\"color\": \"white\"}}, \"header\": {\"fill\": {\"color\": \"#C8D4E3\"}, \"line\": {\"color\": \"white\"}}, \"type\": \"table\"}]}, \"layout\": {\"annotationdefaults\": {\"arrowcolor\": \"#2a3f5f\", \"arrowhead\": 0, \"arrowwidth\": 1}, \"colorscale\": {\"diverging\": [[0, \"#8e0152\"], [0.1, \"#c51b7d\"], [0.2, \"#de77ae\"], [0.3, \"#f1b6da\"], [0.4, \"#fde0ef\"], [0.5, \"#f7f7f7\"], [0.6, \"#e6f5d0\"], [0.7, \"#b8e186\"], [0.8, \"#7fbc41\"], [0.9, \"#4d9221\"], [1, \"#276419\"]], \"sequential\": [[0.0, \"#0d0887\"], [0.1111111111111111, \"#46039f\"], [0.2222222222222222, \"#7201a8\"], [0.3333333333333333, \"#9c179e\"], [0.4444444444444444, \"#bd3786\"], [0.5555555555555556, \"#d8576b\"], [0.6666666666666666, \"#ed7953\"], [0.7777777777777778, \"#fb9f3a\"], [0.8888888888888888, \"#fdca26\"], [1.0, \"#f0f921\"]], \"sequentialminus\": [[0.0, \"#0d0887\"], [0.1111111111111111, \"#46039f\"], [0.2222222222222222, \"#7201a8\"], [0.3333333333333333, \"#9c179e\"], [0.4444444444444444, \"#bd3786\"], [0.5555555555555556, \"#d8576b\"], [0.6666666666666666, \"#ed7953\"], [0.7777777777777778, \"#fb9f3a\"], [0.8888888888888888, \"#fdca26\"], [1.0, \"#f0f921\"]]}, \"colorway\": [\"#636efa\", \"#EF553B\", \"#00cc96\", \"#ab63fa\", \"#FFA15A\", \"#19d3f3\", \"#FF6692\", \"#B6E880\", \"#FF97FF\", \"#FECB52\"], \"font\": {\"color\": \"#2a3f5f\"}, \"geo\": {\"bgcolor\": \"white\", \"lakecolor\": \"white\", \"landcolor\": \"#E5ECF6\", \"showlakes\": true, \"showland\": true, \"subunitcolor\": \"white\"}, \"hoverlabel\": {\"align\": \"left\"}, \"hovermode\": \"closest\", \"mapbox\": {\"style\": \"light\"}, \"paper_bgcolor\": \"white\", \"plot_bgcolor\": \"#E5ECF6\", \"polar\": {\"angularaxis\": {\"gridcolor\": \"white\", \"linecolor\": \"white\", \"ticks\": \"\"}, \"bgcolor\": \"#E5ECF6\", \"radialaxis\": {\"gridcolor\": \"white\", \"linecolor\": \"white\", \"ticks\": \"\"}}, \"scene\": {\"xaxis\": {\"backgroundcolor\": \"#E5ECF6\", \"gridcolor\": \"white\", \"gridwidth\": 2, \"linecolor\": \"white\", \"showbackground\": true, \"ticks\": \"\", \"zerolinecolor\": \"white\"}, \"yaxis\": {\"backgroundcolor\": \"#E5ECF6\", \"gridcolor\": \"white\", \"gridwidth\": 2, \"linecolor\": \"white\", \"showbackground\": true, \"ticks\": \"\", \"zerolinecolor\": \"white\"}, \"zaxis\": {\"backgroundcolor\": \"#E5ECF6\", \"gridcolor\": \"white\", \"gridwidth\": 2, \"linecolor\": \"white\", \"showbackground\": true, \"ticks\": \"\", \"zerolinecolor\": \"white\"}}, \"shapedefaults\": {\"line\": {\"color\": \"#2a3f5f\"}}, \"ternary\": {\"aaxis\": {\"gridcolor\": \"white\", \"linecolor\": \"white\", \"ticks\": \"\"}, \"baxis\": {\"gridcolor\": \"white\", \"linecolor\": \"white\", \"ticks\": \"\"}, \"bgcolor\": \"#E5ECF6\", \"caxis\": {\"gridcolor\": \"white\", \"linecolor\": \"white\", \"ticks\": \"\"}}, \"title\": {\"x\": 0.05}, \"xaxis\": {\"automargin\": true, \"gridcolor\": \"white\", \"linecolor\": \"white\", \"ticks\": \"\", \"zerolinecolor\": \"white\", \"zerolinewidth\": 2}, \"yaxis\": {\"automargin\": true, \"gridcolor\": \"white\", \"linecolor\": \"white\", \"ticks\": \"\", \"zerolinecolor\": \"white\", \"zerolinewidth\": 2}}}, \"xaxis\": {\"gridcolor\": \"#c0c0c0\", \"range\": [\"2019-07-26T14:13:17+00:00\", \"2019-07-26T16:13:17+00:00\"], \"showgrid\": true}, \"yaxis\": {\"fixedrange\": true, \"gridcolor\": \"#c0c0c0\", \"hoverformat\": \".2f\", \"range\": [0, 2.2], \"showgrid\": true, \"title\": {\"font\": {\"size\": 12}, \"text\": \"Insulin (U, U/hr)\"}}},\n",
       "                        {\"responsive\": true}\n",
       "                    ).then(function(){\n",
       "                            \n",
       "var gd = document.getElementById('7a9c92c8-2479-45fe-8f64-e57e2e2305a1');\n",
       "var x = new MutationObserver(function (mutations, observer) {{\n",
       "        var display = window.getComputedStyle(gd).display;\n",
       "        if (!display || display === 'none') {{\n",
       "            console.log([gd, 'removed!']);\n",
       "            Plotly.purge(gd);\n",
       "            observer.disconnect();\n",
       "        }}\n",
       "}});\n",
       "\n",
       "// Listen for the removal of the full notebook cells\n",
       "var notebookContainer = gd.closest('#notebook-container');\n",
       "if (notebookContainer) {{\n",
       "    x.observe(notebookContainer, {childList: true});\n",
       "}}\n",
       "\n",
       "// Listen for the clearing of the current output cell\n",
       "var outputEl = gd.closest('.output');\n",
       "if (outputEl) {{\n",
       "    x.observe(outputEl, {childList: true});\n",
       "}}\n",
       "\n",
       "                        })\n",
       "                };\n",
       "                });\n",
       "            </script>\n",
       "        </div>"
      ]
     },
     "metadata": {},
     "output_type": "display_data"
    }
   ],
   "source": [
    "# recommended temp basal\n",
    "recommended_temp_basal = recommendations.get(\"recommended_temp_basal\")\n",
    "if recommended_temp_basal is not None:\n",
    "    rec_temp_basal_rate = recommended_temp_basal[0]\n",
    "    rec_temp_basal_duration = recommended_temp_basal[1]\n",
    "else:\n",
    "    rec_temp_basal_rate = basal.loc[basal.index.max(), \"sbr\"]\n",
    "    rec_temp_basal_duration = 30\n",
    "\n",
    "recommended_basal_trace = go.Scatter(\n",
    "    name=\"temp basal set\",\n",
    "    mode='lines',\n",
    "    x=[\n",
    "       current_time,\n",
    "       current_time + datetime.timedelta(minutes=rec_temp_basal_duration),\n",
    "    ],\n",
    "    y=[rec_temp_basal_rate, rec_temp_basal_rate],\n",
    "    hoverinfo=\"y+name\",\n",
    "    line=dict(\n",
    "        shape='vh',\n",
    "        color='#5ac6fa',\n",
    "        dash='dot'\n",
    "    ),\n",
    "    fill='tozeroy'\n",
    ")\n",
    "\n",
    "# recommended bolus\n",
    "recommended_bolus = recommendations.get(\"recommended_bolus\")[0]\n",
    "\n",
    "recommended_bolus_trace = go.Bar(\n",
    "    name=\"bolus recommended\",\n",
    "    x=[current_time],\n",
    "    y=[recommended_bolus],\n",
    "    hoverinfo=\"y+name\",\n",
    "    width=2000*60,\n",
    "    marker=dict(color='#5ac6fa')\n",
    ")\n",
    "\n",
    "y_rec_height = max(\n",
    "    recommended_bolus,\n",
    "    rec_temp_basal_rate,\n",
    ") + 1\n",
    "\n",
    "layout = go.Layout(\n",
    "    showlegend=True,\n",
    "    plot_bgcolor=\"white\",\n",
    "    yaxis=dict(\n",
    "        range=[0, y_rec_height],\n",
    "        fixedrange=True,\n",
    "        hoverformat=\".2f\",\n",
    "        showgrid=True,\n",
    "        gridcolor=\"#c0c0c0\",\n",
    "        title=dict(\n",
    "            text=\"Insulin (U, U/hr)\",\n",
    "            font=dict(\n",
    "                size=12\n",
    "            )\n",
    "        )\n",
    "    ),\n",
    "    xaxis=dict(\n",
    "        range=(\n",
    "            current_time - datetime.timedelta(hours=1),\n",
    "            current_time + datetime.timedelta(hours=1)\n",
    "        ),\n",
    "        showgrid=True,\n",
    "        gridcolor=\"#c0c0c0\",\n",
    "    ),\n",
    "    annotations=[\n",
    "        go.layout.Annotation(\n",
    "            x=current_time,\n",
    "            y=0,\n",
    "            xref=\"x\",\n",
    "            yref=\"y\",\n",
    "            text=\"current time\",\n",
    "            showarrow=True,\n",
    "            arrowhead=1,\n",
    "            ax=0,\n",
    "            ayref=\"y\",\n",
    "            ay=-0.5\n",
    "        )\n",
    "    ],\n",
    "    dragmode=\"pan\",\n",
    "    hovermode=\"x\"\n",
    ")\n",
    "data = [recommended_basal_trace, recommended_bolus_trace]\n",
    "fig = go.Figure(data=data, layout=layout)\n",
    "fig"
   ]
  },
  {
   "cell_type": "markdown",
   "metadata": {},
   "source": [
    "# Loop BG Prediction"
   ]
  },
  {
   "cell_type": "markdown",
   "metadata": {},
   "source": [
    "## Overall Prediction"
   ]
  },
  {
   "cell_type": "code",
   "execution_count": 247,
   "metadata": {},
   "outputs": [
    {
     "data": {
      "application/vnd.plotly.v1+json": {
       "config": {
        "plotlyServerURL": "https://plot.ly"
       },
       "data": [
        {
         "hoverinfo": "y+name",
         "line": {
          "color": "#5ac6fa",
          "dash": "dash"
         },
         "mode": "lines",
         "name": "predicted bg",
         "type": "scattergl",
         "x": [
          "2019-07-26T15:12:46+00:00",
          "2019-07-26T15:15:00+00:00",
          "2019-07-26T15:20:00+00:00",
          "2019-07-26T15:25:00+00:00",
          "2019-07-26T15:30:00+00:00",
          "2019-07-26T15:35:00+00:00",
          "2019-07-26T15:40:00+00:00",
          "2019-07-26T15:45:00+00:00",
          "2019-07-26T15:50:00+00:00",
          "2019-07-26T15:55:00+00:00",
          "2019-07-26T16:00:00+00:00",
          "2019-07-26T16:05:00+00:00",
          "2019-07-26T16:10:00+00:00",
          "2019-07-26T16:15:00+00:00",
          "2019-07-26T16:20:00+00:00",
          "2019-07-26T16:25:00+00:00",
          "2019-07-26T16:30:00+00:00",
          "2019-07-26T16:35:00+00:00",
          "2019-07-26T16:40:00+00:00",
          "2019-07-26T16:45:00+00:00",
          "2019-07-26T16:50:00+00:00",
          "2019-07-26T16:55:00+00:00",
          "2019-07-26T17:00:00+00:00",
          "2019-07-26T17:05:00+00:00",
          "2019-07-26T17:10:00+00:00",
          "2019-07-26T17:15:00+00:00",
          "2019-07-26T17:20:00+00:00",
          "2019-07-26T17:25:00+00:00",
          "2019-07-26T17:30:00+00:00",
          "2019-07-26T17:35:00+00:00",
          "2019-07-26T17:40:00+00:00",
          "2019-07-26T17:45:00+00:00",
          "2019-07-26T17:50:00+00:00",
          "2019-07-26T17:55:00+00:00",
          "2019-07-26T18:00:00+00:00",
          "2019-07-26T18:05:00+00:00",
          "2019-07-26T18:10:00+00:00",
          "2019-07-26T18:15:00+00:00",
          "2019-07-26T18:20:00+00:00",
          "2019-07-26T18:25:00+00:00",
          "2019-07-26T18:30:00+00:00",
          "2019-07-26T18:35:00+00:00",
          "2019-07-26T18:40:00+00:00",
          "2019-07-26T18:45:00+00:00",
          "2019-07-26T18:50:00+00:00",
          "2019-07-26T18:55:00+00:00",
          "2019-07-26T19:00:00+00:00",
          "2019-07-26T19:05:00+00:00",
          "2019-07-26T19:10:00+00:00",
          "2019-07-26T19:15:00+00:00",
          "2019-07-26T19:20:00+00:00",
          "2019-07-26T19:25:00+00:00",
          "2019-07-26T19:30:00+00:00",
          "2019-07-26T19:35:00+00:00",
          "2019-07-26T19:40:00+00:00",
          "2019-07-26T19:45:00+00:00",
          "2019-07-26T19:50:00+00:00",
          "2019-07-26T19:55:00+00:00",
          "2019-07-26T20:00:00+00:00",
          "2019-07-26T20:05:00+00:00",
          "2019-07-26T20:10:00+00:00",
          "2019-07-26T20:15:00+00:00",
          "2019-07-26T20:20:00+00:00",
          "2019-07-26T20:25:00+00:00",
          "2019-07-26T20:30:00+00:00",
          "2019-07-26T20:35:00+00:00",
          "2019-07-26T20:40:00+00:00",
          "2019-07-26T20:45:00+00:00",
          "2019-07-26T20:50:00+00:00",
          "2019-07-26T20:55:00+00:00",
          "2019-07-26T21:00:00+00:00",
          "2019-07-26T21:05:00+00:00",
          "2019-07-26T21:10:00+00:00",
          "2019-07-26T21:15:00+00:00",
          "2019-07-26T21:20:00+00:00",
          "2019-07-26T21:25:00+00:00",
          "2019-07-26T21:30:00+00:00",
          "2019-07-26T21:35:00+00:00",
          "2019-07-26T21:40:00+00:00",
          "2019-07-26T21:45:00+00:00",
          "2019-07-26T21:50:00+00:00",
          "2019-07-26T21:55:00+00:00",
          "2019-07-26T22:00:00+00:00",
          "2019-07-26T22:05:00+00:00",
          "2019-07-26T22:10:00+00:00",
          "2019-07-26T22:15:00+00:00"
         ],
         "y": [
          152.968,
          154.21777333333333,
          157.08169251028804,
          160.05074233444438,
          162.31919114360272,
          163.3629213271723,
          163.46580485434572,
          162.77474038220265,
          161.42097081592016,
          159.52150959309748,
          157.18044806566974,
          154.490153332797,
          151.53236517208092,
          148.37920006209603,
          145.09406968283474,
          141.73252071881947,
          138.34300226914812,
          134.96756668663375,
          131.64250922172408,
          128.3989514334744,
          125.2633729471136,
          122.25809578347678,
          119.40172515771106,
          116.70955034129382,
          114.19390890074241,
          111.86451736680348,
          109.72877114784218,
          107.79201627919247,
          106.0577953950476,
          104.52807011983958,
          103.20342190083741,
          102.08323314182479,
          101.16585034821489,
          100.44873085591084,
          99.92857458878177,
          99.60144217199885,
          99.46286061994806,
          99.507917717319,
          99.73134611963738,
          100.127598114384,
          100.69091190537677,
          101.41537021079523,
          102.29495189862203,
          103.3235773219449,
          104.49514796009703,
          105.80358091964894,
          107.24283880146041,
          108.8069553960301,
          110.49005762896343,
          112.28638414122906,
          114.19030085475126,
          116.19631384254836,
          118.2990797938632,
          120.49341433834138,
          122.77429846910911,
          125.13688328241687,
          127.5764932311867,
          130.0886280711855,
          132.66896366150814,
          135.31335176546733,
          138.01781898373596,
          140.7785649385675,
          143.59195981602923,
          146.45454136233158,
          149.36301142044286,
          152.31423208416197,
          155.30522153860798,
          158.333149648618,
          161.3953333497503,
          164.48923189042281,
          167.61244196811649,
          170.76269279750167,
          173.93784114374654,
          175.85037252295245,
          175.82863081728485,
          175.8248917413816,
          175.8248917413816,
          175.8248917413816,
          175.8248917413816,
          175.8248917413816,
          175.8248917413816,
          175.8248917413816,
          175.8248917413816,
          175.8248917413816,
          175.8248917413816,
          175.8248917413816
         ]
        }
       ],
       "layout": {
        "annotations": [
         {
          "arrowhead": 1,
          "ax": 0,
          "ay": 425,
          "ayref": "y",
          "showarrow": true,
          "text": "current time",
          "x": "2019-07-26T15:13:17+00:00",
          "xref": "x",
          "y": 162.968,
          "yref": "y"
         }
        ],
        "autosize": true,
        "dragmode": "pan",
        "hovermode": "x",
        "plot_bgcolor": "white",
        "showlegend": true,
        "template": {
         "data": {
          "bar": [
           {
            "error_x": {
             "color": "#2a3f5f"
            },
            "error_y": {
             "color": "#2a3f5f"
            },
            "marker": {
             "line": {
              "color": "#E5ECF6",
              "width": 0.5
             }
            },
            "type": "bar"
           }
          ],
          "barpolar": [
           {
            "marker": {
             "line": {
              "color": "#E5ECF6",
              "width": 0.5
             }
            },
            "type": "barpolar"
           }
          ],
          "carpet": [
           {
            "aaxis": {
             "endlinecolor": "#2a3f5f",
             "gridcolor": "white",
             "linecolor": "white",
             "minorgridcolor": "white",
             "startlinecolor": "#2a3f5f"
            },
            "baxis": {
             "endlinecolor": "#2a3f5f",
             "gridcolor": "white",
             "linecolor": "white",
             "minorgridcolor": "white",
             "startlinecolor": "#2a3f5f"
            },
            "type": "carpet"
           }
          ],
          "choropleth": [
           {
            "colorbar": {
             "outlinewidth": 0,
             "ticks": ""
            },
            "type": "choropleth"
           }
          ],
          "contour": [
           {
            "colorbar": {
             "outlinewidth": 0,
             "ticks": ""
            },
            "colorscale": [
             [
              0,
              "#0d0887"
             ],
             [
              0.1111111111111111,
              "#46039f"
             ],
             [
              0.2222222222222222,
              "#7201a8"
             ],
             [
              0.3333333333333333,
              "#9c179e"
             ],
             [
              0.4444444444444444,
              "#bd3786"
             ],
             [
              0.5555555555555556,
              "#d8576b"
             ],
             [
              0.6666666666666666,
              "#ed7953"
             ],
             [
              0.7777777777777778,
              "#fb9f3a"
             ],
             [
              0.8888888888888888,
              "#fdca26"
             ],
             [
              1,
              "#f0f921"
             ]
            ],
            "type": "contour"
           }
          ],
          "contourcarpet": [
           {
            "colorbar": {
             "outlinewidth": 0,
             "ticks": ""
            },
            "type": "contourcarpet"
           }
          ],
          "heatmap": [
           {
            "colorbar": {
             "outlinewidth": 0,
             "ticks": ""
            },
            "colorscale": [
             [
              0,
              "#0d0887"
             ],
             [
              0.1111111111111111,
              "#46039f"
             ],
             [
              0.2222222222222222,
              "#7201a8"
             ],
             [
              0.3333333333333333,
              "#9c179e"
             ],
             [
              0.4444444444444444,
              "#bd3786"
             ],
             [
              0.5555555555555556,
              "#d8576b"
             ],
             [
              0.6666666666666666,
              "#ed7953"
             ],
             [
              0.7777777777777778,
              "#fb9f3a"
             ],
             [
              0.8888888888888888,
              "#fdca26"
             ],
             [
              1,
              "#f0f921"
             ]
            ],
            "type": "heatmap"
           }
          ],
          "heatmapgl": [
           {
            "colorbar": {
             "outlinewidth": 0,
             "ticks": ""
            },
            "colorscale": [
             [
              0,
              "#0d0887"
             ],
             [
              0.1111111111111111,
              "#46039f"
             ],
             [
              0.2222222222222222,
              "#7201a8"
             ],
             [
              0.3333333333333333,
              "#9c179e"
             ],
             [
              0.4444444444444444,
              "#bd3786"
             ],
             [
              0.5555555555555556,
              "#d8576b"
             ],
             [
              0.6666666666666666,
              "#ed7953"
             ],
             [
              0.7777777777777778,
              "#fb9f3a"
             ],
             [
              0.8888888888888888,
              "#fdca26"
             ],
             [
              1,
              "#f0f921"
             ]
            ],
            "type": "heatmapgl"
           }
          ],
          "histogram": [
           {
            "marker": {
             "colorbar": {
              "outlinewidth": 0,
              "ticks": ""
             }
            },
            "type": "histogram"
           }
          ],
          "histogram2d": [
           {
            "colorbar": {
             "outlinewidth": 0,
             "ticks": ""
            },
            "colorscale": [
             [
              0,
              "#0d0887"
             ],
             [
              0.1111111111111111,
              "#46039f"
             ],
             [
              0.2222222222222222,
              "#7201a8"
             ],
             [
              0.3333333333333333,
              "#9c179e"
             ],
             [
              0.4444444444444444,
              "#bd3786"
             ],
             [
              0.5555555555555556,
              "#d8576b"
             ],
             [
              0.6666666666666666,
              "#ed7953"
             ],
             [
              0.7777777777777778,
              "#fb9f3a"
             ],
             [
              0.8888888888888888,
              "#fdca26"
             ],
             [
              1,
              "#f0f921"
             ]
            ],
            "type": "histogram2d"
           }
          ],
          "histogram2dcontour": [
           {
            "colorbar": {
             "outlinewidth": 0,
             "ticks": ""
            },
            "colorscale": [
             [
              0,
              "#0d0887"
             ],
             [
              0.1111111111111111,
              "#46039f"
             ],
             [
              0.2222222222222222,
              "#7201a8"
             ],
             [
              0.3333333333333333,
              "#9c179e"
             ],
             [
              0.4444444444444444,
              "#bd3786"
             ],
             [
              0.5555555555555556,
              "#d8576b"
             ],
             [
              0.6666666666666666,
              "#ed7953"
             ],
             [
              0.7777777777777778,
              "#fb9f3a"
             ],
             [
              0.8888888888888888,
              "#fdca26"
             ],
             [
              1,
              "#f0f921"
             ]
            ],
            "type": "histogram2dcontour"
           }
          ],
          "mesh3d": [
           {
            "colorbar": {
             "outlinewidth": 0,
             "ticks": ""
            },
            "type": "mesh3d"
           }
          ],
          "parcoords": [
           {
            "line": {
             "colorbar": {
              "outlinewidth": 0,
              "ticks": ""
             }
            },
            "type": "parcoords"
           }
          ],
          "scatter": [
           {
            "marker": {
             "colorbar": {
              "outlinewidth": 0,
              "ticks": ""
             }
            },
            "type": "scatter"
           }
          ],
          "scatter3d": [
           {
            "line": {
             "colorbar": {
              "outlinewidth": 0,
              "ticks": ""
             }
            },
            "marker": {
             "colorbar": {
              "outlinewidth": 0,
              "ticks": ""
             }
            },
            "type": "scatter3d"
           }
          ],
          "scattercarpet": [
           {
            "marker": {
             "colorbar": {
              "outlinewidth": 0,
              "ticks": ""
             }
            },
            "type": "scattercarpet"
           }
          ],
          "scattergeo": [
           {
            "marker": {
             "colorbar": {
              "outlinewidth": 0,
              "ticks": ""
             }
            },
            "type": "scattergeo"
           }
          ],
          "scattergl": [
           {
            "marker": {
             "colorbar": {
              "outlinewidth": 0,
              "ticks": ""
             }
            },
            "type": "scattergl"
           }
          ],
          "scattermapbox": [
           {
            "marker": {
             "colorbar": {
              "outlinewidth": 0,
              "ticks": ""
             }
            },
            "type": "scattermapbox"
           }
          ],
          "scatterpolar": [
           {
            "marker": {
             "colorbar": {
              "outlinewidth": 0,
              "ticks": ""
             }
            },
            "type": "scatterpolar"
           }
          ],
          "scatterpolargl": [
           {
            "marker": {
             "colorbar": {
              "outlinewidth": 0,
              "ticks": ""
             }
            },
            "type": "scatterpolargl"
           }
          ],
          "scatterternary": [
           {
            "marker": {
             "colorbar": {
              "outlinewidth": 0,
              "ticks": ""
             }
            },
            "type": "scatterternary"
           }
          ],
          "surface": [
           {
            "colorbar": {
             "outlinewidth": 0,
             "ticks": ""
            },
            "colorscale": [
             [
              0,
              "#0d0887"
             ],
             [
              0.1111111111111111,
              "#46039f"
             ],
             [
              0.2222222222222222,
              "#7201a8"
             ],
             [
              0.3333333333333333,
              "#9c179e"
             ],
             [
              0.4444444444444444,
              "#bd3786"
             ],
             [
              0.5555555555555556,
              "#d8576b"
             ],
             [
              0.6666666666666666,
              "#ed7953"
             ],
             [
              0.7777777777777778,
              "#fb9f3a"
             ],
             [
              0.8888888888888888,
              "#fdca26"
             ],
             [
              1,
              "#f0f921"
             ]
            ],
            "type": "surface"
           }
          ],
          "table": [
           {
            "cells": {
             "fill": {
              "color": "#EBF0F8"
             },
             "line": {
              "color": "white"
             }
            },
            "header": {
             "fill": {
              "color": "#C8D4E3"
             },
             "line": {
              "color": "white"
             }
            },
            "type": "table"
           }
          ]
         },
         "layout": {
          "annotationdefaults": {
           "arrowcolor": "#2a3f5f",
           "arrowhead": 0,
           "arrowwidth": 1
          },
          "colorscale": {
           "diverging": [
            [
             0,
             "#8e0152"
            ],
            [
             0.1,
             "#c51b7d"
            ],
            [
             0.2,
             "#de77ae"
            ],
            [
             0.3,
             "#f1b6da"
            ],
            [
             0.4,
             "#fde0ef"
            ],
            [
             0.5,
             "#f7f7f7"
            ],
            [
             0.6,
             "#e6f5d0"
            ],
            [
             0.7,
             "#b8e186"
            ],
            [
             0.8,
             "#7fbc41"
            ],
            [
             0.9,
             "#4d9221"
            ],
            [
             1,
             "#276419"
            ]
           ],
           "sequential": [
            [
             0,
             "#0d0887"
            ],
            [
             0.1111111111111111,
             "#46039f"
            ],
            [
             0.2222222222222222,
             "#7201a8"
            ],
            [
             0.3333333333333333,
             "#9c179e"
            ],
            [
             0.4444444444444444,
             "#bd3786"
            ],
            [
             0.5555555555555556,
             "#d8576b"
            ],
            [
             0.6666666666666666,
             "#ed7953"
            ],
            [
             0.7777777777777778,
             "#fb9f3a"
            ],
            [
             0.8888888888888888,
             "#fdca26"
            ],
            [
             1,
             "#f0f921"
            ]
           ],
           "sequentialminus": [
            [
             0,
             "#0d0887"
            ],
            [
             0.1111111111111111,
             "#46039f"
            ],
            [
             0.2222222222222222,
             "#7201a8"
            ],
            [
             0.3333333333333333,
             "#9c179e"
            ],
            [
             0.4444444444444444,
             "#bd3786"
            ],
            [
             0.5555555555555556,
             "#d8576b"
            ],
            [
             0.6666666666666666,
             "#ed7953"
            ],
            [
             0.7777777777777778,
             "#fb9f3a"
            ],
            [
             0.8888888888888888,
             "#fdca26"
            ],
            [
             1,
             "#f0f921"
            ]
           ]
          },
          "colorway": [
           "#636efa",
           "#EF553B",
           "#00cc96",
           "#ab63fa",
           "#FFA15A",
           "#19d3f3",
           "#FF6692",
           "#B6E880",
           "#FF97FF",
           "#FECB52"
          ],
          "font": {
           "color": "#2a3f5f"
          },
          "geo": {
           "bgcolor": "white",
           "lakecolor": "white",
           "landcolor": "#E5ECF6",
           "showlakes": true,
           "showland": true,
           "subunitcolor": "white"
          },
          "hoverlabel": {
           "align": "left"
          },
          "hovermode": "closest",
          "mapbox": {
           "style": "light"
          },
          "paper_bgcolor": "white",
          "plot_bgcolor": "#E5ECF6",
          "polar": {
           "angularaxis": {
            "gridcolor": "white",
            "linecolor": "white",
            "ticks": ""
           },
           "bgcolor": "#E5ECF6",
           "radialaxis": {
            "gridcolor": "white",
            "linecolor": "white",
            "ticks": ""
           }
          },
          "scene": {
           "xaxis": {
            "backgroundcolor": "#E5ECF6",
            "gridcolor": "white",
            "gridwidth": 2,
            "linecolor": "white",
            "showbackground": true,
            "ticks": "",
            "zerolinecolor": "white"
           },
           "yaxis": {
            "backgroundcolor": "#E5ECF6",
            "gridcolor": "white",
            "gridwidth": 2,
            "linecolor": "white",
            "showbackground": true,
            "ticks": "",
            "zerolinecolor": "white"
           },
           "zaxis": {
            "backgroundcolor": "#E5ECF6",
            "gridcolor": "white",
            "gridwidth": 2,
            "linecolor": "white",
            "showbackground": true,
            "ticks": "",
            "zerolinecolor": "white"
           }
          },
          "shapedefaults": {
           "line": {
            "color": "#2a3f5f"
           }
          },
          "ternary": {
           "aaxis": {
            "gridcolor": "white",
            "linecolor": "white",
            "ticks": ""
           },
           "baxis": {
            "gridcolor": "white",
            "linecolor": "white",
            "ticks": ""
           },
           "bgcolor": "#E5ECF6",
           "caxis": {
            "gridcolor": "white",
            "linecolor": "white",
            "ticks": ""
           }
          },
          "title": {
           "x": 0.05
          },
          "xaxis": {
           "automargin": true,
           "gridcolor": "white",
           "linecolor": "white",
           "ticks": "",
           "zerolinecolor": "white",
           "zerolinewidth": 2
          },
          "yaxis": {
           "automargin": true,
           "gridcolor": "white",
           "linecolor": "white",
           "ticks": "",
           "zerolinecolor": "white",
           "zerolinewidth": 2
          }
         }
        },
        "xaxis": {
         "gridcolor": "#c0c0c0",
         "range": [
          "2019-07-26T14:13:17+00:00",
          "2019-07-26T23:13:17+00:00"
         ],
         "showgrid": true,
         "type": "date"
        },
        "yaxis": {
         "fixedrange": true,
         "gridcolor": "#c0c0c0",
         "hoverformat": ".0f",
         "range": [
          40,
          400
         ],
         "showgrid": true,
         "tickvals": [
          -100,
          40,
          70,
          180,
          250,
          400
         ],
         "title": {
          "font": {
           "size": 12
          },
          "text": "Blood Glucose (mg/dL)"
         },
         "type": "linear",
         "zeroline": false
        }
       }
      },
      "image/png": "[encoded data removed]",
      "text/html": [
       "<div>\n",
       "        \n",
       "        \n",
       "            <div id=\"dcc16973-ad46-43b3-a3b2-68feb811302c\" class=\"plotly-graph-div\" style=\"height:525px; width:100%;\"></div>\n",
       "            <script type=\"text/javascript\">\n",
       "                require([\"plotly\"], function(Plotly) {\n",
       "                    window.PLOTLYENV=window.PLOTLYENV || {};\n",
       "                    \n",
       "                if (document.getElementById(\"dcc16973-ad46-43b3-a3b2-68feb811302c\")) {\n",
       "                    Plotly.newPlot(\n",
       "                        'dcc16973-ad46-43b3-a3b2-68feb811302c',\n",
       "                        [{\"hoverinfo\": \"y+name\", \"line\": {\"color\": \"#5ac6fa\", \"dash\": \"dash\"}, \"mode\": \"lines\", \"name\": \"predicted bg\", \"type\": \"scattergl\", \"x\": [\"2019-07-26T15:12:46+00:00\", \"2019-07-26T15:15:00+00:00\", \"2019-07-26T15:20:00+00:00\", \"2019-07-26T15:25:00+00:00\", \"2019-07-26T15:30:00+00:00\", \"2019-07-26T15:35:00+00:00\", \"2019-07-26T15:40:00+00:00\", \"2019-07-26T15:45:00+00:00\", \"2019-07-26T15:50:00+00:00\", \"2019-07-26T15:55:00+00:00\", \"2019-07-26T16:00:00+00:00\", \"2019-07-26T16:05:00+00:00\", \"2019-07-26T16:10:00+00:00\", \"2019-07-26T16:15:00+00:00\", \"2019-07-26T16:20:00+00:00\", \"2019-07-26T16:25:00+00:00\", \"2019-07-26T16:30:00+00:00\", \"2019-07-26T16:35:00+00:00\", \"2019-07-26T16:40:00+00:00\", \"2019-07-26T16:45:00+00:00\", \"2019-07-26T16:50:00+00:00\", \"2019-07-26T16:55:00+00:00\", \"2019-07-26T17:00:00+00:00\", \"2019-07-26T17:05:00+00:00\", \"2019-07-26T17:10:00+00:00\", \"2019-07-26T17:15:00+00:00\", \"2019-07-26T17:20:00+00:00\", \"2019-07-26T17:25:00+00:00\", \"2019-07-26T17:30:00+00:00\", \"2019-07-26T17:35:00+00:00\", \"2019-07-26T17:40:00+00:00\", \"2019-07-26T17:45:00+00:00\", \"2019-07-26T17:50:00+00:00\", \"2019-07-26T17:55:00+00:00\", \"2019-07-26T18:00:00+00:00\", \"2019-07-26T18:05:00+00:00\", \"2019-07-26T18:10:00+00:00\", \"2019-07-26T18:15:00+00:00\", \"2019-07-26T18:20:00+00:00\", \"2019-07-26T18:25:00+00:00\", \"2019-07-26T18:30:00+00:00\", \"2019-07-26T18:35:00+00:00\", \"2019-07-26T18:40:00+00:00\", \"2019-07-26T18:45:00+00:00\", \"2019-07-26T18:50:00+00:00\", \"2019-07-26T18:55:00+00:00\", \"2019-07-26T19:00:00+00:00\", \"2019-07-26T19:05:00+00:00\", \"2019-07-26T19:10:00+00:00\", \"2019-07-26T19:15:00+00:00\", \"2019-07-26T19:20:00+00:00\", \"2019-07-26T19:25:00+00:00\", \"2019-07-26T19:30:00+00:00\", \"2019-07-26T19:35:00+00:00\", \"2019-07-26T19:40:00+00:00\", \"2019-07-26T19:45:00+00:00\", \"2019-07-26T19:50:00+00:00\", \"2019-07-26T19:55:00+00:00\", \"2019-07-26T20:00:00+00:00\", \"2019-07-26T20:05:00+00:00\", \"2019-07-26T20:10:00+00:00\", \"2019-07-26T20:15:00+00:00\", \"2019-07-26T20:20:00+00:00\", \"2019-07-26T20:25:00+00:00\", \"2019-07-26T20:30:00+00:00\", \"2019-07-26T20:35:00+00:00\", \"2019-07-26T20:40:00+00:00\", \"2019-07-26T20:45:00+00:00\", \"2019-07-26T20:50:00+00:00\", \"2019-07-26T20:55:00+00:00\", \"2019-07-26T21:00:00+00:00\", \"2019-07-26T21:05:00+00:00\", \"2019-07-26T21:10:00+00:00\", \"2019-07-26T21:15:00+00:00\", \"2019-07-26T21:20:00+00:00\", \"2019-07-26T21:25:00+00:00\", \"2019-07-26T21:30:00+00:00\", \"2019-07-26T21:35:00+00:00\", \"2019-07-26T21:40:00+00:00\", \"2019-07-26T21:45:00+00:00\", \"2019-07-26T21:50:00+00:00\", \"2019-07-26T21:55:00+00:00\", \"2019-07-26T22:00:00+00:00\", \"2019-07-26T22:05:00+00:00\", \"2019-07-26T22:10:00+00:00\", \"2019-07-26T22:15:00+00:00\"], \"y\": [152.968, 154.21777333333333, 157.08169251028804, 160.05074233444438, 162.31919114360272, 163.3629213271723, 163.46580485434572, 162.77474038220265, 161.42097081592016, 159.52150959309748, 157.18044806566974, 154.490153332797, 151.53236517208092, 148.37920006209603, 145.09406968283474, 141.73252071881947, 138.34300226914812, 134.96756668663375, 131.64250922172408, 128.3989514334744, 125.2633729471136, 122.25809578347678, 119.40172515771106, 116.70955034129382, 114.19390890074241, 111.86451736680348, 109.72877114784218, 107.79201627919247, 106.0577953950476, 104.52807011983958, 103.20342190083741, 102.08323314182479, 101.16585034821489, 100.44873085591084, 99.92857458878177, 99.60144217199885, 99.46286061994806, 99.507917717319, 99.73134611963738, 100.127598114384, 100.69091190537677, 101.41537021079523, 102.29495189862203, 103.3235773219449, 104.49514796009703, 105.80358091964894, 107.24283880146041, 108.8069553960301, 110.49005762896343, 112.28638414122906, 114.19030085475126, 116.19631384254836, 118.2990797938632, 120.49341433834138, 122.77429846910911, 125.13688328241687, 127.5764932311867, 130.0886280711855, 132.66896366150814, 135.31335176546733, 138.01781898373596, 140.7785649385675, 143.59195981602923, 146.45454136233158, 149.36301142044286, 152.31423208416197, 155.30522153860798, 158.333149648618, 161.3953333497503, 164.48923189042281, 167.61244196811649, 170.76269279750167, 173.93784114374654, 175.85037252295245, 175.82863081728485, 175.8248917413816, 175.8248917413816, 175.8248917413816, 175.8248917413816, 175.8248917413816, 175.8248917413816, 175.8248917413816, 175.8248917413816, 175.8248917413816, 175.8248917413816, 175.8248917413816]}],\n",
       "                        {\"annotations\": [{\"arrowhead\": 1, \"ax\": 0, \"ay\": 425, \"ayref\": \"y\", \"showarrow\": true, \"text\": \"current time\", \"x\": \"2019-07-26T15:13:17+00:00\", \"xref\": \"x\", \"y\": 162.968, \"yref\": \"y\"}], \"dragmode\": \"pan\", \"hovermode\": \"x\", \"plot_bgcolor\": \"white\", \"showlegend\": true, \"template\": {\"data\": {\"bar\": [{\"error_x\": {\"color\": \"#2a3f5f\"}, \"error_y\": {\"color\": \"#2a3f5f\"}, \"marker\": {\"line\": {\"color\": \"#E5ECF6\", \"width\": 0.5}}, \"type\": \"bar\"}], \"barpolar\": [{\"marker\": {\"line\": {\"color\": \"#E5ECF6\", \"width\": 0.5}}, \"type\": \"barpolar\"}], \"carpet\": [{\"aaxis\": {\"endlinecolor\": \"#2a3f5f\", \"gridcolor\": \"white\", \"linecolor\": \"white\", \"minorgridcolor\": \"white\", \"startlinecolor\": \"#2a3f5f\"}, \"baxis\": {\"endlinecolor\": \"#2a3f5f\", \"gridcolor\": \"white\", \"linecolor\": \"white\", \"minorgridcolor\": \"white\", \"startlinecolor\": \"#2a3f5f\"}, \"type\": \"carpet\"}], \"choropleth\": [{\"colorbar\": {\"outlinewidth\": 0, \"ticks\": \"\"}, \"type\": \"choropleth\"}], \"contour\": [{\"colorbar\": {\"outlinewidth\": 0, \"ticks\": \"\"}, \"colorscale\": [[0.0, \"#0d0887\"], [0.1111111111111111, \"#46039f\"], [0.2222222222222222, \"#7201a8\"], [0.3333333333333333, \"#9c179e\"], [0.4444444444444444, \"#bd3786\"], [0.5555555555555556, \"#d8576b\"], [0.6666666666666666, \"#ed7953\"], [0.7777777777777778, \"#fb9f3a\"], [0.8888888888888888, \"#fdca26\"], [1.0, \"#f0f921\"]], \"type\": \"contour\"}], \"contourcarpet\": [{\"colorbar\": {\"outlinewidth\": 0, \"ticks\": \"\"}, \"type\": \"contourcarpet\"}], \"heatmap\": [{\"colorbar\": {\"outlinewidth\": 0, \"ticks\": \"\"}, \"colorscale\": [[0.0, \"#0d0887\"], [0.1111111111111111, \"#46039f\"], [0.2222222222222222, \"#7201a8\"], [0.3333333333333333, \"#9c179e\"], [0.4444444444444444, \"#bd3786\"], [0.5555555555555556, \"#d8576b\"], [0.6666666666666666, \"#ed7953\"], [0.7777777777777778, \"#fb9f3a\"], [0.8888888888888888, \"#fdca26\"], [1.0, \"#f0f921\"]], \"type\": \"heatmap\"}], \"heatmapgl\": [{\"colorbar\": {\"outlinewidth\": 0, \"ticks\": \"\"}, \"colorscale\": [[0.0, \"#0d0887\"], [0.1111111111111111, \"#46039f\"], [0.2222222222222222, \"#7201a8\"], [0.3333333333333333, \"#9c179e\"], [0.4444444444444444, \"#bd3786\"], [0.5555555555555556, \"#d8576b\"], [0.6666666666666666, \"#ed7953\"], [0.7777777777777778, \"#fb9f3a\"], [0.8888888888888888, \"#fdca26\"], [1.0, \"#f0f921\"]], \"type\": \"heatmapgl\"}], \"histogram\": [{\"marker\": {\"colorbar\": {\"outlinewidth\": 0, \"ticks\": \"\"}}, \"type\": \"histogram\"}], \"histogram2d\": [{\"colorbar\": {\"outlinewidth\": 0, \"ticks\": \"\"}, \"colorscale\": [[0.0, \"#0d0887\"], [0.1111111111111111, \"#46039f\"], [0.2222222222222222, \"#7201a8\"], [0.3333333333333333, \"#9c179e\"], [0.4444444444444444, \"#bd3786\"], [0.5555555555555556, \"#d8576b\"], [0.6666666666666666, \"#ed7953\"], [0.7777777777777778, \"#fb9f3a\"], [0.8888888888888888, \"#fdca26\"], [1.0, \"#f0f921\"]], \"type\": \"histogram2d\"}], \"histogram2dcontour\": [{\"colorbar\": {\"outlinewidth\": 0, \"ticks\": \"\"}, \"colorscale\": [[0.0, \"#0d0887\"], [0.1111111111111111, \"#46039f\"], [0.2222222222222222, \"#7201a8\"], [0.3333333333333333, \"#9c179e\"], [0.4444444444444444, \"#bd3786\"], [0.5555555555555556, \"#d8576b\"], [0.6666666666666666, \"#ed7953\"], [0.7777777777777778, \"#fb9f3a\"], [0.8888888888888888, \"#fdca26\"], [1.0, \"#f0f921\"]], \"type\": \"histogram2dcontour\"}], \"mesh3d\": [{\"colorbar\": {\"outlinewidth\": 0, \"ticks\": \"\"}, \"type\": \"mesh3d\"}], \"parcoords\": [{\"line\": {\"colorbar\": {\"outlinewidth\": 0, \"ticks\": \"\"}}, \"type\": \"parcoords\"}], \"scatter\": [{\"marker\": {\"colorbar\": {\"outlinewidth\": 0, \"ticks\": \"\"}}, \"type\": \"scatter\"}], \"scatter3d\": [{\"line\": {\"colorbar\": {\"outlinewidth\": 0, \"ticks\": \"\"}}, \"marker\": {\"colorbar\": {\"outlinewidth\": 0, \"ticks\": \"\"}}, \"type\": \"scatter3d\"}], \"scattercarpet\": [{\"marker\": {\"colorbar\": {\"outlinewidth\": 0, \"ticks\": \"\"}}, \"type\": \"scattercarpet\"}], \"scattergeo\": [{\"marker\": {\"colorbar\": {\"outlinewidth\": 0, \"ticks\": \"\"}}, \"type\": \"scattergeo\"}], \"scattergl\": [{\"marker\": {\"colorbar\": {\"outlinewidth\": 0, \"ticks\": \"\"}}, \"type\": \"scattergl\"}], \"scattermapbox\": [{\"marker\": {\"colorbar\": {\"outlinewidth\": 0, \"ticks\": \"\"}}, \"type\": \"scattermapbox\"}], \"scatterpolar\": [{\"marker\": {\"colorbar\": {\"outlinewidth\": 0, \"ticks\": \"\"}}, \"type\": \"scatterpolar\"}], \"scatterpolargl\": [{\"marker\": {\"colorbar\": {\"outlinewidth\": 0, \"ticks\": \"\"}}, \"type\": \"scatterpolargl\"}], \"scatterternary\": [{\"marker\": {\"colorbar\": {\"outlinewidth\": 0, \"ticks\": \"\"}}, \"type\": \"scatterternary\"}], \"surface\": [{\"colorbar\": {\"outlinewidth\": 0, \"ticks\": \"\"}, \"colorscale\": [[0.0, \"#0d0887\"], [0.1111111111111111, \"#46039f\"], [0.2222222222222222, \"#7201a8\"], [0.3333333333333333, \"#9c179e\"], [0.4444444444444444, \"#bd3786\"], [0.5555555555555556, \"#d8576b\"], [0.6666666666666666, \"#ed7953\"], [0.7777777777777778, \"#fb9f3a\"], [0.8888888888888888, \"#fdca26\"], [1.0, \"#f0f921\"]], \"type\": \"surface\"}], \"table\": [{\"cells\": {\"fill\": {\"color\": \"#EBF0F8\"}, \"line\": {\"color\": \"white\"}}, \"header\": {\"fill\": {\"color\": \"#C8D4E3\"}, \"line\": {\"color\": \"white\"}}, \"type\": \"table\"}]}, \"layout\": {\"annotationdefaults\": {\"arrowcolor\": \"#2a3f5f\", \"arrowhead\": 0, \"arrowwidth\": 1}, \"colorscale\": {\"diverging\": [[0, \"#8e0152\"], [0.1, \"#c51b7d\"], [0.2, \"#de77ae\"], [0.3, \"#f1b6da\"], [0.4, \"#fde0ef\"], [0.5, \"#f7f7f7\"], [0.6, \"#e6f5d0\"], [0.7, \"#b8e186\"], [0.8, \"#7fbc41\"], [0.9, \"#4d9221\"], [1, \"#276419\"]], \"sequential\": [[0.0, \"#0d0887\"], [0.1111111111111111, \"#46039f\"], [0.2222222222222222, \"#7201a8\"], [0.3333333333333333, \"#9c179e\"], [0.4444444444444444, \"#bd3786\"], [0.5555555555555556, \"#d8576b\"], [0.6666666666666666, \"#ed7953\"], [0.7777777777777778, \"#fb9f3a\"], [0.8888888888888888, \"#fdca26\"], [1.0, \"#f0f921\"]], \"sequentialminus\": [[0.0, \"#0d0887\"], [0.1111111111111111, \"#46039f\"], [0.2222222222222222, \"#7201a8\"], [0.3333333333333333, \"#9c179e\"], [0.4444444444444444, \"#bd3786\"], [0.5555555555555556, \"#d8576b\"], [0.6666666666666666, \"#ed7953\"], [0.7777777777777778, \"#fb9f3a\"], [0.8888888888888888, \"#fdca26\"], [1.0, \"#f0f921\"]]}, \"colorway\": [\"#636efa\", \"#EF553B\", \"#00cc96\", \"#ab63fa\", \"#FFA15A\", \"#19d3f3\", \"#FF6692\", \"#B6E880\", \"#FF97FF\", \"#FECB52\"], \"font\": {\"color\": \"#2a3f5f\"}, \"geo\": {\"bgcolor\": \"white\", \"lakecolor\": \"white\", \"landcolor\": \"#E5ECF6\", \"showlakes\": true, \"showland\": true, \"subunitcolor\": \"white\"}, \"hoverlabel\": {\"align\": \"left\"}, \"hovermode\": \"closest\", \"mapbox\": {\"style\": \"light\"}, \"paper_bgcolor\": \"white\", \"plot_bgcolor\": \"#E5ECF6\", \"polar\": {\"angularaxis\": {\"gridcolor\": \"white\", \"linecolor\": \"white\", \"ticks\": \"\"}, \"bgcolor\": \"#E5ECF6\", \"radialaxis\": {\"gridcolor\": \"white\", \"linecolor\": \"white\", \"ticks\": \"\"}}, \"scene\": {\"xaxis\": {\"backgroundcolor\": \"#E5ECF6\", \"gridcolor\": \"white\", \"gridwidth\": 2, \"linecolor\": \"white\", \"showbackground\": true, \"ticks\": \"\", \"zerolinecolor\": \"white\"}, \"yaxis\": {\"backgroundcolor\": \"#E5ECF6\", \"gridcolor\": \"white\", \"gridwidth\": 2, \"linecolor\": \"white\", \"showbackground\": true, \"ticks\": \"\", \"zerolinecolor\": \"white\"}, \"zaxis\": {\"backgroundcolor\": \"#E5ECF6\", \"gridcolor\": \"white\", \"gridwidth\": 2, \"linecolor\": \"white\", \"showbackground\": true, \"ticks\": \"\", \"zerolinecolor\": \"white\"}}, \"shapedefaults\": {\"line\": {\"color\": \"#2a3f5f\"}}, \"ternary\": {\"aaxis\": {\"gridcolor\": \"white\", \"linecolor\": \"white\", \"ticks\": \"\"}, \"baxis\": {\"gridcolor\": \"white\", \"linecolor\": \"white\", \"ticks\": \"\"}, \"bgcolor\": \"#E5ECF6\", \"caxis\": {\"gridcolor\": \"white\", \"linecolor\": \"white\", \"ticks\": \"\"}}, \"title\": {\"x\": 0.05}, \"xaxis\": {\"automargin\": true, \"gridcolor\": \"white\", \"linecolor\": \"white\", \"ticks\": \"\", \"zerolinecolor\": \"white\", \"zerolinewidth\": 2}, \"yaxis\": {\"automargin\": true, \"gridcolor\": \"white\", \"linecolor\": \"white\", \"ticks\": \"\", \"zerolinecolor\": \"white\", \"zerolinewidth\": 2}}}, \"xaxis\": {\"gridcolor\": \"#c0c0c0\", \"range\": [\"2019-07-26T14:13:17+00:00\", \"2019-07-26T23:13:17+00:00\"], \"showgrid\": true}, \"yaxis\": {\"fixedrange\": true, \"gridcolor\": \"#c0c0c0\", \"hoverformat\": \".0f\", \"range\": [40, 400], \"showgrid\": true, \"tickvals\": [-100, 40, 70, 180, 250, 400], \"title\": {\"font\": {\"size\": 12}, \"text\": \"Blood Glucose (mg/dL)\"}, \"zeroline\": false}},\n",
       "                        {\"responsive\": true}\n",
       "                    ).then(function(){\n",
       "                            \n",
       "var gd = document.getElementById('dcc16973-ad46-43b3-a3b2-68feb811302c');\n",
       "var x = new MutationObserver(function (mutations, observer) {{\n",
       "        var display = window.getComputedStyle(gd).display;\n",
       "        if (!display || display === 'none') {{\n",
       "            console.log([gd, 'removed!']);\n",
       "            Plotly.purge(gd);\n",
       "            observer.disconnect();\n",
       "        }}\n",
       "}});\n",
       "\n",
       "// Listen for the removal of the full notebook cells\n",
       "var notebookContainer = gd.closest('#notebook-container');\n",
       "if (notebookContainer) {{\n",
       "    x.observe(notebookContainer, {childList: true});\n",
       "}}\n",
       "\n",
       "// Listen for the clearing of the current output cell\n",
       "var outputEl = gd.closest('.output');\n",
       "if (outputEl) {{\n",
       "    x.observe(outputEl, {childList: true});\n",
       "}}\n",
       "\n",
       "                        })\n",
       "                };\n",
       "                });\n",
       "            </script>\n",
       "        </div>"
      ]
     },
     "metadata": {},
     "output_type": "display_data"
    }
   ],
   "source": [
    "# get overall prediction\n",
    "overall_predicted_glucose_dates = recommendations.get(\"predicted_glucose_dates\")\n",
    "overall_predicted_glucose_values = recommendations.get(\"predicted_glucose_values\")\n",
    "\n",
    "# overall prediction\n",
    "bg_prediction_trace = go.Scattergl(\n",
    "    name=\"predicted bg\",\n",
    "    x=overall_predicted_glucose_dates,\n",
    "    y=overall_predicted_glucose_values,\n",
    "    hoverinfo=\"y+name\",\n",
    "    mode='lines',\n",
    "    line=dict(\n",
    "        color=\"#5ac6fa\",\n",
    "        dash=\"dash\",\n",
    "    )\n",
    ")\n",
    "layout = go.Layout(\n",
    "    showlegend=True,\n",
    "    plot_bgcolor=\"white\",\n",
    "    yaxis=dict(\n",
    "        range=[40, 400],\n",
    "        tickvals=[-100, 40, 70, 180, 250, 400],\n",
    "        fixedrange=True,\n",
    "        hoverformat=\".0f\",\n",
    "        zeroline=False,\n",
    "        showgrid=True,\n",
    "        gridcolor=\"#c0c0c0\",\n",
    "        title=dict(\n",
    "            text=\"Blood Glucose (mg/dL)\",\n",
    "            font=dict(\n",
    "                size=12\n",
    "            )\n",
    "        )\n",
    "    ),\n",
    "    xaxis=dict(\n",
    "        range=(\n",
    "            current_time - datetime.timedelta(hours=1),\n",
    "            current_time + datetime.timedelta(hours=8)\n",
    "        ),\n",
    "        showgrid=True,\n",
    "        gridcolor=\"#c0c0c0\",\n",
    "    ),\n",
    "    annotations=[\n",
    "        go.layout.Annotation(\n",
    "            x=current_time,\n",
    "            y=bg[\"mg_dL\"].values[-1] + 10,\n",
    "            xref=\"x\",\n",
    "            yref=\"y\",\n",
    "            text=\"current time\",\n",
    "            showarrow=True,\n",
    "            arrowhead=1,\n",
    "            ax=0,\n",
    "            ayref=\"y\",\n",
    "            ay=425\n",
    "        )\n",
    "    ],\n",
    "    dragmode=\"pan\",\n",
    "    hovermode=\"x\"\n",
    ")\n",
    "\n",
    "fig = go.Figure(data=[bg_prediction_trace], layout=layout)\n",
    "fig"
   ]
  },
  {
   "cell_type": "code",
   "execution_count": 239,
   "metadata": {},
   "outputs": [],
   "source": [
    "# get separate glucose predictions using each effect individually\n",
    "starting_date = recommendations.get(\"input_data\").get(\"glucose_dates\")[-1]\n",
    "starting_glucose = recommendations.get(\"input_data\").get(\"glucose_values\")[-1]"
   ]
  },
  {
   "cell_type": "markdown",
   "metadata": {},
   "source": [
    "## Insulin Effect"
   ]
  },
  {
   "cell_type": "code",
   "execution_count": 240,
   "metadata": {},
   "outputs": [
    {
     "data": {
      "application/vnd.plotly.v1+json": {
       "config": {
        "plotlyServerURL": "https://plot.ly"
       },
       "data": [
        {
         "hoverinfo": "y+name",
         "line": {
          "color": "#f29741",
          "dash": "dash"
         },
         "mode": "lines",
         "name": "insulin effect",
         "type": "scattergl",
         "x": [
          "2019-07-26T15:12:46+00:00",
          "2019-07-26T15:15:00+00:00",
          "2019-07-26T15:20:00+00:00",
          "2019-07-26T15:25:00+00:00",
          "2019-07-26T15:30:00+00:00",
          "2019-07-26T15:35:00+00:00",
          "2019-07-26T15:40:00+00:00",
          "2019-07-26T15:45:00+00:00",
          "2019-07-26T15:50:00+00:00",
          "2019-07-26T15:55:00+00:00",
          "2019-07-26T16:00:00+00:00",
          "2019-07-26T16:05:00+00:00",
          "2019-07-26T16:10:00+00:00",
          "2019-07-26T16:15:00+00:00",
          "2019-07-26T16:20:00+00:00",
          "2019-07-26T16:25:00+00:00",
          "2019-07-26T16:30:00+00:00",
          "2019-07-26T16:35:00+00:00",
          "2019-07-26T16:40:00+00:00",
          "2019-07-26T16:45:00+00:00",
          "2019-07-26T16:50:00+00:00",
          "2019-07-26T16:55:00+00:00",
          "2019-07-26T17:00:00+00:00",
          "2019-07-26T17:05:00+00:00",
          "2019-07-26T17:10:00+00:00",
          "2019-07-26T17:15:00+00:00",
          "2019-07-26T17:20:00+00:00",
          "2019-07-26T17:25:00+00:00",
          "2019-07-26T17:30:00+00:00",
          "2019-07-26T17:35:00+00:00",
          "2019-07-26T17:40:00+00:00",
          "2019-07-26T17:45:00+00:00",
          "2019-07-26T17:50:00+00:00",
          "2019-07-26T17:55:00+00:00",
          "2019-07-26T18:00:00+00:00",
          "2019-07-26T18:05:00+00:00",
          "2019-07-26T18:10:00+00:00",
          "2019-07-26T18:15:00+00:00",
          "2019-07-26T18:20:00+00:00",
          "2019-07-26T18:25:00+00:00",
          "2019-07-26T18:30:00+00:00",
          "2019-07-26T18:35:00+00:00",
          "2019-07-26T18:40:00+00:00",
          "2019-07-26T18:45:00+00:00",
          "2019-07-26T18:50:00+00:00",
          "2019-07-26T18:55:00+00:00",
          "2019-07-26T19:00:00+00:00",
          "2019-07-26T19:05:00+00:00",
          "2019-07-26T19:10:00+00:00",
          "2019-07-26T19:15:00+00:00",
          "2019-07-26T19:20:00+00:00",
          "2019-07-26T19:25:00+00:00",
          "2019-07-26T19:30:00+00:00",
          "2019-07-26T19:35:00+00:00",
          "2019-07-26T19:40:00+00:00",
          "2019-07-26T19:45:00+00:00",
          "2019-07-26T19:50:00+00:00",
          "2019-07-26T19:55:00+00:00",
          "2019-07-26T20:00:00+00:00",
          "2019-07-26T20:05:00+00:00",
          "2019-07-26T20:10:00+00:00",
          "2019-07-26T20:15:00+00:00",
          "2019-07-26T20:20:00+00:00",
          "2019-07-26T20:25:00+00:00",
          "2019-07-26T20:30:00+00:00",
          "2019-07-26T20:35:00+00:00",
          "2019-07-26T20:40:00+00:00",
          "2019-07-26T20:45:00+00:00",
          "2019-07-26T20:50:00+00:00",
          "2019-07-26T20:55:00+00:00",
          "2019-07-26T21:00:00+00:00",
          "2019-07-26T21:05:00+00:00",
          "2019-07-26T21:10:00+00:00",
          "2019-07-26T21:15:00+00:00",
          "2019-07-26T21:20:00+00:00",
          "2019-07-26T21:25:00+00:00",
          "2019-07-26T21:30:00+00:00"
         ],
         "y": [
          152.968,
          152.968,
          152.968,
          152.87997087617336,
          151.78791668617174,
          149.5909061290006,
          146.45304891543327,
          142.52124370254947,
          137.9267333955262,
          132.7865314319628,
          127.20472916379433,
          121.27369369018085,
          115.07516478872402,
          108.6812589379984,
          102.15538781799637,
          95.55309811324037,
          88.92283892282828,
          82.30666259957314,
          75.74086439392276,
          69.25656586493231,
          62.88024663783078,
          56.63422873345321,
          50.53711736694676,
          44.60420180978879,
          38.84781962849665,
          33.27768735381697,
          27.901200394114923,
          22.72370478472449,
          17.748743159838867,
          12.97827714389011,
          8.412888184147207,
          4.051958684393853,
          -0.10616484995681219,
          -4.064025083001596,
          -7.824922090871397,
          -11.392795248395075,
          -14.772117541186603,
          -17.96780118455645,
          -20.98511352297878,
          -23.82960226897289,
          -26.50702921872086,
          -29.023311654043127,
          -31.38447070695709,
          -33.59658602437493,
          -35.665756126963586,
          -37.59806390815238,
          -39.399546767081674,
          -41.07617091325271,
          -42.63380942106012,
          -44.07822364953522,
          -45.41504767675376,
          -46.649775429697414,
          -47.78775021912331,
          -48.83415641538589,
          -49.79401302535892,
          -50.672168952791864,
          -51.4732997447628,
          -52.20190564550474,
          -52.862310795922824,
          -53.4586634327044,
          -53.99493695517653,
          -54.47493174108568,
          -54.9022776043647,
          -55.28043679880311,
          -55.61270748143254,
          -55.902227558454214,
          -56.15197884474891,
          -56.36479147547966,
          -56.543348515088084,
          -56.690190715156334,
          -56.80772137820337,
          -56.898211289558944,
          -56.96380368405481,
          -57.00651921842912,
          -57.02826092409673,
          -57.03199999999997,
          -57.03199999999997
         ]
        }
       ],
       "layout": {
        "annotations": [
         {
          "arrowhead": 1,
          "ax": 0,
          "ay": 425,
          "ayref": "y",
          "showarrow": true,
          "text": "current time",
          "x": "2019-07-26T15:13:17+00:00",
          "xref": "x",
          "y": 162.968,
          "yref": "y"
         }
        ],
        "autosize": true,
        "dragmode": "pan",
        "hovermode": "x",
        "plot_bgcolor": "white",
        "showlegend": true,
        "template": {
         "data": {
          "bar": [
           {
            "error_x": {
             "color": "#2a3f5f"
            },
            "error_y": {
             "color": "#2a3f5f"
            },
            "marker": {
             "line": {
              "color": "#E5ECF6",
              "width": 0.5
             }
            },
            "type": "bar"
           }
          ],
          "barpolar": [
           {
            "marker": {
             "line": {
              "color": "#E5ECF6",
              "width": 0.5
             }
            },
            "type": "barpolar"
           }
          ],
          "carpet": [
           {
            "aaxis": {
             "endlinecolor": "#2a3f5f",
             "gridcolor": "white",
             "linecolor": "white",
             "minorgridcolor": "white",
             "startlinecolor": "#2a3f5f"
            },
            "baxis": {
             "endlinecolor": "#2a3f5f",
             "gridcolor": "white",
             "linecolor": "white",
             "minorgridcolor": "white",
             "startlinecolor": "#2a3f5f"
            },
            "type": "carpet"
           }
          ],
          "choropleth": [
           {
            "colorbar": {
             "outlinewidth": 0,
             "ticks": ""
            },
            "type": "choropleth"
           }
          ],
          "contour": [
           {
            "colorbar": {
             "outlinewidth": 0,
             "ticks": ""
            },
            "colorscale": [
             [
              0,
              "#0d0887"
             ],
             [
              0.1111111111111111,
              "#46039f"
             ],
             [
              0.2222222222222222,
              "#7201a8"
             ],
             [
              0.3333333333333333,
              "#9c179e"
             ],
             [
              0.4444444444444444,
              "#bd3786"
             ],
             [
              0.5555555555555556,
              "#d8576b"
             ],
             [
              0.6666666666666666,
              "#ed7953"
             ],
             [
              0.7777777777777778,
              "#fb9f3a"
             ],
             [
              0.8888888888888888,
              "#fdca26"
             ],
             [
              1,
              "#f0f921"
             ]
            ],
            "type": "contour"
           }
          ],
          "contourcarpet": [
           {
            "colorbar": {
             "outlinewidth": 0,
             "ticks": ""
            },
            "type": "contourcarpet"
           }
          ],
          "heatmap": [
           {
            "colorbar": {
             "outlinewidth": 0,
             "ticks": ""
            },
            "colorscale": [
             [
              0,
              "#0d0887"
             ],
             [
              0.1111111111111111,
              "#46039f"
             ],
             [
              0.2222222222222222,
              "#7201a8"
             ],
             [
              0.3333333333333333,
              "#9c179e"
             ],
             [
              0.4444444444444444,
              "#bd3786"
             ],
             [
              0.5555555555555556,
              "#d8576b"
             ],
             [
              0.6666666666666666,
              "#ed7953"
             ],
             [
              0.7777777777777778,
              "#fb9f3a"
             ],
             [
              0.8888888888888888,
              "#fdca26"
             ],
             [
              1,
              "#f0f921"
             ]
            ],
            "type": "heatmap"
           }
          ],
          "heatmapgl": [
           {
            "colorbar": {
             "outlinewidth": 0,
             "ticks": ""
            },
            "colorscale": [
             [
              0,
              "#0d0887"
             ],
             [
              0.1111111111111111,
              "#46039f"
             ],
             [
              0.2222222222222222,
              "#7201a8"
             ],
             [
              0.3333333333333333,
              "#9c179e"
             ],
             [
              0.4444444444444444,
              "#bd3786"
             ],
             [
              0.5555555555555556,
              "#d8576b"
             ],
             [
              0.6666666666666666,
              "#ed7953"
             ],
             [
              0.7777777777777778,
              "#fb9f3a"
             ],
             [
              0.8888888888888888,
              "#fdca26"
             ],
             [
              1,
              "#f0f921"
             ]
            ],
            "type": "heatmapgl"
           }
          ],
          "histogram": [
           {
            "marker": {
             "colorbar": {
              "outlinewidth": 0,
              "ticks": ""
             }
            },
            "type": "histogram"
           }
          ],
          "histogram2d": [
           {
            "colorbar": {
             "outlinewidth": 0,
             "ticks": ""
            },
            "colorscale": [
             [
              0,
              "#0d0887"
             ],
             [
              0.1111111111111111,
              "#46039f"
             ],
             [
              0.2222222222222222,
              "#7201a8"
             ],
             [
              0.3333333333333333,
              "#9c179e"
             ],
             [
              0.4444444444444444,
              "#bd3786"
             ],
             [
              0.5555555555555556,
              "#d8576b"
             ],
             [
              0.6666666666666666,
              "#ed7953"
             ],
             [
              0.7777777777777778,
              "#fb9f3a"
             ],
             [
              0.8888888888888888,
              "#fdca26"
             ],
             [
              1,
              "#f0f921"
             ]
            ],
            "type": "histogram2d"
           }
          ],
          "histogram2dcontour": [
           {
            "colorbar": {
             "outlinewidth": 0,
             "ticks": ""
            },
            "colorscale": [
             [
              0,
              "#0d0887"
             ],
             [
              0.1111111111111111,
              "#46039f"
             ],
             [
              0.2222222222222222,
              "#7201a8"
             ],
             [
              0.3333333333333333,
              "#9c179e"
             ],
             [
              0.4444444444444444,
              "#bd3786"
             ],
             [
              0.5555555555555556,
              "#d8576b"
             ],
             [
              0.6666666666666666,
              "#ed7953"
             ],
             [
              0.7777777777777778,
              "#fb9f3a"
             ],
             [
              0.8888888888888888,
              "#fdca26"
             ],
             [
              1,
              "#f0f921"
             ]
            ],
            "type": "histogram2dcontour"
           }
          ],
          "mesh3d": [
           {
            "colorbar": {
             "outlinewidth": 0,
             "ticks": ""
            },
            "type": "mesh3d"
           }
          ],
          "parcoords": [
           {
            "line": {
             "colorbar": {
              "outlinewidth": 0,
              "ticks": ""
             }
            },
            "type": "parcoords"
           }
          ],
          "scatter": [
           {
            "marker": {
             "colorbar": {
              "outlinewidth": 0,
              "ticks": ""
             }
            },
            "type": "scatter"
           }
          ],
          "scatter3d": [
           {
            "line": {
             "colorbar": {
              "outlinewidth": 0,
              "ticks": ""
             }
            },
            "marker": {
             "colorbar": {
              "outlinewidth": 0,
              "ticks": ""
             }
            },
            "type": "scatter3d"
           }
          ],
          "scattercarpet": [
           {
            "marker": {
             "colorbar": {
              "outlinewidth": 0,
              "ticks": ""
             }
            },
            "type": "scattercarpet"
           }
          ],
          "scattergeo": [
           {
            "marker": {
             "colorbar": {
              "outlinewidth": 0,
              "ticks": ""
             }
            },
            "type": "scattergeo"
           }
          ],
          "scattergl": [
           {
            "marker": {
             "colorbar": {
              "outlinewidth": 0,
              "ticks": ""
             }
            },
            "type": "scattergl"
           }
          ],
          "scattermapbox": [
           {
            "marker": {
             "colorbar": {
              "outlinewidth": 0,
              "ticks": ""
             }
            },
            "type": "scattermapbox"
           }
          ],
          "scatterpolar": [
           {
            "marker": {
             "colorbar": {
              "outlinewidth": 0,
              "ticks": ""
             }
            },
            "type": "scatterpolar"
           }
          ],
          "scatterpolargl": [
           {
            "marker": {
             "colorbar": {
              "outlinewidth": 0,
              "ticks": ""
             }
            },
            "type": "scatterpolargl"
           }
          ],
          "scatterternary": [
           {
            "marker": {
             "colorbar": {
              "outlinewidth": 0,
              "ticks": ""
             }
            },
            "type": "scatterternary"
           }
          ],
          "surface": [
           {
            "colorbar": {
             "outlinewidth": 0,
             "ticks": ""
            },
            "colorscale": [
             [
              0,
              "#0d0887"
             ],
             [
              0.1111111111111111,
              "#46039f"
             ],
             [
              0.2222222222222222,
              "#7201a8"
             ],
             [
              0.3333333333333333,
              "#9c179e"
             ],
             [
              0.4444444444444444,
              "#bd3786"
             ],
             [
              0.5555555555555556,
              "#d8576b"
             ],
             [
              0.6666666666666666,
              "#ed7953"
             ],
             [
              0.7777777777777778,
              "#fb9f3a"
             ],
             [
              0.8888888888888888,
              "#fdca26"
             ],
             [
              1,
              "#f0f921"
             ]
            ],
            "type": "surface"
           }
          ],
          "table": [
           {
            "cells": {
             "fill": {
              "color": "#EBF0F8"
             },
             "line": {
              "color": "white"
             }
            },
            "header": {
             "fill": {
              "color": "#C8D4E3"
             },
             "line": {
              "color": "white"
             }
            },
            "type": "table"
           }
          ]
         },
         "layout": {
          "annotationdefaults": {
           "arrowcolor": "#2a3f5f",
           "arrowhead": 0,
           "arrowwidth": 1
          },
          "colorscale": {
           "diverging": [
            [
             0,
             "#8e0152"
            ],
            [
             0.1,
             "#c51b7d"
            ],
            [
             0.2,
             "#de77ae"
            ],
            [
             0.3,
             "#f1b6da"
            ],
            [
             0.4,
             "#fde0ef"
            ],
            [
             0.5,
             "#f7f7f7"
            ],
            [
             0.6,
             "#e6f5d0"
            ],
            [
             0.7,
             "#b8e186"
            ],
            [
             0.8,
             "#7fbc41"
            ],
            [
             0.9,
             "#4d9221"
            ],
            [
             1,
             "#276419"
            ]
           ],
           "sequential": [
            [
             0,
             "#0d0887"
            ],
            [
             0.1111111111111111,
             "#46039f"
            ],
            [
             0.2222222222222222,
             "#7201a8"
            ],
            [
             0.3333333333333333,
             "#9c179e"
            ],
            [
             0.4444444444444444,
             "#bd3786"
            ],
            [
             0.5555555555555556,
             "#d8576b"
            ],
            [
             0.6666666666666666,
             "#ed7953"
            ],
            [
             0.7777777777777778,
             "#fb9f3a"
            ],
            [
             0.8888888888888888,
             "#fdca26"
            ],
            [
             1,
             "#f0f921"
            ]
           ],
           "sequentialminus": [
            [
             0,
             "#0d0887"
            ],
            [
             0.1111111111111111,
             "#46039f"
            ],
            [
             0.2222222222222222,
             "#7201a8"
            ],
            [
             0.3333333333333333,
             "#9c179e"
            ],
            [
             0.4444444444444444,
             "#bd3786"
            ],
            [
             0.5555555555555556,
             "#d8576b"
            ],
            [
             0.6666666666666666,
             "#ed7953"
            ],
            [
             0.7777777777777778,
             "#fb9f3a"
            ],
            [
             0.8888888888888888,
             "#fdca26"
            ],
            [
             1,
             "#f0f921"
            ]
           ]
          },
          "colorway": [
           "#636efa",
           "#EF553B",
           "#00cc96",
           "#ab63fa",
           "#FFA15A",
           "#19d3f3",
           "#FF6692",
           "#B6E880",
           "#FF97FF",
           "#FECB52"
          ],
          "font": {
           "color": "#2a3f5f"
          },
          "geo": {
           "bgcolor": "white",
           "lakecolor": "white",
           "landcolor": "#E5ECF6",
           "showlakes": true,
           "showland": true,
           "subunitcolor": "white"
          },
          "hoverlabel": {
           "align": "left"
          },
          "hovermode": "closest",
          "mapbox": {
           "style": "light"
          },
          "paper_bgcolor": "white",
          "plot_bgcolor": "#E5ECF6",
          "polar": {
           "angularaxis": {
            "gridcolor": "white",
            "linecolor": "white",
            "ticks": ""
           },
           "bgcolor": "#E5ECF6",
           "radialaxis": {
            "gridcolor": "white",
            "linecolor": "white",
            "ticks": ""
           }
          },
          "scene": {
           "xaxis": {
            "backgroundcolor": "#E5ECF6",
            "gridcolor": "white",
            "gridwidth": 2,
            "linecolor": "white",
            "showbackground": true,
            "ticks": "",
            "zerolinecolor": "white"
           },
           "yaxis": {
            "backgroundcolor": "#E5ECF6",
            "gridcolor": "white",
            "gridwidth": 2,
            "linecolor": "white",
            "showbackground": true,
            "ticks": "",
            "zerolinecolor": "white"
           },
           "zaxis": {
            "backgroundcolor": "#E5ECF6",
            "gridcolor": "white",
            "gridwidth": 2,
            "linecolor": "white",
            "showbackground": true,
            "ticks": "",
            "zerolinecolor": "white"
           }
          },
          "shapedefaults": {
           "line": {
            "color": "#2a3f5f"
           }
          },
          "ternary": {
           "aaxis": {
            "gridcolor": "white",
            "linecolor": "white",
            "ticks": ""
           },
           "baxis": {
            "gridcolor": "white",
            "linecolor": "white",
            "ticks": ""
           },
           "bgcolor": "#E5ECF6",
           "caxis": {
            "gridcolor": "white",
            "linecolor": "white",
            "ticks": ""
           }
          },
          "title": {
           "x": 0.05
          },
          "xaxis": {
           "automargin": true,
           "gridcolor": "white",
           "linecolor": "white",
           "ticks": "",
           "zerolinecolor": "white",
           "zerolinewidth": 2
          },
          "yaxis": {
           "automargin": true,
           "gridcolor": "white",
           "linecolor": "white",
           "ticks": "",
           "zerolinecolor": "white",
           "zerolinewidth": 2
          }
         }
        },
        "xaxis": {
         "gridcolor": "#c0c0c0",
         "range": [
          "2019-07-26T14:13:17+00:00",
          "2019-07-26T23:13:17+00:00"
         ],
         "showgrid": true,
         "type": "date"
        },
        "yaxis": {
         "fixedrange": true,
         "gridcolor": "#c0c0c0",
         "hoverformat": ".0f",
         "range": [
          -62.03199999999997,
          400
         ],
         "showgrid": true,
         "tickvals": [
          -100,
          40,
          70,
          180,
          250,
          400
         ],
         "title": {
          "font": {
           "size": 12
          },
          "text": "Blood Glucose (mg/dL)"
         },
         "type": "linear",
         "zeroline": false
        }
       }
      },
      "image/png": "[encoded data removed]",
      "text/html": [
       "<div>\n",
       "        \n",
       "        \n",
       "            <div id=\"613b7135-38c4-43cc-8417-d957e06a68f4\" class=\"plotly-graph-div\" style=\"height:525px; width:100%;\"></div>\n",
       "            <script type=\"text/javascript\">\n",
       "                require([\"plotly\"], function(Plotly) {\n",
       "                    window.PLOTLYENV=window.PLOTLYENV || {};\n",
       "                    \n",
       "                if (document.getElementById(\"613b7135-38c4-43cc-8417-d957e06a68f4\")) {\n",
       "                    Plotly.newPlot(\n",
       "                        '613b7135-38c4-43cc-8417-d957e06a68f4',\n",
       "                        [{\"hoverinfo\": \"y+name\", \"line\": {\"color\": \"#f29741\", \"dash\": \"dash\"}, \"mode\": \"lines\", \"name\": \"insulin effect\", \"type\": \"scattergl\", \"x\": [\"2019-07-26T15:12:46+00:00\", \"2019-07-26T15:15:00+00:00\", \"2019-07-26T15:20:00+00:00\", \"2019-07-26T15:25:00+00:00\", \"2019-07-26T15:30:00+00:00\", \"2019-07-26T15:35:00+00:00\", \"2019-07-26T15:40:00+00:00\", \"2019-07-26T15:45:00+00:00\", \"2019-07-26T15:50:00+00:00\", \"2019-07-26T15:55:00+00:00\", \"2019-07-26T16:00:00+00:00\", \"2019-07-26T16:05:00+00:00\", \"2019-07-26T16:10:00+00:00\", \"2019-07-26T16:15:00+00:00\", \"2019-07-26T16:20:00+00:00\", \"2019-07-26T16:25:00+00:00\", \"2019-07-26T16:30:00+00:00\", \"2019-07-26T16:35:00+00:00\", \"2019-07-26T16:40:00+00:00\", \"2019-07-26T16:45:00+00:00\", \"2019-07-26T16:50:00+00:00\", \"2019-07-26T16:55:00+00:00\", \"2019-07-26T17:00:00+00:00\", \"2019-07-26T17:05:00+00:00\", \"2019-07-26T17:10:00+00:00\", \"2019-07-26T17:15:00+00:00\", \"2019-07-26T17:20:00+00:00\", \"2019-07-26T17:25:00+00:00\", \"2019-07-26T17:30:00+00:00\", \"2019-07-26T17:35:00+00:00\", \"2019-07-26T17:40:00+00:00\", \"2019-07-26T17:45:00+00:00\", \"2019-07-26T17:50:00+00:00\", \"2019-07-26T17:55:00+00:00\", \"2019-07-26T18:00:00+00:00\", \"2019-07-26T18:05:00+00:00\", \"2019-07-26T18:10:00+00:00\", \"2019-07-26T18:15:00+00:00\", \"2019-07-26T18:20:00+00:00\", \"2019-07-26T18:25:00+00:00\", \"2019-07-26T18:30:00+00:00\", \"2019-07-26T18:35:00+00:00\", \"2019-07-26T18:40:00+00:00\", \"2019-07-26T18:45:00+00:00\", \"2019-07-26T18:50:00+00:00\", \"2019-07-26T18:55:00+00:00\", \"2019-07-26T19:00:00+00:00\", \"2019-07-26T19:05:00+00:00\", \"2019-07-26T19:10:00+00:00\", \"2019-07-26T19:15:00+00:00\", \"2019-07-26T19:20:00+00:00\", \"2019-07-26T19:25:00+00:00\", \"2019-07-26T19:30:00+00:00\", \"2019-07-26T19:35:00+00:00\", \"2019-07-26T19:40:00+00:00\", \"2019-07-26T19:45:00+00:00\", \"2019-07-26T19:50:00+00:00\", \"2019-07-26T19:55:00+00:00\", \"2019-07-26T20:00:00+00:00\", \"2019-07-26T20:05:00+00:00\", \"2019-07-26T20:10:00+00:00\", \"2019-07-26T20:15:00+00:00\", \"2019-07-26T20:20:00+00:00\", \"2019-07-26T20:25:00+00:00\", \"2019-07-26T20:30:00+00:00\", \"2019-07-26T20:35:00+00:00\", \"2019-07-26T20:40:00+00:00\", \"2019-07-26T20:45:00+00:00\", \"2019-07-26T20:50:00+00:00\", \"2019-07-26T20:55:00+00:00\", \"2019-07-26T21:00:00+00:00\", \"2019-07-26T21:05:00+00:00\", \"2019-07-26T21:10:00+00:00\", \"2019-07-26T21:15:00+00:00\", \"2019-07-26T21:20:00+00:00\", \"2019-07-26T21:25:00+00:00\", \"2019-07-26T21:30:00+00:00\"], \"y\": [152.968, 152.968, 152.968, 152.87997087617336, 151.78791668617174, 149.5909061290006, 146.45304891543327, 142.52124370254947, 137.9267333955262, 132.7865314319628, 127.20472916379433, 121.27369369018085, 115.07516478872402, 108.6812589379984, 102.15538781799637, 95.55309811324037, 88.92283892282828, 82.30666259957314, 75.74086439392276, 69.25656586493231, 62.88024663783078, 56.63422873345321, 50.53711736694676, 44.60420180978879, 38.84781962849665, 33.27768735381697, 27.901200394114923, 22.72370478472449, 17.748743159838867, 12.97827714389011, 8.412888184147207, 4.051958684393853, -0.10616484995681219, -4.064025083001596, -7.824922090871397, -11.392795248395075, -14.772117541186603, -17.96780118455645, -20.98511352297878, -23.82960226897289, -26.50702921872086, -29.023311654043127, -31.38447070695709, -33.59658602437493, -35.665756126963586, -37.59806390815238, -39.399546767081674, -41.07617091325271, -42.63380942106012, -44.07822364953522, -45.41504767675376, -46.649775429697414, -47.78775021912331, -48.83415641538589, -49.79401302535892, -50.672168952791864, -51.4732997447628, -52.20190564550474, -52.862310795922824, -53.4586634327044, -53.99493695517653, -54.47493174108568, -54.9022776043647, -55.28043679880311, -55.61270748143254, -55.902227558454214, -56.15197884474891, -56.36479147547966, -56.543348515088084, -56.690190715156334, -56.80772137820337, -56.898211289558944, -56.96380368405481, -57.00651921842912, -57.02826092409673, -57.03199999999997, -57.03199999999997]}],\n",
       "                        {\"annotations\": [{\"arrowhead\": 1, \"ax\": 0, \"ay\": 425, \"ayref\": \"y\", \"showarrow\": true, \"text\": \"current time\", \"x\": \"2019-07-26T15:13:17+00:00\", \"xref\": \"x\", \"y\": 162.968, \"yref\": \"y\"}], \"dragmode\": \"pan\", \"hovermode\": \"x\", \"plot_bgcolor\": \"white\", \"showlegend\": true, \"template\": {\"data\": {\"bar\": [{\"error_x\": {\"color\": \"#2a3f5f\"}, \"error_y\": {\"color\": \"#2a3f5f\"}, \"marker\": {\"line\": {\"color\": \"#E5ECF6\", \"width\": 0.5}}, \"type\": \"bar\"}], \"barpolar\": [{\"marker\": {\"line\": {\"color\": \"#E5ECF6\", \"width\": 0.5}}, \"type\": \"barpolar\"}], \"carpet\": [{\"aaxis\": {\"endlinecolor\": \"#2a3f5f\", \"gridcolor\": \"white\", \"linecolor\": \"white\", \"minorgridcolor\": \"white\", \"startlinecolor\": \"#2a3f5f\"}, \"baxis\": {\"endlinecolor\": \"#2a3f5f\", \"gridcolor\": \"white\", \"linecolor\": \"white\", \"minorgridcolor\": \"white\", \"startlinecolor\": \"#2a3f5f\"}, \"type\": \"carpet\"}], \"choropleth\": [{\"colorbar\": {\"outlinewidth\": 0, \"ticks\": \"\"}, \"type\": \"choropleth\"}], \"contour\": [{\"colorbar\": {\"outlinewidth\": 0, \"ticks\": \"\"}, \"colorscale\": [[0.0, \"#0d0887\"], [0.1111111111111111, \"#46039f\"], [0.2222222222222222, \"#7201a8\"], [0.3333333333333333, \"#9c179e\"], [0.4444444444444444, \"#bd3786\"], [0.5555555555555556, \"#d8576b\"], [0.6666666666666666, \"#ed7953\"], [0.7777777777777778, \"#fb9f3a\"], [0.8888888888888888, \"#fdca26\"], [1.0, \"#f0f921\"]], \"type\": \"contour\"}], \"contourcarpet\": [{\"colorbar\": {\"outlinewidth\": 0, \"ticks\": \"\"}, \"type\": \"contourcarpet\"}], \"heatmap\": [{\"colorbar\": {\"outlinewidth\": 0, \"ticks\": \"\"}, \"colorscale\": [[0.0, \"#0d0887\"], [0.1111111111111111, \"#46039f\"], [0.2222222222222222, \"#7201a8\"], [0.3333333333333333, \"#9c179e\"], [0.4444444444444444, \"#bd3786\"], [0.5555555555555556, \"#d8576b\"], [0.6666666666666666, \"#ed7953\"], [0.7777777777777778, \"#fb9f3a\"], [0.8888888888888888, \"#fdca26\"], [1.0, \"#f0f921\"]], \"type\": \"heatmap\"}], \"heatmapgl\": [{\"colorbar\": {\"outlinewidth\": 0, \"ticks\": \"\"}, \"colorscale\": [[0.0, \"#0d0887\"], [0.1111111111111111, \"#46039f\"], [0.2222222222222222, \"#7201a8\"], [0.3333333333333333, \"#9c179e\"], [0.4444444444444444, \"#bd3786\"], [0.5555555555555556, \"#d8576b\"], [0.6666666666666666, \"#ed7953\"], [0.7777777777777778, \"#fb9f3a\"], [0.8888888888888888, \"#fdca26\"], [1.0, \"#f0f921\"]], \"type\": \"heatmapgl\"}], \"histogram\": [{\"marker\": {\"colorbar\": {\"outlinewidth\": 0, \"ticks\": \"\"}}, \"type\": \"histogram\"}], \"histogram2d\": [{\"colorbar\": {\"outlinewidth\": 0, \"ticks\": \"\"}, \"colorscale\": [[0.0, \"#0d0887\"], [0.1111111111111111, \"#46039f\"], [0.2222222222222222, \"#7201a8\"], [0.3333333333333333, \"#9c179e\"], [0.4444444444444444, \"#bd3786\"], [0.5555555555555556, \"#d8576b\"], [0.6666666666666666, \"#ed7953\"], [0.7777777777777778, \"#fb9f3a\"], [0.8888888888888888, \"#fdca26\"], [1.0, \"#f0f921\"]], \"type\": \"histogram2d\"}], \"histogram2dcontour\": [{\"colorbar\": {\"outlinewidth\": 0, \"ticks\": \"\"}, \"colorscale\": [[0.0, \"#0d0887\"], [0.1111111111111111, \"#46039f\"], [0.2222222222222222, \"#7201a8\"], [0.3333333333333333, \"#9c179e\"], [0.4444444444444444, \"#bd3786\"], [0.5555555555555556, \"#d8576b\"], [0.6666666666666666, \"#ed7953\"], [0.7777777777777778, \"#fb9f3a\"], [0.8888888888888888, \"#fdca26\"], [1.0, \"#f0f921\"]], \"type\": \"histogram2dcontour\"}], \"mesh3d\": [{\"colorbar\": {\"outlinewidth\": 0, \"ticks\": \"\"}, \"type\": \"mesh3d\"}], \"parcoords\": [{\"line\": {\"colorbar\": {\"outlinewidth\": 0, \"ticks\": \"\"}}, \"type\": \"parcoords\"}], \"scatter\": [{\"marker\": {\"colorbar\": {\"outlinewidth\": 0, \"ticks\": \"\"}}, \"type\": \"scatter\"}], \"scatter3d\": [{\"line\": {\"colorbar\": {\"outlinewidth\": 0, \"ticks\": \"\"}}, \"marker\": {\"colorbar\": {\"outlinewidth\": 0, \"ticks\": \"\"}}, \"type\": \"scatter3d\"}], \"scattercarpet\": [{\"marker\": {\"colorbar\": {\"outlinewidth\": 0, \"ticks\": \"\"}}, \"type\": \"scattercarpet\"}], \"scattergeo\": [{\"marker\": {\"colorbar\": {\"outlinewidth\": 0, \"ticks\": \"\"}}, \"type\": \"scattergeo\"}], \"scattergl\": [{\"marker\": {\"colorbar\": {\"outlinewidth\": 0, \"ticks\": \"\"}}, \"type\": \"scattergl\"}], \"scattermapbox\": [{\"marker\": {\"colorbar\": {\"outlinewidth\": 0, \"ticks\": \"\"}}, \"type\": \"scattermapbox\"}], \"scatterpolar\": [{\"marker\": {\"colorbar\": {\"outlinewidth\": 0, \"ticks\": \"\"}}, \"type\": \"scatterpolar\"}], \"scatterpolargl\": [{\"marker\": {\"colorbar\": {\"outlinewidth\": 0, \"ticks\": \"\"}}, \"type\": \"scatterpolargl\"}], \"scatterternary\": [{\"marker\": {\"colorbar\": {\"outlinewidth\": 0, \"ticks\": \"\"}}, \"type\": \"scatterternary\"}], \"surface\": [{\"colorbar\": {\"outlinewidth\": 0, \"ticks\": \"\"}, \"colorscale\": [[0.0, \"#0d0887\"], [0.1111111111111111, \"#46039f\"], [0.2222222222222222, \"#7201a8\"], [0.3333333333333333, \"#9c179e\"], [0.4444444444444444, \"#bd3786\"], [0.5555555555555556, \"#d8576b\"], [0.6666666666666666, \"#ed7953\"], [0.7777777777777778, \"#fb9f3a\"], [0.8888888888888888, \"#fdca26\"], [1.0, \"#f0f921\"]], \"type\": \"surface\"}], \"table\": [{\"cells\": {\"fill\": {\"color\": \"#EBF0F8\"}, \"line\": {\"color\": \"white\"}}, \"header\": {\"fill\": {\"color\": \"#C8D4E3\"}, \"line\": {\"color\": \"white\"}}, \"type\": \"table\"}]}, \"layout\": {\"annotationdefaults\": {\"arrowcolor\": \"#2a3f5f\", \"arrowhead\": 0, \"arrowwidth\": 1}, \"colorscale\": {\"diverging\": [[0, \"#8e0152\"], [0.1, \"#c51b7d\"], [0.2, \"#de77ae\"], [0.3, \"#f1b6da\"], [0.4, \"#fde0ef\"], [0.5, \"#f7f7f7\"], [0.6, \"#e6f5d0\"], [0.7, \"#b8e186\"], [0.8, \"#7fbc41\"], [0.9, \"#4d9221\"], [1, \"#276419\"]], \"sequential\": [[0.0, \"#0d0887\"], [0.1111111111111111, \"#46039f\"], [0.2222222222222222, \"#7201a8\"], [0.3333333333333333, \"#9c179e\"], [0.4444444444444444, \"#bd3786\"], [0.5555555555555556, \"#d8576b\"], [0.6666666666666666, \"#ed7953\"], [0.7777777777777778, \"#fb9f3a\"], [0.8888888888888888, \"#fdca26\"], [1.0, \"#f0f921\"]], \"sequentialminus\": [[0.0, \"#0d0887\"], [0.1111111111111111, \"#46039f\"], [0.2222222222222222, \"#7201a8\"], [0.3333333333333333, \"#9c179e\"], [0.4444444444444444, \"#bd3786\"], [0.5555555555555556, \"#d8576b\"], [0.6666666666666666, \"#ed7953\"], [0.7777777777777778, \"#fb9f3a\"], [0.8888888888888888, \"#fdca26\"], [1.0, \"#f0f921\"]]}, \"colorway\": [\"#636efa\", \"#EF553B\", \"#00cc96\", \"#ab63fa\", \"#FFA15A\", \"#19d3f3\", \"#FF6692\", \"#B6E880\", \"#FF97FF\", \"#FECB52\"], \"font\": {\"color\": \"#2a3f5f\"}, \"geo\": {\"bgcolor\": \"white\", \"lakecolor\": \"white\", \"landcolor\": \"#E5ECF6\", \"showlakes\": true, \"showland\": true, \"subunitcolor\": \"white\"}, \"hoverlabel\": {\"align\": \"left\"}, \"hovermode\": \"closest\", \"mapbox\": {\"style\": \"light\"}, \"paper_bgcolor\": \"white\", \"plot_bgcolor\": \"#E5ECF6\", \"polar\": {\"angularaxis\": {\"gridcolor\": \"white\", \"linecolor\": \"white\", \"ticks\": \"\"}, \"bgcolor\": \"#E5ECF6\", \"radialaxis\": {\"gridcolor\": \"white\", \"linecolor\": \"white\", \"ticks\": \"\"}}, \"scene\": {\"xaxis\": {\"backgroundcolor\": \"#E5ECF6\", \"gridcolor\": \"white\", \"gridwidth\": 2, \"linecolor\": \"white\", \"showbackground\": true, \"ticks\": \"\", \"zerolinecolor\": \"white\"}, \"yaxis\": {\"backgroundcolor\": \"#E5ECF6\", \"gridcolor\": \"white\", \"gridwidth\": 2, \"linecolor\": \"white\", \"showbackground\": true, \"ticks\": \"\", \"zerolinecolor\": \"white\"}, \"zaxis\": {\"backgroundcolor\": \"#E5ECF6\", \"gridcolor\": \"white\", \"gridwidth\": 2, \"linecolor\": \"white\", \"showbackground\": true, \"ticks\": \"\", \"zerolinecolor\": \"white\"}}, \"shapedefaults\": {\"line\": {\"color\": \"#2a3f5f\"}}, \"ternary\": {\"aaxis\": {\"gridcolor\": \"white\", \"linecolor\": \"white\", \"ticks\": \"\"}, \"baxis\": {\"gridcolor\": \"white\", \"linecolor\": \"white\", \"ticks\": \"\"}, \"bgcolor\": \"#E5ECF6\", \"caxis\": {\"gridcolor\": \"white\", \"linecolor\": \"white\", \"ticks\": \"\"}}, \"title\": {\"x\": 0.05}, \"xaxis\": {\"automargin\": true, \"gridcolor\": \"white\", \"linecolor\": \"white\", \"ticks\": \"\", \"zerolinecolor\": \"white\", \"zerolinewidth\": 2}, \"yaxis\": {\"automargin\": true, \"gridcolor\": \"white\", \"linecolor\": \"white\", \"ticks\": \"\", \"zerolinecolor\": \"white\", \"zerolinewidth\": 2}}}, \"xaxis\": {\"gridcolor\": \"#c0c0c0\", \"range\": [\"2019-07-26T14:13:17+00:00\", \"2019-07-26T23:13:17+00:00\"], \"showgrid\": true}, \"yaxis\": {\"fixedrange\": true, \"gridcolor\": \"#c0c0c0\", \"hoverformat\": \".0f\", \"range\": [-62.03199999999997, 400], \"showgrid\": true, \"tickvals\": [-100, 40, 70, 180, 250, 400], \"title\": {\"font\": {\"size\": 12}, \"text\": \"Blood Glucose (mg/dL)\"}, \"zeroline\": false}},\n",
       "                        {\"responsive\": true}\n",
       "                    ).then(function(){\n",
       "                            \n",
       "var gd = document.getElementById('613b7135-38c4-43cc-8417-d957e06a68f4');\n",
       "var x = new MutationObserver(function (mutations, observer) {{\n",
       "        var display = window.getComputedStyle(gd).display;\n",
       "        if (!display || display === 'none') {{\n",
       "            console.log([gd, 'removed!']);\n",
       "            Plotly.purge(gd);\n",
       "            observer.disconnect();\n",
       "        }}\n",
       "}});\n",
       "\n",
       "// Listen for the removal of the full notebook cells\n",
       "var notebookContainer = gd.closest('#notebook-container');\n",
       "if (notebookContainer) {{\n",
       "    x.observe(notebookContainer, {childList: true});\n",
       "}}\n",
       "\n",
       "// Listen for the clearing of the current output cell\n",
       "var outputEl = gd.closest('.output');\n",
       "if (outputEl) {{\n",
       "    x.observe(outputEl, {childList: true});\n",
       "}}\n",
       "\n",
       "                        })\n",
       "                };\n",
       "                });\n",
       "            </script>\n",
       "        </div>"
      ]
     },
     "metadata": {},
     "output_type": "display_data"
    }
   ],
   "source": [
    "insulin_predicted_glucose_dates, insulin_predicted_glucose_values = predict_glucose(\n",
    "     starting_date, starting_glucose,\n",
    "     insulin_effect_dates=recommendations.get(\"insulin_effect_dates\"),\n",
    "     insulin_effect_values=recommendations.get(\"insulin_effect_values\")\n",
    ")\n",
    "\n",
    "insulin_effect_trace = go.Scattergl(\n",
    "    name=\"insulin effect\",\n",
    "    x=insulin_predicted_glucose_dates,\n",
    "    y=insulin_predicted_glucose_values,\n",
    "    hoverinfo=\"y+name\",\n",
    "    mode='lines',\n",
    "    line=dict(\n",
    "        color=\"#f29741\",\n",
    "        dash=\"dash\",\n",
    "    )\n",
    ")\n",
    "\n",
    "fig = go.Figure(data=[insulin_effect_trace], layout=layout)\n",
    "fig.update_layout(yaxis=dict(range=[\n",
    "    min(0, min(insulin_predicted_glucose_values)-5),\n",
    "    max(400, max(insulin_predicted_glucose_values)+5)\n",
    "]))\n",
    "\n",
    "fig"
   ]
  },
  {
   "cell_type": "markdown",
   "metadata": {},
   "source": [
    "## Carb Effect"
   ]
  },
  {
   "cell_type": "code",
   "execution_count": 241,
   "metadata": {},
   "outputs": [
    {
     "data": {
      "application/vnd.plotly.v1+json": {
       "config": {
        "plotlyServerURL": "https://plot.ly"
       },
       "data": [
        {
         "hoverinfo": "y+name",
         "line": {
          "color": "#5FCB49",
          "dash": "dash"
         },
         "mode": "lines",
         "name": "carb effect",
         "type": "scattergl",
         "x": [
          "2019-07-26T15:12:46+00:00",
          "2019-07-26T15:15:00+00:00",
          "2019-07-26T15:20:00+00:00",
          "2019-07-26T15:25:00+00:00",
          "2019-07-26T15:30:00+00:00",
          "2019-07-26T15:35:00+00:00",
          "2019-07-26T15:40:00+00:00",
          "2019-07-26T15:45:00+00:00",
          "2019-07-26T15:50:00+00:00",
          "2019-07-26T15:55:00+00:00",
          "2019-07-26T16:00:00+00:00",
          "2019-07-26T16:05:00+00:00",
          "2019-07-26T16:10:00+00:00",
          "2019-07-26T16:15:00+00:00",
          "2019-07-26T16:20:00+00:00",
          "2019-07-26T16:25:00+00:00",
          "2019-07-26T16:30:00+00:00",
          "2019-07-26T16:35:00+00:00",
          "2019-07-26T16:40:00+00:00",
          "2019-07-26T16:45:00+00:00",
          "2019-07-26T16:50:00+00:00",
          "2019-07-26T16:55:00+00:00",
          "2019-07-26T17:00:00+00:00",
          "2019-07-26T17:05:00+00:00",
          "2019-07-26T17:10:00+00:00",
          "2019-07-26T17:15:00+00:00",
          "2019-07-26T17:20:00+00:00",
          "2019-07-26T17:25:00+00:00",
          "2019-07-26T17:30:00+00:00",
          "2019-07-26T17:35:00+00:00",
          "2019-07-26T17:40:00+00:00",
          "2019-07-26T17:45:00+00:00",
          "2019-07-26T17:50:00+00:00",
          "2019-07-26T17:55:00+00:00",
          "2019-07-26T18:00:00+00:00",
          "2019-07-26T18:05:00+00:00",
          "2019-07-26T18:10:00+00:00",
          "2019-07-26T18:15:00+00:00",
          "2019-07-26T18:20:00+00:00",
          "2019-07-26T18:25:00+00:00",
          "2019-07-26T18:30:00+00:00",
          "2019-07-26T18:35:00+00:00",
          "2019-07-26T18:40:00+00:00",
          "2019-07-26T18:45:00+00:00",
          "2019-07-26T18:50:00+00:00",
          "2019-07-26T18:55:00+00:00",
          "2019-07-26T19:00:00+00:00",
          "2019-07-26T19:05:00+00:00",
          "2019-07-26T19:10:00+00:00",
          "2019-07-26T19:15:00+00:00",
          "2019-07-26T19:20:00+00:00",
          "2019-07-26T19:25:00+00:00",
          "2019-07-26T19:30:00+00:00",
          "2019-07-26T19:35:00+00:00",
          "2019-07-26T19:40:00+00:00",
          "2019-07-26T19:45:00+00:00",
          "2019-07-26T19:50:00+00:00",
          "2019-07-26T19:55:00+00:00",
          "2019-07-26T20:00:00+00:00",
          "2019-07-26T20:05:00+00:00",
          "2019-07-26T20:10:00+00:00",
          "2019-07-26T20:15:00+00:00",
          "2019-07-26T20:20:00+00:00",
          "2019-07-26T20:25:00+00:00",
          "2019-07-26T20:30:00+00:00",
          "2019-07-26T20:35:00+00:00",
          "2019-07-26T20:40:00+00:00",
          "2019-07-26T20:45:00+00:00",
          "2019-07-26T20:50:00+00:00",
          "2019-07-26T20:55:00+00:00",
          "2019-07-26T21:00:00+00:00",
          "2019-07-26T21:05:00+00:00",
          "2019-07-26T21:10:00+00:00",
          "2019-07-26T21:15:00+00:00",
          "2019-07-26T21:20:00+00:00",
          "2019-07-26T21:25:00+00:00",
          "2019-07-26T21:30:00+00:00",
          "2019-07-26T21:35:00+00:00",
          "2019-07-26T21:40:00+00:00",
          "2019-07-26T21:45:00+00:00",
          "2019-07-26T21:50:00+00:00",
          "2019-07-26T21:55:00+00:00",
          "2019-07-26T22:00:00+00:00",
          "2019-07-26T22:05:00+00:00",
          "2019-07-26T22:10:00+00:00",
          "2019-07-26T22:15:00+00:00"
         ],
         "y": [
          152.968,
          154.2534938271605,
          157.49423456790123,
          160.73497530864196,
          163.9757160493827,
          167.21645679012343,
          170.45719753086416,
          173.6979382716049,
          176.93867901234563,
          180.17941975308636,
          183.4201604938271,
          186.66090123456783,
          189.90164197530856,
          193.1423827160493,
          196.38312345679003,
          199.62386419753076,
          202.8646049382715,
          206.10534567901223,
          209.34608641975296,
          212.58682716049373,
          215.82756790123446,
          219.0683086419752,
          222.30904938271593,
          225.54979012345666,
          228.7905308641974,
          232.03127160493813,
          235.2720123456789,
          238.5127530864196,
          241.75349382716036,
          244.99423456790112,
          248.23497530864185,
          251.47571604938258,
          254.71645679012335,
          257.95719753086405,
          261.19793827160476,
          264.4386790123455,
          267.6794197530862,
          270.920160493827,
          274.1609012345677,
          277.4016419753084,
          280.64238271604916,
          283.8831234567899,
          287.1238641975307,
          290.3646049382714,
          293.6053456790122,
          296.8460864197529,
          300.08682716049367,
          303.3275679012344,
          306.56830864197514,
          309.8090493827159,
          313.04979012345666,
          316.2905308641974,
          319.5312716049382,
          322.77201234567895,
          326.0127530864197,
          329.2534938271604,
          332.4942345679012,
          335.7349753086419,
          338.97571604938264,
          342.2164567901234,
          345.45719753086416,
          348.69793827160487,
          351.9386790123456,
          355.17941975308634,
          358.42016049382704,
          361.66090123456786,
          364.90164197530856,
          368.1423827160493,
          371.38312345679003,
          374.6238641975308,
          377.8646049382715,
          381.10534567901226,
          384.34608641975296,
          386.3013333333332,
          386.3013333333332,
          386.3013333333332,
          386.3013333333332,
          386.3013333333332,
          386.3013333333332,
          386.3013333333332,
          386.3013333333332,
          386.3013333333332,
          386.3013333333332,
          386.3013333333332,
          386.3013333333332,
          386.3013333333332
         ]
        }
       ],
       "layout": {
        "annotations": [
         {
          "arrowhead": 1,
          "ax": 0,
          "ay": 425,
          "ayref": "y",
          "showarrow": true,
          "text": "current time",
          "x": "2019-07-26T15:13:17+00:00",
          "xref": "x",
          "y": 162.968,
          "yref": "y"
         }
        ],
        "autosize": true,
        "dragmode": "pan",
        "hovermode": "x",
        "plot_bgcolor": "white",
        "showlegend": true,
        "template": {
         "data": {
          "bar": [
           {
            "error_x": {
             "color": "#2a3f5f"
            },
            "error_y": {
             "color": "#2a3f5f"
            },
            "marker": {
             "line": {
              "color": "#E5ECF6",
              "width": 0.5
             }
            },
            "type": "bar"
           }
          ],
          "barpolar": [
           {
            "marker": {
             "line": {
              "color": "#E5ECF6",
              "width": 0.5
             }
            },
            "type": "barpolar"
           }
          ],
          "carpet": [
           {
            "aaxis": {
             "endlinecolor": "#2a3f5f",
             "gridcolor": "white",
             "linecolor": "white",
             "minorgridcolor": "white",
             "startlinecolor": "#2a3f5f"
            },
            "baxis": {
             "endlinecolor": "#2a3f5f",
             "gridcolor": "white",
             "linecolor": "white",
             "minorgridcolor": "white",
             "startlinecolor": "#2a3f5f"
            },
            "type": "carpet"
           }
          ],
          "choropleth": [
           {
            "colorbar": {
             "outlinewidth": 0,
             "ticks": ""
            },
            "type": "choropleth"
           }
          ],
          "contour": [
           {
            "colorbar": {
             "outlinewidth": 0,
             "ticks": ""
            },
            "colorscale": [
             [
              0,
              "#0d0887"
             ],
             [
              0.1111111111111111,
              "#46039f"
             ],
             [
              0.2222222222222222,
              "#7201a8"
             ],
             [
              0.3333333333333333,
              "#9c179e"
             ],
             [
              0.4444444444444444,
              "#bd3786"
             ],
             [
              0.5555555555555556,
              "#d8576b"
             ],
             [
              0.6666666666666666,
              "#ed7953"
             ],
             [
              0.7777777777777778,
              "#fb9f3a"
             ],
             [
              0.8888888888888888,
              "#fdca26"
             ],
             [
              1,
              "#f0f921"
             ]
            ],
            "type": "contour"
           }
          ],
          "contourcarpet": [
           {
            "colorbar": {
             "outlinewidth": 0,
             "ticks": ""
            },
            "type": "contourcarpet"
           }
          ],
          "heatmap": [
           {
            "colorbar": {
             "outlinewidth": 0,
             "ticks": ""
            },
            "colorscale": [
             [
              0,
              "#0d0887"
             ],
             [
              0.1111111111111111,
              "#46039f"
             ],
             [
              0.2222222222222222,
              "#7201a8"
             ],
             [
              0.3333333333333333,
              "#9c179e"
             ],
             [
              0.4444444444444444,
              "#bd3786"
             ],
             [
              0.5555555555555556,
              "#d8576b"
             ],
             [
              0.6666666666666666,
              "#ed7953"
             ],
             [
              0.7777777777777778,
              "#fb9f3a"
             ],
             [
              0.8888888888888888,
              "#fdca26"
             ],
             [
              1,
              "#f0f921"
             ]
            ],
            "type": "heatmap"
           }
          ],
          "heatmapgl": [
           {
            "colorbar": {
             "outlinewidth": 0,
             "ticks": ""
            },
            "colorscale": [
             [
              0,
              "#0d0887"
             ],
             [
              0.1111111111111111,
              "#46039f"
             ],
             [
              0.2222222222222222,
              "#7201a8"
             ],
             [
              0.3333333333333333,
              "#9c179e"
             ],
             [
              0.4444444444444444,
              "#bd3786"
             ],
             [
              0.5555555555555556,
              "#d8576b"
             ],
             [
              0.6666666666666666,
              "#ed7953"
             ],
             [
              0.7777777777777778,
              "#fb9f3a"
             ],
             [
              0.8888888888888888,
              "#fdca26"
             ],
             [
              1,
              "#f0f921"
             ]
            ],
            "type": "heatmapgl"
           }
          ],
          "histogram": [
           {
            "marker": {
             "colorbar": {
              "outlinewidth": 0,
              "ticks": ""
             }
            },
            "type": "histogram"
           }
          ],
          "histogram2d": [
           {
            "colorbar": {
             "outlinewidth": 0,
             "ticks": ""
            },
            "colorscale": [
             [
              0,
              "#0d0887"
             ],
             [
              0.1111111111111111,
              "#46039f"
             ],
             [
              0.2222222222222222,
              "#7201a8"
             ],
             [
              0.3333333333333333,
              "#9c179e"
             ],
             [
              0.4444444444444444,
              "#bd3786"
             ],
             [
              0.5555555555555556,
              "#d8576b"
             ],
             [
              0.6666666666666666,
              "#ed7953"
             ],
             [
              0.7777777777777778,
              "#fb9f3a"
             ],
             [
              0.8888888888888888,
              "#fdca26"
             ],
             [
              1,
              "#f0f921"
             ]
            ],
            "type": "histogram2d"
           }
          ],
          "histogram2dcontour": [
           {
            "colorbar": {
             "outlinewidth": 0,
             "ticks": ""
            },
            "colorscale": [
             [
              0,
              "#0d0887"
             ],
             [
              0.1111111111111111,
              "#46039f"
             ],
             [
              0.2222222222222222,
              "#7201a8"
             ],
             [
              0.3333333333333333,
              "#9c179e"
             ],
             [
              0.4444444444444444,
              "#bd3786"
             ],
             [
              0.5555555555555556,
              "#d8576b"
             ],
             [
              0.6666666666666666,
              "#ed7953"
             ],
             [
              0.7777777777777778,
              "#fb9f3a"
             ],
             [
              0.8888888888888888,
              "#fdca26"
             ],
             [
              1,
              "#f0f921"
             ]
            ],
            "type": "histogram2dcontour"
           }
          ],
          "mesh3d": [
           {
            "colorbar": {
             "outlinewidth": 0,
             "ticks": ""
            },
            "type": "mesh3d"
           }
          ],
          "parcoords": [
           {
            "line": {
             "colorbar": {
              "outlinewidth": 0,
              "ticks": ""
             }
            },
            "type": "parcoords"
           }
          ],
          "scatter": [
           {
            "marker": {
             "colorbar": {
              "outlinewidth": 0,
              "ticks": ""
             }
            },
            "type": "scatter"
           }
          ],
          "scatter3d": [
           {
            "line": {
             "colorbar": {
              "outlinewidth": 0,
              "ticks": ""
             }
            },
            "marker": {
             "colorbar": {
              "outlinewidth": 0,
              "ticks": ""
             }
            },
            "type": "scatter3d"
           }
          ],
          "scattercarpet": [
           {
            "marker": {
             "colorbar": {
              "outlinewidth": 0,
              "ticks": ""
             }
            },
            "type": "scattercarpet"
           }
          ],
          "scattergeo": [
           {
            "marker": {
             "colorbar": {
              "outlinewidth": 0,
              "ticks": ""
             }
            },
            "type": "scattergeo"
           }
          ],
          "scattergl": [
           {
            "marker": {
             "colorbar": {
              "outlinewidth": 0,
              "ticks": ""
             }
            },
            "type": "scattergl"
           }
          ],
          "scattermapbox": [
           {
            "marker": {
             "colorbar": {
              "outlinewidth": 0,
              "ticks": ""
             }
            },
            "type": "scattermapbox"
           }
          ],
          "scatterpolar": [
           {
            "marker": {
             "colorbar": {
              "outlinewidth": 0,
              "ticks": ""
             }
            },
            "type": "scatterpolar"
           }
          ],
          "scatterpolargl": [
           {
            "marker": {
             "colorbar": {
              "outlinewidth": 0,
              "ticks": ""
             }
            },
            "type": "scatterpolargl"
           }
          ],
          "scatterternary": [
           {
            "marker": {
             "colorbar": {
              "outlinewidth": 0,
              "ticks": ""
             }
            },
            "type": "scatterternary"
           }
          ],
          "surface": [
           {
            "colorbar": {
             "outlinewidth": 0,
             "ticks": ""
            },
            "colorscale": [
             [
              0,
              "#0d0887"
             ],
             [
              0.1111111111111111,
              "#46039f"
             ],
             [
              0.2222222222222222,
              "#7201a8"
             ],
             [
              0.3333333333333333,
              "#9c179e"
             ],
             [
              0.4444444444444444,
              "#bd3786"
             ],
             [
              0.5555555555555556,
              "#d8576b"
             ],
             [
              0.6666666666666666,
              "#ed7953"
             ],
             [
              0.7777777777777778,
              "#fb9f3a"
             ],
             [
              0.8888888888888888,
              "#fdca26"
             ],
             [
              1,
              "#f0f921"
             ]
            ],
            "type": "surface"
           }
          ],
          "table": [
           {
            "cells": {
             "fill": {
              "color": "#EBF0F8"
             },
             "line": {
              "color": "white"
             }
            },
            "header": {
             "fill": {
              "color": "#C8D4E3"
             },
             "line": {
              "color": "white"
             }
            },
            "type": "table"
           }
          ]
         },
         "layout": {
          "annotationdefaults": {
           "arrowcolor": "#2a3f5f",
           "arrowhead": 0,
           "arrowwidth": 1
          },
          "colorscale": {
           "diverging": [
            [
             0,
             "#8e0152"
            ],
            [
             0.1,
             "#c51b7d"
            ],
            [
             0.2,
             "#de77ae"
            ],
            [
             0.3,
             "#f1b6da"
            ],
            [
             0.4,
             "#fde0ef"
            ],
            [
             0.5,
             "#f7f7f7"
            ],
            [
             0.6,
             "#e6f5d0"
            ],
            [
             0.7,
             "#b8e186"
            ],
            [
             0.8,
             "#7fbc41"
            ],
            [
             0.9,
             "#4d9221"
            ],
            [
             1,
             "#276419"
            ]
           ],
           "sequential": [
            [
             0,
             "#0d0887"
            ],
            [
             0.1111111111111111,
             "#46039f"
            ],
            [
             0.2222222222222222,
             "#7201a8"
            ],
            [
             0.3333333333333333,
             "#9c179e"
            ],
            [
             0.4444444444444444,
             "#bd3786"
            ],
            [
             0.5555555555555556,
             "#d8576b"
            ],
            [
             0.6666666666666666,
             "#ed7953"
            ],
            [
             0.7777777777777778,
             "#fb9f3a"
            ],
            [
             0.8888888888888888,
             "#fdca26"
            ],
            [
             1,
             "#f0f921"
            ]
           ],
           "sequentialminus": [
            [
             0,
             "#0d0887"
            ],
            [
             0.1111111111111111,
             "#46039f"
            ],
            [
             0.2222222222222222,
             "#7201a8"
            ],
            [
             0.3333333333333333,
             "#9c179e"
            ],
            [
             0.4444444444444444,
             "#bd3786"
            ],
            [
             0.5555555555555556,
             "#d8576b"
            ],
            [
             0.6666666666666666,
             "#ed7953"
            ],
            [
             0.7777777777777778,
             "#fb9f3a"
            ],
            [
             0.8888888888888888,
             "#fdca26"
            ],
            [
             1,
             "#f0f921"
            ]
           ]
          },
          "colorway": [
           "#636efa",
           "#EF553B",
           "#00cc96",
           "#ab63fa",
           "#FFA15A",
           "#19d3f3",
           "#FF6692",
           "#B6E880",
           "#FF97FF",
           "#FECB52"
          ],
          "font": {
           "color": "#2a3f5f"
          },
          "geo": {
           "bgcolor": "white",
           "lakecolor": "white",
           "landcolor": "#E5ECF6",
           "showlakes": true,
           "showland": true,
           "subunitcolor": "white"
          },
          "hoverlabel": {
           "align": "left"
          },
          "hovermode": "closest",
          "mapbox": {
           "style": "light"
          },
          "paper_bgcolor": "white",
          "plot_bgcolor": "#E5ECF6",
          "polar": {
           "angularaxis": {
            "gridcolor": "white",
            "linecolor": "white",
            "ticks": ""
           },
           "bgcolor": "#E5ECF6",
           "radialaxis": {
            "gridcolor": "white",
            "linecolor": "white",
            "ticks": ""
           }
          },
          "scene": {
           "xaxis": {
            "backgroundcolor": "#E5ECF6",
            "gridcolor": "white",
            "gridwidth": 2,
            "linecolor": "white",
            "showbackground": true,
            "ticks": "",
            "zerolinecolor": "white"
           },
           "yaxis": {
            "backgroundcolor": "#E5ECF6",
            "gridcolor": "white",
            "gridwidth": 2,
            "linecolor": "white",
            "showbackground": true,
            "ticks": "",
            "zerolinecolor": "white"
           },
           "zaxis": {
            "backgroundcolor": "#E5ECF6",
            "gridcolor": "white",
            "gridwidth": 2,
            "linecolor": "white",
            "showbackground": true,
            "ticks": "",
            "zerolinecolor": "white"
           }
          },
          "shapedefaults": {
           "line": {
            "color": "#2a3f5f"
           }
          },
          "ternary": {
           "aaxis": {
            "gridcolor": "white",
            "linecolor": "white",
            "ticks": ""
           },
           "baxis": {
            "gridcolor": "white",
            "linecolor": "white",
            "ticks": ""
           },
           "bgcolor": "#E5ECF6",
           "caxis": {
            "gridcolor": "white",
            "linecolor": "white",
            "ticks": ""
           }
          },
          "title": {
           "x": 0.05
          },
          "xaxis": {
           "automargin": true,
           "gridcolor": "white",
           "linecolor": "white",
           "ticks": "",
           "zerolinecolor": "white",
           "zerolinewidth": 2
          },
          "yaxis": {
           "automargin": true,
           "gridcolor": "white",
           "linecolor": "white",
           "ticks": "",
           "zerolinecolor": "white",
           "zerolinewidth": 2
          }
         }
        },
        "xaxis": {
         "gridcolor": "#c0c0c0",
         "range": [
          "2019-07-26T14:13:17+00:00",
          "2019-07-26T23:13:17+00:00"
         ],
         "showgrid": true,
         "type": "date"
        },
        "yaxis": {
         "fixedrange": true,
         "gridcolor": "#c0c0c0",
         "hoverformat": ".0f",
         "range": [
          0,
          400
         ],
         "showgrid": true,
         "tickvals": [
          -100,
          40,
          70,
          180,
          250,
          400
         ],
         "title": {
          "font": {
           "size": 12
          },
          "text": "Blood Glucose (mg/dL)"
         },
         "type": "linear",
         "zeroline": false
        }
       }
      },
      "image/png": "[encoded data removed]",
      "text/html": [
       "<div>\n",
       "        \n",
       "        \n",
       "            <div id=\"1d08f7ac-8b40-4e6e-a17d-d1b5fb0488a7\" class=\"plotly-graph-div\" style=\"height:525px; width:100%;\"></div>\n",
       "            <script type=\"text/javascript\">\n",
       "                require([\"plotly\"], function(Plotly) {\n",
       "                    window.PLOTLYENV=window.PLOTLYENV || {};\n",
       "                    \n",
       "                if (document.getElementById(\"1d08f7ac-8b40-4e6e-a17d-d1b5fb0488a7\")) {\n",
       "                    Plotly.newPlot(\n",
       "                        '1d08f7ac-8b40-4e6e-a17d-d1b5fb0488a7',\n",
       "                        [{\"hoverinfo\": \"y+name\", \"line\": {\"color\": \"#5FCB49\", \"dash\": \"dash\"}, \"mode\": \"lines\", \"name\": \"carb effect\", \"type\": \"scattergl\", \"x\": [\"2019-07-26T15:12:46+00:00\", \"2019-07-26T15:15:00+00:00\", \"2019-07-26T15:20:00+00:00\", \"2019-07-26T15:25:00+00:00\", \"2019-07-26T15:30:00+00:00\", \"2019-07-26T15:35:00+00:00\", \"2019-07-26T15:40:00+00:00\", \"2019-07-26T15:45:00+00:00\", \"2019-07-26T15:50:00+00:00\", \"2019-07-26T15:55:00+00:00\", \"2019-07-26T16:00:00+00:00\", \"2019-07-26T16:05:00+00:00\", \"2019-07-26T16:10:00+00:00\", \"2019-07-26T16:15:00+00:00\", \"2019-07-26T16:20:00+00:00\", \"2019-07-26T16:25:00+00:00\", \"2019-07-26T16:30:00+00:00\", \"2019-07-26T16:35:00+00:00\", \"2019-07-26T16:40:00+00:00\", \"2019-07-26T16:45:00+00:00\", \"2019-07-26T16:50:00+00:00\", \"2019-07-26T16:55:00+00:00\", \"2019-07-26T17:00:00+00:00\", \"2019-07-26T17:05:00+00:00\", \"2019-07-26T17:10:00+00:00\", \"2019-07-26T17:15:00+00:00\", \"2019-07-26T17:20:00+00:00\", \"2019-07-26T17:25:00+00:00\", \"2019-07-26T17:30:00+00:00\", \"2019-07-26T17:35:00+00:00\", \"2019-07-26T17:40:00+00:00\", \"2019-07-26T17:45:00+00:00\", \"2019-07-26T17:50:00+00:00\", \"2019-07-26T17:55:00+00:00\", \"2019-07-26T18:00:00+00:00\", \"2019-07-26T18:05:00+00:00\", \"2019-07-26T18:10:00+00:00\", \"2019-07-26T18:15:00+00:00\", \"2019-07-26T18:20:00+00:00\", \"2019-07-26T18:25:00+00:00\", \"2019-07-26T18:30:00+00:00\", \"2019-07-26T18:35:00+00:00\", \"2019-07-26T18:40:00+00:00\", \"2019-07-26T18:45:00+00:00\", \"2019-07-26T18:50:00+00:00\", \"2019-07-26T18:55:00+00:00\", \"2019-07-26T19:00:00+00:00\", \"2019-07-26T19:05:00+00:00\", \"2019-07-26T19:10:00+00:00\", \"2019-07-26T19:15:00+00:00\", \"2019-07-26T19:20:00+00:00\", \"2019-07-26T19:25:00+00:00\", \"2019-07-26T19:30:00+00:00\", \"2019-07-26T19:35:00+00:00\", \"2019-07-26T19:40:00+00:00\", \"2019-07-26T19:45:00+00:00\", \"2019-07-26T19:50:00+00:00\", \"2019-07-26T19:55:00+00:00\", \"2019-07-26T20:00:00+00:00\", \"2019-07-26T20:05:00+00:00\", \"2019-07-26T20:10:00+00:00\", \"2019-07-26T20:15:00+00:00\", \"2019-07-26T20:20:00+00:00\", \"2019-07-26T20:25:00+00:00\", \"2019-07-26T20:30:00+00:00\", \"2019-07-26T20:35:00+00:00\", \"2019-07-26T20:40:00+00:00\", \"2019-07-26T20:45:00+00:00\", \"2019-07-26T20:50:00+00:00\", \"2019-07-26T20:55:00+00:00\", \"2019-07-26T21:00:00+00:00\", \"2019-07-26T21:05:00+00:00\", \"2019-07-26T21:10:00+00:00\", \"2019-07-26T21:15:00+00:00\", \"2019-07-26T21:20:00+00:00\", \"2019-07-26T21:25:00+00:00\", \"2019-07-26T21:30:00+00:00\", \"2019-07-26T21:35:00+00:00\", \"2019-07-26T21:40:00+00:00\", \"2019-07-26T21:45:00+00:00\", \"2019-07-26T21:50:00+00:00\", \"2019-07-26T21:55:00+00:00\", \"2019-07-26T22:00:00+00:00\", \"2019-07-26T22:05:00+00:00\", \"2019-07-26T22:10:00+00:00\", \"2019-07-26T22:15:00+00:00\"], \"y\": [152.968, 154.2534938271605, 157.49423456790123, 160.73497530864196, 163.9757160493827, 167.21645679012343, 170.45719753086416, 173.6979382716049, 176.93867901234563, 180.17941975308636, 183.4201604938271, 186.66090123456783, 189.90164197530856, 193.1423827160493, 196.38312345679003, 199.62386419753076, 202.8646049382715, 206.10534567901223, 209.34608641975296, 212.58682716049373, 215.82756790123446, 219.0683086419752, 222.30904938271593, 225.54979012345666, 228.7905308641974, 232.03127160493813, 235.2720123456789, 238.5127530864196, 241.75349382716036, 244.99423456790112, 248.23497530864185, 251.47571604938258, 254.71645679012335, 257.95719753086405, 261.19793827160476, 264.4386790123455, 267.6794197530862, 270.920160493827, 274.1609012345677, 277.4016419753084, 280.64238271604916, 283.8831234567899, 287.1238641975307, 290.3646049382714, 293.6053456790122, 296.8460864197529, 300.08682716049367, 303.3275679012344, 306.56830864197514, 309.8090493827159, 313.04979012345666, 316.2905308641974, 319.5312716049382, 322.77201234567895, 326.0127530864197, 329.2534938271604, 332.4942345679012, 335.7349753086419, 338.97571604938264, 342.2164567901234, 345.45719753086416, 348.69793827160487, 351.9386790123456, 355.17941975308634, 358.42016049382704, 361.66090123456786, 364.90164197530856, 368.1423827160493, 371.38312345679003, 374.6238641975308, 377.8646049382715, 381.10534567901226, 384.34608641975296, 386.3013333333332, 386.3013333333332, 386.3013333333332, 386.3013333333332, 386.3013333333332, 386.3013333333332, 386.3013333333332, 386.3013333333332, 386.3013333333332, 386.3013333333332, 386.3013333333332, 386.3013333333332, 386.3013333333332]}],\n",
       "                        {\"annotations\": [{\"arrowhead\": 1, \"ax\": 0, \"ay\": 425, \"ayref\": \"y\", \"showarrow\": true, \"text\": \"current time\", \"x\": \"2019-07-26T15:13:17+00:00\", \"xref\": \"x\", \"y\": 162.968, \"yref\": \"y\"}], \"dragmode\": \"pan\", \"hovermode\": \"x\", \"plot_bgcolor\": \"white\", \"showlegend\": true, \"template\": {\"data\": {\"bar\": [{\"error_x\": {\"color\": \"#2a3f5f\"}, \"error_y\": {\"color\": \"#2a3f5f\"}, \"marker\": {\"line\": {\"color\": \"#E5ECF6\", \"width\": 0.5}}, \"type\": \"bar\"}], \"barpolar\": [{\"marker\": {\"line\": {\"color\": \"#E5ECF6\", \"width\": 0.5}}, \"type\": \"barpolar\"}], \"carpet\": [{\"aaxis\": {\"endlinecolor\": \"#2a3f5f\", \"gridcolor\": \"white\", \"linecolor\": \"white\", \"minorgridcolor\": \"white\", \"startlinecolor\": \"#2a3f5f\"}, \"baxis\": {\"endlinecolor\": \"#2a3f5f\", \"gridcolor\": \"white\", \"linecolor\": \"white\", \"minorgridcolor\": \"white\", \"startlinecolor\": \"#2a3f5f\"}, \"type\": \"carpet\"}], \"choropleth\": [{\"colorbar\": {\"outlinewidth\": 0, \"ticks\": \"\"}, \"type\": \"choropleth\"}], \"contour\": [{\"colorbar\": {\"outlinewidth\": 0, \"ticks\": \"\"}, \"colorscale\": [[0.0, \"#0d0887\"], [0.1111111111111111, \"#46039f\"], [0.2222222222222222, \"#7201a8\"], [0.3333333333333333, \"#9c179e\"], [0.4444444444444444, \"#bd3786\"], [0.5555555555555556, \"#d8576b\"], [0.6666666666666666, \"#ed7953\"], [0.7777777777777778, \"#fb9f3a\"], [0.8888888888888888, \"#fdca26\"], [1.0, \"#f0f921\"]], \"type\": \"contour\"}], \"contourcarpet\": [{\"colorbar\": {\"outlinewidth\": 0, \"ticks\": \"\"}, \"type\": \"contourcarpet\"}], \"heatmap\": [{\"colorbar\": {\"outlinewidth\": 0, \"ticks\": \"\"}, \"colorscale\": [[0.0, \"#0d0887\"], [0.1111111111111111, \"#46039f\"], [0.2222222222222222, \"#7201a8\"], [0.3333333333333333, \"#9c179e\"], [0.4444444444444444, \"#bd3786\"], [0.5555555555555556, \"#d8576b\"], [0.6666666666666666, \"#ed7953\"], [0.7777777777777778, \"#fb9f3a\"], [0.8888888888888888, \"#fdca26\"], [1.0, \"#f0f921\"]], \"type\": \"heatmap\"}], \"heatmapgl\": [{\"colorbar\": {\"outlinewidth\": 0, \"ticks\": \"\"}, \"colorscale\": [[0.0, \"#0d0887\"], [0.1111111111111111, \"#46039f\"], [0.2222222222222222, \"#7201a8\"], [0.3333333333333333, \"#9c179e\"], [0.4444444444444444, \"#bd3786\"], [0.5555555555555556, \"#d8576b\"], [0.6666666666666666, \"#ed7953\"], [0.7777777777777778, \"#fb9f3a\"], [0.8888888888888888, \"#fdca26\"], [1.0, \"#f0f921\"]], \"type\": \"heatmapgl\"}], \"histogram\": [{\"marker\": {\"colorbar\": {\"outlinewidth\": 0, \"ticks\": \"\"}}, \"type\": \"histogram\"}], \"histogram2d\": [{\"colorbar\": {\"outlinewidth\": 0, \"ticks\": \"\"}, \"colorscale\": [[0.0, \"#0d0887\"], [0.1111111111111111, \"#46039f\"], [0.2222222222222222, \"#7201a8\"], [0.3333333333333333, \"#9c179e\"], [0.4444444444444444, \"#bd3786\"], [0.5555555555555556, \"#d8576b\"], [0.6666666666666666, \"#ed7953\"], [0.7777777777777778, \"#fb9f3a\"], [0.8888888888888888, \"#fdca26\"], [1.0, \"#f0f921\"]], \"type\": \"histogram2d\"}], \"histogram2dcontour\": [{\"colorbar\": {\"outlinewidth\": 0, \"ticks\": \"\"}, \"colorscale\": [[0.0, \"#0d0887\"], [0.1111111111111111, \"#46039f\"], [0.2222222222222222, \"#7201a8\"], [0.3333333333333333, \"#9c179e\"], [0.4444444444444444, \"#bd3786\"], [0.5555555555555556, \"#d8576b\"], [0.6666666666666666, \"#ed7953\"], [0.7777777777777778, \"#fb9f3a\"], [0.8888888888888888, \"#fdca26\"], [1.0, \"#f0f921\"]], \"type\": \"histogram2dcontour\"}], \"mesh3d\": [{\"colorbar\": {\"outlinewidth\": 0, \"ticks\": \"\"}, \"type\": \"mesh3d\"}], \"parcoords\": [{\"line\": {\"colorbar\": {\"outlinewidth\": 0, \"ticks\": \"\"}}, \"type\": \"parcoords\"}], \"scatter\": [{\"marker\": {\"colorbar\": {\"outlinewidth\": 0, \"ticks\": \"\"}}, \"type\": \"scatter\"}], \"scatter3d\": [{\"line\": {\"colorbar\": {\"outlinewidth\": 0, \"ticks\": \"\"}}, \"marker\": {\"colorbar\": {\"outlinewidth\": 0, \"ticks\": \"\"}}, \"type\": \"scatter3d\"}], \"scattercarpet\": [{\"marker\": {\"colorbar\": {\"outlinewidth\": 0, \"ticks\": \"\"}}, \"type\": \"scattercarpet\"}], \"scattergeo\": [{\"marker\": {\"colorbar\": {\"outlinewidth\": 0, \"ticks\": \"\"}}, \"type\": \"scattergeo\"}], \"scattergl\": [{\"marker\": {\"colorbar\": {\"outlinewidth\": 0, \"ticks\": \"\"}}, \"type\": \"scattergl\"}], \"scattermapbox\": [{\"marker\": {\"colorbar\": {\"outlinewidth\": 0, \"ticks\": \"\"}}, \"type\": \"scattermapbox\"}], \"scatterpolar\": [{\"marker\": {\"colorbar\": {\"outlinewidth\": 0, \"ticks\": \"\"}}, \"type\": \"scatterpolar\"}], \"scatterpolargl\": [{\"marker\": {\"colorbar\": {\"outlinewidth\": 0, \"ticks\": \"\"}}, \"type\": \"scatterpolargl\"}], \"scatterternary\": [{\"marker\": {\"colorbar\": {\"outlinewidth\": 0, \"ticks\": \"\"}}, \"type\": \"scatterternary\"}], \"surface\": [{\"colorbar\": {\"outlinewidth\": 0, \"ticks\": \"\"}, \"colorscale\": [[0.0, \"#0d0887\"], [0.1111111111111111, \"#46039f\"], [0.2222222222222222, \"#7201a8\"], [0.3333333333333333, \"#9c179e\"], [0.4444444444444444, \"#bd3786\"], [0.5555555555555556, \"#d8576b\"], [0.6666666666666666, \"#ed7953\"], [0.7777777777777778, \"#fb9f3a\"], [0.8888888888888888, \"#fdca26\"], [1.0, \"#f0f921\"]], \"type\": \"surface\"}], \"table\": [{\"cells\": {\"fill\": {\"color\": \"#EBF0F8\"}, \"line\": {\"color\": \"white\"}}, \"header\": {\"fill\": {\"color\": \"#C8D4E3\"}, \"line\": {\"color\": \"white\"}}, \"type\": \"table\"}]}, \"layout\": {\"annotationdefaults\": {\"arrowcolor\": \"#2a3f5f\", \"arrowhead\": 0, \"arrowwidth\": 1}, \"colorscale\": {\"diverging\": [[0, \"#8e0152\"], [0.1, \"#c51b7d\"], [0.2, \"#de77ae\"], [0.3, \"#f1b6da\"], [0.4, \"#fde0ef\"], [0.5, \"#f7f7f7\"], [0.6, \"#e6f5d0\"], [0.7, \"#b8e186\"], [0.8, \"#7fbc41\"], [0.9, \"#4d9221\"], [1, \"#276419\"]], \"sequential\": [[0.0, \"#0d0887\"], [0.1111111111111111, \"#46039f\"], [0.2222222222222222, \"#7201a8\"], [0.3333333333333333, \"#9c179e\"], [0.4444444444444444, \"#bd3786\"], [0.5555555555555556, \"#d8576b\"], [0.6666666666666666, \"#ed7953\"], [0.7777777777777778, \"#fb9f3a\"], [0.8888888888888888, \"#fdca26\"], [1.0, \"#f0f921\"]], \"sequentialminus\": [[0.0, \"#0d0887\"], [0.1111111111111111, \"#46039f\"], [0.2222222222222222, \"#7201a8\"], [0.3333333333333333, \"#9c179e\"], [0.4444444444444444, \"#bd3786\"], [0.5555555555555556, \"#d8576b\"], [0.6666666666666666, \"#ed7953\"], [0.7777777777777778, \"#fb9f3a\"], [0.8888888888888888, \"#fdca26\"], [1.0, \"#f0f921\"]]}, \"colorway\": [\"#636efa\", \"#EF553B\", \"#00cc96\", \"#ab63fa\", \"#FFA15A\", \"#19d3f3\", \"#FF6692\", \"#B6E880\", \"#FF97FF\", \"#FECB52\"], \"font\": {\"color\": \"#2a3f5f\"}, \"geo\": {\"bgcolor\": \"white\", \"lakecolor\": \"white\", \"landcolor\": \"#E5ECF6\", \"showlakes\": true, \"showland\": true, \"subunitcolor\": \"white\"}, \"hoverlabel\": {\"align\": \"left\"}, \"hovermode\": \"closest\", \"mapbox\": {\"style\": \"light\"}, \"paper_bgcolor\": \"white\", \"plot_bgcolor\": \"#E5ECF6\", \"polar\": {\"angularaxis\": {\"gridcolor\": \"white\", \"linecolor\": \"white\", \"ticks\": \"\"}, \"bgcolor\": \"#E5ECF6\", \"radialaxis\": {\"gridcolor\": \"white\", \"linecolor\": \"white\", \"ticks\": \"\"}}, \"scene\": {\"xaxis\": {\"backgroundcolor\": \"#E5ECF6\", \"gridcolor\": \"white\", \"gridwidth\": 2, \"linecolor\": \"white\", \"showbackground\": true, \"ticks\": \"\", \"zerolinecolor\": \"white\"}, \"yaxis\": {\"backgroundcolor\": \"#E5ECF6\", \"gridcolor\": \"white\", \"gridwidth\": 2, \"linecolor\": \"white\", \"showbackground\": true, \"ticks\": \"\", \"zerolinecolor\": \"white\"}, \"zaxis\": {\"backgroundcolor\": \"#E5ECF6\", \"gridcolor\": \"white\", \"gridwidth\": 2, \"linecolor\": \"white\", \"showbackground\": true, \"ticks\": \"\", \"zerolinecolor\": \"white\"}}, \"shapedefaults\": {\"line\": {\"color\": \"#2a3f5f\"}}, \"ternary\": {\"aaxis\": {\"gridcolor\": \"white\", \"linecolor\": \"white\", \"ticks\": \"\"}, \"baxis\": {\"gridcolor\": \"white\", \"linecolor\": \"white\", \"ticks\": \"\"}, \"bgcolor\": \"#E5ECF6\", \"caxis\": {\"gridcolor\": \"white\", \"linecolor\": \"white\", \"ticks\": \"\"}}, \"title\": {\"x\": 0.05}, \"xaxis\": {\"automargin\": true, \"gridcolor\": \"white\", \"linecolor\": \"white\", \"ticks\": \"\", \"zerolinecolor\": \"white\", \"zerolinewidth\": 2}, \"yaxis\": {\"automargin\": true, \"gridcolor\": \"white\", \"linecolor\": \"white\", \"ticks\": \"\", \"zerolinecolor\": \"white\", \"zerolinewidth\": 2}}}, \"xaxis\": {\"gridcolor\": \"#c0c0c0\", \"range\": [\"2019-07-26T14:13:17+00:00\", \"2019-07-26T23:13:17+00:00\"], \"showgrid\": true}, \"yaxis\": {\"fixedrange\": true, \"gridcolor\": \"#c0c0c0\", \"hoverformat\": \".0f\", \"range\": [0, 400], \"showgrid\": true, \"tickvals\": [-100, 40, 70, 180, 250, 400], \"title\": {\"font\": {\"size\": 12}, \"text\": \"Blood Glucose (mg/dL)\"}, \"zeroline\": false}},\n",
       "                        {\"responsive\": true}\n",
       "                    ).then(function(){\n",
       "                            \n",
       "var gd = document.getElementById('1d08f7ac-8b40-4e6e-a17d-d1b5fb0488a7');\n",
       "var x = new MutationObserver(function (mutations, observer) {{\n",
       "        var display = window.getComputedStyle(gd).display;\n",
       "        if (!display || display === 'none') {{\n",
       "            console.log([gd, 'removed!']);\n",
       "            Plotly.purge(gd);\n",
       "            observer.disconnect();\n",
       "        }}\n",
       "}});\n",
       "\n",
       "// Listen for the removal of the full notebook cells\n",
       "var notebookContainer = gd.closest('#notebook-container');\n",
       "if (notebookContainer) {{\n",
       "    x.observe(notebookContainer, {childList: true});\n",
       "}}\n",
       "\n",
       "// Listen for the clearing of the current output cell\n",
       "var outputEl = gd.closest('.output');\n",
       "if (outputEl) {{\n",
       "    x.observe(outputEl, {childList: true});\n",
       "}}\n",
       "\n",
       "                        })\n",
       "                };\n",
       "                });\n",
       "            </script>\n",
       "        </div>"
      ]
     },
     "metadata": {},
     "output_type": "display_data"
    }
   ],
   "source": [
    "carb_predicted_glucose_dates, carb_predicted_glucose_values = predict_glucose(\n",
    "    starting_date,\n",
    "    starting_glucose,\n",
    "    carb_effect_dates=recommendations.get(\"carb_effect_dates\"),\n",
    "    carb_effect_values=recommendations.get(\"carb_effect_values\")\n",
    ")\n",
    "\n",
    "carb_effect_trace = go.Scattergl(\n",
    "    name=\"carb effect\",\n",
    "    x=carb_predicted_glucose_dates,\n",
    "    y=carb_predicted_glucose_values,\n",
    "    hoverinfo=\"y+name\",\n",
    "    mode='lines',\n",
    "    line=dict(\n",
    "        color=\"#5FCB49\",\n",
    "        dash=\"dash\",\n",
    "    )\n",
    ")\n",
    "\n",
    "fig = go.Figure(data=[carb_effect_trace], layout=layout)\n",
    "fig.update_layout(yaxis=dict(range=[\n",
    "    min(0, min(carb_predicted_glucose_values)-5),\n",
    "    max(400, max(carb_predicted_glucose_values)+5)\n",
    "]))\n",
    "fig"
   ]
  },
  {
   "cell_type": "markdown",
   "metadata": {},
   "source": [
    "## Momentum Effect"
   ]
  },
  {
   "cell_type": "code",
   "execution_count": 242,
   "metadata": {},
   "outputs": [
    {
     "data": {
      "application/vnd.plotly.v1+json": {
       "config": {
        "plotlyServerURL": "https://plot.ly"
       },
       "data": [
        {
         "hoverinfo": "y+name",
         "line": {
          "color": "#eb5905",
          "dash": "dash"
         },
         "mode": "lines",
         "name": "momentum effect",
         "type": "scattergl",
         "x": [
          "2019-07-26T15:12:46+00:00",
          "2019-07-26T15:15:00+00:00",
          "2019-07-26T15:20:00+00:00",
          "2019-07-26T15:25:00+00:00",
          "2019-07-26T15:30:00+00:00"
         ],
         "y": [
          152.968,
          154.21777333333333,
          156.5991822222222,
          158.04792444444442,
          158.56399999999996
         ]
        }
       ],
       "layout": {
        "annotations": [
         {
          "arrowhead": 1,
          "ax": 0,
          "ay": 425,
          "ayref": "y",
          "showarrow": true,
          "text": "current time",
          "x": "2019-07-26T15:13:17+00:00",
          "xref": "x",
          "y": 162.968,
          "yref": "y"
         }
        ],
        "autosize": true,
        "dragmode": "pan",
        "hovermode": "x",
        "plot_bgcolor": "white",
        "showlegend": true,
        "template": {
         "data": {
          "bar": [
           {
            "error_x": {
             "color": "#2a3f5f"
            },
            "error_y": {
             "color": "#2a3f5f"
            },
            "marker": {
             "line": {
              "color": "#E5ECF6",
              "width": 0.5
             }
            },
            "type": "bar"
           }
          ],
          "barpolar": [
           {
            "marker": {
             "line": {
              "color": "#E5ECF6",
              "width": 0.5
             }
            },
            "type": "barpolar"
           }
          ],
          "carpet": [
           {
            "aaxis": {
             "endlinecolor": "#2a3f5f",
             "gridcolor": "white",
             "linecolor": "white",
             "minorgridcolor": "white",
             "startlinecolor": "#2a3f5f"
            },
            "baxis": {
             "endlinecolor": "#2a3f5f",
             "gridcolor": "white",
             "linecolor": "white",
             "minorgridcolor": "white",
             "startlinecolor": "#2a3f5f"
            },
            "type": "carpet"
           }
          ],
          "choropleth": [
           {
            "colorbar": {
             "outlinewidth": 0,
             "ticks": ""
            },
            "type": "choropleth"
           }
          ],
          "contour": [
           {
            "colorbar": {
             "outlinewidth": 0,
             "ticks": ""
            },
            "colorscale": [
             [
              0,
              "#0d0887"
             ],
             [
              0.1111111111111111,
              "#46039f"
             ],
             [
              0.2222222222222222,
              "#7201a8"
             ],
             [
              0.3333333333333333,
              "#9c179e"
             ],
             [
              0.4444444444444444,
              "#bd3786"
             ],
             [
              0.5555555555555556,
              "#d8576b"
             ],
             [
              0.6666666666666666,
              "#ed7953"
             ],
             [
              0.7777777777777778,
              "#fb9f3a"
             ],
             [
              0.8888888888888888,
              "#fdca26"
             ],
             [
              1,
              "#f0f921"
             ]
            ],
            "type": "contour"
           }
          ],
          "contourcarpet": [
           {
            "colorbar": {
             "outlinewidth": 0,
             "ticks": ""
            },
            "type": "contourcarpet"
           }
          ],
          "heatmap": [
           {
            "colorbar": {
             "outlinewidth": 0,
             "ticks": ""
            },
            "colorscale": [
             [
              0,
              "#0d0887"
             ],
             [
              0.1111111111111111,
              "#46039f"
             ],
             [
              0.2222222222222222,
              "#7201a8"
             ],
             [
              0.3333333333333333,
              "#9c179e"
             ],
             [
              0.4444444444444444,
              "#bd3786"
             ],
             [
              0.5555555555555556,
              "#d8576b"
             ],
             [
              0.6666666666666666,
              "#ed7953"
             ],
             [
              0.7777777777777778,
              "#fb9f3a"
             ],
             [
              0.8888888888888888,
              "#fdca26"
             ],
             [
              1,
              "#f0f921"
             ]
            ],
            "type": "heatmap"
           }
          ],
          "heatmapgl": [
           {
            "colorbar": {
             "outlinewidth": 0,
             "ticks": ""
            },
            "colorscale": [
             [
              0,
              "#0d0887"
             ],
             [
              0.1111111111111111,
              "#46039f"
             ],
             [
              0.2222222222222222,
              "#7201a8"
             ],
             [
              0.3333333333333333,
              "#9c179e"
             ],
             [
              0.4444444444444444,
              "#bd3786"
             ],
             [
              0.5555555555555556,
              "#d8576b"
             ],
             [
              0.6666666666666666,
              "#ed7953"
             ],
             [
              0.7777777777777778,
              "#fb9f3a"
             ],
             [
              0.8888888888888888,
              "#fdca26"
             ],
             [
              1,
              "#f0f921"
             ]
            ],
            "type": "heatmapgl"
           }
          ],
          "histogram": [
           {
            "marker": {
             "colorbar": {
              "outlinewidth": 0,
              "ticks": ""
             }
            },
            "type": "histogram"
           }
          ],
          "histogram2d": [
           {
            "colorbar": {
             "outlinewidth": 0,
             "ticks": ""
            },
            "colorscale": [
             [
              0,
              "#0d0887"
             ],
             [
              0.1111111111111111,
              "#46039f"
             ],
             [
              0.2222222222222222,
              "#7201a8"
             ],
             [
              0.3333333333333333,
              "#9c179e"
             ],
             [
              0.4444444444444444,
              "#bd3786"
             ],
             [
              0.5555555555555556,
              "#d8576b"
             ],
             [
              0.6666666666666666,
              "#ed7953"
             ],
             [
              0.7777777777777778,
              "#fb9f3a"
             ],
             [
              0.8888888888888888,
              "#fdca26"
             ],
             [
              1,
              "#f0f921"
             ]
            ],
            "type": "histogram2d"
           }
          ],
          "histogram2dcontour": [
           {
            "colorbar": {
             "outlinewidth": 0,
             "ticks": ""
            },
            "colorscale": [
             [
              0,
              "#0d0887"
             ],
             [
              0.1111111111111111,
              "#46039f"
             ],
             [
              0.2222222222222222,
              "#7201a8"
             ],
             [
              0.3333333333333333,
              "#9c179e"
             ],
             [
              0.4444444444444444,
              "#bd3786"
             ],
             [
              0.5555555555555556,
              "#d8576b"
             ],
             [
              0.6666666666666666,
              "#ed7953"
             ],
             [
              0.7777777777777778,
              "#fb9f3a"
             ],
             [
              0.8888888888888888,
              "#fdca26"
             ],
             [
              1,
              "#f0f921"
             ]
            ],
            "type": "histogram2dcontour"
           }
          ],
          "mesh3d": [
           {
            "colorbar": {
             "outlinewidth": 0,
             "ticks": ""
            },
            "type": "mesh3d"
           }
          ],
          "parcoords": [
           {
            "line": {
             "colorbar": {
              "outlinewidth": 0,
              "ticks": ""
             }
            },
            "type": "parcoords"
           }
          ],
          "scatter": [
           {
            "marker": {
             "colorbar": {
              "outlinewidth": 0,
              "ticks": ""
             }
            },
            "type": "scatter"
           }
          ],
          "scatter3d": [
           {
            "line": {
             "colorbar": {
              "outlinewidth": 0,
              "ticks": ""
             }
            },
            "marker": {
             "colorbar": {
              "outlinewidth": 0,
              "ticks": ""
             }
            },
            "type": "scatter3d"
           }
          ],
          "scattercarpet": [
           {
            "marker": {
             "colorbar": {
              "outlinewidth": 0,
              "ticks": ""
             }
            },
            "type": "scattercarpet"
           }
          ],
          "scattergeo": [
           {
            "marker": {
             "colorbar": {
              "outlinewidth": 0,
              "ticks": ""
             }
            },
            "type": "scattergeo"
           }
          ],
          "scattergl": [
           {
            "marker": {
             "colorbar": {
              "outlinewidth": 0,
              "ticks": ""
             }
            },
            "type": "scattergl"
           }
          ],
          "scattermapbox": [
           {
            "marker": {
             "colorbar": {
              "outlinewidth": 0,
              "ticks": ""
             }
            },
            "type": "scattermapbox"
           }
          ],
          "scatterpolar": [
           {
            "marker": {
             "colorbar": {
              "outlinewidth": 0,
              "ticks": ""
             }
            },
            "type": "scatterpolar"
           }
          ],
          "scatterpolargl": [
           {
            "marker": {
             "colorbar": {
              "outlinewidth": 0,
              "ticks": ""
             }
            },
            "type": "scatterpolargl"
           }
          ],
          "scatterternary": [
           {
            "marker": {
             "colorbar": {
              "outlinewidth": 0,
              "ticks": ""
             }
            },
            "type": "scatterternary"
           }
          ],
          "surface": [
           {
            "colorbar": {
             "outlinewidth": 0,
             "ticks": ""
            },
            "colorscale": [
             [
              0,
              "#0d0887"
             ],
             [
              0.1111111111111111,
              "#46039f"
             ],
             [
              0.2222222222222222,
              "#7201a8"
             ],
             [
              0.3333333333333333,
              "#9c179e"
             ],
             [
              0.4444444444444444,
              "#bd3786"
             ],
             [
              0.5555555555555556,
              "#d8576b"
             ],
             [
              0.6666666666666666,
              "#ed7953"
             ],
             [
              0.7777777777777778,
              "#fb9f3a"
             ],
             [
              0.8888888888888888,
              "#fdca26"
             ],
             [
              1,
              "#f0f921"
             ]
            ],
            "type": "surface"
           }
          ],
          "table": [
           {
            "cells": {
             "fill": {
              "color": "#EBF0F8"
             },
             "line": {
              "color": "white"
             }
            },
            "header": {
             "fill": {
              "color": "#C8D4E3"
             },
             "line": {
              "color": "white"
             }
            },
            "type": "table"
           }
          ]
         },
         "layout": {
          "annotationdefaults": {
           "arrowcolor": "#2a3f5f",
           "arrowhead": 0,
           "arrowwidth": 1
          },
          "colorscale": {
           "diverging": [
            [
             0,
             "#8e0152"
            ],
            [
             0.1,
             "#c51b7d"
            ],
            [
             0.2,
             "#de77ae"
            ],
            [
             0.3,
             "#f1b6da"
            ],
            [
             0.4,
             "#fde0ef"
            ],
            [
             0.5,
             "#f7f7f7"
            ],
            [
             0.6,
             "#e6f5d0"
            ],
            [
             0.7,
             "#b8e186"
            ],
            [
             0.8,
             "#7fbc41"
            ],
            [
             0.9,
             "#4d9221"
            ],
            [
             1,
             "#276419"
            ]
           ],
           "sequential": [
            [
             0,
             "#0d0887"
            ],
            [
             0.1111111111111111,
             "#46039f"
            ],
            [
             0.2222222222222222,
             "#7201a8"
            ],
            [
             0.3333333333333333,
             "#9c179e"
            ],
            [
             0.4444444444444444,
             "#bd3786"
            ],
            [
             0.5555555555555556,
             "#d8576b"
            ],
            [
             0.6666666666666666,
             "#ed7953"
            ],
            [
             0.7777777777777778,
             "#fb9f3a"
            ],
            [
             0.8888888888888888,
             "#fdca26"
            ],
            [
             1,
             "#f0f921"
            ]
           ],
           "sequentialminus": [
            [
             0,
             "#0d0887"
            ],
            [
             0.1111111111111111,
             "#46039f"
            ],
            [
             0.2222222222222222,
             "#7201a8"
            ],
            [
             0.3333333333333333,
             "#9c179e"
            ],
            [
             0.4444444444444444,
             "#bd3786"
            ],
            [
             0.5555555555555556,
             "#d8576b"
            ],
            [
             0.6666666666666666,
             "#ed7953"
            ],
            [
             0.7777777777777778,
             "#fb9f3a"
            ],
            [
             0.8888888888888888,
             "#fdca26"
            ],
            [
             1,
             "#f0f921"
            ]
           ]
          },
          "colorway": [
           "#636efa",
           "#EF553B",
           "#00cc96",
           "#ab63fa",
           "#FFA15A",
           "#19d3f3",
           "#FF6692",
           "#B6E880",
           "#FF97FF",
           "#FECB52"
          ],
          "font": {
           "color": "#2a3f5f"
          },
          "geo": {
           "bgcolor": "white",
           "lakecolor": "white",
           "landcolor": "#E5ECF6",
           "showlakes": true,
           "showland": true,
           "subunitcolor": "white"
          },
          "hoverlabel": {
           "align": "left"
          },
          "hovermode": "closest",
          "mapbox": {
           "style": "light"
          },
          "paper_bgcolor": "white",
          "plot_bgcolor": "#E5ECF6",
          "polar": {
           "angularaxis": {
            "gridcolor": "white",
            "linecolor": "white",
            "ticks": ""
           },
           "bgcolor": "#E5ECF6",
           "radialaxis": {
            "gridcolor": "white",
            "linecolor": "white",
            "ticks": ""
           }
          },
          "scene": {
           "xaxis": {
            "backgroundcolor": "#E5ECF6",
            "gridcolor": "white",
            "gridwidth": 2,
            "linecolor": "white",
            "showbackground": true,
            "ticks": "",
            "zerolinecolor": "white"
           },
           "yaxis": {
            "backgroundcolor": "#E5ECF6",
            "gridcolor": "white",
            "gridwidth": 2,
            "linecolor": "white",
            "showbackground": true,
            "ticks": "",
            "zerolinecolor": "white"
           },
           "zaxis": {
            "backgroundcolor": "#E5ECF6",
            "gridcolor": "white",
            "gridwidth": 2,
            "linecolor": "white",
            "showbackground": true,
            "ticks": "",
            "zerolinecolor": "white"
           }
          },
          "shapedefaults": {
           "line": {
            "color": "#2a3f5f"
           }
          },
          "ternary": {
           "aaxis": {
            "gridcolor": "white",
            "linecolor": "white",
            "ticks": ""
           },
           "baxis": {
            "gridcolor": "white",
            "linecolor": "white",
            "ticks": ""
           },
           "bgcolor": "#E5ECF6",
           "caxis": {
            "gridcolor": "white",
            "linecolor": "white",
            "ticks": ""
           }
          },
          "title": {
           "x": 0.05
          },
          "xaxis": {
           "automargin": true,
           "gridcolor": "white",
           "linecolor": "white",
           "ticks": "",
           "zerolinecolor": "white",
           "zerolinewidth": 2
          },
          "yaxis": {
           "automargin": true,
           "gridcolor": "white",
           "linecolor": "white",
           "ticks": "",
           "zerolinecolor": "white",
           "zerolinewidth": 2
          }
         }
        },
        "xaxis": {
         "gridcolor": "#c0c0c0",
         "range": [
          "2019-07-26T14:13:17+00:00",
          "2019-07-26T23:13:17+00:00"
         ],
         "showgrid": true,
         "type": "date"
        },
        "yaxis": {
         "fixedrange": true,
         "gridcolor": "#c0c0c0",
         "hoverformat": ".0f",
         "range": [
          40,
          400
         ],
         "showgrid": true,
         "tickvals": [
          -100,
          40,
          70,
          180,
          250,
          400
         ],
         "title": {
          "font": {
           "size": 12
          },
          "text": "Blood Glucose (mg/dL)"
         },
         "type": "linear",
         "zeroline": false
        }
       }
      },
      "image/png": "[encoded data removed]",
      "text/html": [
       "<div>\n",
       "        \n",
       "        \n",
       "            <div id=\"e2daf4a6-6a08-4147-a616-f5620f9732a3\" class=\"plotly-graph-div\" style=\"height:525px; width:100%;\"></div>\n",
       "            <script type=\"text/javascript\">\n",
       "                require([\"plotly\"], function(Plotly) {\n",
       "                    window.PLOTLYENV=window.PLOTLYENV || {};\n",
       "                    \n",
       "                if (document.getElementById(\"e2daf4a6-6a08-4147-a616-f5620f9732a3\")) {\n",
       "                    Plotly.newPlot(\n",
       "                        'e2daf4a6-6a08-4147-a616-f5620f9732a3',\n",
       "                        [{\"hoverinfo\": \"y+name\", \"line\": {\"color\": \"#eb5905\", \"dash\": \"dash\"}, \"mode\": \"lines\", \"name\": \"momentum effect\", \"type\": \"scattergl\", \"x\": [\"2019-07-26T15:12:46+00:00\", \"2019-07-26T15:15:00+00:00\", \"2019-07-26T15:20:00+00:00\", \"2019-07-26T15:25:00+00:00\", \"2019-07-26T15:30:00+00:00\"], \"y\": [152.968, 154.21777333333333, 156.5991822222222, 158.04792444444442, 158.56399999999996]}],\n",
       "                        {\"annotations\": [{\"arrowhead\": 1, \"ax\": 0, \"ay\": 425, \"ayref\": \"y\", \"showarrow\": true, \"text\": \"current time\", \"x\": \"2019-07-26T15:13:17+00:00\", \"xref\": \"x\", \"y\": 162.968, \"yref\": \"y\"}], \"dragmode\": \"pan\", \"hovermode\": \"x\", \"plot_bgcolor\": \"white\", \"showlegend\": true, \"template\": {\"data\": {\"bar\": [{\"error_x\": {\"color\": \"#2a3f5f\"}, \"error_y\": {\"color\": \"#2a3f5f\"}, \"marker\": {\"line\": {\"color\": \"#E5ECF6\", \"width\": 0.5}}, \"type\": \"bar\"}], \"barpolar\": [{\"marker\": {\"line\": {\"color\": \"#E5ECF6\", \"width\": 0.5}}, \"type\": \"barpolar\"}], \"carpet\": [{\"aaxis\": {\"endlinecolor\": \"#2a3f5f\", \"gridcolor\": \"white\", \"linecolor\": \"white\", \"minorgridcolor\": \"white\", \"startlinecolor\": \"#2a3f5f\"}, \"baxis\": {\"endlinecolor\": \"#2a3f5f\", \"gridcolor\": \"white\", \"linecolor\": \"white\", \"minorgridcolor\": \"white\", \"startlinecolor\": \"#2a3f5f\"}, \"type\": \"carpet\"}], \"choropleth\": [{\"colorbar\": {\"outlinewidth\": 0, \"ticks\": \"\"}, \"type\": \"choropleth\"}], \"contour\": [{\"colorbar\": {\"outlinewidth\": 0, \"ticks\": \"\"}, \"colorscale\": [[0.0, \"#0d0887\"], [0.1111111111111111, \"#46039f\"], [0.2222222222222222, \"#7201a8\"], [0.3333333333333333, \"#9c179e\"], [0.4444444444444444, \"#bd3786\"], [0.5555555555555556, \"#d8576b\"], [0.6666666666666666, \"#ed7953\"], [0.7777777777777778, \"#fb9f3a\"], [0.8888888888888888, \"#fdca26\"], [1.0, \"#f0f921\"]], \"type\": \"contour\"}], \"contourcarpet\": [{\"colorbar\": {\"outlinewidth\": 0, \"ticks\": \"\"}, \"type\": \"contourcarpet\"}], \"heatmap\": [{\"colorbar\": {\"outlinewidth\": 0, \"ticks\": \"\"}, \"colorscale\": [[0.0, \"#0d0887\"], [0.1111111111111111, \"#46039f\"], [0.2222222222222222, \"#7201a8\"], [0.3333333333333333, \"#9c179e\"], [0.4444444444444444, \"#bd3786\"], [0.5555555555555556, \"#d8576b\"], [0.6666666666666666, \"#ed7953\"], [0.7777777777777778, \"#fb9f3a\"], [0.8888888888888888, \"#fdca26\"], [1.0, \"#f0f921\"]], \"type\": \"heatmap\"}], \"heatmapgl\": [{\"colorbar\": {\"outlinewidth\": 0, \"ticks\": \"\"}, \"colorscale\": [[0.0, \"#0d0887\"], [0.1111111111111111, \"#46039f\"], [0.2222222222222222, \"#7201a8\"], [0.3333333333333333, \"#9c179e\"], [0.4444444444444444, \"#bd3786\"], [0.5555555555555556, \"#d8576b\"], [0.6666666666666666, \"#ed7953\"], [0.7777777777777778, \"#fb9f3a\"], [0.8888888888888888, \"#fdca26\"], [1.0, \"#f0f921\"]], \"type\": \"heatmapgl\"}], \"histogram\": [{\"marker\": {\"colorbar\": {\"outlinewidth\": 0, \"ticks\": \"\"}}, \"type\": \"histogram\"}], \"histogram2d\": [{\"colorbar\": {\"outlinewidth\": 0, \"ticks\": \"\"}, \"colorscale\": [[0.0, \"#0d0887\"], [0.1111111111111111, \"#46039f\"], [0.2222222222222222, \"#7201a8\"], [0.3333333333333333, \"#9c179e\"], [0.4444444444444444, \"#bd3786\"], [0.5555555555555556, \"#d8576b\"], [0.6666666666666666, \"#ed7953\"], [0.7777777777777778, \"#fb9f3a\"], [0.8888888888888888, \"#fdca26\"], [1.0, \"#f0f921\"]], \"type\": \"histogram2d\"}], \"histogram2dcontour\": [{\"colorbar\": {\"outlinewidth\": 0, \"ticks\": \"\"}, \"colorscale\": [[0.0, \"#0d0887\"], [0.1111111111111111, \"#46039f\"], [0.2222222222222222, \"#7201a8\"], [0.3333333333333333, \"#9c179e\"], [0.4444444444444444, \"#bd3786\"], [0.5555555555555556, \"#d8576b\"], [0.6666666666666666, \"#ed7953\"], [0.7777777777777778, \"#fb9f3a\"], [0.8888888888888888, \"#fdca26\"], [1.0, \"#f0f921\"]], \"type\": \"histogram2dcontour\"}], \"mesh3d\": [{\"colorbar\": {\"outlinewidth\": 0, \"ticks\": \"\"}, \"type\": \"mesh3d\"}], \"parcoords\": [{\"line\": {\"colorbar\": {\"outlinewidth\": 0, \"ticks\": \"\"}}, \"type\": \"parcoords\"}], \"scatter\": [{\"marker\": {\"colorbar\": {\"outlinewidth\": 0, \"ticks\": \"\"}}, \"type\": \"scatter\"}], \"scatter3d\": [{\"line\": {\"colorbar\": {\"outlinewidth\": 0, \"ticks\": \"\"}}, \"marker\": {\"colorbar\": {\"outlinewidth\": 0, \"ticks\": \"\"}}, \"type\": \"scatter3d\"}], \"scattercarpet\": [{\"marker\": {\"colorbar\": {\"outlinewidth\": 0, \"ticks\": \"\"}}, \"type\": \"scattercarpet\"}], \"scattergeo\": [{\"marker\": {\"colorbar\": {\"outlinewidth\": 0, \"ticks\": \"\"}}, \"type\": \"scattergeo\"}], \"scattergl\": [{\"marker\": {\"colorbar\": {\"outlinewidth\": 0, \"ticks\": \"\"}}, \"type\": \"scattergl\"}], \"scattermapbox\": [{\"marker\": {\"colorbar\": {\"outlinewidth\": 0, \"ticks\": \"\"}}, \"type\": \"scattermapbox\"}], \"scatterpolar\": [{\"marker\": {\"colorbar\": {\"outlinewidth\": 0, \"ticks\": \"\"}}, \"type\": \"scatterpolar\"}], \"scatterpolargl\": [{\"marker\": {\"colorbar\": {\"outlinewidth\": 0, \"ticks\": \"\"}}, \"type\": \"scatterpolargl\"}], \"scatterternary\": [{\"marker\": {\"colorbar\": {\"outlinewidth\": 0, \"ticks\": \"\"}}, \"type\": \"scatterternary\"}], \"surface\": [{\"colorbar\": {\"outlinewidth\": 0, \"ticks\": \"\"}, \"colorscale\": [[0.0, \"#0d0887\"], [0.1111111111111111, \"#46039f\"], [0.2222222222222222, \"#7201a8\"], [0.3333333333333333, \"#9c179e\"], [0.4444444444444444, \"#bd3786\"], [0.5555555555555556, \"#d8576b\"], [0.6666666666666666, \"#ed7953\"], [0.7777777777777778, \"#fb9f3a\"], [0.8888888888888888, \"#fdca26\"], [1.0, \"#f0f921\"]], \"type\": \"surface\"}], \"table\": [{\"cells\": {\"fill\": {\"color\": \"#EBF0F8\"}, \"line\": {\"color\": \"white\"}}, \"header\": {\"fill\": {\"color\": \"#C8D4E3\"}, \"line\": {\"color\": \"white\"}}, \"type\": \"table\"}]}, \"layout\": {\"annotationdefaults\": {\"arrowcolor\": \"#2a3f5f\", \"arrowhead\": 0, \"arrowwidth\": 1}, \"colorscale\": {\"diverging\": [[0, \"#8e0152\"], [0.1, \"#c51b7d\"], [0.2, \"#de77ae\"], [0.3, \"#f1b6da\"], [0.4, \"#fde0ef\"], [0.5, \"#f7f7f7\"], [0.6, \"#e6f5d0\"], [0.7, \"#b8e186\"], [0.8, \"#7fbc41\"], [0.9, \"#4d9221\"], [1, \"#276419\"]], \"sequential\": [[0.0, \"#0d0887\"], [0.1111111111111111, \"#46039f\"], [0.2222222222222222, \"#7201a8\"], [0.3333333333333333, \"#9c179e\"], [0.4444444444444444, \"#bd3786\"], [0.5555555555555556, \"#d8576b\"], [0.6666666666666666, \"#ed7953\"], [0.7777777777777778, \"#fb9f3a\"], [0.8888888888888888, \"#fdca26\"], [1.0, \"#f0f921\"]], \"sequentialminus\": [[0.0, \"#0d0887\"], [0.1111111111111111, \"#46039f\"], [0.2222222222222222, \"#7201a8\"], [0.3333333333333333, \"#9c179e\"], [0.4444444444444444, \"#bd3786\"], [0.5555555555555556, \"#d8576b\"], [0.6666666666666666, \"#ed7953\"], [0.7777777777777778, \"#fb9f3a\"], [0.8888888888888888, \"#fdca26\"], [1.0, \"#f0f921\"]]}, \"colorway\": [\"#636efa\", \"#EF553B\", \"#00cc96\", \"#ab63fa\", \"#FFA15A\", \"#19d3f3\", \"#FF6692\", \"#B6E880\", \"#FF97FF\", \"#FECB52\"], \"font\": {\"color\": \"#2a3f5f\"}, \"geo\": {\"bgcolor\": \"white\", \"lakecolor\": \"white\", \"landcolor\": \"#E5ECF6\", \"showlakes\": true, \"showland\": true, \"subunitcolor\": \"white\"}, \"hoverlabel\": {\"align\": \"left\"}, \"hovermode\": \"closest\", \"mapbox\": {\"style\": \"light\"}, \"paper_bgcolor\": \"white\", \"plot_bgcolor\": \"#E5ECF6\", \"polar\": {\"angularaxis\": {\"gridcolor\": \"white\", \"linecolor\": \"white\", \"ticks\": \"\"}, \"bgcolor\": \"#E5ECF6\", \"radialaxis\": {\"gridcolor\": \"white\", \"linecolor\": \"white\", \"ticks\": \"\"}}, \"scene\": {\"xaxis\": {\"backgroundcolor\": \"#E5ECF6\", \"gridcolor\": \"white\", \"gridwidth\": 2, \"linecolor\": \"white\", \"showbackground\": true, \"ticks\": \"\", \"zerolinecolor\": \"white\"}, \"yaxis\": {\"backgroundcolor\": \"#E5ECF6\", \"gridcolor\": \"white\", \"gridwidth\": 2, \"linecolor\": \"white\", \"showbackground\": true, \"ticks\": \"\", \"zerolinecolor\": \"white\"}, \"zaxis\": {\"backgroundcolor\": \"#E5ECF6\", \"gridcolor\": \"white\", \"gridwidth\": 2, \"linecolor\": \"white\", \"showbackground\": true, \"ticks\": \"\", \"zerolinecolor\": \"white\"}}, \"shapedefaults\": {\"line\": {\"color\": \"#2a3f5f\"}}, \"ternary\": {\"aaxis\": {\"gridcolor\": \"white\", \"linecolor\": \"white\", \"ticks\": \"\"}, \"baxis\": {\"gridcolor\": \"white\", \"linecolor\": \"white\", \"ticks\": \"\"}, \"bgcolor\": \"#E5ECF6\", \"caxis\": {\"gridcolor\": \"white\", \"linecolor\": \"white\", \"ticks\": \"\"}}, \"title\": {\"x\": 0.05}, \"xaxis\": {\"automargin\": true, \"gridcolor\": \"white\", \"linecolor\": \"white\", \"ticks\": \"\", \"zerolinecolor\": \"white\", \"zerolinewidth\": 2}, \"yaxis\": {\"automargin\": true, \"gridcolor\": \"white\", \"linecolor\": \"white\", \"ticks\": \"\", \"zerolinecolor\": \"white\", \"zerolinewidth\": 2}}}, \"xaxis\": {\"gridcolor\": \"#c0c0c0\", \"range\": [\"2019-07-26T14:13:17+00:00\", \"2019-07-26T23:13:17+00:00\"], \"showgrid\": true}, \"yaxis\": {\"fixedrange\": true, \"gridcolor\": \"#c0c0c0\", \"hoverformat\": \".0f\", \"range\": [40, 400], \"showgrid\": true, \"tickvals\": [-100, 40, 70, 180, 250, 400], \"title\": {\"font\": {\"size\": 12}, \"text\": \"Blood Glucose (mg/dL)\"}, \"zeroline\": false}},\n",
       "                        {\"responsive\": true}\n",
       "                    ).then(function(){\n",
       "                            \n",
       "var gd = document.getElementById('e2daf4a6-6a08-4147-a616-f5620f9732a3');\n",
       "var x = new MutationObserver(function (mutations, observer) {{\n",
       "        var display = window.getComputedStyle(gd).display;\n",
       "        if (!display || display === 'none') {{\n",
       "            console.log([gd, 'removed!']);\n",
       "            Plotly.purge(gd);\n",
       "            observer.disconnect();\n",
       "        }}\n",
       "}});\n",
       "\n",
       "// Listen for the removal of the full notebook cells\n",
       "var notebookContainer = gd.closest('#notebook-container');\n",
       "if (notebookContainer) {{\n",
       "    x.observe(notebookContainer, {childList: true});\n",
       "}}\n",
       "\n",
       "// Listen for the clearing of the current output cell\n",
       "var outputEl = gd.closest('.output');\n",
       "if (outputEl) {{\n",
       "    x.observe(outputEl, {childList: true});\n",
       "}}\n",
       "\n",
       "                        })\n",
       "                };\n",
       "                });\n",
       "            </script>\n",
       "        </div>"
      ]
     },
     "metadata": {},
     "output_type": "display_data"
    }
   ],
   "source": [
    "momentum_predicted_glucose_dates, momentum_predicted_glucose_values = predict_glucose(\n",
    "    starting_date, starting_glucose,\n",
    "    momentum_dates=recommendations.get(\"momentum_effect_dates\"),\n",
    "    momentum_values=recommendations.get(\"momentum_effect_values\")\n",
    ")\n",
    "\n",
    "momentum_effect_trace = go.Scattergl(\n",
    "    name=\"momentum effect\",\n",
    "    x=momentum_predicted_glucose_dates,\n",
    "    y=momentum_predicted_glucose_values,\n",
    "    hoverinfo=\"y+name\",\n",
    "    mode='lines',\n",
    "    line=dict(\n",
    "        color=\"#eb5905\",\n",
    "        dash=\"dash\",\n",
    "    )\n",
    ")\n",
    "\n",
    "fig = go.Figure(data=[momentum_effect_trace], layout=layout)\n",
    "fig"
   ]
  },
  {
   "cell_type": "markdown",
   "metadata": {},
   "source": [
    "## Retrospective Correction Effect"
   ]
  },
  {
   "cell_type": "code",
   "execution_count": 249,
   "metadata": {},
   "outputs": [
    {
     "name": "stdout",
     "output_type": "stream",
     "text": [
      "retrospective correction was NOT enabled\n"
     ]
    }
   ],
   "source": [
    "if recommendations.get(\"retrospective_effect_dates\"):\n",
    "    (retrospective_predicted_glucose_dates,\n",
    "     retrospective_predicted_glucose_values\n",
    "     ) = predict_glucose(\n",
    "         starting_date, starting_glucose,\n",
    "         correction_effect_dates=recommendations.get(\n",
    "             \"retrospective_effect_dates\"\n",
    "         ),\n",
    "         correction_effect_values=recommendations.get(\n",
    "             \"retrospective_effect_values\"\n",
    "         )\n",
    "         )\n",
    "\n",
    "    rc_effect_trace = go.Scattergl(\n",
    "        name=\"rc effect\",\n",
    "        x=retrospective_predicted_glucose_dates,\n",
    "        y=retrospective_predicted_glucose_values,\n",
    "        hoverinfo=\"y+name\",\n",
    "        mode='lines',\n",
    "        line=dict(\n",
    "            color=\"#4253ed\",\n",
    "            dash=\"dash\",\n",
    "        )\n",
    "    )    \n",
    "    fig = go.Figure(data=[rc_effect_trace], layout=layout)\n",
    "    fig\n",
    "    \n",
    "else:\n",
    "    (retrospective_predicted_glucose_dates,\n",
    "     retrospective_predicted_glucose_values\n",
    "     ) = ([], [])\n",
    "    print(\"retrospective correction was NOT enabled\")\n"
   ]
  },
  {
   "cell_type": "markdown",
   "metadata": {},
   "source": [
    "# Visualize All Data"
   ]
  },
  {
   "cell_type": "code",
   "execution_count": 244,
   "metadata": {},
   "outputs": [
    {
     "data": {
      "application/vnd.plotly.v1+json": {
       "config": {
        "plotlyServerURL": "https://plot.ly"
       },
       "data": [
        {
         "fill": "tonexty",
         "hoverinfo": "y+name",
         "line": {
          "color": "cornflowerblue",
          "shape": "vh"
         },
         "mode": "lines",
         "name": "delivered",
         "type": "scatter",
         "x": [
          "2019-07-24T21:00:00+00:00",
          "2019-07-24T21:05:00+00:00",
          "2019-07-24T21:10:00+00:00",
          "2019-07-24T21:15:00+00:00",
          "2019-07-24T21:20:00+00:00",
          "2019-07-24T21:25:00+00:00",
          "2019-07-24T21:30:00+00:00",
          "2019-07-24T21:35:00+00:00",
          "2019-07-24T21:40:00+00:00",
          "2019-07-24T21:45:00+00:00",
          "2019-07-24T21:50:00+00:00",
          "2019-07-24T21:55:00+00:00",
          "2019-07-24T22:00:00+00:00",
          "2019-07-24T22:05:00+00:00",
          "2019-07-24T22:10:00+00:00",
          "2019-07-24T22:15:00+00:00",
          "2019-07-24T22:20:00+00:00",
          "2019-07-24T22:25:00+00:00",
          "2019-07-24T22:30:00+00:00",
          "2019-07-24T22:35:00+00:00",
          "2019-07-24T22:40:00+00:00",
          "2019-07-24T22:45:00+00:00",
          "2019-07-24T22:50:00+00:00",
          "2019-07-24T22:55:00+00:00",
          "2019-07-24T23:00:00+00:00",
          "2019-07-24T23:05:00+00:00",
          "2019-07-24T23:10:00+00:00",
          "2019-07-24T23:15:00+00:00",
          "2019-07-24T23:20:00+00:00",
          "2019-07-24T23:25:00+00:00",
          "2019-07-24T23:30:00+00:00",
          "2019-07-24T23:35:00+00:00",
          "2019-07-24T23:40:00+00:00",
          "2019-07-24T23:45:00+00:00",
          "2019-07-24T23:50:00+00:00",
          "2019-07-24T23:55:00+00:00",
          "2019-07-25T00:00:00+00:00",
          "2019-07-25T00:05:00+00:00",
          "2019-07-25T00:10:00+00:00",
          "2019-07-25T00:15:00+00:00",
          "2019-07-25T00:20:00+00:00",
          "2019-07-25T00:25:00+00:00",
          "2019-07-25T00:30:00+00:00",
          "2019-07-25T00:35:00+00:00",
          "2019-07-25T00:40:00+00:00",
          "2019-07-25T00:45:00+00:00",
          "2019-07-25T00:50:00+00:00",
          "2019-07-25T00:55:00+00:00",
          "2019-07-25T01:00:00+00:00",
          "2019-07-25T01:05:00+00:00",
          "2019-07-25T01:10:00+00:00",
          "2019-07-25T01:15:00+00:00",
          "2019-07-25T01:20:00+00:00",
          "2019-07-25T01:25:00+00:00",
          "2019-07-25T01:30:00+00:00",
          "2019-07-25T01:35:00+00:00",
          "2019-07-25T01:40:00+00:00",
          "2019-07-25T01:45:00+00:00",
          "2019-07-25T01:50:00+00:00",
          "2019-07-25T01:55:00+00:00",
          "2019-07-25T02:00:00+00:00",
          "2019-07-25T02:05:00+00:00",
          "2019-07-25T02:10:00+00:00",
          "2019-07-25T02:15:00+00:00",
          "2019-07-25T02:20:00+00:00",
          "2019-07-25T02:25:00+00:00",
          "2019-07-25T02:30:00+00:00",
          "2019-07-25T02:35:00+00:00",
          "2019-07-25T02:40:00+00:00",
          "2019-07-25T02:45:00+00:00",
          "2019-07-25T02:50:00+00:00",
          "2019-07-25T02:55:00+00:00",
          "2019-07-25T03:00:00+00:00",
          "2019-07-25T03:05:00+00:00",
          "2019-07-25T03:10:00+00:00",
          "2019-07-25T03:15:00+00:00",
          "2019-07-25T03:20:00+00:00",
          "2019-07-25T03:25:00+00:00",
          "2019-07-25T03:30:00+00:00",
          "2019-07-25T03:35:00+00:00",
          "2019-07-25T03:40:00+00:00",
          "2019-07-25T03:45:00+00:00",
          "2019-07-25T03:50:00+00:00",
          "2019-07-25T03:55:00+00:00",
          "2019-07-25T04:00:00+00:00",
          "2019-07-25T04:05:00+00:00",
          "2019-07-25T04:10:00+00:00",
          "2019-07-25T04:15:00+00:00",
          "2019-07-25T04:20:00+00:00",
          "2019-07-25T04:25:00+00:00",
          "2019-07-25T04:30:00+00:00",
          "2019-07-25T04:35:00+00:00",
          "2019-07-25T04:40:00+00:00",
          "2019-07-25T04:45:00+00:00",
          "2019-07-25T04:50:00+00:00",
          "2019-07-25T04:55:00+00:00",
          "2019-07-25T05:00:00+00:00",
          "2019-07-25T05:05:00+00:00",
          "2019-07-25T05:10:00+00:00",
          "2019-07-25T05:15:00+00:00",
          "2019-07-25T05:20:00+00:00",
          "2019-07-25T05:25:00+00:00",
          "2019-07-25T05:30:00+00:00",
          "2019-07-25T05:35:00+00:00",
          "2019-07-25T05:40:00+00:00",
          "2019-07-25T05:45:00+00:00",
          "2019-07-25T05:50:00+00:00",
          "2019-07-25T05:55:00+00:00",
          "2019-07-25T06:00:00+00:00",
          "2019-07-25T06:05:00+00:00",
          "2019-07-25T06:10:00+00:00",
          "2019-07-25T06:15:00+00:00",
          "2019-07-25T06:20:00+00:00",
          "2019-07-25T06:25:00+00:00",
          "2019-07-25T06:30:00+00:00",
          "2019-07-25T06:35:00+00:00",
          "2019-07-25T06:40:00+00:00",
          "2019-07-25T06:45:00+00:00",
          "2019-07-25T06:50:00+00:00",
          "2019-07-25T06:55:00+00:00",
          "2019-07-25T07:00:00+00:00",
          "2019-07-25T07:05:00+00:00",
          "2019-07-25T07:10:00+00:00",
          "2019-07-25T07:15:00+00:00",
          "2019-07-25T07:20:00+00:00",
          "2019-07-25T07:25:00+00:00",
          "2019-07-25T07:30:00+00:00",
          "2019-07-25T07:35:00+00:00",
          "2019-07-25T07:40:00+00:00",
          "2019-07-25T07:45:00+00:00",
          "2019-07-25T07:50:00+00:00",
          "2019-07-25T07:55:00+00:00",
          "2019-07-25T08:00:00+00:00",
          "2019-07-25T08:05:00+00:00",
          "2019-07-25T08:10:00+00:00",
          "2019-07-25T08:15:00+00:00",
          "2019-07-25T08:20:00+00:00",
          "2019-07-25T08:25:00+00:00",
          "2019-07-25T08:30:00+00:00",
          "2019-07-25T08:35:00+00:00",
          "2019-07-25T08:40:00+00:00",
          "2019-07-25T08:45:00+00:00",
          "2019-07-25T08:50:00+00:00",
          "2019-07-25T08:55:00+00:00",
          "2019-07-25T09:00:00+00:00",
          "2019-07-25T09:05:00+00:00",
          "2019-07-25T09:10:00+00:00",
          "2019-07-25T09:15:00+00:00",
          "2019-07-25T09:20:00+00:00",
          "2019-07-25T09:25:00+00:00",
          "2019-07-25T09:30:00+00:00",
          "2019-07-25T09:35:00+00:00",
          "2019-07-25T09:40:00+00:00",
          "2019-07-25T09:45:00+00:00",
          "2019-07-25T09:50:00+00:00",
          "2019-07-25T09:55:00+00:00",
          "2019-07-25T10:00:00+00:00",
          "2019-07-25T10:05:00+00:00",
          "2019-07-25T10:10:00+00:00",
          "2019-07-25T10:15:00+00:00",
          "2019-07-25T10:20:00+00:00",
          "2019-07-25T10:25:00+00:00",
          "2019-07-25T10:30:00+00:00",
          "2019-07-25T10:35:00+00:00",
          "2019-07-25T10:40:00+00:00",
          "2019-07-25T10:45:00+00:00",
          "2019-07-25T10:50:00+00:00",
          "2019-07-25T10:55:00+00:00",
          "2019-07-25T11:00:00+00:00",
          "2019-07-25T11:05:00+00:00",
          "2019-07-25T11:10:00+00:00",
          "2019-07-25T11:15:00+00:00",
          "2019-07-25T11:20:00+00:00",
          "2019-07-25T11:25:00+00:00",
          "2019-07-25T11:30:00+00:00",
          "2019-07-25T11:35:00+00:00",
          "2019-07-25T11:40:00+00:00",
          "2019-07-25T11:45:00+00:00",
          "2019-07-25T11:50:00+00:00",
          "2019-07-25T11:55:00+00:00",
          "2019-07-25T12:00:00+00:00",
          "2019-07-25T12:05:00+00:00",
          "2019-07-25T12:10:00+00:00",
          "2019-07-25T12:15:00+00:00",
          "2019-07-25T12:20:00+00:00",
          "2019-07-25T12:25:00+00:00",
          "2019-07-25T12:30:00+00:00",
          "2019-07-25T12:35:00+00:00",
          "2019-07-25T12:40:00+00:00",
          "2019-07-25T12:45:00+00:00",
          "2019-07-25T12:50:00+00:00",
          "2019-07-25T12:55:00+00:00",
          "2019-07-25T13:00:00+00:00",
          "2019-07-25T13:05:00+00:00",
          "2019-07-25T13:10:00+00:00",
          "2019-07-25T13:15:00+00:00",
          "2019-07-25T13:20:00+00:00",
          "2019-07-25T13:25:00+00:00",
          "2019-07-25T13:30:00+00:00",
          "2019-07-25T13:35:00+00:00",
          "2019-07-25T13:40:00+00:00",
          "2019-07-25T13:45:00+00:00",
          "2019-07-25T13:50:00+00:00",
          "2019-07-25T13:55:00+00:00",
          "2019-07-25T14:00:00+00:00",
          "2019-07-25T14:05:00+00:00",
          "2019-07-25T14:10:00+00:00",
          "2019-07-25T14:15:00+00:00",
          "2019-07-25T14:20:00+00:00",
          "2019-07-25T14:25:00+00:00",
          "2019-07-25T14:30:00+00:00",
          "2019-07-25T14:35:00+00:00",
          "2019-07-25T14:40:00+00:00",
          "2019-07-25T14:45:00+00:00",
          "2019-07-25T14:50:00+00:00",
          "2019-07-25T14:55:00+00:00",
          "2019-07-25T15:00:00+00:00",
          "2019-07-25T15:05:00+00:00",
          "2019-07-25T15:10:00+00:00",
          "2019-07-25T15:15:00+00:00",
          "2019-07-25T15:20:00+00:00",
          "2019-07-25T15:25:00+00:00",
          "2019-07-25T15:30:00+00:00",
          "2019-07-25T15:35:00+00:00",
          "2019-07-25T15:40:00+00:00",
          "2019-07-25T15:45:00+00:00",
          "2019-07-25T15:50:00+00:00",
          "2019-07-25T15:55:00+00:00",
          "2019-07-25T16:00:00+00:00",
          "2019-07-25T16:05:00+00:00",
          "2019-07-25T16:10:00+00:00",
          "2019-07-25T16:15:00+00:00",
          "2019-07-25T16:20:00+00:00",
          "2019-07-25T16:25:00+00:00",
          "2019-07-25T16:30:00+00:00",
          "2019-07-25T16:35:00+00:00",
          "2019-07-25T16:40:00+00:00",
          "2019-07-25T16:45:00+00:00",
          "2019-07-25T16:50:00+00:00",
          "2019-07-25T16:55:00+00:00",
          "2019-07-25T17:00:00+00:00",
          "2019-07-25T17:05:00+00:00",
          "2019-07-25T17:10:00+00:00",
          "2019-07-25T17:15:00+00:00",
          "2019-07-25T17:20:00+00:00",
          "2019-07-25T17:25:00+00:00",
          "2019-07-25T17:30:00+00:00",
          "2019-07-25T17:35:00+00:00",
          "2019-07-25T17:40:00+00:00",
          "2019-07-25T17:45:00+00:00",
          "2019-07-25T17:50:00+00:00",
          "2019-07-25T17:55:00+00:00",
          "2019-07-25T18:00:00+00:00",
          "2019-07-25T18:05:00+00:00",
          "2019-07-25T18:10:00+00:00",
          "2019-07-25T18:15:00+00:00",
          "2019-07-25T18:20:00+00:00",
          "2019-07-25T18:25:00+00:00",
          "2019-07-25T18:30:00+00:00",
          "2019-07-25T18:35:00+00:00",
          "2019-07-25T18:40:00+00:00",
          "2019-07-25T18:45:00+00:00",
          "2019-07-25T18:50:00+00:00",
          "2019-07-25T18:55:00+00:00",
          "2019-07-25T19:00:00+00:00",
          "2019-07-25T19:05:00+00:00",
          "2019-07-25T19:10:00+00:00",
          "2019-07-25T19:15:00+00:00",
          "2019-07-25T19:20:00+00:00",
          "2019-07-25T19:25:00+00:00",
          "2019-07-25T19:30:00+00:00",
          "2019-07-25T19:35:00+00:00",
          "2019-07-25T19:40:00+00:00",
          "2019-07-25T19:45:00+00:00",
          "2019-07-25T19:50:00+00:00",
          "2019-07-25T19:55:00+00:00",
          "2019-07-25T20:00:00+00:00",
          "2019-07-25T20:05:00+00:00",
          "2019-07-25T20:10:00+00:00",
          "2019-07-25T20:15:00+00:00",
          "2019-07-25T20:20:00+00:00",
          "2019-07-25T20:25:00+00:00",
          "2019-07-25T20:30:00+00:00",
          "2019-07-25T20:35:00+00:00",
          "2019-07-25T20:40:00+00:00",
          "2019-07-25T20:45:00+00:00",
          "2019-07-25T20:50:00+00:00",
          "2019-07-25T20:55:00+00:00",
          "2019-07-25T21:00:00+00:00",
          "2019-07-25T21:05:00+00:00",
          "2019-07-25T21:10:00+00:00",
          "2019-07-25T21:15:00+00:00",
          "2019-07-25T21:20:00+00:00",
          "2019-07-25T21:25:00+00:00",
          "2019-07-25T21:30:00+00:00",
          "2019-07-25T21:35:00+00:00",
          "2019-07-25T21:40:00+00:00",
          "2019-07-25T21:45:00+00:00",
          "2019-07-25T21:50:00+00:00",
          "2019-07-25T21:55:00+00:00",
          "2019-07-25T22:00:00+00:00",
          "2019-07-25T22:05:00+00:00",
          "2019-07-25T22:10:00+00:00",
          "2019-07-25T22:15:00+00:00",
          "2019-07-25T22:20:00+00:00",
          "2019-07-25T22:25:00+00:00",
          "2019-07-25T22:30:00+00:00",
          "2019-07-25T22:35:00+00:00",
          "2019-07-25T22:40:00+00:00",
          "2019-07-25T22:45:00+00:00",
          "2019-07-25T22:50:00+00:00",
          "2019-07-25T22:55:00+00:00",
          "2019-07-25T23:00:00+00:00",
          "2019-07-25T23:05:00+00:00",
          "2019-07-25T23:10:00+00:00",
          "2019-07-25T23:15:00+00:00",
          "2019-07-25T23:20:00+00:00",
          "2019-07-25T23:25:00+00:00",
          "2019-07-25T23:30:00+00:00",
          "2019-07-25T23:35:00+00:00",
          "2019-07-25T23:40:00+00:00",
          "2019-07-25T23:45:00+00:00",
          "2019-07-25T23:50:00+00:00",
          "2019-07-25T23:55:00+00:00",
          "2019-07-26T00:00:00+00:00",
          "2019-07-26T00:05:00+00:00",
          "2019-07-26T00:10:00+00:00",
          "2019-07-26T00:15:00+00:00",
          "2019-07-26T00:20:00+00:00",
          "2019-07-26T00:25:00+00:00",
          "2019-07-26T00:30:00+00:00",
          "2019-07-26T00:35:00+00:00",
          "2019-07-26T00:40:00+00:00",
          "2019-07-26T00:45:00+00:00",
          "2019-07-26T00:50:00+00:00",
          "2019-07-26T00:55:00+00:00",
          "2019-07-26T01:00:00+00:00",
          "2019-07-26T01:05:00+00:00",
          "2019-07-26T01:10:00+00:00",
          "2019-07-26T01:15:00+00:00",
          "2019-07-26T01:20:00+00:00",
          "2019-07-26T01:25:00+00:00",
          "2019-07-26T01:30:00+00:00",
          "2019-07-26T01:35:00+00:00",
          "2019-07-26T01:40:00+00:00",
          "2019-07-26T01:45:00+00:00",
          "2019-07-26T01:50:00+00:00",
          "2019-07-26T01:55:00+00:00",
          "2019-07-26T02:00:00+00:00",
          "2019-07-26T02:05:00+00:00",
          "2019-07-26T02:10:00+00:00",
          "2019-07-26T02:15:00+00:00",
          "2019-07-26T02:20:00+00:00",
          "2019-07-26T02:25:00+00:00",
          "2019-07-26T02:30:00+00:00",
          "2019-07-26T02:35:00+00:00",
          "2019-07-26T02:40:00+00:00",
          "2019-07-26T02:45:00+00:00",
          "2019-07-26T02:50:00+00:00",
          "2019-07-26T02:55:00+00:00",
          "2019-07-26T03:00:00+00:00",
          "2019-07-26T03:05:00+00:00",
          "2019-07-26T03:10:00+00:00",
          "2019-07-26T03:15:00+00:00",
          "2019-07-26T03:20:00+00:00",
          "2019-07-26T03:25:00+00:00",
          "2019-07-26T03:30:00+00:00",
          "2019-07-26T03:35:00+00:00",
          "2019-07-26T03:40:00+00:00",
          "2019-07-26T03:45:00+00:00",
          "2019-07-26T03:50:00+00:00",
          "2019-07-26T03:55:00+00:00",
          "2019-07-26T04:00:00+00:00",
          "2019-07-26T04:05:00+00:00",
          "2019-07-26T04:10:00+00:00",
          "2019-07-26T04:15:00+00:00",
          "2019-07-26T04:20:00+00:00",
          "2019-07-26T04:25:00+00:00",
          "2019-07-26T04:30:00+00:00",
          "2019-07-26T04:35:00+00:00",
          "2019-07-26T04:40:00+00:00",
          "2019-07-26T04:45:00+00:00",
          "2019-07-26T04:50:00+00:00",
          "2019-07-26T04:55:00+00:00",
          "2019-07-26T05:00:00+00:00",
          "2019-07-26T05:05:00+00:00",
          "2019-07-26T05:10:00+00:00",
          "2019-07-26T05:15:00+00:00",
          "2019-07-26T05:20:00+00:00",
          "2019-07-26T05:25:00+00:00",
          "2019-07-26T05:30:00+00:00",
          "2019-07-26T05:35:00+00:00",
          "2019-07-26T05:40:00+00:00",
          "2019-07-26T05:45:00+00:00",
          "2019-07-26T05:50:00+00:00",
          "2019-07-26T05:55:00+00:00",
          "2019-07-26T06:00:00+00:00",
          "2019-07-26T06:05:00+00:00",
          "2019-07-26T06:10:00+00:00",
          "2019-07-26T06:15:00+00:00",
          "2019-07-26T06:20:00+00:00",
          "2019-07-26T06:25:00+00:00",
          "2019-07-26T06:30:00+00:00",
          "2019-07-26T06:35:00+00:00",
          "2019-07-26T06:40:00+00:00",
          "2019-07-26T06:45:00+00:00",
          "2019-07-26T06:50:00+00:00",
          "2019-07-26T06:55:00+00:00",
          "2019-07-26T07:00:00+00:00",
          "2019-07-26T07:05:00+00:00",
          "2019-07-26T07:10:00+00:00",
          "2019-07-26T07:15:00+00:00",
          "2019-07-26T07:20:00+00:00",
          "2019-07-26T07:25:00+00:00",
          "2019-07-26T07:30:00+00:00",
          "2019-07-26T07:35:00+00:00",
          "2019-07-26T07:40:00+00:00",
          "2019-07-26T07:45:00+00:00",
          "2019-07-26T07:50:00+00:00",
          "2019-07-26T07:55:00+00:00",
          "2019-07-26T08:00:00+00:00",
          "2019-07-26T08:05:00+00:00",
          "2019-07-26T08:10:00+00:00",
          "2019-07-26T08:15:00+00:00",
          "2019-07-26T08:20:00+00:00",
          "2019-07-26T08:25:00+00:00",
          "2019-07-26T08:30:00+00:00",
          "2019-07-26T08:35:00+00:00",
          "2019-07-26T08:40:00+00:00",
          "2019-07-26T08:45:00+00:00",
          "2019-07-26T08:50:00+00:00",
          "2019-07-26T08:55:00+00:00",
          "2019-07-26T09:00:00+00:00",
          "2019-07-26T09:05:00+00:00",
          "2019-07-26T09:10:00+00:00",
          "2019-07-26T09:15:00+00:00",
          "2019-07-26T09:20:00+00:00",
          "2019-07-26T09:25:00+00:00",
          "2019-07-26T09:30:00+00:00",
          "2019-07-26T09:35:00+00:00",
          "2019-07-26T09:40:00+00:00",
          "2019-07-26T09:45:00+00:00",
          "2019-07-26T09:50:00+00:00",
          "2019-07-26T09:55:00+00:00",
          "2019-07-26T10:00:00+00:00",
          "2019-07-26T10:05:00+00:00",
          "2019-07-26T10:10:00+00:00",
          "2019-07-26T10:15:00+00:00",
          "2019-07-26T10:20:00+00:00",
          "2019-07-26T10:25:00+00:00",
          "2019-07-26T10:30:00+00:00",
          "2019-07-26T10:35:00+00:00",
          "2019-07-26T10:40:00+00:00",
          "2019-07-26T10:45:00+00:00",
          "2019-07-26T10:50:00+00:00",
          "2019-07-26T10:55:00+00:00",
          "2019-07-26T11:00:00+00:00",
          "2019-07-26T11:05:00+00:00",
          "2019-07-26T11:10:00+00:00",
          "2019-07-26T11:15:00+00:00",
          "2019-07-26T11:20:00+00:00",
          "2019-07-26T11:25:00+00:00",
          "2019-07-26T11:30:00+00:00",
          "2019-07-26T11:35:00+00:00",
          "2019-07-26T11:40:00+00:00",
          "2019-07-26T11:45:00+00:00",
          "2019-07-26T11:50:00+00:00",
          "2019-07-26T11:55:00+00:00",
          "2019-07-26T12:00:00+00:00",
          "2019-07-26T12:05:00+00:00",
          "2019-07-26T12:10:00+00:00",
          "2019-07-26T12:15:00+00:00",
          "2019-07-26T12:20:00+00:00",
          "2019-07-26T12:25:00+00:00",
          "2019-07-26T12:30:00+00:00",
          "2019-07-26T12:35:00+00:00",
          "2019-07-26T12:40:00+00:00",
          "2019-07-26T12:45:00+00:00",
          "2019-07-26T12:50:00+00:00",
          "2019-07-26T12:55:00+00:00",
          "2019-07-26T13:00:00+00:00",
          "2019-07-26T13:05:00+00:00",
          "2019-07-26T13:10:00+00:00",
          "2019-07-26T13:15:00+00:00",
          "2019-07-26T13:20:00+00:00",
          "2019-07-26T13:25:00+00:00",
          "2019-07-26T13:30:00+00:00",
          "2019-07-26T13:35:00+00:00",
          "2019-07-26T13:40:00+00:00",
          "2019-07-26T13:45:00+00:00",
          "2019-07-26T13:50:00+00:00",
          "2019-07-26T13:55:00+00:00",
          "2019-07-26T14:00:00+00:00",
          "2019-07-26T14:05:00+00:00",
          "2019-07-26T14:10:00+00:00",
          "2019-07-26T14:15:00+00:00",
          "2019-07-26T14:20:00+00:00",
          "2019-07-26T14:25:00+00:00",
          "2019-07-26T14:30:00+00:00",
          "2019-07-26T14:35:00+00:00",
          "2019-07-26T14:40:00+00:00",
          "2019-07-26T14:45:00+00:00",
          "2019-07-26T14:50:00+00:00",
          "2019-07-26T14:55:00+00:00",
          "2019-07-26T15:00:00+00:00",
          "2019-07-26T15:05:00+00:00",
          "2019-07-26T15:10:00+00:00",
          "2019-07-26T15:13:17+00:00"
         ],
         "y": [
          0.75,
          0.75,
          0.75,
          0.75,
          0.75,
          0.75,
          0.75,
          0.75,
          0.75,
          0.75,
          0.75,
          0.75,
          0.75,
          0.75,
          0.75,
          0.75,
          0.75,
          0.75,
          0.75,
          0.75,
          0.75,
          0.75,
          0.75,
          0.75,
          0.75,
          0.75,
          0.75,
          0.75,
          0.75,
          0.75,
          0.75,
          0.75,
          0.75,
          0.75,
          0.75,
          0.75,
          1.45,
          1.45,
          1.45,
          1.45,
          1.45,
          1.45,
          1.45,
          1.45,
          1.45,
          1.45,
          1.45,
          1.45,
          1.45,
          1.45,
          1.45,
          1.45,
          1.45,
          1.45,
          1.45,
          1.45,
          1.45,
          1.45,
          1.45,
          1.45,
          1.45,
          1.45,
          1.45,
          1.45,
          1.45,
          1.45,
          1.45,
          1.45,
          1.45,
          1.45,
          1.45,
          1.45,
          1.45,
          1.45,
          1.45,
          1.45,
          1.45,
          1.45,
          1.45,
          1.45,
          1.45,
          1.45,
          1.45,
          1.45,
          1.45,
          1.45,
          1.45,
          1.45,
          1.45,
          1.45,
          1.45,
          1.45,
          1.45,
          1.45,
          1.45,
          1.45,
          1.45,
          1.45,
          1.45,
          1.45,
          1.45,
          1.45,
          1.45,
          1.45,
          1.45,
          1.45,
          1.45,
          1.45,
          1.45,
          1.45,
          1.45,
          1.45,
          1.45,
          1.45,
          1.45,
          1.45,
          1.45,
          1.45,
          1.45,
          1.45,
          1.45,
          1.45,
          1.45,
          1.45,
          1.45,
          1.45,
          1.45,
          1.45,
          1.45,
          1.45,
          1.45,
          1.45,
          1.45,
          1.45,
          1.45,
          1.45,
          1.45,
          1.45,
          1.45,
          1.45,
          1.45,
          1.45,
          1.45,
          1.45,
          1.45,
          1.45,
          1.45,
          1.45,
          1.45,
          1.45,
          0.9,
          0.9,
          0.9,
          0.9,
          0.9,
          0.9,
          0.9,
          0.9,
          0.9,
          0.9,
          0.9,
          0.9,
          0.9,
          0.9,
          0.9,
          0.9,
          0.9,
          0.9,
          0.9,
          0.9,
          0.9,
          0.9,
          0.9,
          0.9,
          0.9,
          0.9,
          0.9,
          0.9,
          0.9,
          0.9,
          0.9,
          0.9,
          0.9,
          0.9,
          0.9,
          0.9,
          0.9,
          0.9,
          0.9,
          0.9,
          0.9,
          0.9,
          0.9,
          0.9,
          0.9,
          0.9,
          0.9,
          0.9,
          0.9,
          0.9,
          0.9,
          0.9,
          0.9,
          0.9,
          0.9,
          0.9,
          0.9,
          0.9,
          0.9,
          0.9,
          0.9,
          0.9,
          0.9,
          0.9,
          0.9,
          0.9,
          0.9,
          0.9,
          0.9,
          0.9,
          0.9,
          0.9,
          0.9,
          0.9,
          0.9,
          0.9,
          0.9,
          0.9,
          0.9,
          0.9,
          0.9,
          0.9,
          0.9,
          0.9,
          0.9,
          0.9,
          0.9,
          0.9,
          0.9,
          0.9,
          0.9,
          0.9,
          0.9,
          0.9,
          0.9,
          0.9,
          0.9,
          0.9,
          0.9,
          0.9,
          0.9,
          0.9,
          0.9,
          0.9,
          0.9,
          0.9,
          0.9,
          0.9,
          0.9,
          0.9,
          0.9,
          0.9,
          0.9,
          0.9,
          0.9,
          0.9,
          0.9,
          0.9,
          0.9,
          0.9,
          0.9,
          0.9,
          0.9,
          0.9,
          0.9,
          0.9,
          0.9,
          0.9,
          0.9,
          0.9,
          0.9,
          0.9,
          0.9,
          0.9,
          0.9,
          0.9,
          0.9,
          0.9,
          0.75,
          0.75,
          0.75,
          0.75,
          0.75,
          0.75,
          0.75,
          0.75,
          0.75,
          0.75,
          0.75,
          0.75,
          0.75,
          0.75,
          0.75,
          0.75,
          0.75,
          0.75,
          0.75,
          0.75,
          0.75,
          0.75,
          0.75,
          0.75,
          0.75,
          0.75,
          0.75,
          0.75,
          0.75,
          0.75,
          0.75,
          0.75,
          0.75,
          0.75,
          0.75,
          0.75,
          1.45,
          1.45,
          1.45,
          1.45,
          1.45,
          1.45,
          1.45,
          1.45,
          1.45,
          1.45,
          1.45,
          1.45,
          1.45,
          1.45,
          1.45,
          1.45,
          1.45,
          1.45,
          1.45,
          1.45,
          1.45,
          1.45,
          1.45,
          1.45,
          1.45,
          1.45,
          1.45,
          1.45,
          1.45,
          1.45,
          1.45,
          1.45,
          1.45,
          1.45,
          1.45,
          1.45,
          1.45,
          1.45,
          1.45,
          1.45,
          1.45,
          1.45,
          1.45,
          1.45,
          1.45,
          1.45,
          1.45,
          1.45,
          1.45,
          1.45,
          1.45,
          1.45,
          1.45,
          1.45,
          1.45,
          1.45,
          1.45,
          1.45,
          1.45,
          1.45,
          1.45,
          1.45,
          1.45,
          1.45,
          1.45,
          1.45,
          1.45,
          1.45,
          1.45,
          1.45,
          1.45,
          1.45,
          1.45,
          1.45,
          1.45,
          1.45,
          1.45,
          1.45,
          1.45,
          1.45,
          1.45,
          1.45,
          1.45,
          1.45,
          1.45,
          1.45,
          1.45,
          1.45,
          1.45,
          1.45,
          1.45,
          1.45,
          1.45,
          1.45,
          1.45,
          1.45,
          1.45,
          1.45,
          1.45,
          1.45,
          1.45,
          1.45,
          1.45,
          1.45,
          1.45,
          1.45,
          1.45,
          1.45,
          1.45,
          1.45,
          1.45,
          1.45,
          1.45,
          1.45,
          0.9,
          0.9,
          0.9,
          0.9,
          0.9,
          0.9,
          0.9,
          0.9,
          0.9,
          0.9,
          0.9,
          0.9,
          0.9,
          0.9,
          0.9,
          0.9,
          0.9,
          0.9,
          0.9,
          0.9,
          0.9,
          0.9,
          0.9,
          0.9,
          0.9,
          0.9,
          0.9,
          0.9,
          0.9,
          0.9,
          0.9,
          0.9,
          0.9,
          0.9,
          0.9,
          0.9,
          0.9,
          0.9,
          0.9,
          0.9,
          0.9,
          0.9,
          0.9,
          0.9,
          0.9,
          0.9,
          0.9,
          0.9,
          0.9,
          0.9,
          0.9,
          0.9,
          0.9,
          0.9,
          0.9,
          0.9,
          0.9,
          0.9,
          0.9,
          0.9,
          0.9,
          0.9,
          0.9,
          0.9,
          0.9,
          0.9,
          0.9,
          0.9,
          0.9,
          0.9
         ],
         "yaxis": "y"
        },
        {
         "hoverinfo": "y+name",
         "line": {
          "color": "cornflowerblue",
          "dash": "dot",
          "shape": "vh"
         },
         "mode": "lines",
         "name": "scheduled",
         "type": "scattergl",
         "x": [
          "2019-07-24T21:00:00+00:00",
          "2019-07-24T21:05:00+00:00",
          "2019-07-24T21:10:00+00:00",
          "2019-07-24T21:15:00+00:00",
          "2019-07-24T21:20:00+00:00",
          "2019-07-24T21:25:00+00:00",
          "2019-07-24T21:30:00+00:00",
          "2019-07-24T21:35:00+00:00",
          "2019-07-24T21:40:00+00:00",
          "2019-07-24T21:45:00+00:00",
          "2019-07-24T21:50:00+00:00",
          "2019-07-24T21:55:00+00:00",
          "2019-07-24T22:00:00+00:00",
          "2019-07-24T22:05:00+00:00",
          "2019-07-24T22:10:00+00:00",
          "2019-07-24T22:15:00+00:00",
          "2019-07-24T22:20:00+00:00",
          "2019-07-24T22:25:00+00:00",
          "2019-07-24T22:30:00+00:00",
          "2019-07-24T22:35:00+00:00",
          "2019-07-24T22:40:00+00:00",
          "2019-07-24T22:45:00+00:00",
          "2019-07-24T22:50:00+00:00",
          "2019-07-24T22:55:00+00:00",
          "2019-07-24T23:00:00+00:00",
          "2019-07-24T23:05:00+00:00",
          "2019-07-24T23:10:00+00:00",
          "2019-07-24T23:15:00+00:00",
          "2019-07-24T23:20:00+00:00",
          "2019-07-24T23:25:00+00:00",
          "2019-07-24T23:30:00+00:00",
          "2019-07-24T23:35:00+00:00",
          "2019-07-24T23:40:00+00:00",
          "2019-07-24T23:45:00+00:00",
          "2019-07-24T23:50:00+00:00",
          "2019-07-24T23:55:00+00:00",
          "2019-07-25T00:00:00+00:00",
          "2019-07-25T00:05:00+00:00",
          "2019-07-25T00:10:00+00:00",
          "2019-07-25T00:15:00+00:00",
          "2019-07-25T00:20:00+00:00",
          "2019-07-25T00:25:00+00:00",
          "2019-07-25T00:30:00+00:00",
          "2019-07-25T00:35:00+00:00",
          "2019-07-25T00:40:00+00:00",
          "2019-07-25T00:45:00+00:00",
          "2019-07-25T00:50:00+00:00",
          "2019-07-25T00:55:00+00:00",
          "2019-07-25T01:00:00+00:00",
          "2019-07-25T01:05:00+00:00",
          "2019-07-25T01:10:00+00:00",
          "2019-07-25T01:15:00+00:00",
          "2019-07-25T01:20:00+00:00",
          "2019-07-25T01:25:00+00:00",
          "2019-07-25T01:30:00+00:00",
          "2019-07-25T01:35:00+00:00",
          "2019-07-25T01:40:00+00:00",
          "2019-07-25T01:45:00+00:00",
          "2019-07-25T01:50:00+00:00",
          "2019-07-25T01:55:00+00:00",
          "2019-07-25T02:00:00+00:00",
          "2019-07-25T02:05:00+00:00",
          "2019-07-25T02:10:00+00:00",
          "2019-07-25T02:15:00+00:00",
          "2019-07-25T02:20:00+00:00",
          "2019-07-25T02:25:00+00:00",
          "2019-07-25T02:30:00+00:00",
          "2019-07-25T02:35:00+00:00",
          "2019-07-25T02:40:00+00:00",
          "2019-07-25T02:45:00+00:00",
          "2019-07-25T02:50:00+00:00",
          "2019-07-25T02:55:00+00:00",
          "2019-07-25T03:00:00+00:00",
          "2019-07-25T03:05:00+00:00",
          "2019-07-25T03:10:00+00:00",
          "2019-07-25T03:15:00+00:00",
          "2019-07-25T03:20:00+00:00",
          "2019-07-25T03:25:00+00:00",
          "2019-07-25T03:30:00+00:00",
          "2019-07-25T03:35:00+00:00",
          "2019-07-25T03:40:00+00:00",
          "2019-07-25T03:45:00+00:00",
          "2019-07-25T03:50:00+00:00",
          "2019-07-25T03:55:00+00:00",
          "2019-07-25T04:00:00+00:00",
          "2019-07-25T04:05:00+00:00",
          "2019-07-25T04:10:00+00:00",
          "2019-07-25T04:15:00+00:00",
          "2019-07-25T04:20:00+00:00",
          "2019-07-25T04:25:00+00:00",
          "2019-07-25T04:30:00+00:00",
          "2019-07-25T04:35:00+00:00",
          "2019-07-25T04:40:00+00:00",
          "2019-07-25T04:45:00+00:00",
          "2019-07-25T04:50:00+00:00",
          "2019-07-25T04:55:00+00:00",
          "2019-07-25T05:00:00+00:00",
          "2019-07-25T05:05:00+00:00",
          "2019-07-25T05:10:00+00:00",
          "2019-07-25T05:15:00+00:00",
          "2019-07-25T05:20:00+00:00",
          "2019-07-25T05:25:00+00:00",
          "2019-07-25T05:30:00+00:00",
          "2019-07-25T05:35:00+00:00",
          "2019-07-25T05:40:00+00:00",
          "2019-07-25T05:45:00+00:00",
          "2019-07-25T05:50:00+00:00",
          "2019-07-25T05:55:00+00:00",
          "2019-07-25T06:00:00+00:00",
          "2019-07-25T06:05:00+00:00",
          "2019-07-25T06:10:00+00:00",
          "2019-07-25T06:15:00+00:00",
          "2019-07-25T06:20:00+00:00",
          "2019-07-25T06:25:00+00:00",
          "2019-07-25T06:30:00+00:00",
          "2019-07-25T06:35:00+00:00",
          "2019-07-25T06:40:00+00:00",
          "2019-07-25T06:45:00+00:00",
          "2019-07-25T06:50:00+00:00",
          "2019-07-25T06:55:00+00:00",
          "2019-07-25T07:00:00+00:00",
          "2019-07-25T07:05:00+00:00",
          "2019-07-25T07:10:00+00:00",
          "2019-07-25T07:15:00+00:00",
          "2019-07-25T07:20:00+00:00",
          "2019-07-25T07:25:00+00:00",
          "2019-07-25T07:30:00+00:00",
          "2019-07-25T07:35:00+00:00",
          "2019-07-25T07:40:00+00:00",
          "2019-07-25T07:45:00+00:00",
          "2019-07-25T07:50:00+00:00",
          "2019-07-25T07:55:00+00:00",
          "2019-07-25T08:00:00+00:00",
          "2019-07-25T08:05:00+00:00",
          "2019-07-25T08:10:00+00:00",
          "2019-07-25T08:15:00+00:00",
          "2019-07-25T08:20:00+00:00",
          "2019-07-25T08:25:00+00:00",
          "2019-07-25T08:30:00+00:00",
          "2019-07-25T08:35:00+00:00",
          "2019-07-25T08:40:00+00:00",
          "2019-07-25T08:45:00+00:00",
          "2019-07-25T08:50:00+00:00",
          "2019-07-25T08:55:00+00:00",
          "2019-07-25T09:00:00+00:00",
          "2019-07-25T09:05:00+00:00",
          "2019-07-25T09:10:00+00:00",
          "2019-07-25T09:15:00+00:00",
          "2019-07-25T09:20:00+00:00",
          "2019-07-25T09:25:00+00:00",
          "2019-07-25T09:30:00+00:00",
          "2019-07-25T09:35:00+00:00",
          "2019-07-25T09:40:00+00:00",
          "2019-07-25T09:45:00+00:00",
          "2019-07-25T09:50:00+00:00",
          "2019-07-25T09:55:00+00:00",
          "2019-07-25T10:00:00+00:00",
          "2019-07-25T10:05:00+00:00",
          "2019-07-25T10:10:00+00:00",
          "2019-07-25T10:15:00+00:00",
          "2019-07-25T10:20:00+00:00",
          "2019-07-25T10:25:00+00:00",
          "2019-07-25T10:30:00+00:00",
          "2019-07-25T10:35:00+00:00",
          "2019-07-25T10:40:00+00:00",
          "2019-07-25T10:45:00+00:00",
          "2019-07-25T10:50:00+00:00",
          "2019-07-25T10:55:00+00:00",
          "2019-07-25T11:00:00+00:00",
          "2019-07-25T11:05:00+00:00",
          "2019-07-25T11:10:00+00:00",
          "2019-07-25T11:15:00+00:00",
          "2019-07-25T11:20:00+00:00",
          "2019-07-25T11:25:00+00:00",
          "2019-07-25T11:30:00+00:00",
          "2019-07-25T11:35:00+00:00",
          "2019-07-25T11:40:00+00:00",
          "2019-07-25T11:45:00+00:00",
          "2019-07-25T11:50:00+00:00",
          "2019-07-25T11:55:00+00:00",
          "2019-07-25T12:00:00+00:00",
          "2019-07-25T12:05:00+00:00",
          "2019-07-25T12:10:00+00:00",
          "2019-07-25T12:15:00+00:00",
          "2019-07-25T12:20:00+00:00",
          "2019-07-25T12:25:00+00:00",
          "2019-07-25T12:30:00+00:00",
          "2019-07-25T12:35:00+00:00",
          "2019-07-25T12:40:00+00:00",
          "2019-07-25T12:45:00+00:00",
          "2019-07-25T12:50:00+00:00",
          "2019-07-25T12:55:00+00:00",
          "2019-07-25T13:00:00+00:00",
          "2019-07-25T13:05:00+00:00",
          "2019-07-25T13:10:00+00:00",
          "2019-07-25T13:15:00+00:00",
          "2019-07-25T13:20:00+00:00",
          "2019-07-25T13:25:00+00:00",
          "2019-07-25T13:30:00+00:00",
          "2019-07-25T13:35:00+00:00",
          "2019-07-25T13:40:00+00:00",
          "2019-07-25T13:45:00+00:00",
          "2019-07-25T13:50:00+00:00",
          "2019-07-25T13:55:00+00:00",
          "2019-07-25T14:00:00+00:00",
          "2019-07-25T14:05:00+00:00",
          "2019-07-25T14:10:00+00:00",
          "2019-07-25T14:15:00+00:00",
          "2019-07-25T14:20:00+00:00",
          "2019-07-25T14:25:00+00:00",
          "2019-07-25T14:30:00+00:00",
          "2019-07-25T14:35:00+00:00",
          "2019-07-25T14:40:00+00:00",
          "2019-07-25T14:45:00+00:00",
          "2019-07-25T14:50:00+00:00",
          "2019-07-25T14:55:00+00:00",
          "2019-07-25T15:00:00+00:00",
          "2019-07-25T15:05:00+00:00",
          "2019-07-25T15:10:00+00:00",
          "2019-07-25T15:15:00+00:00",
          "2019-07-25T15:20:00+00:00",
          "2019-07-25T15:25:00+00:00",
          "2019-07-25T15:30:00+00:00",
          "2019-07-25T15:35:00+00:00",
          "2019-07-25T15:40:00+00:00",
          "2019-07-25T15:45:00+00:00",
          "2019-07-25T15:50:00+00:00",
          "2019-07-25T15:55:00+00:00",
          "2019-07-25T16:00:00+00:00",
          "2019-07-25T16:05:00+00:00",
          "2019-07-25T16:10:00+00:00",
          "2019-07-25T16:15:00+00:00",
          "2019-07-25T16:20:00+00:00",
          "2019-07-25T16:25:00+00:00",
          "2019-07-25T16:30:00+00:00",
          "2019-07-25T16:35:00+00:00",
          "2019-07-25T16:40:00+00:00",
          "2019-07-25T16:45:00+00:00",
          "2019-07-25T16:50:00+00:00",
          "2019-07-25T16:55:00+00:00",
          "2019-07-25T17:00:00+00:00",
          "2019-07-25T17:05:00+00:00",
          "2019-07-25T17:10:00+00:00",
          "2019-07-25T17:15:00+00:00",
          "2019-07-25T17:20:00+00:00",
          "2019-07-25T17:25:00+00:00",
          "2019-07-25T17:30:00+00:00",
          "2019-07-25T17:35:00+00:00",
          "2019-07-25T17:40:00+00:00",
          "2019-07-25T17:45:00+00:00",
          "2019-07-25T17:50:00+00:00",
          "2019-07-25T17:55:00+00:00",
          "2019-07-25T18:00:00+00:00",
          "2019-07-25T18:05:00+00:00",
          "2019-07-25T18:10:00+00:00",
          "2019-07-25T18:15:00+00:00",
          "2019-07-25T18:20:00+00:00",
          "2019-07-25T18:25:00+00:00",
          "2019-07-25T18:30:00+00:00",
          "2019-07-25T18:35:00+00:00",
          "2019-07-25T18:40:00+00:00",
          "2019-07-25T18:45:00+00:00",
          "2019-07-25T18:50:00+00:00",
          "2019-07-25T18:55:00+00:00",
          "2019-07-25T19:00:00+00:00",
          "2019-07-25T19:05:00+00:00",
          "2019-07-25T19:10:00+00:00",
          "2019-07-25T19:15:00+00:00",
          "2019-07-25T19:20:00+00:00",
          "2019-07-25T19:25:00+00:00",
          "2019-07-25T19:30:00+00:00",
          "2019-07-25T19:35:00+00:00",
          "2019-07-25T19:40:00+00:00",
          "2019-07-25T19:45:00+00:00",
          "2019-07-25T19:50:00+00:00",
          "2019-07-25T19:55:00+00:00",
          "2019-07-25T20:00:00+00:00",
          "2019-07-25T20:05:00+00:00",
          "2019-07-25T20:10:00+00:00",
          "2019-07-25T20:15:00+00:00",
          "2019-07-25T20:20:00+00:00",
          "2019-07-25T20:25:00+00:00",
          "2019-07-25T20:30:00+00:00",
          "2019-07-25T20:35:00+00:00",
          "2019-07-25T20:40:00+00:00",
          "2019-07-25T20:45:00+00:00",
          "2019-07-25T20:50:00+00:00",
          "2019-07-25T20:55:00+00:00",
          "2019-07-25T21:00:00+00:00",
          "2019-07-25T21:05:00+00:00",
          "2019-07-25T21:10:00+00:00",
          "2019-07-25T21:15:00+00:00",
          "2019-07-25T21:20:00+00:00",
          "2019-07-25T21:25:00+00:00",
          "2019-07-25T21:30:00+00:00",
          "2019-07-25T21:35:00+00:00",
          "2019-07-25T21:40:00+00:00",
          "2019-07-25T21:45:00+00:00",
          "2019-07-25T21:50:00+00:00",
          "2019-07-25T21:55:00+00:00",
          "2019-07-25T22:00:00+00:00",
          "2019-07-25T22:05:00+00:00",
          "2019-07-25T22:10:00+00:00",
          "2019-07-25T22:15:00+00:00",
          "2019-07-25T22:20:00+00:00",
          "2019-07-25T22:25:00+00:00",
          "2019-07-25T22:30:00+00:00",
          "2019-07-25T22:35:00+00:00",
          "2019-07-25T22:40:00+00:00",
          "2019-07-25T22:45:00+00:00",
          "2019-07-25T22:50:00+00:00",
          "2019-07-25T22:55:00+00:00",
          "2019-07-25T23:00:00+00:00",
          "2019-07-25T23:05:00+00:00",
          "2019-07-25T23:10:00+00:00",
          "2019-07-25T23:15:00+00:00",
          "2019-07-25T23:20:00+00:00",
          "2019-07-25T23:25:00+00:00",
          "2019-07-25T23:30:00+00:00",
          "2019-07-25T23:35:00+00:00",
          "2019-07-25T23:40:00+00:00",
          "2019-07-25T23:45:00+00:00",
          "2019-07-25T23:50:00+00:00",
          "2019-07-25T23:55:00+00:00",
          "2019-07-26T00:00:00+00:00",
          "2019-07-26T00:05:00+00:00",
          "2019-07-26T00:10:00+00:00",
          "2019-07-26T00:15:00+00:00",
          "2019-07-26T00:20:00+00:00",
          "2019-07-26T00:25:00+00:00",
          "2019-07-26T00:30:00+00:00",
          "2019-07-26T00:35:00+00:00",
          "2019-07-26T00:40:00+00:00",
          "2019-07-26T00:45:00+00:00",
          "2019-07-26T00:50:00+00:00",
          "2019-07-26T00:55:00+00:00",
          "2019-07-26T01:00:00+00:00",
          "2019-07-26T01:05:00+00:00",
          "2019-07-26T01:10:00+00:00",
          "2019-07-26T01:15:00+00:00",
          "2019-07-26T01:20:00+00:00",
          "2019-07-26T01:25:00+00:00",
          "2019-07-26T01:30:00+00:00",
          "2019-07-26T01:35:00+00:00",
          "2019-07-26T01:40:00+00:00",
          "2019-07-26T01:45:00+00:00",
          "2019-07-26T01:50:00+00:00",
          "2019-07-26T01:55:00+00:00",
          "2019-07-26T02:00:00+00:00",
          "2019-07-26T02:05:00+00:00",
          "2019-07-26T02:10:00+00:00",
          "2019-07-26T02:15:00+00:00",
          "2019-07-26T02:20:00+00:00",
          "2019-07-26T02:25:00+00:00",
          "2019-07-26T02:30:00+00:00",
          "2019-07-26T02:35:00+00:00",
          "2019-07-26T02:40:00+00:00",
          "2019-07-26T02:45:00+00:00",
          "2019-07-26T02:50:00+00:00",
          "2019-07-26T02:55:00+00:00",
          "2019-07-26T03:00:00+00:00",
          "2019-07-26T03:05:00+00:00",
          "2019-07-26T03:10:00+00:00",
          "2019-07-26T03:15:00+00:00",
          "2019-07-26T03:20:00+00:00",
          "2019-07-26T03:25:00+00:00",
          "2019-07-26T03:30:00+00:00",
          "2019-07-26T03:35:00+00:00",
          "2019-07-26T03:40:00+00:00",
          "2019-07-26T03:45:00+00:00",
          "2019-07-26T03:50:00+00:00",
          "2019-07-26T03:55:00+00:00",
          "2019-07-26T04:00:00+00:00",
          "2019-07-26T04:05:00+00:00",
          "2019-07-26T04:10:00+00:00",
          "2019-07-26T04:15:00+00:00",
          "2019-07-26T04:20:00+00:00",
          "2019-07-26T04:25:00+00:00",
          "2019-07-26T04:30:00+00:00",
          "2019-07-26T04:35:00+00:00",
          "2019-07-26T04:40:00+00:00",
          "2019-07-26T04:45:00+00:00",
          "2019-07-26T04:50:00+00:00",
          "2019-07-26T04:55:00+00:00",
          "2019-07-26T05:00:00+00:00",
          "2019-07-26T05:05:00+00:00",
          "2019-07-26T05:10:00+00:00",
          "2019-07-26T05:15:00+00:00",
          "2019-07-26T05:20:00+00:00",
          "2019-07-26T05:25:00+00:00",
          "2019-07-26T05:30:00+00:00",
          "2019-07-26T05:35:00+00:00",
          "2019-07-26T05:40:00+00:00",
          "2019-07-26T05:45:00+00:00",
          "2019-07-26T05:50:00+00:00",
          "2019-07-26T05:55:00+00:00",
          "2019-07-26T06:00:00+00:00",
          "2019-07-26T06:05:00+00:00",
          "2019-07-26T06:10:00+00:00",
          "2019-07-26T06:15:00+00:00",
          "2019-07-26T06:20:00+00:00",
          "2019-07-26T06:25:00+00:00",
          "2019-07-26T06:30:00+00:00",
          "2019-07-26T06:35:00+00:00",
          "2019-07-26T06:40:00+00:00",
          "2019-07-26T06:45:00+00:00",
          "2019-07-26T06:50:00+00:00",
          "2019-07-26T06:55:00+00:00",
          "2019-07-26T07:00:00+00:00",
          "2019-07-26T07:05:00+00:00",
          "2019-07-26T07:10:00+00:00",
          "2019-07-26T07:15:00+00:00",
          "2019-07-26T07:20:00+00:00",
          "2019-07-26T07:25:00+00:00",
          "2019-07-26T07:30:00+00:00",
          "2019-07-26T07:35:00+00:00",
          "2019-07-26T07:40:00+00:00",
          "2019-07-26T07:45:00+00:00",
          "2019-07-26T07:50:00+00:00",
          "2019-07-26T07:55:00+00:00",
          "2019-07-26T08:00:00+00:00",
          "2019-07-26T08:05:00+00:00",
          "2019-07-26T08:10:00+00:00",
          "2019-07-26T08:15:00+00:00",
          "2019-07-26T08:20:00+00:00",
          "2019-07-26T08:25:00+00:00",
          "2019-07-26T08:30:00+00:00",
          "2019-07-26T08:35:00+00:00",
          "2019-07-26T08:40:00+00:00",
          "2019-07-26T08:45:00+00:00",
          "2019-07-26T08:50:00+00:00",
          "2019-07-26T08:55:00+00:00",
          "2019-07-26T09:00:00+00:00",
          "2019-07-26T09:05:00+00:00",
          "2019-07-26T09:10:00+00:00",
          "2019-07-26T09:15:00+00:00",
          "2019-07-26T09:20:00+00:00",
          "2019-07-26T09:25:00+00:00",
          "2019-07-26T09:30:00+00:00",
          "2019-07-26T09:35:00+00:00",
          "2019-07-26T09:40:00+00:00",
          "2019-07-26T09:45:00+00:00",
          "2019-07-26T09:50:00+00:00",
          "2019-07-26T09:55:00+00:00",
          "2019-07-26T10:00:00+00:00",
          "2019-07-26T10:05:00+00:00",
          "2019-07-26T10:10:00+00:00",
          "2019-07-26T10:15:00+00:00",
          "2019-07-26T10:20:00+00:00",
          "2019-07-26T10:25:00+00:00",
          "2019-07-26T10:30:00+00:00",
          "2019-07-26T10:35:00+00:00",
          "2019-07-26T10:40:00+00:00",
          "2019-07-26T10:45:00+00:00",
          "2019-07-26T10:50:00+00:00",
          "2019-07-26T10:55:00+00:00",
          "2019-07-26T11:00:00+00:00",
          "2019-07-26T11:05:00+00:00",
          "2019-07-26T11:10:00+00:00",
          "2019-07-26T11:15:00+00:00",
          "2019-07-26T11:20:00+00:00",
          "2019-07-26T11:25:00+00:00",
          "2019-07-26T11:30:00+00:00",
          "2019-07-26T11:35:00+00:00",
          "2019-07-26T11:40:00+00:00",
          "2019-07-26T11:45:00+00:00",
          "2019-07-26T11:50:00+00:00",
          "2019-07-26T11:55:00+00:00",
          "2019-07-26T12:00:00+00:00",
          "2019-07-26T12:05:00+00:00",
          "2019-07-26T12:10:00+00:00",
          "2019-07-26T12:15:00+00:00",
          "2019-07-26T12:20:00+00:00",
          "2019-07-26T12:25:00+00:00",
          "2019-07-26T12:30:00+00:00",
          "2019-07-26T12:35:00+00:00",
          "2019-07-26T12:40:00+00:00",
          "2019-07-26T12:45:00+00:00",
          "2019-07-26T12:50:00+00:00",
          "2019-07-26T12:55:00+00:00",
          "2019-07-26T13:00:00+00:00",
          "2019-07-26T13:05:00+00:00",
          "2019-07-26T13:10:00+00:00",
          "2019-07-26T13:15:00+00:00",
          "2019-07-26T13:20:00+00:00",
          "2019-07-26T13:25:00+00:00",
          "2019-07-26T13:30:00+00:00",
          "2019-07-26T13:35:00+00:00",
          "2019-07-26T13:40:00+00:00",
          "2019-07-26T13:45:00+00:00",
          "2019-07-26T13:50:00+00:00",
          "2019-07-26T13:55:00+00:00",
          "2019-07-26T14:00:00+00:00",
          "2019-07-26T14:05:00+00:00",
          "2019-07-26T14:10:00+00:00",
          "2019-07-26T14:15:00+00:00",
          "2019-07-26T14:20:00+00:00",
          "2019-07-26T14:25:00+00:00",
          "2019-07-26T14:30:00+00:00",
          "2019-07-26T14:35:00+00:00",
          "2019-07-26T14:40:00+00:00",
          "2019-07-26T14:45:00+00:00",
          "2019-07-26T14:50:00+00:00",
          "2019-07-26T14:55:00+00:00",
          "2019-07-26T15:00:00+00:00",
          "2019-07-26T15:05:00+00:00",
          "2019-07-26T15:10:00+00:00",
          "2019-07-26T15:13:17+00:00"
         ],
         "y": [
          0.75,
          0.75,
          0.75,
          0.75,
          0.75,
          0.75,
          0.75,
          0.75,
          0.75,
          0.75,
          0.75,
          0.75,
          0.75,
          0.75,
          0.75,
          0.75,
          0.75,
          0.75,
          0.75,
          0.75,
          0.75,
          0.75,
          0.75,
          0.75,
          0.75,
          0.75,
          0.75,
          0.75,
          0.75,
          0.75,
          0.75,
          0.75,
          0.75,
          0.75,
          0.75,
          0.75,
          1.45,
          1.45,
          1.45,
          1.45,
          1.45,
          1.45,
          1.45,
          1.45,
          1.45,
          1.45,
          1.45,
          1.45,
          1.45,
          1.45,
          1.45,
          1.45,
          1.45,
          1.45,
          1.45,
          1.45,
          1.45,
          1.45,
          1.45,
          1.45,
          1.45,
          1.45,
          1.45,
          1.45,
          1.45,
          1.45,
          1.45,
          1.45,
          1.45,
          1.45,
          1.45,
          1.45,
          1.45,
          1.45,
          1.45,
          1.45,
          1.45,
          1.45,
          1.45,
          1.45,
          1.45,
          1.45,
          1.45,
          1.45,
          1.45,
          1.45,
          1.45,
          1.45,
          1.45,
          1.45,
          1.45,
          1.45,
          1.45,
          1.45,
          1.45,
          1.45,
          1.45,
          1.45,
          1.45,
          1.45,
          1.45,
          1.45,
          1.45,
          1.45,
          1.45,
          1.45,
          1.45,
          1.45,
          1.45,
          1.45,
          1.45,
          1.45,
          1.45,
          1.45,
          1.45,
          1.45,
          1.45,
          1.45,
          1.45,
          1.45,
          1.45,
          1.45,
          1.45,
          1.45,
          1.45,
          1.45,
          1.45,
          1.45,
          1.45,
          1.45,
          1.45,
          1.45,
          1.45,
          1.45,
          1.45,
          1.45,
          1.45,
          1.45,
          1.45,
          1.45,
          1.45,
          1.45,
          1.45,
          1.45,
          1.45,
          1.45,
          1.45,
          1.45,
          1.45,
          1.45,
          0.9,
          0.9,
          0.9,
          0.9,
          0.9,
          0.9,
          0.9,
          0.9,
          0.9,
          0.9,
          0.9,
          0.9,
          0.9,
          0.9,
          0.9,
          0.9,
          0.9,
          0.9,
          0.9,
          0.9,
          0.9,
          0.9,
          0.9,
          0.9,
          0.9,
          0.9,
          0.9,
          0.9,
          0.9,
          0.9,
          0.9,
          0.9,
          0.9,
          0.9,
          0.9,
          0.9,
          0.9,
          0.9,
          0.9,
          0.9,
          0.9,
          0.9,
          0.9,
          0.9,
          0.9,
          0.9,
          0.9,
          0.9,
          0.9,
          0.9,
          0.9,
          0.9,
          0.9,
          0.9,
          0.9,
          0.9,
          0.9,
          0.9,
          0.9,
          0.9,
          0.9,
          0.9,
          0.9,
          0.9,
          0.9,
          0.9,
          0.9,
          0.9,
          0.9,
          0.9,
          0.9,
          0.9,
          0.9,
          0.9,
          0.9,
          0.9,
          0.9,
          0.9,
          0.9,
          0.9,
          0.9,
          0.9,
          0.9,
          0.9,
          0.9,
          0.9,
          0.9,
          0.9,
          0.9,
          0.9,
          0.9,
          0.9,
          0.9,
          0.9,
          0.9,
          0.9,
          0.9,
          0.9,
          0.9,
          0.9,
          0.9,
          0.9,
          0.9,
          0.9,
          0.9,
          0.9,
          0.9,
          0.9,
          0.9,
          0.9,
          0.9,
          0.9,
          0.9,
          0.9,
          0.9,
          0.9,
          0.9,
          0.9,
          0.9,
          0.9,
          0.9,
          0.9,
          0.9,
          0.9,
          0.9,
          0.9,
          0.9,
          0.9,
          0.9,
          0.9,
          0.9,
          0.9,
          0.9,
          0.9,
          0.9,
          0.9,
          0.9,
          0.9,
          0.75,
          0.75,
          0.75,
          0.75,
          0.75,
          0.75,
          0.75,
          0.75,
          0.75,
          0.75,
          0.75,
          0.75,
          0.75,
          0.75,
          0.75,
          0.75,
          0.75,
          0.75,
          0.75,
          0.75,
          0.75,
          0.75,
          0.75,
          0.75,
          0.75,
          0.75,
          0.75,
          0.75,
          0.75,
          0.75,
          0.75,
          0.75,
          0.75,
          0.75,
          0.75,
          0.75,
          1.45,
          1.45,
          1.45,
          1.45,
          1.45,
          1.45,
          1.45,
          1.45,
          1.45,
          1.45,
          1.45,
          1.45,
          1.45,
          1.45,
          1.45,
          1.45,
          1.45,
          1.45,
          1.45,
          1.45,
          1.45,
          1.45,
          1.45,
          1.45,
          1.45,
          1.45,
          1.45,
          1.45,
          1.45,
          1.45,
          1.45,
          1.45,
          1.45,
          1.45,
          1.45,
          1.45,
          1.45,
          1.45,
          1.45,
          1.45,
          1.45,
          1.45,
          1.45,
          1.45,
          1.45,
          1.45,
          1.45,
          1.45,
          1.45,
          1.45,
          1.45,
          1.45,
          1.45,
          1.45,
          1.45,
          1.45,
          1.45,
          1.45,
          1.45,
          1.45,
          1.45,
          1.45,
          1.45,
          1.45,
          1.45,
          1.45,
          1.45,
          1.45,
          1.45,
          1.45,
          1.45,
          1.45,
          1.45,
          1.45,
          1.45,
          1.45,
          1.45,
          1.45,
          1.45,
          1.45,
          1.45,
          1.45,
          1.45,
          1.45,
          1.45,
          1.45,
          1.45,
          1.45,
          1.45,
          1.45,
          1.45,
          1.45,
          1.45,
          1.45,
          1.45,
          1.45,
          1.45,
          1.45,
          1.45,
          1.45,
          1.45,
          1.45,
          1.45,
          1.45,
          1.45,
          1.45,
          1.45,
          1.45,
          1.45,
          1.45,
          1.45,
          1.45,
          1.45,
          1.45,
          0.9,
          0.9,
          0.9,
          0.9,
          0.9,
          0.9,
          0.9,
          0.9,
          0.9,
          0.9,
          0.9,
          0.9,
          0.9,
          0.9,
          0.9,
          0.9,
          0.9,
          0.9,
          0.9,
          0.9,
          0.9,
          0.9,
          0.9,
          0.9,
          0.9,
          0.9,
          0.9,
          0.9,
          0.9,
          0.9,
          0.9,
          0.9,
          0.9,
          0.9,
          0.9,
          0.9,
          0.9,
          0.9,
          0.9,
          0.9,
          0.9,
          0.9,
          0.9,
          0.9,
          0.9,
          0.9,
          0.9,
          0.9,
          0.9,
          0.9,
          0.9,
          0.9,
          0.9,
          0.9,
          0.9,
          0.9,
          0.9,
          0.9,
          0.9,
          0.9,
          0.9,
          0.9,
          0.9,
          0.9,
          0.9,
          0.9,
          0.9,
          0.9,
          0.9,
          0.9
         ],
         "yaxis": "y"
        },
        {
         "fill": "tozeroy",
         "hoverinfo": "y+name",
         "line": {
          "color": "#5ac6fa",
          "dash": "dot",
          "shape": "vh"
         },
         "mode": "lines",
         "name": "temp basal set",
         "type": "scatter",
         "x": [
          "2019-07-26T15:13:17+00:00",
          "2019-07-26T15:43:17+00:00"
         ],
         "y": [
          1.2,
          1.2
         ],
         "yaxis": "y"
        },
        {
         "hoverinfo": "y+name",
         "marker": {
          "color": "cornflowerblue"
         },
         "name": "bolus",
         "opacity": 0.5,
         "type": "bar",
         "width": 1200000,
         "x": [
          "2019-07-26T15:13:11+00:00"
         ],
         "y": [
          3
         ],
         "yaxis": "y"
        },
        {
         "hoverinfo": "name",
         "marker": {
          "color": "gold",
          "size": 25
         },
         "mode": "markers+text",
         "name": "carbs",
         "text": [
          40
         ],
         "textposition": "middle center",
         "type": "scatter",
         "x": [
          "2019-07-26T15:13:01+00:00"
         ],
         "y": [
          3.8333333333333335
         ],
         "yaxis": "y"
        },
        {
         "hoverinfo": "y+name",
         "marker": {
          "color": "#5ac6fa"
         },
         "name": "bolus recommended",
         "type": "bar",
         "width": 120000,
         "x": [
          "2019-07-26T15:13:17+00:00"
         ],
         "y": [
          0.15
         ],
         "yaxis": "y"
        },
        {
         "hoverinfo": "y+name",
         "hoverlabel": {
          "bgcolor": [
           "mediumaquamarine",
           "mediumaquamarine",
           "mediumaquamarine",
           "mediumaquamarine",
           "mediumaquamarine",
           "mediumaquamarine",
           "mediumaquamarine",
           "mediumaquamarine",
           "mediumaquamarine",
           "mediumaquamarine",
           "mediumaquamarine",
           "mediumaquamarine",
           "mediumaquamarine",
           "mediumaquamarine",
           "mediumaquamarine",
           "mediumaquamarine",
           "mediumaquamarine",
           "mediumaquamarine",
           "mediumaquamarine",
           "mediumaquamarine",
           "mediumaquamarine",
           "mediumaquamarine",
           "mediumaquamarine",
           "mediumaquamarine",
           "mediumaquamarine",
           "mediumaquamarine",
           "mediumaquamarine",
           "mediumaquamarine",
           "mediumaquamarine",
           "mediumaquamarine",
           "mediumaquamarine",
           "mediumaquamarine",
           "mediumaquamarine",
           "mediumaquamarine",
           "mediumaquamarine",
           "mediumaquamarine",
           "mediumaquamarine",
           "mediumaquamarine",
           "mediumaquamarine",
           "mediumaquamarine",
           "mediumaquamarine",
           "mediumaquamarine",
           "mediumaquamarine",
           "mediumaquamarine",
           "mediumaquamarine",
           "mediumaquamarine",
           "mediumaquamarine",
           "mediumaquamarine",
           "mediumaquamarine",
           "mediumaquamarine",
           "mediumaquamarine",
           "mediumaquamarine",
           "mediumaquamarine",
           "mediumaquamarine",
           "mediumaquamarine",
           "mediumaquamarine",
           "mediumaquamarine",
           "mediumaquamarine",
           "mediumaquamarine",
           "mediumaquamarine",
           "mediumaquamarine",
           "mediumaquamarine",
           "mediumaquamarine",
           "mediumaquamarine",
           "mediumaquamarine",
           "mediumaquamarine",
           "mediumaquamarine",
           "mediumaquamarine",
           "mediumaquamarine",
           "mediumaquamarine",
           "mediumaquamarine",
           "mediumaquamarine",
           "mediumaquamarine",
           "mediumaquamarine",
           "mediumaquamarine",
           "mediumaquamarine",
           "mediumaquamarine",
           "mediumaquamarine",
           "mediumaquamarine",
           "mediumaquamarine",
           "mediumaquamarine",
           "mediumaquamarine",
           "mediumaquamarine",
           "mediumaquamarine",
           "mediumaquamarine",
           "mediumaquamarine",
           "mediumaquamarine",
           "mediumaquamarine",
           "mediumaquamarine",
           "mediumaquamarine",
           "mediumaquamarine",
           "mediumaquamarine",
           "mediumaquamarine",
           "mediumaquamarine",
           "mediumaquamarine",
           "mediumaquamarine",
           "mediumaquamarine",
           "mediumaquamarine",
           "mediumaquamarine",
           "mediumaquamarine",
           "mediumaquamarine",
           "mediumaquamarine",
           "mediumaquamarine",
           "mediumaquamarine",
           "mediumaquamarine",
           "mediumaquamarine",
           "mediumaquamarine",
           "mediumaquamarine",
           "mediumaquamarine",
           "mediumaquamarine",
           "mediumaquamarine",
           "mediumaquamarine",
           "mediumaquamarine",
           "mediumaquamarine",
           "mediumaquamarine",
           "mediumaquamarine",
           "mediumaquamarine",
           "mediumaquamarine",
           "mediumaquamarine",
           "mediumaquamarine",
           "mediumaquamarine",
           "mediumaquamarine",
           "mediumaquamarine",
           "mediumaquamarine",
           "mediumaquamarine",
           "mediumaquamarine",
           "mediumaquamarine",
           "mediumaquamarine",
           "mediumaquamarine",
           "mediumaquamarine",
           "mediumaquamarine",
           "mediumaquamarine",
           "mediumaquamarine",
           "mediumaquamarine",
           "mediumaquamarine",
           "mediumaquamarine",
           "mediumaquamarine",
           "mediumaquamarine",
           "mediumaquamarine",
           "mediumaquamarine",
           "mediumaquamarine",
           "mediumaquamarine",
           "mediumaquamarine",
           "mediumaquamarine",
           "mediumaquamarine",
           "mediumaquamarine",
           "mediumaquamarine",
           "mediumaquamarine",
           "mediumaquamarine",
           "mediumaquamarine",
           "mediumaquamarine",
           "mediumaquamarine",
           "mediumaquamarine",
           "mediumaquamarine",
           "mediumaquamarine",
           "mediumaquamarine",
           "mediumaquamarine",
           "mediumaquamarine",
           "mediumaquamarine",
           "mediumaquamarine",
           "mediumaquamarine",
           "mediumaquamarine",
           "mediumaquamarine",
           "mediumaquamarine",
           "mediumaquamarine",
           "mediumaquamarine",
           "mediumaquamarine",
           "mediumaquamarine",
           "mediumaquamarine",
           "mediumaquamarine",
           "mediumaquamarine",
           "mediumaquamarine",
           "mediumaquamarine",
           "mediumaquamarine",
           "mediumaquamarine",
           "mediumaquamarine",
           "mediumaquamarine",
           "mediumaquamarine",
           "mediumaquamarine",
           "mediumaquamarine",
           "mediumaquamarine",
           "mediumaquamarine",
           "mediumaquamarine",
           "mediumaquamarine",
           "mediumaquamarine",
           "mediumaquamarine",
           "mediumaquamarine",
           "mediumaquamarine",
           "mediumaquamarine",
           "mediumaquamarine",
           "mediumaquamarine",
           "mediumaquamarine",
           "mediumaquamarine",
           "mediumaquamarine",
           "mediumaquamarine",
           "mediumaquamarine",
           "mediumaquamarine",
           "mediumaquamarine",
           "mediumaquamarine",
           "mediumaquamarine",
           "mediumaquamarine",
           "mediumaquamarine",
           "mediumaquamarine",
           "mediumaquamarine",
           "mediumaquamarine",
           "mediumaquamarine",
           "mediumaquamarine",
           "mediumaquamarine",
           "mediumaquamarine",
           "mediumaquamarine",
           "mediumaquamarine",
           "mediumaquamarine",
           "mediumaquamarine",
           "mediumaquamarine",
           "mediumaquamarine",
           "mediumaquamarine",
           "mediumaquamarine",
           "mediumaquamarine",
           "mediumaquamarine",
           "mediumaquamarine",
           "mediumaquamarine",
           "mediumaquamarine",
           "mediumaquamarine",
           "mediumaquamarine",
           "mediumaquamarine",
           "mediumaquamarine",
           "mediumaquamarine",
           "mediumaquamarine",
           "mediumaquamarine",
           "mediumaquamarine",
           "mediumaquamarine",
           "mediumaquamarine",
           "mediumaquamarine",
           "mediumaquamarine",
           "mediumaquamarine",
           "mediumaquamarine",
           "mediumaquamarine",
           "mediumaquamarine",
           "mediumaquamarine",
           "mediumaquamarine",
           "mediumaquamarine",
           "mediumaquamarine",
           "mediumaquamarine",
           "mediumaquamarine",
           "mediumaquamarine",
           "mediumaquamarine",
           "mediumaquamarine",
           "mediumaquamarine",
           "mediumaquamarine",
           "mediumaquamarine",
           "mediumaquamarine",
           "mediumaquamarine",
           "mediumaquamarine",
           "mediumaquamarine",
           "mediumaquamarine",
           "mediumaquamarine",
           "mediumaquamarine",
           "mediumaquamarine",
           "mediumaquamarine",
           "mediumaquamarine",
           "mediumaquamarine",
           "mediumaquamarine",
           "mediumaquamarine",
           "mediumaquamarine",
           "mediumaquamarine",
           "mediumaquamarine",
           "mediumaquamarine"
          ]
         },
         "marker": {
          "color": [
           "mediumaquamarine",
           "mediumaquamarine",
           "mediumaquamarine",
           "mediumaquamarine",
           "mediumaquamarine",
           "mediumaquamarine",
           "mediumaquamarine",
           "mediumaquamarine",
           "mediumaquamarine",
           "mediumaquamarine",
           "mediumaquamarine",
           "mediumaquamarine",
           "mediumaquamarine",
           "mediumaquamarine",
           "mediumaquamarine",
           "mediumaquamarine",
           "mediumaquamarine",
           "mediumaquamarine",
           "mediumaquamarine",
           "mediumaquamarine",
           "mediumaquamarine",
           "mediumaquamarine",
           "mediumaquamarine",
           "mediumaquamarine",
           "mediumaquamarine",
           "mediumaquamarine",
           "mediumaquamarine",
           "mediumaquamarine",
           "mediumaquamarine",
           "mediumaquamarine",
           "mediumaquamarine",
           "mediumaquamarine",
           "mediumaquamarine",
           "mediumaquamarine",
           "mediumaquamarine",
           "mediumaquamarine",
           "mediumaquamarine",
           "mediumaquamarine",
           "mediumaquamarine",
           "mediumaquamarine",
           "mediumaquamarine",
           "mediumaquamarine",
           "mediumaquamarine",
           "mediumaquamarine",
           "mediumaquamarine",
           "mediumaquamarine",
           "mediumaquamarine",
           "mediumaquamarine",
           "mediumaquamarine",
           "mediumaquamarine",
           "mediumaquamarine",
           "mediumaquamarine",
           "mediumaquamarine",
           "mediumaquamarine",
           "mediumaquamarine",
           "mediumaquamarine",
           "mediumaquamarine",
           "mediumaquamarine",
           "mediumaquamarine",
           "mediumaquamarine",
           "mediumaquamarine",
           "mediumaquamarine",
           "mediumaquamarine",
           "mediumaquamarine",
           "mediumaquamarine",
           "mediumaquamarine",
           "mediumaquamarine",
           "mediumaquamarine",
           "mediumaquamarine",
           "mediumaquamarine",
           "mediumaquamarine",
           "mediumaquamarine",
           "mediumaquamarine",
           "mediumaquamarine",
           "mediumaquamarine",
           "mediumaquamarine",
           "mediumaquamarine",
           "mediumaquamarine",
           "mediumaquamarine",
           "mediumaquamarine",
           "mediumaquamarine",
           "mediumaquamarine",
           "mediumaquamarine",
           "mediumaquamarine",
           "mediumaquamarine",
           "mediumaquamarine",
           "mediumaquamarine",
           "mediumaquamarine",
           "mediumaquamarine",
           "mediumaquamarine",
           "mediumaquamarine",
           "mediumaquamarine",
           "mediumaquamarine",
           "mediumaquamarine",
           "mediumaquamarine",
           "mediumaquamarine",
           "mediumaquamarine",
           "mediumaquamarine",
           "mediumaquamarine",
           "mediumaquamarine",
           "mediumaquamarine",
           "mediumaquamarine",
           "mediumaquamarine",
           "mediumaquamarine",
           "mediumaquamarine",
           "mediumaquamarine",
           "mediumaquamarine",
           "mediumaquamarine",
           "mediumaquamarine",
           "mediumaquamarine",
           "mediumaquamarine",
           "mediumaquamarine",
           "mediumaquamarine",
           "mediumaquamarine",
           "mediumaquamarine",
           "mediumaquamarine",
           "mediumaquamarine",
           "mediumaquamarine",
           "mediumaquamarine",
           "mediumaquamarine",
           "mediumaquamarine",
           "mediumaquamarine",
           "mediumaquamarine",
           "mediumaquamarine",
           "mediumaquamarine",
           "mediumaquamarine",
           "mediumaquamarine",
           "mediumaquamarine",
           "mediumaquamarine",
           "mediumaquamarine",
           "mediumaquamarine",
           "mediumaquamarine",
           "mediumaquamarine",
           "mediumaquamarine",
           "mediumaquamarine",
           "mediumaquamarine",
           "mediumaquamarine",
           "mediumaquamarine",
           "mediumaquamarine",
           "mediumaquamarine",
           "mediumaquamarine",
           "mediumaquamarine",
           "mediumaquamarine",
           "mediumaquamarine",
           "mediumaquamarine",
           "mediumaquamarine",
           "mediumaquamarine",
           "mediumaquamarine",
           "mediumaquamarine",
           "mediumaquamarine",
           "mediumaquamarine",
           "mediumaquamarine",
           "mediumaquamarine",
           "mediumaquamarine",
           "mediumaquamarine",
           "mediumaquamarine",
           "mediumaquamarine",
           "mediumaquamarine",
           "mediumaquamarine",
           "mediumaquamarine",
           "mediumaquamarine",
           "mediumaquamarine",
           "mediumaquamarine",
           "mediumaquamarine",
           "mediumaquamarine",
           "mediumaquamarine",
           "mediumaquamarine",
           "mediumaquamarine",
           "mediumaquamarine",
           "mediumaquamarine",
           "mediumaquamarine",
           "mediumaquamarine",
           "mediumaquamarine",
           "mediumaquamarine",
           "mediumaquamarine",
           "mediumaquamarine",
           "mediumaquamarine",
           "mediumaquamarine",
           "mediumaquamarine",
           "mediumaquamarine",
           "mediumaquamarine",
           "mediumaquamarine",
           "mediumaquamarine",
           "mediumaquamarine",
           "mediumaquamarine",
           "mediumaquamarine",
           "mediumaquamarine",
           "mediumaquamarine",
           "mediumaquamarine",
           "mediumaquamarine",
           "mediumaquamarine",
           "mediumaquamarine",
           "mediumaquamarine",
           "mediumaquamarine",
           "mediumaquamarine",
           "mediumaquamarine",
           "mediumaquamarine",
           "mediumaquamarine",
           "mediumaquamarine",
           "mediumaquamarine",
           "mediumaquamarine",
           "mediumaquamarine",
           "mediumaquamarine",
           "mediumaquamarine",
           "mediumaquamarine",
           "mediumaquamarine",
           "mediumaquamarine",
           "mediumaquamarine",
           "mediumaquamarine",
           "mediumaquamarine",
           "mediumaquamarine",
           "mediumaquamarine",
           "mediumaquamarine",
           "mediumaquamarine",
           "mediumaquamarine",
           "mediumaquamarine",
           "mediumaquamarine",
           "mediumaquamarine",
           "mediumaquamarine",
           "mediumaquamarine",
           "mediumaquamarine",
           "mediumaquamarine",
           "mediumaquamarine",
           "mediumaquamarine",
           "mediumaquamarine",
           "mediumaquamarine",
           "mediumaquamarine",
           "mediumaquamarine",
           "mediumaquamarine",
           "mediumaquamarine",
           "mediumaquamarine",
           "mediumaquamarine",
           "mediumaquamarine",
           "mediumaquamarine",
           "mediumaquamarine",
           "mediumaquamarine",
           "mediumaquamarine",
           "mediumaquamarine",
           "mediumaquamarine",
           "mediumaquamarine",
           "mediumaquamarine",
           "mediumaquamarine",
           "mediumaquamarine",
           "mediumaquamarine",
           "mediumaquamarine",
           "mediumaquamarine",
           "mediumaquamarine",
           "mediumaquamarine",
           "mediumaquamarine",
           "mediumaquamarine",
           "mediumaquamarine",
           "mediumaquamarine",
           "mediumaquamarine",
           "mediumaquamarine",
           "mediumaquamarine",
           "mediumaquamarine",
           "mediumaquamarine",
           "mediumaquamarine",
           "mediumaquamarine",
           "mediumaquamarine",
           "mediumaquamarine",
           "mediumaquamarine",
           "mediumaquamarine",
           "mediumaquamarine",
           "mediumaquamarine",
           "mediumaquamarine",
           "mediumaquamarine"
          ],
          "line": {
           "width": 0
          },
          "size": 6
         },
         "mode": "markers",
         "name": "cgm",
         "type": "scattergl",
         "x": [
          "2019-07-25T16:12:46+00:00",
          "2019-07-25T16:17:46+00:00",
          "2019-07-25T16:22:46+00:00",
          "2019-07-25T16:27:46+00:00",
          "2019-07-25T16:32:46+00:00",
          "2019-07-25T16:37:46+00:00",
          "2019-07-25T16:42:46+00:00",
          "2019-07-25T16:47:46+00:00",
          "2019-07-25T16:52:46+00:00",
          "2019-07-25T16:57:46+00:00",
          "2019-07-25T17:02:46+00:00",
          "2019-07-25T17:07:46+00:00",
          "2019-07-25T17:12:46+00:00",
          "2019-07-25T17:17:46+00:00",
          "2019-07-25T17:22:46+00:00",
          "2019-07-25T17:27:46+00:00",
          "2019-07-25T17:32:46+00:00",
          "2019-07-25T17:37:46+00:00",
          "2019-07-25T17:42:46+00:00",
          "2019-07-25T17:47:46+00:00",
          "2019-07-25T17:52:46+00:00",
          "2019-07-25T17:57:46+00:00",
          "2019-07-25T18:02:46+00:00",
          "2019-07-25T18:07:46+00:00",
          "2019-07-25T18:12:46+00:00",
          "2019-07-25T18:17:46+00:00",
          "2019-07-25T18:22:46+00:00",
          "2019-07-25T18:27:46+00:00",
          "2019-07-25T18:32:46+00:00",
          "2019-07-25T18:37:46+00:00",
          "2019-07-25T18:42:46+00:00",
          "2019-07-25T18:47:46+00:00",
          "2019-07-25T18:52:46+00:00",
          "2019-07-25T18:57:46+00:00",
          "2019-07-25T19:02:46+00:00",
          "2019-07-25T19:07:46+00:00",
          "2019-07-25T19:12:46+00:00",
          "2019-07-25T19:17:46+00:00",
          "2019-07-25T19:22:46+00:00",
          "2019-07-25T19:27:46+00:00",
          "2019-07-25T19:32:46+00:00",
          "2019-07-25T19:37:46+00:00",
          "2019-07-25T19:42:46+00:00",
          "2019-07-25T19:47:46+00:00",
          "2019-07-25T19:52:46+00:00",
          "2019-07-25T19:57:46+00:00",
          "2019-07-25T20:02:46+00:00",
          "2019-07-25T20:07:46+00:00",
          "2019-07-25T20:12:46+00:00",
          "2019-07-25T20:17:46+00:00",
          "2019-07-25T20:22:46+00:00",
          "2019-07-25T20:27:46+00:00",
          "2019-07-25T20:32:46+00:00",
          "2019-07-25T20:37:46+00:00",
          "2019-07-25T20:42:46+00:00",
          "2019-07-25T20:47:46+00:00",
          "2019-07-25T20:52:46+00:00",
          "2019-07-25T20:57:46+00:00",
          "2019-07-25T21:02:46+00:00",
          "2019-07-25T21:07:46+00:00",
          "2019-07-25T21:12:46+00:00",
          "2019-07-25T21:17:46+00:00",
          "2019-07-25T21:27:46+00:00",
          "2019-07-25T21:32:46+00:00",
          "2019-07-25T21:37:46+00:00",
          "2019-07-25T21:42:46+00:00",
          "2019-07-25T21:47:46+00:00",
          "2019-07-25T21:52:46+00:00",
          "2019-07-25T21:57:46+00:00",
          "2019-07-25T22:02:46+00:00",
          "2019-07-25T22:07:46+00:00",
          "2019-07-25T22:12:46+00:00",
          "2019-07-25T22:17:46+00:00",
          "2019-07-25T22:27:46+00:00",
          "2019-07-25T22:32:46+00:00",
          "2019-07-25T22:37:46+00:00",
          "2019-07-25T22:42:46+00:00",
          "2019-07-25T22:47:46+00:00",
          "2019-07-25T22:52:46+00:00",
          "2019-07-25T22:57:46+00:00",
          "2019-07-25T23:02:46+00:00",
          "2019-07-25T23:07:46+00:00",
          "2019-07-25T23:17:46+00:00",
          "2019-07-25T23:22:46+00:00",
          "2019-07-25T23:27:46+00:00",
          "2019-07-25T23:32:46+00:00",
          "2019-07-25T23:37:46+00:00",
          "2019-07-25T23:42:46+00:00",
          "2019-07-25T23:47:46+00:00",
          "2019-07-25T23:52:46+00:00",
          "2019-07-25T23:57:46+00:00",
          "2019-07-26T00:02:46+00:00",
          "2019-07-26T00:07:46+00:00",
          "2019-07-26T00:12:46+00:00",
          "2019-07-26T00:17:46+00:00",
          "2019-07-26T00:22:46+00:00",
          "2019-07-26T00:27:46+00:00",
          "2019-07-26T00:37:46+00:00",
          "2019-07-26T00:42:46+00:00",
          "2019-07-26T00:47:46+00:00",
          "2019-07-26T00:52:46+00:00",
          "2019-07-26T00:57:46+00:00",
          "2019-07-26T01:02:46+00:00",
          "2019-07-26T01:07:46+00:00",
          "2019-07-26T01:12:46+00:00",
          "2019-07-26T01:17:46+00:00",
          "2019-07-26T01:22:46+00:00",
          "2019-07-26T01:27:46+00:00",
          "2019-07-26T01:32:46+00:00",
          "2019-07-26T01:37:46+00:00",
          "2019-07-26T01:42:46+00:00",
          "2019-07-26T01:47:46+00:00",
          "2019-07-26T01:52:46+00:00",
          "2019-07-26T01:57:46+00:00",
          "2019-07-26T02:02:46+00:00",
          "2019-07-26T02:07:46+00:00",
          "2019-07-26T02:12:46+00:00",
          "2019-07-26T02:17:46+00:00",
          "2019-07-26T02:22:46+00:00",
          "2019-07-26T02:27:46+00:00",
          "2019-07-26T02:32:46+00:00",
          "2019-07-26T02:37:46+00:00",
          "2019-07-26T02:42:46+00:00",
          "2019-07-26T02:47:46+00:00",
          "2019-07-26T02:52:46+00:00",
          "2019-07-26T02:57:46+00:00",
          "2019-07-26T03:02:46+00:00",
          "2019-07-26T03:07:46+00:00",
          "2019-07-26T03:12:46+00:00",
          "2019-07-26T03:17:46+00:00",
          "2019-07-26T03:22:46+00:00",
          "2019-07-26T03:27:46+00:00",
          "2019-07-26T03:32:46+00:00",
          "2019-07-26T03:37:46+00:00",
          "2019-07-26T03:42:46+00:00",
          "2019-07-26T03:47:46+00:00",
          "2019-07-26T03:52:46+00:00",
          "2019-07-26T03:57:46+00:00",
          "2019-07-26T04:02:46+00:00",
          "2019-07-26T04:07:46+00:00",
          "2019-07-26T04:12:46+00:00",
          "2019-07-26T04:17:46+00:00",
          "2019-07-26T04:22:46+00:00",
          "2019-07-26T04:27:46+00:00",
          "2019-07-26T04:32:46+00:00",
          "2019-07-26T04:37:46+00:00",
          "2019-07-26T04:42:46+00:00",
          "2019-07-26T04:47:46+00:00",
          "2019-07-26T04:52:46+00:00",
          "2019-07-26T04:57:46+00:00",
          "2019-07-26T05:02:46+00:00",
          "2019-07-26T05:07:46+00:00",
          "2019-07-26T05:12:46+00:00",
          "2019-07-26T05:17:46+00:00",
          "2019-07-26T05:22:46+00:00",
          "2019-07-26T05:27:46+00:00",
          "2019-07-26T05:32:46+00:00",
          "2019-07-26T05:37:46+00:00",
          "2019-07-26T05:42:46+00:00",
          "2019-07-26T05:47:46+00:00",
          "2019-07-26T05:52:46+00:00",
          "2019-07-26T05:57:46+00:00",
          "2019-07-26T06:02:46+00:00",
          "2019-07-26T06:07:46+00:00",
          "2019-07-26T06:12:46+00:00",
          "2019-07-26T06:17:46+00:00",
          "2019-07-26T06:22:46+00:00",
          "2019-07-26T06:27:46+00:00",
          "2019-07-26T06:32:46+00:00",
          "2019-07-26T06:37:46+00:00",
          "2019-07-26T06:42:46+00:00",
          "2019-07-26T06:47:46+00:00",
          "2019-07-26T06:52:46+00:00",
          "2019-07-26T06:57:46+00:00",
          "2019-07-26T07:02:46+00:00",
          "2019-07-26T07:07:46+00:00",
          "2019-07-26T07:17:46+00:00",
          "2019-07-26T07:22:46+00:00",
          "2019-07-26T07:27:46+00:00",
          "2019-07-26T07:32:46+00:00",
          "2019-07-26T07:37:46+00:00",
          "2019-07-26T07:42:46+00:00",
          "2019-07-26T07:47:46+00:00",
          "2019-07-26T07:52:46+00:00",
          "2019-07-26T07:57:46+00:00",
          "2019-07-26T08:02:46+00:00",
          "2019-07-26T08:07:46+00:00",
          "2019-07-26T08:12:46+00:00",
          "2019-07-26T08:22:46+00:00",
          "2019-07-26T08:32:46+00:00",
          "2019-07-26T08:37:46+00:00",
          "2019-07-26T08:42:46+00:00",
          "2019-07-26T08:47:46+00:00",
          "2019-07-26T08:52:46+00:00",
          "2019-07-26T08:57:46+00:00",
          "2019-07-26T09:02:46+00:00",
          "2019-07-26T09:07:46+00:00",
          "2019-07-26T09:12:46+00:00",
          "2019-07-26T09:17:46+00:00",
          "2019-07-26T09:22:46+00:00",
          "2019-07-26T09:27:46+00:00",
          "2019-07-26T09:32:46+00:00",
          "2019-07-26T09:37:46+00:00",
          "2019-07-26T09:42:46+00:00",
          "2019-07-26T09:47:46+00:00",
          "2019-07-26T09:52:46+00:00",
          "2019-07-26T09:57:46+00:00",
          "2019-07-26T10:02:46+00:00",
          "2019-07-26T10:07:46+00:00",
          "2019-07-26T10:12:46+00:00",
          "2019-07-26T10:17:46+00:00",
          "2019-07-26T10:22:46+00:00",
          "2019-07-26T10:27:46+00:00",
          "2019-07-26T10:32:46+00:00",
          "2019-07-26T10:37:46+00:00",
          "2019-07-26T10:42:46+00:00",
          "2019-07-26T10:47:46+00:00",
          "2019-07-26T10:52:46+00:00",
          "2019-07-26T11:02:46+00:00",
          "2019-07-26T11:07:46+00:00",
          "2019-07-26T11:12:46+00:00",
          "2019-07-26T11:17:46+00:00",
          "2019-07-26T11:22:46+00:00",
          "2019-07-26T11:27:46+00:00",
          "2019-07-26T11:32:46+00:00",
          "2019-07-26T11:42:46+00:00",
          "2019-07-26T11:47:46+00:00",
          "2019-07-26T11:52:46+00:00",
          "2019-07-26T11:57:46+00:00",
          "2019-07-26T12:02:46+00:00",
          "2019-07-26T12:07:46+00:00",
          "2019-07-26T12:12:46+00:00",
          "2019-07-26T12:17:46+00:00",
          "2019-07-26T12:22:46+00:00",
          "2019-07-26T12:27:46+00:00",
          "2019-07-26T12:32:46+00:00",
          "2019-07-26T12:37:46+00:00",
          "2019-07-26T12:42:46+00:00",
          "2019-07-26T12:47:46+00:00",
          "2019-07-26T12:52:46+00:00",
          "2019-07-26T12:57:46+00:00",
          "2019-07-26T13:02:46+00:00",
          "2019-07-26T13:07:46+00:00",
          "2019-07-26T13:12:46+00:00",
          "2019-07-26T13:17:46+00:00",
          "2019-07-26T13:22:46+00:00",
          "2019-07-26T13:27:46+00:00",
          "2019-07-26T13:32:46+00:00",
          "2019-07-26T13:37:46+00:00",
          "2019-07-26T13:42:46+00:00",
          "2019-07-26T13:47:46+00:00",
          "2019-07-26T13:52:46+00:00",
          "2019-07-26T14:02:46+00:00",
          "2019-07-26T14:07:46+00:00",
          "2019-07-26T14:12:46+00:00",
          "2019-07-26T14:17:46+00:00",
          "2019-07-26T14:22:46+00:00",
          "2019-07-26T14:27:46+00:00",
          "2019-07-26T14:32:46+00:00",
          "2019-07-26T14:37:46+00:00",
          "2019-07-26T14:42:46+00:00",
          "2019-07-26T14:47:46+00:00",
          "2019-07-26T14:52:46+00:00",
          "2019-07-26T14:57:46+00:00",
          "2019-07-26T15:02:46+00:00",
          "2019-07-26T15:07:46+00:00",
          "2019-07-26T15:12:46+00:00"
         ],
         "y": [
          167.566,
          163.652,
          167.946,
          172.881,
          171.076,
          170.151,
          166.688,
          172.115,
          173.963,
          170.667,
          164.468,
          163.089,
          171.643,
          167.193,
          161.512,
          161.135,
          163.35,
          156.961,
          159.502,
          160.789,
          152.023,
          159.48,
          151.599,
          151.344,
          149.563,
          150.161,
          145.305,
          143.629,
          142.146,
          137.398,
          143.46,
          141.097,
          135.426,
          131.104,
          138.409,
          130.823,
          133.313,
          133.449,
          134.108,
          134.733,
          135.073,
          126.458,
          127.202,
          133.241,
          132.021,
          130.302,
          129.657,
          136.853,
          128.434,
          132.322,
          130.75,
          139.515,
          134.101,
          136.061,
          137.246,
          139.577,
          143.936,
          140.338,
          148.367,
          148.861,
          148.992,
          154.657,
          160.387,
          155.594,
          159.328,
          158.985,
          163.361,
          167.809,
          161.837,
          166.119,
          162.786,
          165.696,
          171.629,
          168.607,
          174.311,
          170.368,
          168.636,
          174.886,
          168.902,
          170.788,
          173.239,
          164.547,
          166.736,
          161.479,
          166.182,
          165.876,
          161.587,
          163.263,
          158.573,
          158.603,
          159.833,
          153.695,
          149.252,
          147.69,
          145.765,
          142.682,
          149.362,
          136.534,
          146.928,
          138.378,
          140.627,
          138.626,
          131.064,
          133.099,
          130.005,
          129.793,
          130.687,
          127.631,
          128.377,
          129.795,
          126.689,
          133.929,
          129.669,
          130.752,
          129.762,
          132.242,
          136.861,
          134.72,
          137.601,
          134.317,
          141.902,
          138.119,
          141.119,
          138.729,
          143.022,
          141.245,
          144.101,
          144.661,
          152.612,
          149.7,
          156.423,
          154.557,
          157.065,
          162.283,
          163.47,
          157.465,
          159.279,
          161.204,
          166.619,
          165.086,
          165.785,
          172.608,
          171.221,
          168.168,
          171.027,
          167.458,
          173.837,
          167.565,
          164.834,
          173.266,
          169.951,
          172.927,
          165.772,
          167.194,
          166.933,
          164.01,
          163.655,
          159.955,
          158.469,
          159.95,
          160.038,
          151.425,
          154.451,
          152.113,
          153.638,
          149.997,
          141.215,
          142.654,
          147.253,
          137.056,
          138.146,
          137.971,
          133.515,
          131.956,
          139.256,
          138.244,
          136.203,
          131.834,
          130.319,
          134.166,
          127.989,
          126.877,
          137.9,
          134.87,
          127.58,
          134.316,
          134.966,
          129.92,
          135.127,
          133.805,
          141.022,
          143.45,
          140.854,
          142.059,
          140.864,
          147.877,
          146.81,
          147.764,
          153.712,
          152.399,
          158.311,
          154.515,
          154.98,
          161.152,
          164.922,
          162.116,
          165.064,
          167.306,
          172.166,
          168.182,
          163.381,
          172.067,
          171.106,
          169.759,
          174.435,
          172.012,
          172.56,
          169.774,
          170.554,
          171.62,
          171.662,
          158.654,
          168.066,
          159.489,
          165.321,
          163.137,
          153.326,
          159.809,
          153.797,
          156.9,
          148.938,
          147.484,
          148.945,
          143.919,
          142.492,
          145.309,
          138.783,
          143.897,
          136.412,
          139.515,
          136.686,
          130.935,
          137.846,
          130.119,
          131.209,
          127.391,
          131.171,
          133.203,
          132.964,
          125.394,
          126.578,
          127.162,
          127.237,
          136.697,
          128.675,
          135.39,
          136.488,
          138.63,
          138.762,
          142.521,
          143.365,
          144.025,
          145.58,
          146.192,
          147.372,
          145.342,
          152.968
         ],
         "yaxis": "y2"
        },
        {
         "hoverinfo": "y+name",
         "line": {
          "color": "#5ac6fa",
          "dash": "dash"
         },
         "mode": "lines",
         "name": "predicted bg",
         "type": "scattergl",
         "x": [
          "2019-07-26T15:12:46+00:00",
          "2019-07-26T15:15:00+00:00",
          "2019-07-26T15:20:00+00:00",
          "2019-07-26T15:25:00+00:00",
          "2019-07-26T15:30:00+00:00",
          "2019-07-26T15:35:00+00:00",
          "2019-07-26T15:40:00+00:00",
          "2019-07-26T15:45:00+00:00",
          "2019-07-26T15:50:00+00:00",
          "2019-07-26T15:55:00+00:00",
          "2019-07-26T16:00:00+00:00",
          "2019-07-26T16:05:00+00:00",
          "2019-07-26T16:10:00+00:00",
          "2019-07-26T16:15:00+00:00",
          "2019-07-26T16:20:00+00:00",
          "2019-07-26T16:25:00+00:00",
          "2019-07-26T16:30:00+00:00",
          "2019-07-26T16:35:00+00:00",
          "2019-07-26T16:40:00+00:00",
          "2019-07-26T16:45:00+00:00",
          "2019-07-26T16:50:00+00:00",
          "2019-07-26T16:55:00+00:00",
          "2019-07-26T17:00:00+00:00",
          "2019-07-26T17:05:00+00:00",
          "2019-07-26T17:10:00+00:00",
          "2019-07-26T17:15:00+00:00",
          "2019-07-26T17:20:00+00:00",
          "2019-07-26T17:25:00+00:00",
          "2019-07-26T17:30:00+00:00",
          "2019-07-26T17:35:00+00:00",
          "2019-07-26T17:40:00+00:00",
          "2019-07-26T17:45:00+00:00",
          "2019-07-26T17:50:00+00:00",
          "2019-07-26T17:55:00+00:00",
          "2019-07-26T18:00:00+00:00",
          "2019-07-26T18:05:00+00:00",
          "2019-07-26T18:10:00+00:00",
          "2019-07-26T18:15:00+00:00",
          "2019-07-26T18:20:00+00:00",
          "2019-07-26T18:25:00+00:00",
          "2019-07-26T18:30:00+00:00",
          "2019-07-26T18:35:00+00:00",
          "2019-07-26T18:40:00+00:00",
          "2019-07-26T18:45:00+00:00",
          "2019-07-26T18:50:00+00:00",
          "2019-07-26T18:55:00+00:00",
          "2019-07-26T19:00:00+00:00",
          "2019-07-26T19:05:00+00:00",
          "2019-07-26T19:10:00+00:00",
          "2019-07-26T19:15:00+00:00",
          "2019-07-26T19:20:00+00:00",
          "2019-07-26T19:25:00+00:00",
          "2019-07-26T19:30:00+00:00",
          "2019-07-26T19:35:00+00:00",
          "2019-07-26T19:40:00+00:00",
          "2019-07-26T19:45:00+00:00",
          "2019-07-26T19:50:00+00:00",
          "2019-07-26T19:55:00+00:00",
          "2019-07-26T20:00:00+00:00",
          "2019-07-26T20:05:00+00:00",
          "2019-07-26T20:10:00+00:00",
          "2019-07-26T20:15:00+00:00",
          "2019-07-26T20:20:00+00:00",
          "2019-07-26T20:25:00+00:00",
          "2019-07-26T20:30:00+00:00",
          "2019-07-26T20:35:00+00:00",
          "2019-07-26T20:40:00+00:00",
          "2019-07-26T20:45:00+00:00",
          "2019-07-26T20:50:00+00:00",
          "2019-07-26T20:55:00+00:00",
          "2019-07-26T21:00:00+00:00",
          "2019-07-26T21:05:00+00:00",
          "2019-07-26T21:10:00+00:00",
          "2019-07-26T21:15:00+00:00",
          "2019-07-26T21:20:00+00:00",
          "2019-07-26T21:25:00+00:00",
          "2019-07-26T21:30:00+00:00",
          "2019-07-26T21:35:00+00:00",
          "2019-07-26T21:40:00+00:00",
          "2019-07-26T21:45:00+00:00",
          "2019-07-26T21:50:00+00:00",
          "2019-07-26T21:55:00+00:00",
          "2019-07-26T22:00:00+00:00",
          "2019-07-26T22:05:00+00:00",
          "2019-07-26T22:10:00+00:00",
          "2019-07-26T22:15:00+00:00"
         ],
         "y": [
          152.968,
          154.21777333333333,
          157.08169251028804,
          160.05074233444438,
          162.31919114360272,
          163.3629213271723,
          163.46580485434572,
          162.77474038220265,
          161.42097081592016,
          159.52150959309748,
          157.18044806566974,
          154.490153332797,
          151.53236517208092,
          148.37920006209603,
          145.09406968283474,
          141.73252071881947,
          138.34300226914812,
          134.96756668663375,
          131.64250922172408,
          128.3989514334744,
          125.2633729471136,
          122.25809578347678,
          119.40172515771106,
          116.70955034129382,
          114.19390890074241,
          111.86451736680348,
          109.72877114784218,
          107.79201627919247,
          106.0577953950476,
          104.52807011983958,
          103.20342190083741,
          102.08323314182479,
          101.16585034821489,
          100.44873085591084,
          99.92857458878177,
          99.60144217199885,
          99.46286061994806,
          99.507917717319,
          99.73134611963738,
          100.127598114384,
          100.69091190537677,
          101.41537021079523,
          102.29495189862203,
          103.3235773219449,
          104.49514796009703,
          105.80358091964894,
          107.24283880146041,
          108.8069553960301,
          110.49005762896343,
          112.28638414122906,
          114.19030085475126,
          116.19631384254836,
          118.2990797938632,
          120.49341433834138,
          122.77429846910911,
          125.13688328241687,
          127.5764932311867,
          130.0886280711855,
          132.66896366150814,
          135.31335176546733,
          138.01781898373596,
          140.7785649385675,
          143.59195981602923,
          146.45454136233158,
          149.36301142044286,
          152.31423208416197,
          155.30522153860798,
          158.333149648618,
          161.3953333497503,
          164.48923189042281,
          167.61244196811649,
          170.76269279750167,
          173.93784114374654,
          175.85037252295245,
          175.82863081728485,
          175.8248917413816,
          175.8248917413816,
          175.8248917413816,
          175.8248917413816,
          175.8248917413816,
          175.8248917413816,
          175.8248917413816,
          175.8248917413816,
          175.8248917413816,
          175.8248917413816,
          175.8248917413816
         ],
         "yaxis": "y2"
        },
        {
         "hoverinfo": "y+name",
         "line": {
          "color": "#eb5905",
          "dash": "dash"
         },
         "mode": "lines",
         "name": "momentum effect",
         "type": "scattergl",
         "x": [
          "2019-07-26T15:12:46+00:00",
          "2019-07-26T15:15:00+00:00",
          "2019-07-26T15:20:00+00:00",
          "2019-07-26T15:25:00+00:00",
          "2019-07-26T15:30:00+00:00"
         ],
         "y": [
          152.968,
          154.21777333333333,
          156.5991822222222,
          158.04792444444442,
          158.56399999999996
         ],
         "yaxis": "y2"
        },
        {
         "hoverinfo": "y+name",
         "line": {
          "color": "#f29741",
          "dash": "dash"
         },
         "mode": "lines",
         "name": "insulin effect",
         "type": "scattergl",
         "x": [
          "2019-07-26T15:12:46+00:00",
          "2019-07-26T15:15:00+00:00",
          "2019-07-26T15:20:00+00:00",
          "2019-07-26T15:25:00+00:00",
          "2019-07-26T15:30:00+00:00",
          "2019-07-26T15:35:00+00:00",
          "2019-07-26T15:40:00+00:00",
          "2019-07-26T15:45:00+00:00",
          "2019-07-26T15:50:00+00:00",
          "2019-07-26T15:55:00+00:00",
          "2019-07-26T16:00:00+00:00",
          "2019-07-26T16:05:00+00:00",
          "2019-07-26T16:10:00+00:00",
          "2019-07-26T16:15:00+00:00",
          "2019-07-26T16:20:00+00:00",
          "2019-07-26T16:25:00+00:00",
          "2019-07-26T16:30:00+00:00",
          "2019-07-26T16:35:00+00:00",
          "2019-07-26T16:40:00+00:00",
          "2019-07-26T16:45:00+00:00",
          "2019-07-26T16:50:00+00:00",
          "2019-07-26T16:55:00+00:00",
          "2019-07-26T17:00:00+00:00",
          "2019-07-26T17:05:00+00:00",
          "2019-07-26T17:10:00+00:00",
          "2019-07-26T17:15:00+00:00",
          "2019-07-26T17:20:00+00:00",
          "2019-07-26T17:25:00+00:00",
          "2019-07-26T17:30:00+00:00",
          "2019-07-26T17:35:00+00:00",
          "2019-07-26T17:40:00+00:00",
          "2019-07-26T17:45:00+00:00",
          "2019-07-26T17:50:00+00:00",
          "2019-07-26T17:55:00+00:00",
          "2019-07-26T18:00:00+00:00",
          "2019-07-26T18:05:00+00:00",
          "2019-07-26T18:10:00+00:00",
          "2019-07-26T18:15:00+00:00",
          "2019-07-26T18:20:00+00:00",
          "2019-07-26T18:25:00+00:00",
          "2019-07-26T18:30:00+00:00",
          "2019-07-26T18:35:00+00:00",
          "2019-07-26T18:40:00+00:00",
          "2019-07-26T18:45:00+00:00",
          "2019-07-26T18:50:00+00:00",
          "2019-07-26T18:55:00+00:00",
          "2019-07-26T19:00:00+00:00",
          "2019-07-26T19:05:00+00:00",
          "2019-07-26T19:10:00+00:00",
          "2019-07-26T19:15:00+00:00",
          "2019-07-26T19:20:00+00:00",
          "2019-07-26T19:25:00+00:00",
          "2019-07-26T19:30:00+00:00",
          "2019-07-26T19:35:00+00:00",
          "2019-07-26T19:40:00+00:00",
          "2019-07-26T19:45:00+00:00",
          "2019-07-26T19:50:00+00:00",
          "2019-07-26T19:55:00+00:00",
          "2019-07-26T20:00:00+00:00",
          "2019-07-26T20:05:00+00:00",
          "2019-07-26T20:10:00+00:00",
          "2019-07-26T20:15:00+00:00",
          "2019-07-26T20:20:00+00:00",
          "2019-07-26T20:25:00+00:00",
          "2019-07-26T20:30:00+00:00",
          "2019-07-26T20:35:00+00:00",
          "2019-07-26T20:40:00+00:00",
          "2019-07-26T20:45:00+00:00",
          "2019-07-26T20:50:00+00:00",
          "2019-07-26T20:55:00+00:00",
          "2019-07-26T21:00:00+00:00",
          "2019-07-26T21:05:00+00:00",
          "2019-07-26T21:10:00+00:00",
          "2019-07-26T21:15:00+00:00",
          "2019-07-26T21:20:00+00:00",
          "2019-07-26T21:25:00+00:00",
          "2019-07-26T21:30:00+00:00"
         ],
         "y": [
          152.968,
          152.968,
          152.968,
          152.87997087617336,
          151.78791668617174,
          149.5909061290006,
          146.45304891543327,
          142.52124370254947,
          137.9267333955262,
          132.7865314319628,
          127.20472916379433,
          121.27369369018085,
          115.07516478872402,
          108.6812589379984,
          102.15538781799637,
          95.55309811324037,
          88.92283892282828,
          82.30666259957314,
          75.74086439392276,
          69.25656586493231,
          62.88024663783078,
          56.63422873345321,
          50.53711736694676,
          44.60420180978879,
          38.84781962849665,
          33.27768735381697,
          27.901200394114923,
          22.72370478472449,
          17.748743159838867,
          12.97827714389011,
          8.412888184147207,
          4.051958684393853,
          -0.10616484995681219,
          -4.064025083001596,
          -7.824922090871397,
          -11.392795248395075,
          -14.772117541186603,
          -17.96780118455645,
          -20.98511352297878,
          -23.82960226897289,
          -26.50702921872086,
          -29.023311654043127,
          -31.38447070695709,
          -33.59658602437493,
          -35.665756126963586,
          -37.59806390815238,
          -39.399546767081674,
          -41.07617091325271,
          -42.63380942106012,
          -44.07822364953522,
          -45.41504767675376,
          -46.649775429697414,
          -47.78775021912331,
          -48.83415641538589,
          -49.79401302535892,
          -50.672168952791864,
          -51.4732997447628,
          -52.20190564550474,
          -52.862310795922824,
          -53.4586634327044,
          -53.99493695517653,
          -54.47493174108568,
          -54.9022776043647,
          -55.28043679880311,
          -55.61270748143254,
          -55.902227558454214,
          -56.15197884474891,
          -56.36479147547966,
          -56.543348515088084,
          -56.690190715156334,
          -56.80772137820337,
          -56.898211289558944,
          -56.96380368405481,
          -57.00651921842912,
          -57.02826092409673,
          -57.03199999999997,
          -57.03199999999997
         ],
         "yaxis": "y2"
        },
        {
         "hoverinfo": "y+name",
         "line": {
          "color": "#5FCB49",
          "dash": "dash"
         },
         "mode": "lines",
         "name": "carb effect",
         "type": "scattergl",
         "x": [
          "2019-07-26T15:12:46+00:00",
          "2019-07-26T15:15:00+00:00",
          "2019-07-26T15:20:00+00:00",
          "2019-07-26T15:25:00+00:00",
          "2019-07-26T15:30:00+00:00",
          "2019-07-26T15:35:00+00:00",
          "2019-07-26T15:40:00+00:00",
          "2019-07-26T15:45:00+00:00",
          "2019-07-26T15:50:00+00:00",
          "2019-07-26T15:55:00+00:00",
          "2019-07-26T16:00:00+00:00",
          "2019-07-26T16:05:00+00:00",
          "2019-07-26T16:10:00+00:00",
          "2019-07-26T16:15:00+00:00",
          "2019-07-26T16:20:00+00:00",
          "2019-07-26T16:25:00+00:00",
          "2019-07-26T16:30:00+00:00",
          "2019-07-26T16:35:00+00:00",
          "2019-07-26T16:40:00+00:00",
          "2019-07-26T16:45:00+00:00",
          "2019-07-26T16:50:00+00:00",
          "2019-07-26T16:55:00+00:00",
          "2019-07-26T17:00:00+00:00",
          "2019-07-26T17:05:00+00:00",
          "2019-07-26T17:10:00+00:00",
          "2019-07-26T17:15:00+00:00",
          "2019-07-26T17:20:00+00:00",
          "2019-07-26T17:25:00+00:00",
          "2019-07-26T17:30:00+00:00",
          "2019-07-26T17:35:00+00:00",
          "2019-07-26T17:40:00+00:00",
          "2019-07-26T17:45:00+00:00",
          "2019-07-26T17:50:00+00:00",
          "2019-07-26T17:55:00+00:00",
          "2019-07-26T18:00:00+00:00",
          "2019-07-26T18:05:00+00:00",
          "2019-07-26T18:10:00+00:00",
          "2019-07-26T18:15:00+00:00",
          "2019-07-26T18:20:00+00:00",
          "2019-07-26T18:25:00+00:00",
          "2019-07-26T18:30:00+00:00",
          "2019-07-26T18:35:00+00:00",
          "2019-07-26T18:40:00+00:00",
          "2019-07-26T18:45:00+00:00",
          "2019-07-26T18:50:00+00:00",
          "2019-07-26T18:55:00+00:00",
          "2019-07-26T19:00:00+00:00",
          "2019-07-26T19:05:00+00:00",
          "2019-07-26T19:10:00+00:00",
          "2019-07-26T19:15:00+00:00",
          "2019-07-26T19:20:00+00:00",
          "2019-07-26T19:25:00+00:00",
          "2019-07-26T19:30:00+00:00",
          "2019-07-26T19:35:00+00:00",
          "2019-07-26T19:40:00+00:00",
          "2019-07-26T19:45:00+00:00",
          "2019-07-26T19:50:00+00:00",
          "2019-07-26T19:55:00+00:00",
          "2019-07-26T20:00:00+00:00",
          "2019-07-26T20:05:00+00:00",
          "2019-07-26T20:10:00+00:00",
          "2019-07-26T20:15:00+00:00",
          "2019-07-26T20:20:00+00:00",
          "2019-07-26T20:25:00+00:00",
          "2019-07-26T20:30:00+00:00",
          "2019-07-26T20:35:00+00:00",
          "2019-07-26T20:40:00+00:00",
          "2019-07-26T20:45:00+00:00",
          "2019-07-26T20:50:00+00:00",
          "2019-07-26T20:55:00+00:00",
          "2019-07-26T21:00:00+00:00",
          "2019-07-26T21:05:00+00:00",
          "2019-07-26T21:10:00+00:00",
          "2019-07-26T21:15:00+00:00",
          "2019-07-26T21:20:00+00:00",
          "2019-07-26T21:25:00+00:00",
          "2019-07-26T21:30:00+00:00",
          "2019-07-26T21:35:00+00:00",
          "2019-07-26T21:40:00+00:00",
          "2019-07-26T21:45:00+00:00",
          "2019-07-26T21:50:00+00:00",
          "2019-07-26T21:55:00+00:00",
          "2019-07-26T22:00:00+00:00",
          "2019-07-26T22:05:00+00:00",
          "2019-07-26T22:10:00+00:00",
          "2019-07-26T22:15:00+00:00"
         ],
         "y": [
          152.968,
          154.2534938271605,
          157.49423456790123,
          160.73497530864196,
          163.9757160493827,
          167.21645679012343,
          170.45719753086416,
          173.6979382716049,
          176.93867901234563,
          180.17941975308636,
          183.4201604938271,
          186.66090123456783,
          189.90164197530856,
          193.1423827160493,
          196.38312345679003,
          199.62386419753076,
          202.8646049382715,
          206.10534567901223,
          209.34608641975296,
          212.58682716049373,
          215.82756790123446,
          219.0683086419752,
          222.30904938271593,
          225.54979012345666,
          228.7905308641974,
          232.03127160493813,
          235.2720123456789,
          238.5127530864196,
          241.75349382716036,
          244.99423456790112,
          248.23497530864185,
          251.47571604938258,
          254.71645679012335,
          257.95719753086405,
          261.19793827160476,
          264.4386790123455,
          267.6794197530862,
          270.920160493827,
          274.1609012345677,
          277.4016419753084,
          280.64238271604916,
          283.8831234567899,
          287.1238641975307,
          290.3646049382714,
          293.6053456790122,
          296.8460864197529,
          300.08682716049367,
          303.3275679012344,
          306.56830864197514,
          309.8090493827159,
          313.04979012345666,
          316.2905308641974,
          319.5312716049382,
          322.77201234567895,
          326.0127530864197,
          329.2534938271604,
          332.4942345679012,
          335.7349753086419,
          338.97571604938264,
          342.2164567901234,
          345.45719753086416,
          348.69793827160487,
          351.9386790123456,
          355.17941975308634,
          358.42016049382704,
          361.66090123456786,
          364.90164197530856,
          368.1423827160493,
          371.38312345679003,
          374.6238641975308,
          377.8646049382715,
          381.10534567901226,
          384.34608641975296,
          386.3013333333332,
          386.3013333333332,
          386.3013333333332,
          386.3013333333332,
          386.3013333333332,
          386.3013333333332,
          386.3013333333332,
          386.3013333333332,
          386.3013333333332,
          386.3013333333332,
          386.3013333333332,
          386.3013333333332,
          386.3013333333332
         ],
         "yaxis": "y2"
        },
        {
         "hoverinfo": "y+name",
         "line": {
          "color": "#4253ed",
          "dash": "dash"
         },
         "mode": "lines",
         "name": "rc effect",
         "type": "scattergl",
         "x": [],
         "y": [],
         "yaxis": "y2"
        }
       ],
       "layout": {
        "annotations": [
         {
          "arrowhead": 1,
          "ax": 0,
          "ay": 425,
          "ayref": "y2",
          "showarrow": true,
          "text": "current time",
          "x": "2019-07-26T15:13:17+00:00",
          "xref": "x",
          "y": 162.968,
          "yref": "y2"
         },
         {
          "arrowhead": 1,
          "ax": 0,
          "ay": -2,
          "ayref": "y",
          "showarrow": true,
          "text": "current time",
          "x": "2019-07-26T15:13:17+00:00",
          "xref": "x",
          "y": 0,
          "yref": "y"
         }
        ],
        "autosize": true,
        "dragmode": "pan",
        "hovermode": "x",
        "plot_bgcolor": "white",
        "showlegend": true,
        "template": {
         "data": {
          "bar": [
           {
            "error_x": {
             "color": "#2a3f5f"
            },
            "error_y": {
             "color": "#2a3f5f"
            },
            "marker": {
             "line": {
              "color": "#E5ECF6",
              "width": 0.5
             }
            },
            "type": "bar"
           }
          ],
          "barpolar": [
           {
            "marker": {
             "line": {
              "color": "#E5ECF6",
              "width": 0.5
             }
            },
            "type": "barpolar"
           }
          ],
          "carpet": [
           {
            "aaxis": {
             "endlinecolor": "#2a3f5f",
             "gridcolor": "white",
             "linecolor": "white",
             "minorgridcolor": "white",
             "startlinecolor": "#2a3f5f"
            },
            "baxis": {
             "endlinecolor": "#2a3f5f",
             "gridcolor": "white",
             "linecolor": "white",
             "minorgridcolor": "white",
             "startlinecolor": "#2a3f5f"
            },
            "type": "carpet"
           }
          ],
          "choropleth": [
           {
            "colorbar": {
             "outlinewidth": 0,
             "ticks": ""
            },
            "type": "choropleth"
           }
          ],
          "contour": [
           {
            "colorbar": {
             "outlinewidth": 0,
             "ticks": ""
            },
            "colorscale": [
             [
              0,
              "#0d0887"
             ],
             [
              0.1111111111111111,
              "#46039f"
             ],
             [
              0.2222222222222222,
              "#7201a8"
             ],
             [
              0.3333333333333333,
              "#9c179e"
             ],
             [
              0.4444444444444444,
              "#bd3786"
             ],
             [
              0.5555555555555556,
              "#d8576b"
             ],
             [
              0.6666666666666666,
              "#ed7953"
             ],
             [
              0.7777777777777778,
              "#fb9f3a"
             ],
             [
              0.8888888888888888,
              "#fdca26"
             ],
             [
              1,
              "#f0f921"
             ]
            ],
            "type": "contour"
           }
          ],
          "contourcarpet": [
           {
            "colorbar": {
             "outlinewidth": 0,
             "ticks": ""
            },
            "type": "contourcarpet"
           }
          ],
          "heatmap": [
           {
            "colorbar": {
             "outlinewidth": 0,
             "ticks": ""
            },
            "colorscale": [
             [
              0,
              "#0d0887"
             ],
             [
              0.1111111111111111,
              "#46039f"
             ],
             [
              0.2222222222222222,
              "#7201a8"
             ],
             [
              0.3333333333333333,
              "#9c179e"
             ],
             [
              0.4444444444444444,
              "#bd3786"
             ],
             [
              0.5555555555555556,
              "#d8576b"
             ],
             [
              0.6666666666666666,
              "#ed7953"
             ],
             [
              0.7777777777777778,
              "#fb9f3a"
             ],
             [
              0.8888888888888888,
              "#fdca26"
             ],
             [
              1,
              "#f0f921"
             ]
            ],
            "type": "heatmap"
           }
          ],
          "heatmapgl": [
           {
            "colorbar": {
             "outlinewidth": 0,
             "ticks": ""
            },
            "colorscale": [
             [
              0,
              "#0d0887"
             ],
             [
              0.1111111111111111,
              "#46039f"
             ],
             [
              0.2222222222222222,
              "#7201a8"
             ],
             [
              0.3333333333333333,
              "#9c179e"
             ],
             [
              0.4444444444444444,
              "#bd3786"
             ],
             [
              0.5555555555555556,
              "#d8576b"
             ],
             [
              0.6666666666666666,
              "#ed7953"
             ],
             [
              0.7777777777777778,
              "#fb9f3a"
             ],
             [
              0.8888888888888888,
              "#fdca26"
             ],
             [
              1,
              "#f0f921"
             ]
            ],
            "type": "heatmapgl"
           }
          ],
          "histogram": [
           {
            "marker": {
             "colorbar": {
              "outlinewidth": 0,
              "ticks": ""
             }
            },
            "type": "histogram"
           }
          ],
          "histogram2d": [
           {
            "colorbar": {
             "outlinewidth": 0,
             "ticks": ""
            },
            "colorscale": [
             [
              0,
              "#0d0887"
             ],
             [
              0.1111111111111111,
              "#46039f"
             ],
             [
              0.2222222222222222,
              "#7201a8"
             ],
             [
              0.3333333333333333,
              "#9c179e"
             ],
             [
              0.4444444444444444,
              "#bd3786"
             ],
             [
              0.5555555555555556,
              "#d8576b"
             ],
             [
              0.6666666666666666,
              "#ed7953"
             ],
             [
              0.7777777777777778,
              "#fb9f3a"
             ],
             [
              0.8888888888888888,
              "#fdca26"
             ],
             [
              1,
              "#f0f921"
             ]
            ],
            "type": "histogram2d"
           }
          ],
          "histogram2dcontour": [
           {
            "colorbar": {
             "outlinewidth": 0,
             "ticks": ""
            },
            "colorscale": [
             [
              0,
              "#0d0887"
             ],
             [
              0.1111111111111111,
              "#46039f"
             ],
             [
              0.2222222222222222,
              "#7201a8"
             ],
             [
              0.3333333333333333,
              "#9c179e"
             ],
             [
              0.4444444444444444,
              "#bd3786"
             ],
             [
              0.5555555555555556,
              "#d8576b"
             ],
             [
              0.6666666666666666,
              "#ed7953"
             ],
             [
              0.7777777777777778,
              "#fb9f3a"
             ],
             [
              0.8888888888888888,
              "#fdca26"
             ],
             [
              1,
              "#f0f921"
             ]
            ],
            "type": "histogram2dcontour"
           }
          ],
          "mesh3d": [
           {
            "colorbar": {
             "outlinewidth": 0,
             "ticks": ""
            },
            "type": "mesh3d"
           }
          ],
          "parcoords": [
           {
            "line": {
             "colorbar": {
              "outlinewidth": 0,
              "ticks": ""
             }
            },
            "type": "parcoords"
           }
          ],
          "scatter": [
           {
            "marker": {
             "colorbar": {
              "outlinewidth": 0,
              "ticks": ""
             }
            },
            "type": "scatter"
           }
          ],
          "scatter3d": [
           {
            "line": {
             "colorbar": {
              "outlinewidth": 0,
              "ticks": ""
             }
            },
            "marker": {
             "colorbar": {
              "outlinewidth": 0,
              "ticks": ""
             }
            },
            "type": "scatter3d"
           }
          ],
          "scattercarpet": [
           {
            "marker": {
             "colorbar": {
              "outlinewidth": 0,
              "ticks": ""
             }
            },
            "type": "scattercarpet"
           }
          ],
          "scattergeo": [
           {
            "marker": {
             "colorbar": {
              "outlinewidth": 0,
              "ticks": ""
             }
            },
            "type": "scattergeo"
           }
          ],
          "scattergl": [
           {
            "marker": {
             "colorbar": {
              "outlinewidth": 0,
              "ticks": ""
             }
            },
            "type": "scattergl"
           }
          ],
          "scattermapbox": [
           {
            "marker": {
             "colorbar": {
              "outlinewidth": 0,
              "ticks": ""
             }
            },
            "type": "scattermapbox"
           }
          ],
          "scatterpolar": [
           {
            "marker": {
             "colorbar": {
              "outlinewidth": 0,
              "ticks": ""
             }
            },
            "type": "scatterpolar"
           }
          ],
          "scatterpolargl": [
           {
            "marker": {
             "colorbar": {
              "outlinewidth": 0,
              "ticks": ""
             }
            },
            "type": "scatterpolargl"
           }
          ],
          "scatterternary": [
           {
            "marker": {
             "colorbar": {
              "outlinewidth": 0,
              "ticks": ""
             }
            },
            "type": "scatterternary"
           }
          ],
          "surface": [
           {
            "colorbar": {
             "outlinewidth": 0,
             "ticks": ""
            },
            "colorscale": [
             [
              0,
              "#0d0887"
             ],
             [
              0.1111111111111111,
              "#46039f"
             ],
             [
              0.2222222222222222,
              "#7201a8"
             ],
             [
              0.3333333333333333,
              "#9c179e"
             ],
             [
              0.4444444444444444,
              "#bd3786"
             ],
             [
              0.5555555555555556,
              "#d8576b"
             ],
             [
              0.6666666666666666,
              "#ed7953"
             ],
             [
              0.7777777777777778,
              "#fb9f3a"
             ],
             [
              0.8888888888888888,
              "#fdca26"
             ],
             [
              1,
              "#f0f921"
             ]
            ],
            "type": "surface"
           }
          ],
          "table": [
           {
            "cells": {
             "fill": {
              "color": "#EBF0F8"
             },
             "line": {
              "color": "white"
             }
            },
            "header": {
             "fill": {
              "color": "#C8D4E3"
             },
             "line": {
              "color": "white"
             }
            },
            "type": "table"
           }
          ]
         },
         "layout": {
          "annotationdefaults": {
           "arrowcolor": "#2a3f5f",
           "arrowhead": 0,
           "arrowwidth": 1
          },
          "colorscale": {
           "diverging": [
            [
             0,
             "#8e0152"
            ],
            [
             0.1,
             "#c51b7d"
            ],
            [
             0.2,
             "#de77ae"
            ],
            [
             0.3,
             "#f1b6da"
            ],
            [
             0.4,
             "#fde0ef"
            ],
            [
             0.5,
             "#f7f7f7"
            ],
            [
             0.6,
             "#e6f5d0"
            ],
            [
             0.7,
             "#b8e186"
            ],
            [
             0.8,
             "#7fbc41"
            ],
            [
             0.9,
             "#4d9221"
            ],
            [
             1,
             "#276419"
            ]
           ],
           "sequential": [
            [
             0,
             "#0d0887"
            ],
            [
             0.1111111111111111,
             "#46039f"
            ],
            [
             0.2222222222222222,
             "#7201a8"
            ],
            [
             0.3333333333333333,
             "#9c179e"
            ],
            [
             0.4444444444444444,
             "#bd3786"
            ],
            [
             0.5555555555555556,
             "#d8576b"
            ],
            [
             0.6666666666666666,
             "#ed7953"
            ],
            [
             0.7777777777777778,
             "#fb9f3a"
            ],
            [
             0.8888888888888888,
             "#fdca26"
            ],
            [
             1,
             "#f0f921"
            ]
           ],
           "sequentialminus": [
            [
             0,
             "#0d0887"
            ],
            [
             0.1111111111111111,
             "#46039f"
            ],
            [
             0.2222222222222222,
             "#7201a8"
            ],
            [
             0.3333333333333333,
             "#9c179e"
            ],
            [
             0.4444444444444444,
             "#bd3786"
            ],
            [
             0.5555555555555556,
             "#d8576b"
            ],
            [
             0.6666666666666666,
             "#ed7953"
            ],
            [
             0.7777777777777778,
             "#fb9f3a"
            ],
            [
             0.8888888888888888,
             "#fdca26"
            ],
            [
             1,
             "#f0f921"
            ]
           ]
          },
          "colorway": [
           "#636efa",
           "#EF553B",
           "#00cc96",
           "#ab63fa",
           "#FFA15A",
           "#19d3f3",
           "#FF6692",
           "#B6E880",
           "#FF97FF",
           "#FECB52"
          ],
          "font": {
           "color": "#2a3f5f"
          },
          "geo": {
           "bgcolor": "white",
           "lakecolor": "white",
           "landcolor": "#E5ECF6",
           "showlakes": true,
           "showland": true,
           "subunitcolor": "white"
          },
          "hoverlabel": {
           "align": "left"
          },
          "hovermode": "closest",
          "mapbox": {
           "style": "light"
          },
          "paper_bgcolor": "white",
          "plot_bgcolor": "#E5ECF6",
          "polar": {
           "angularaxis": {
            "gridcolor": "white",
            "linecolor": "white",
            "ticks": ""
           },
           "bgcolor": "#E5ECF6",
           "radialaxis": {
            "gridcolor": "white",
            "linecolor": "white",
            "ticks": ""
           }
          },
          "scene": {
           "xaxis": {
            "backgroundcolor": "#E5ECF6",
            "gridcolor": "white",
            "gridwidth": 2,
            "linecolor": "white",
            "showbackground": true,
            "ticks": "",
            "zerolinecolor": "white"
           },
           "yaxis": {
            "backgroundcolor": "#E5ECF6",
            "gridcolor": "white",
            "gridwidth": 2,
            "linecolor": "white",
            "showbackground": true,
            "ticks": "",
            "zerolinecolor": "white"
           },
           "zaxis": {
            "backgroundcolor": "#E5ECF6",
            "gridcolor": "white",
            "gridwidth": 2,
            "linecolor": "white",
            "showbackground": true,
            "ticks": "",
            "zerolinecolor": "white"
           }
          },
          "shapedefaults": {
           "line": {
            "color": "#2a3f5f"
           }
          },
          "ternary": {
           "aaxis": {
            "gridcolor": "white",
            "linecolor": "white",
            "ticks": ""
           },
           "baxis": {
            "gridcolor": "white",
            "linecolor": "white",
            "ticks": ""
           },
           "bgcolor": "#E5ECF6",
           "caxis": {
            "gridcolor": "white",
            "linecolor": "white",
            "ticks": ""
           }
          },
          "title": {
           "x": 0.05
          },
          "xaxis": {
           "automargin": true,
           "gridcolor": "white",
           "linecolor": "white",
           "ticks": "",
           "zerolinecolor": "white",
           "zerolinewidth": 2
          },
          "yaxis": {
           "automargin": true,
           "gridcolor": "white",
           "linecolor": "white",
           "ticks": "",
           "zerolinecolor": "white",
           "zerolinewidth": 2
          }
         }
        },
        "xaxis": {
         "gridcolor": "#c0c0c0",
         "range": [
          "2019-07-26T09:13:17+00:00",
          "2019-07-26T21:13:17+00:00"
         ],
         "showgrid": true,
         "type": "date"
        },
        "yaxis": {
         "domain": [
          0,
          0.3
         ],
         "fixedrange": true,
         "gridcolor": "#c0c0c0",
         "hoverformat": ".2f",
         "range": [
          0,
          6.333333333333334
         ],
         "showgrid": true,
         "title": {
          "font": {
           "size": 12
          },
          "text": "Insulin (U, U/hr)"
         },
         "type": "linear"
        },
        "yaxis2": {
         "domain": [
          0.4,
          1
         ],
         "fixedrange": true,
         "gridcolor": "#c0c0c0",
         "hoverformat": ".0f",
         "range": [
          0,
          400
         ],
         "showgrid": true,
         "tickvals": [
          -100,
          40,
          70,
          180,
          250,
          400
         ],
         "title": {
          "font": {
           "size": 12
          },
          "text": "Blood Glucose (mg/dL)"
         },
         "type": "linear",
         "zeroline": false
        }
       }
      },
      "image/png": "[encoded data removed]",
      "text/html": [
       "<div>\n",
       "        \n",
       "        \n",
       "            <div id=\"703f33b2-1bcf-4338-9958-794355bd8a58\" class=\"plotly-graph-div\" style=\"height:525px; width:100%;\"></div>\n",
       "            <script type=\"text/javascript\">\n",
       "                require([\"plotly\"], function(Plotly) {\n",
       "                    window.PLOTLYENV=window.PLOTLYENV || {};\n",
       "                    \n",
       "                if (document.getElementById(\"703f33b2-1bcf-4338-9958-794355bd8a58\")) {\n",
       "                    Plotly.newPlot(\n",
       "                        '703f33b2-1bcf-4338-9958-794355bd8a58',\n",
       "                        [{\"fill\": \"tonexty\", \"hoverinfo\": \"y+name\", \"line\": {\"color\": \"cornflowerblue\", \"shape\": \"vh\"}, \"mode\": \"lines\", \"name\": \"delivered\", \"type\": \"scatter\", \"x\": [\"2019-07-24T21:00:00+00:00\", \"2019-07-24T21:05:00+00:00\", \"2019-07-24T21:10:00+00:00\", \"2019-07-24T21:15:00+00:00\", \"2019-07-24T21:20:00+00:00\", \"2019-07-24T21:25:00+00:00\", \"2019-07-24T21:30:00+00:00\", \"2019-07-24T21:35:00+00:00\", \"2019-07-24T21:40:00+00:00\", \"2019-07-24T21:45:00+00:00\", \"2019-07-24T21:50:00+00:00\", \"2019-07-24T21:55:00+00:00\", \"2019-07-24T22:00:00+00:00\", \"2019-07-24T22:05:00+00:00\", \"2019-07-24T22:10:00+00:00\", \"2019-07-24T22:15:00+00:00\", \"2019-07-24T22:20:00+00:00\", \"2019-07-24T22:25:00+00:00\", \"2019-07-24T22:30:00+00:00\", \"2019-07-24T22:35:00+00:00\", \"2019-07-24T22:40:00+00:00\", \"2019-07-24T22:45:00+00:00\", \"2019-07-24T22:50:00+00:00\", \"2019-07-24T22:55:00+00:00\", \"2019-07-24T23:00:00+00:00\", \"2019-07-24T23:05:00+00:00\", \"2019-07-24T23:10:00+00:00\", \"2019-07-24T23:15:00+00:00\", \"2019-07-24T23:20:00+00:00\", \"2019-07-24T23:25:00+00:00\", \"2019-07-24T23:30:00+00:00\", \"2019-07-24T23:35:00+00:00\", \"2019-07-24T23:40:00+00:00\", \"2019-07-24T23:45:00+00:00\", \"2019-07-24T23:50:00+00:00\", \"2019-07-24T23:55:00+00:00\", \"2019-07-25T00:00:00+00:00\", \"2019-07-25T00:05:00+00:00\", \"2019-07-25T00:10:00+00:00\", \"2019-07-25T00:15:00+00:00\", \"2019-07-25T00:20:00+00:00\", \"2019-07-25T00:25:00+00:00\", \"2019-07-25T00:30:00+00:00\", \"2019-07-25T00:35:00+00:00\", \"2019-07-25T00:40:00+00:00\", \"2019-07-25T00:45:00+00:00\", \"2019-07-25T00:50:00+00:00\", \"2019-07-25T00:55:00+00:00\", \"2019-07-25T01:00:00+00:00\", \"2019-07-25T01:05:00+00:00\", \"2019-07-25T01:10:00+00:00\", \"2019-07-25T01:15:00+00:00\", \"2019-07-25T01:20:00+00:00\", \"2019-07-25T01:25:00+00:00\", \"2019-07-25T01:30:00+00:00\", \"2019-07-25T01:35:00+00:00\", \"2019-07-25T01:40:00+00:00\", \"2019-07-25T01:45:00+00:00\", \"2019-07-25T01:50:00+00:00\", \"2019-07-25T01:55:00+00:00\", \"2019-07-25T02:00:00+00:00\", \"2019-07-25T02:05:00+00:00\", \"2019-07-25T02:10:00+00:00\", \"2019-07-25T02:15:00+00:00\", \"2019-07-25T02:20:00+00:00\", \"2019-07-25T02:25:00+00:00\", \"2019-07-25T02:30:00+00:00\", \"2019-07-25T02:35:00+00:00\", \"2019-07-25T02:40:00+00:00\", \"2019-07-25T02:45:00+00:00\", \"2019-07-25T02:50:00+00:00\", \"2019-07-25T02:55:00+00:00\", \"2019-07-25T03:00:00+00:00\", \"2019-07-25T03:05:00+00:00\", \"2019-07-25T03:10:00+00:00\", \"2019-07-25T03:15:00+00:00\", \"2019-07-25T03:20:00+00:00\", \"2019-07-25T03:25:00+00:00\", \"2019-07-25T03:30:00+00:00\", \"2019-07-25T03:35:00+00:00\", \"2019-07-25T03:40:00+00:00\", \"2019-07-25T03:45:00+00:00\", \"2019-07-25T03:50:00+00:00\", \"2019-07-25T03:55:00+00:00\", \"2019-07-25T04:00:00+00:00\", \"2019-07-25T04:05:00+00:00\", \"2019-07-25T04:10:00+00:00\", \"2019-07-25T04:15:00+00:00\", \"2019-07-25T04:20:00+00:00\", \"2019-07-25T04:25:00+00:00\", \"2019-07-25T04:30:00+00:00\", \"2019-07-25T04:35:00+00:00\", \"2019-07-25T04:40:00+00:00\", \"2019-07-25T04:45:00+00:00\", \"2019-07-25T04:50:00+00:00\", \"2019-07-25T04:55:00+00:00\", \"2019-07-25T05:00:00+00:00\", \"2019-07-25T05:05:00+00:00\", \"2019-07-25T05:10:00+00:00\", \"2019-07-25T05:15:00+00:00\", \"2019-07-25T05:20:00+00:00\", \"2019-07-25T05:25:00+00:00\", \"2019-07-25T05:30:00+00:00\", \"2019-07-25T05:35:00+00:00\", \"2019-07-25T05:40:00+00:00\", \"2019-07-25T05:45:00+00:00\", \"2019-07-25T05:50:00+00:00\", \"2019-07-25T05:55:00+00:00\", \"2019-07-25T06:00:00+00:00\", \"2019-07-25T06:05:00+00:00\", \"2019-07-25T06:10:00+00:00\", \"2019-07-25T06:15:00+00:00\", \"2019-07-25T06:20:00+00:00\", \"2019-07-25T06:25:00+00:00\", \"2019-07-25T06:30:00+00:00\", \"2019-07-25T06:35:00+00:00\", \"2019-07-25T06:40:00+00:00\", \"2019-07-25T06:45:00+00:00\", \"2019-07-25T06:50:00+00:00\", \"2019-07-25T06:55:00+00:00\", \"2019-07-25T07:00:00+00:00\", \"2019-07-25T07:05:00+00:00\", \"2019-07-25T07:10:00+00:00\", \"2019-07-25T07:15:00+00:00\", \"2019-07-25T07:20:00+00:00\", \"2019-07-25T07:25:00+00:00\", \"2019-07-25T07:30:00+00:00\", \"2019-07-25T07:35:00+00:00\", \"2019-07-25T07:40:00+00:00\", \"2019-07-25T07:45:00+00:00\", \"2019-07-25T07:50:00+00:00\", \"2019-07-25T07:55:00+00:00\", \"2019-07-25T08:00:00+00:00\", \"2019-07-25T08:05:00+00:00\", \"2019-07-25T08:10:00+00:00\", \"2019-07-25T08:15:00+00:00\", \"2019-07-25T08:20:00+00:00\", \"2019-07-25T08:25:00+00:00\", \"2019-07-25T08:30:00+00:00\", \"2019-07-25T08:35:00+00:00\", \"2019-07-25T08:40:00+00:00\", \"2019-07-25T08:45:00+00:00\", \"2019-07-25T08:50:00+00:00\", \"2019-07-25T08:55:00+00:00\", \"2019-07-25T09:00:00+00:00\", \"2019-07-25T09:05:00+00:00\", \"2019-07-25T09:10:00+00:00\", \"2019-07-25T09:15:00+00:00\", \"2019-07-25T09:20:00+00:00\", \"2019-07-25T09:25:00+00:00\", \"2019-07-25T09:30:00+00:00\", \"2019-07-25T09:35:00+00:00\", \"2019-07-25T09:40:00+00:00\", \"2019-07-25T09:45:00+00:00\", \"2019-07-25T09:50:00+00:00\", \"2019-07-25T09:55:00+00:00\", \"2019-07-25T10:00:00+00:00\", \"2019-07-25T10:05:00+00:00\", \"2019-07-25T10:10:00+00:00\", \"2019-07-25T10:15:00+00:00\", \"2019-07-25T10:20:00+00:00\", \"2019-07-25T10:25:00+00:00\", \"2019-07-25T10:30:00+00:00\", \"2019-07-25T10:35:00+00:00\", \"2019-07-25T10:40:00+00:00\", \"2019-07-25T10:45:00+00:00\", \"2019-07-25T10:50:00+00:00\", \"2019-07-25T10:55:00+00:00\", \"2019-07-25T11:00:00+00:00\", \"2019-07-25T11:05:00+00:00\", \"2019-07-25T11:10:00+00:00\", \"2019-07-25T11:15:00+00:00\", \"2019-07-25T11:20:00+00:00\", \"2019-07-25T11:25:00+00:00\", \"2019-07-25T11:30:00+00:00\", \"2019-07-25T11:35:00+00:00\", \"2019-07-25T11:40:00+00:00\", \"2019-07-25T11:45:00+00:00\", \"2019-07-25T11:50:00+00:00\", \"2019-07-25T11:55:00+00:00\", \"2019-07-25T12:00:00+00:00\", \"2019-07-25T12:05:00+00:00\", \"2019-07-25T12:10:00+00:00\", \"2019-07-25T12:15:00+00:00\", \"2019-07-25T12:20:00+00:00\", \"2019-07-25T12:25:00+00:00\", \"2019-07-25T12:30:00+00:00\", \"2019-07-25T12:35:00+00:00\", \"2019-07-25T12:40:00+00:00\", \"2019-07-25T12:45:00+00:00\", \"2019-07-25T12:50:00+00:00\", \"2019-07-25T12:55:00+00:00\", \"2019-07-25T13:00:00+00:00\", \"2019-07-25T13:05:00+00:00\", \"2019-07-25T13:10:00+00:00\", \"2019-07-25T13:15:00+00:00\", \"2019-07-25T13:20:00+00:00\", \"2019-07-25T13:25:00+00:00\", \"2019-07-25T13:30:00+00:00\", \"2019-07-25T13:35:00+00:00\", \"2019-07-25T13:40:00+00:00\", \"2019-07-25T13:45:00+00:00\", \"2019-07-25T13:50:00+00:00\", \"2019-07-25T13:55:00+00:00\", \"2019-07-25T14:00:00+00:00\", \"2019-07-25T14:05:00+00:00\", \"2019-07-25T14:10:00+00:00\", \"2019-07-25T14:15:00+00:00\", \"2019-07-25T14:20:00+00:00\", \"2019-07-25T14:25:00+00:00\", \"2019-07-25T14:30:00+00:00\", \"2019-07-25T14:35:00+00:00\", \"2019-07-25T14:40:00+00:00\", \"2019-07-25T14:45:00+00:00\", \"2019-07-25T14:50:00+00:00\", \"2019-07-25T14:55:00+00:00\", \"2019-07-25T15:00:00+00:00\", \"2019-07-25T15:05:00+00:00\", \"2019-07-25T15:10:00+00:00\", \"2019-07-25T15:15:00+00:00\", \"2019-07-25T15:20:00+00:00\", \"2019-07-25T15:25:00+00:00\", \"2019-07-25T15:30:00+00:00\", \"2019-07-25T15:35:00+00:00\", \"2019-07-25T15:40:00+00:00\", \"2019-07-25T15:45:00+00:00\", \"2019-07-25T15:50:00+00:00\", \"2019-07-25T15:55:00+00:00\", \"2019-07-25T16:00:00+00:00\", \"2019-07-25T16:05:00+00:00\", \"2019-07-25T16:10:00+00:00\", \"2019-07-25T16:15:00+00:00\", \"2019-07-25T16:20:00+00:00\", \"2019-07-25T16:25:00+00:00\", \"2019-07-25T16:30:00+00:00\", \"2019-07-25T16:35:00+00:00\", \"2019-07-25T16:40:00+00:00\", \"2019-07-25T16:45:00+00:00\", \"2019-07-25T16:50:00+00:00\", \"2019-07-25T16:55:00+00:00\", \"2019-07-25T17:00:00+00:00\", \"2019-07-25T17:05:00+00:00\", \"2019-07-25T17:10:00+00:00\", \"2019-07-25T17:15:00+00:00\", \"2019-07-25T17:20:00+00:00\", \"2019-07-25T17:25:00+00:00\", \"2019-07-25T17:30:00+00:00\", \"2019-07-25T17:35:00+00:00\", \"2019-07-25T17:40:00+00:00\", \"2019-07-25T17:45:00+00:00\", \"2019-07-25T17:50:00+00:00\", \"2019-07-25T17:55:00+00:00\", \"2019-07-25T18:00:00+00:00\", \"2019-07-25T18:05:00+00:00\", \"2019-07-25T18:10:00+00:00\", \"2019-07-25T18:15:00+00:00\", \"2019-07-25T18:20:00+00:00\", \"2019-07-25T18:25:00+00:00\", \"2019-07-25T18:30:00+00:00\", \"2019-07-25T18:35:00+00:00\", \"2019-07-25T18:40:00+00:00\", \"2019-07-25T18:45:00+00:00\", \"2019-07-25T18:50:00+00:00\", \"2019-07-25T18:55:00+00:00\", \"2019-07-25T19:00:00+00:00\", \"2019-07-25T19:05:00+00:00\", \"2019-07-25T19:10:00+00:00\", \"2019-07-25T19:15:00+00:00\", \"2019-07-25T19:20:00+00:00\", \"2019-07-25T19:25:00+00:00\", \"2019-07-25T19:30:00+00:00\", \"2019-07-25T19:35:00+00:00\", \"2019-07-25T19:40:00+00:00\", \"2019-07-25T19:45:00+00:00\", \"2019-07-25T19:50:00+00:00\", \"2019-07-25T19:55:00+00:00\", \"2019-07-25T20:00:00+00:00\", \"2019-07-25T20:05:00+00:00\", \"2019-07-25T20:10:00+00:00\", \"2019-07-25T20:15:00+00:00\", \"2019-07-25T20:20:00+00:00\", \"2019-07-25T20:25:00+00:00\", \"2019-07-25T20:30:00+00:00\", \"2019-07-25T20:35:00+00:00\", \"2019-07-25T20:40:00+00:00\", \"2019-07-25T20:45:00+00:00\", \"2019-07-25T20:50:00+00:00\", \"2019-07-25T20:55:00+00:00\", \"2019-07-25T21:00:00+00:00\", \"2019-07-25T21:05:00+00:00\", \"2019-07-25T21:10:00+00:00\", \"2019-07-25T21:15:00+00:00\", \"2019-07-25T21:20:00+00:00\", \"2019-07-25T21:25:00+00:00\", \"2019-07-25T21:30:00+00:00\", \"2019-07-25T21:35:00+00:00\", \"2019-07-25T21:40:00+00:00\", \"2019-07-25T21:45:00+00:00\", \"2019-07-25T21:50:00+00:00\", \"2019-07-25T21:55:00+00:00\", \"2019-07-25T22:00:00+00:00\", \"2019-07-25T22:05:00+00:00\", \"2019-07-25T22:10:00+00:00\", \"2019-07-25T22:15:00+00:00\", \"2019-07-25T22:20:00+00:00\", \"2019-07-25T22:25:00+00:00\", \"2019-07-25T22:30:00+00:00\", \"2019-07-25T22:35:00+00:00\", \"2019-07-25T22:40:00+00:00\", \"2019-07-25T22:45:00+00:00\", \"2019-07-25T22:50:00+00:00\", \"2019-07-25T22:55:00+00:00\", \"2019-07-25T23:00:00+00:00\", \"2019-07-25T23:05:00+00:00\", \"2019-07-25T23:10:00+00:00\", \"2019-07-25T23:15:00+00:00\", \"2019-07-25T23:20:00+00:00\", \"2019-07-25T23:25:00+00:00\", \"2019-07-25T23:30:00+00:00\", \"2019-07-25T23:35:00+00:00\", \"2019-07-25T23:40:00+00:00\", \"2019-07-25T23:45:00+00:00\", \"2019-07-25T23:50:00+00:00\", \"2019-07-25T23:55:00+00:00\", \"2019-07-26T00:00:00+00:00\", \"2019-07-26T00:05:00+00:00\", \"2019-07-26T00:10:00+00:00\", \"2019-07-26T00:15:00+00:00\", \"2019-07-26T00:20:00+00:00\", \"2019-07-26T00:25:00+00:00\", \"2019-07-26T00:30:00+00:00\", \"2019-07-26T00:35:00+00:00\", \"2019-07-26T00:40:00+00:00\", \"2019-07-26T00:45:00+00:00\", \"2019-07-26T00:50:00+00:00\", \"2019-07-26T00:55:00+00:00\", \"2019-07-26T01:00:00+00:00\", \"2019-07-26T01:05:00+00:00\", \"2019-07-26T01:10:00+00:00\", \"2019-07-26T01:15:00+00:00\", \"2019-07-26T01:20:00+00:00\", \"2019-07-26T01:25:00+00:00\", \"2019-07-26T01:30:00+00:00\", \"2019-07-26T01:35:00+00:00\", \"2019-07-26T01:40:00+00:00\", \"2019-07-26T01:45:00+00:00\", \"2019-07-26T01:50:00+00:00\", \"2019-07-26T01:55:00+00:00\", \"2019-07-26T02:00:00+00:00\", \"2019-07-26T02:05:00+00:00\", \"2019-07-26T02:10:00+00:00\", \"2019-07-26T02:15:00+00:00\", \"2019-07-26T02:20:00+00:00\", \"2019-07-26T02:25:00+00:00\", \"2019-07-26T02:30:00+00:00\", \"2019-07-26T02:35:00+00:00\", \"2019-07-26T02:40:00+00:00\", \"2019-07-26T02:45:00+00:00\", \"2019-07-26T02:50:00+00:00\", \"2019-07-26T02:55:00+00:00\", \"2019-07-26T03:00:00+00:00\", \"2019-07-26T03:05:00+00:00\", \"2019-07-26T03:10:00+00:00\", \"2019-07-26T03:15:00+00:00\", \"2019-07-26T03:20:00+00:00\", \"2019-07-26T03:25:00+00:00\", \"2019-07-26T03:30:00+00:00\", \"2019-07-26T03:35:00+00:00\", \"2019-07-26T03:40:00+00:00\", \"2019-07-26T03:45:00+00:00\", \"2019-07-26T03:50:00+00:00\", \"2019-07-26T03:55:00+00:00\", \"2019-07-26T04:00:00+00:00\", \"2019-07-26T04:05:00+00:00\", \"2019-07-26T04:10:00+00:00\", \"2019-07-26T04:15:00+00:00\", \"2019-07-26T04:20:00+00:00\", \"2019-07-26T04:25:00+00:00\", \"2019-07-26T04:30:00+00:00\", \"2019-07-26T04:35:00+00:00\", \"2019-07-26T04:40:00+00:00\", \"2019-07-26T04:45:00+00:00\", \"2019-07-26T04:50:00+00:00\", \"2019-07-26T04:55:00+00:00\", \"2019-07-26T05:00:00+00:00\", \"2019-07-26T05:05:00+00:00\", \"2019-07-26T05:10:00+00:00\", \"2019-07-26T05:15:00+00:00\", \"2019-07-26T05:20:00+00:00\", \"2019-07-26T05:25:00+00:00\", \"2019-07-26T05:30:00+00:00\", \"2019-07-26T05:35:00+00:00\", \"2019-07-26T05:40:00+00:00\", \"2019-07-26T05:45:00+00:00\", \"2019-07-26T05:50:00+00:00\", \"2019-07-26T05:55:00+00:00\", \"2019-07-26T06:00:00+00:00\", \"2019-07-26T06:05:00+00:00\", \"2019-07-26T06:10:00+00:00\", \"2019-07-26T06:15:00+00:00\", \"2019-07-26T06:20:00+00:00\", \"2019-07-26T06:25:00+00:00\", \"2019-07-26T06:30:00+00:00\", \"2019-07-26T06:35:00+00:00\", \"2019-07-26T06:40:00+00:00\", \"2019-07-26T06:45:00+00:00\", \"2019-07-26T06:50:00+00:00\", \"2019-07-26T06:55:00+00:00\", \"2019-07-26T07:00:00+00:00\", \"2019-07-26T07:05:00+00:00\", \"2019-07-26T07:10:00+00:00\", \"2019-07-26T07:15:00+00:00\", \"2019-07-26T07:20:00+00:00\", \"2019-07-26T07:25:00+00:00\", \"2019-07-26T07:30:00+00:00\", \"2019-07-26T07:35:00+00:00\", \"2019-07-26T07:40:00+00:00\", \"2019-07-26T07:45:00+00:00\", \"2019-07-26T07:50:00+00:00\", \"2019-07-26T07:55:00+00:00\", \"2019-07-26T08:00:00+00:00\", \"2019-07-26T08:05:00+00:00\", \"2019-07-26T08:10:00+00:00\", \"2019-07-26T08:15:00+00:00\", \"2019-07-26T08:20:00+00:00\", \"2019-07-26T08:25:00+00:00\", \"2019-07-26T08:30:00+00:00\", \"2019-07-26T08:35:00+00:00\", \"2019-07-26T08:40:00+00:00\", \"2019-07-26T08:45:00+00:00\", \"2019-07-26T08:50:00+00:00\", \"2019-07-26T08:55:00+00:00\", \"2019-07-26T09:00:00+00:00\", \"2019-07-26T09:05:00+00:00\", \"2019-07-26T09:10:00+00:00\", \"2019-07-26T09:15:00+00:00\", \"2019-07-26T09:20:00+00:00\", \"2019-07-26T09:25:00+00:00\", \"2019-07-26T09:30:00+00:00\", \"2019-07-26T09:35:00+00:00\", \"2019-07-26T09:40:00+00:00\", \"2019-07-26T09:45:00+00:00\", \"2019-07-26T09:50:00+00:00\", \"2019-07-26T09:55:00+00:00\", \"2019-07-26T10:00:00+00:00\", \"2019-07-26T10:05:00+00:00\", \"2019-07-26T10:10:00+00:00\", \"2019-07-26T10:15:00+00:00\", \"2019-07-26T10:20:00+00:00\", \"2019-07-26T10:25:00+00:00\", \"2019-07-26T10:30:00+00:00\", \"2019-07-26T10:35:00+00:00\", \"2019-07-26T10:40:00+00:00\", \"2019-07-26T10:45:00+00:00\", \"2019-07-26T10:50:00+00:00\", \"2019-07-26T10:55:00+00:00\", \"2019-07-26T11:00:00+00:00\", \"2019-07-26T11:05:00+00:00\", \"2019-07-26T11:10:00+00:00\", \"2019-07-26T11:15:00+00:00\", \"2019-07-26T11:20:00+00:00\", \"2019-07-26T11:25:00+00:00\", \"2019-07-26T11:30:00+00:00\", \"2019-07-26T11:35:00+00:00\", \"2019-07-26T11:40:00+00:00\", \"2019-07-26T11:45:00+00:00\", \"2019-07-26T11:50:00+00:00\", \"2019-07-26T11:55:00+00:00\", \"2019-07-26T12:00:00+00:00\", \"2019-07-26T12:05:00+00:00\", \"2019-07-26T12:10:00+00:00\", \"2019-07-26T12:15:00+00:00\", \"2019-07-26T12:20:00+00:00\", \"2019-07-26T12:25:00+00:00\", \"2019-07-26T12:30:00+00:00\", \"2019-07-26T12:35:00+00:00\", \"2019-07-26T12:40:00+00:00\", \"2019-07-26T12:45:00+00:00\", \"2019-07-26T12:50:00+00:00\", \"2019-07-26T12:55:00+00:00\", \"2019-07-26T13:00:00+00:00\", \"2019-07-26T13:05:00+00:00\", \"2019-07-26T13:10:00+00:00\", \"2019-07-26T13:15:00+00:00\", \"2019-07-26T13:20:00+00:00\", \"2019-07-26T13:25:00+00:00\", \"2019-07-26T13:30:00+00:00\", \"2019-07-26T13:35:00+00:00\", \"2019-07-26T13:40:00+00:00\", \"2019-07-26T13:45:00+00:00\", \"2019-07-26T13:50:00+00:00\", \"2019-07-26T13:55:00+00:00\", \"2019-07-26T14:00:00+00:00\", \"2019-07-26T14:05:00+00:00\", \"2019-07-26T14:10:00+00:00\", \"2019-07-26T14:15:00+00:00\", \"2019-07-26T14:20:00+00:00\", \"2019-07-26T14:25:00+00:00\", \"2019-07-26T14:30:00+00:00\", \"2019-07-26T14:35:00+00:00\", \"2019-07-26T14:40:00+00:00\", \"2019-07-26T14:45:00+00:00\", \"2019-07-26T14:50:00+00:00\", \"2019-07-26T14:55:00+00:00\", \"2019-07-26T15:00:00+00:00\", \"2019-07-26T15:05:00+00:00\", \"2019-07-26T15:10:00+00:00\", \"2019-07-26T15:13:17+00:00\"], \"y\": [0.75, 0.75, 0.75, 0.75, 0.75, 0.75, 0.75, 0.75, 0.75, 0.75, 0.75, 0.75, 0.75, 0.75, 0.75, 0.75, 0.75, 0.75, 0.75, 0.75, 0.75, 0.75, 0.75, 0.75, 0.75, 0.75, 0.75, 0.75, 0.75, 0.75, 0.75, 0.75, 0.75, 0.75, 0.75, 0.75, 1.45, 1.45, 1.45, 1.45, 1.45, 1.45, 1.45, 1.45, 1.45, 1.45, 1.45, 1.45, 1.45, 1.45, 1.45, 1.45, 1.45, 1.45, 1.45, 1.45, 1.45, 1.45, 1.45, 1.45, 1.45, 1.45, 1.45, 1.45, 1.45, 1.45, 1.45, 1.45, 1.45, 1.45, 1.45, 1.45, 1.45, 1.45, 1.45, 1.45, 1.45, 1.45, 1.45, 1.45, 1.45, 1.45, 1.45, 1.45, 1.45, 1.45, 1.45, 1.45, 1.45, 1.45, 1.45, 1.45, 1.45, 1.45, 1.45, 1.45, 1.45, 1.45, 1.45, 1.45, 1.45, 1.45, 1.45, 1.45, 1.45, 1.45, 1.45, 1.45, 1.45, 1.45, 1.45, 1.45, 1.45, 1.45, 1.45, 1.45, 1.45, 1.45, 1.45, 1.45, 1.45, 1.45, 1.45, 1.45, 1.45, 1.45, 1.45, 1.45, 1.45, 1.45, 1.45, 1.45, 1.45, 1.45, 1.45, 1.45, 1.45, 1.45, 1.45, 1.45, 1.45, 1.45, 1.45, 1.45, 1.45, 1.45, 1.45, 1.45, 1.45, 1.45, 0.9, 0.9, 0.9, 0.9, 0.9, 0.9, 0.9, 0.9, 0.9, 0.9, 0.9, 0.9, 0.9, 0.9, 0.9, 0.9, 0.9, 0.9, 0.9, 0.9, 0.9, 0.9, 0.9, 0.9, 0.9, 0.9, 0.9, 0.9, 0.9, 0.9, 0.9, 0.9, 0.9, 0.9, 0.9, 0.9, 0.9, 0.9, 0.9, 0.9, 0.9, 0.9, 0.9, 0.9, 0.9, 0.9, 0.9, 0.9, 0.9, 0.9, 0.9, 0.9, 0.9, 0.9, 0.9, 0.9, 0.9, 0.9, 0.9, 0.9, 0.9, 0.9, 0.9, 0.9, 0.9, 0.9, 0.9, 0.9, 0.9, 0.9, 0.9, 0.9, 0.9, 0.9, 0.9, 0.9, 0.9, 0.9, 0.9, 0.9, 0.9, 0.9, 0.9, 0.9, 0.9, 0.9, 0.9, 0.9, 0.9, 0.9, 0.9, 0.9, 0.9, 0.9, 0.9, 0.9, 0.9, 0.9, 0.9, 0.9, 0.9, 0.9, 0.9, 0.9, 0.9, 0.9, 0.9, 0.9, 0.9, 0.9, 0.9, 0.9, 0.9, 0.9, 0.9, 0.9, 0.9, 0.9, 0.9, 0.9, 0.9, 0.9, 0.9, 0.9, 0.9, 0.9, 0.9, 0.9, 0.9, 0.9, 0.9, 0.9, 0.9, 0.9, 0.9, 0.9, 0.9, 0.9, 0.75, 0.75, 0.75, 0.75, 0.75, 0.75, 0.75, 0.75, 0.75, 0.75, 0.75, 0.75, 0.75, 0.75, 0.75, 0.75, 0.75, 0.75, 0.75, 0.75, 0.75, 0.75, 0.75, 0.75, 0.75, 0.75, 0.75, 0.75, 0.75, 0.75, 0.75, 0.75, 0.75, 0.75, 0.75, 0.75, 1.45, 1.45, 1.45, 1.45, 1.45, 1.45, 1.45, 1.45, 1.45, 1.45, 1.45, 1.45, 1.45, 1.45, 1.45, 1.45, 1.45, 1.45, 1.45, 1.45, 1.45, 1.45, 1.45, 1.45, 1.45, 1.45, 1.45, 1.45, 1.45, 1.45, 1.45, 1.45, 1.45, 1.45, 1.45, 1.45, 1.45, 1.45, 1.45, 1.45, 1.45, 1.45, 1.45, 1.45, 1.45, 1.45, 1.45, 1.45, 1.45, 1.45, 1.45, 1.45, 1.45, 1.45, 1.45, 1.45, 1.45, 1.45, 1.45, 1.45, 1.45, 1.45, 1.45, 1.45, 1.45, 1.45, 1.45, 1.45, 1.45, 1.45, 1.45, 1.45, 1.45, 1.45, 1.45, 1.45, 1.45, 1.45, 1.45, 1.45, 1.45, 1.45, 1.45, 1.45, 1.45, 1.45, 1.45, 1.45, 1.45, 1.45, 1.45, 1.45, 1.45, 1.45, 1.45, 1.45, 1.45, 1.45, 1.45, 1.45, 1.45, 1.45, 1.45, 1.45, 1.45, 1.45, 1.45, 1.45, 1.45, 1.45, 1.45, 1.45, 1.45, 1.45, 0.9, 0.9, 0.9, 0.9, 0.9, 0.9, 0.9, 0.9, 0.9, 0.9, 0.9, 0.9, 0.9, 0.9, 0.9, 0.9, 0.9, 0.9, 0.9, 0.9, 0.9, 0.9, 0.9, 0.9, 0.9, 0.9, 0.9, 0.9, 0.9, 0.9, 0.9, 0.9, 0.9, 0.9, 0.9, 0.9, 0.9, 0.9, 0.9, 0.9, 0.9, 0.9, 0.9, 0.9, 0.9, 0.9, 0.9, 0.9, 0.9, 0.9, 0.9, 0.9, 0.9, 0.9, 0.9, 0.9, 0.9, 0.9, 0.9, 0.9, 0.9, 0.9, 0.9, 0.9, 0.9, 0.9, 0.9, 0.9, 0.9, 0.9], \"yaxis\": \"y\"}, {\"hoverinfo\": \"y+name\", \"line\": {\"color\": \"cornflowerblue\", \"dash\": \"dot\", \"shape\": \"vh\"}, \"mode\": \"lines\", \"name\": \"scheduled\", \"type\": \"scattergl\", \"x\": [\"2019-07-24T21:00:00+00:00\", \"2019-07-24T21:05:00+00:00\", \"2019-07-24T21:10:00+00:00\", \"2019-07-24T21:15:00+00:00\", \"2019-07-24T21:20:00+00:00\", \"2019-07-24T21:25:00+00:00\", \"2019-07-24T21:30:00+00:00\", \"2019-07-24T21:35:00+00:00\", \"2019-07-24T21:40:00+00:00\", \"2019-07-24T21:45:00+00:00\", \"2019-07-24T21:50:00+00:00\", \"2019-07-24T21:55:00+00:00\", \"2019-07-24T22:00:00+00:00\", \"2019-07-24T22:05:00+00:00\", \"2019-07-24T22:10:00+00:00\", \"2019-07-24T22:15:00+00:00\", \"2019-07-24T22:20:00+00:00\", \"2019-07-24T22:25:00+00:00\", \"2019-07-24T22:30:00+00:00\", \"2019-07-24T22:35:00+00:00\", \"2019-07-24T22:40:00+00:00\", \"2019-07-24T22:45:00+00:00\", \"2019-07-24T22:50:00+00:00\", \"2019-07-24T22:55:00+00:00\", \"2019-07-24T23:00:00+00:00\", \"2019-07-24T23:05:00+00:00\", \"2019-07-24T23:10:00+00:00\", \"2019-07-24T23:15:00+00:00\", \"2019-07-24T23:20:00+00:00\", \"2019-07-24T23:25:00+00:00\", \"2019-07-24T23:30:00+00:00\", \"2019-07-24T23:35:00+00:00\", \"2019-07-24T23:40:00+00:00\", \"2019-07-24T23:45:00+00:00\", \"2019-07-24T23:50:00+00:00\", \"2019-07-24T23:55:00+00:00\", \"2019-07-25T00:00:00+00:00\", \"2019-07-25T00:05:00+00:00\", \"2019-07-25T00:10:00+00:00\", \"2019-07-25T00:15:00+00:00\", \"2019-07-25T00:20:00+00:00\", \"2019-07-25T00:25:00+00:00\", \"2019-07-25T00:30:00+00:00\", \"2019-07-25T00:35:00+00:00\", \"2019-07-25T00:40:00+00:00\", \"2019-07-25T00:45:00+00:00\", \"2019-07-25T00:50:00+00:00\", \"2019-07-25T00:55:00+00:00\", \"2019-07-25T01:00:00+00:00\", \"2019-07-25T01:05:00+00:00\", \"2019-07-25T01:10:00+00:00\", \"2019-07-25T01:15:00+00:00\", \"2019-07-25T01:20:00+00:00\", \"2019-07-25T01:25:00+00:00\", \"2019-07-25T01:30:00+00:00\", \"2019-07-25T01:35:00+00:00\", \"2019-07-25T01:40:00+00:00\", \"2019-07-25T01:45:00+00:00\", \"2019-07-25T01:50:00+00:00\", \"2019-07-25T01:55:00+00:00\", \"2019-07-25T02:00:00+00:00\", \"2019-07-25T02:05:00+00:00\", \"2019-07-25T02:10:00+00:00\", \"2019-07-25T02:15:00+00:00\", \"2019-07-25T02:20:00+00:00\", \"2019-07-25T02:25:00+00:00\", \"2019-07-25T02:30:00+00:00\", \"2019-07-25T02:35:00+00:00\", \"2019-07-25T02:40:00+00:00\", \"2019-07-25T02:45:00+00:00\", \"2019-07-25T02:50:00+00:00\", \"2019-07-25T02:55:00+00:00\", \"2019-07-25T03:00:00+00:00\", \"2019-07-25T03:05:00+00:00\", \"2019-07-25T03:10:00+00:00\", \"2019-07-25T03:15:00+00:00\", \"2019-07-25T03:20:00+00:00\", \"2019-07-25T03:25:00+00:00\", \"2019-07-25T03:30:00+00:00\", \"2019-07-25T03:35:00+00:00\", \"2019-07-25T03:40:00+00:00\", \"2019-07-25T03:45:00+00:00\", \"2019-07-25T03:50:00+00:00\", \"2019-07-25T03:55:00+00:00\", \"2019-07-25T04:00:00+00:00\", \"2019-07-25T04:05:00+00:00\", \"2019-07-25T04:10:00+00:00\", \"2019-07-25T04:15:00+00:00\", \"2019-07-25T04:20:00+00:00\", \"2019-07-25T04:25:00+00:00\", \"2019-07-25T04:30:00+00:00\", \"2019-07-25T04:35:00+00:00\", \"2019-07-25T04:40:00+00:00\", \"2019-07-25T04:45:00+00:00\", \"2019-07-25T04:50:00+00:00\", \"2019-07-25T04:55:00+00:00\", \"2019-07-25T05:00:00+00:00\", \"2019-07-25T05:05:00+00:00\", \"2019-07-25T05:10:00+00:00\", \"2019-07-25T05:15:00+00:00\", \"2019-07-25T05:20:00+00:00\", \"2019-07-25T05:25:00+00:00\", \"2019-07-25T05:30:00+00:00\", \"2019-07-25T05:35:00+00:00\", \"2019-07-25T05:40:00+00:00\", \"2019-07-25T05:45:00+00:00\", \"2019-07-25T05:50:00+00:00\", \"2019-07-25T05:55:00+00:00\", \"2019-07-25T06:00:00+00:00\", \"2019-07-25T06:05:00+00:00\", \"2019-07-25T06:10:00+00:00\", \"2019-07-25T06:15:00+00:00\", \"2019-07-25T06:20:00+00:00\", \"2019-07-25T06:25:00+00:00\", \"2019-07-25T06:30:00+00:00\", \"2019-07-25T06:35:00+00:00\", \"2019-07-25T06:40:00+00:00\", \"2019-07-25T06:45:00+00:00\", \"2019-07-25T06:50:00+00:00\", \"2019-07-25T06:55:00+00:00\", \"2019-07-25T07:00:00+00:00\", \"2019-07-25T07:05:00+00:00\", \"2019-07-25T07:10:00+00:00\", \"2019-07-25T07:15:00+00:00\", \"2019-07-25T07:20:00+00:00\", \"2019-07-25T07:25:00+00:00\", \"2019-07-25T07:30:00+00:00\", \"2019-07-25T07:35:00+00:00\", \"2019-07-25T07:40:00+00:00\", \"2019-07-25T07:45:00+00:00\", \"2019-07-25T07:50:00+00:00\", \"2019-07-25T07:55:00+00:00\", \"2019-07-25T08:00:00+00:00\", \"2019-07-25T08:05:00+00:00\", \"2019-07-25T08:10:00+00:00\", \"2019-07-25T08:15:00+00:00\", \"2019-07-25T08:20:00+00:00\", \"2019-07-25T08:25:00+00:00\", \"2019-07-25T08:30:00+00:00\", \"2019-07-25T08:35:00+00:00\", \"2019-07-25T08:40:00+00:00\", \"2019-07-25T08:45:00+00:00\", \"2019-07-25T08:50:00+00:00\", \"2019-07-25T08:55:00+00:00\", \"2019-07-25T09:00:00+00:00\", \"2019-07-25T09:05:00+00:00\", \"2019-07-25T09:10:00+00:00\", \"2019-07-25T09:15:00+00:00\", \"2019-07-25T09:20:00+00:00\", \"2019-07-25T09:25:00+00:00\", \"2019-07-25T09:30:00+00:00\", \"2019-07-25T09:35:00+00:00\", \"2019-07-25T09:40:00+00:00\", \"2019-07-25T09:45:00+00:00\", \"2019-07-25T09:50:00+00:00\", \"2019-07-25T09:55:00+00:00\", \"2019-07-25T10:00:00+00:00\", \"2019-07-25T10:05:00+00:00\", \"2019-07-25T10:10:00+00:00\", \"2019-07-25T10:15:00+00:00\", \"2019-07-25T10:20:00+00:00\", \"2019-07-25T10:25:00+00:00\", \"2019-07-25T10:30:00+00:00\", \"2019-07-25T10:35:00+00:00\", \"2019-07-25T10:40:00+00:00\", \"2019-07-25T10:45:00+00:00\", \"2019-07-25T10:50:00+00:00\", \"2019-07-25T10:55:00+00:00\", \"2019-07-25T11:00:00+00:00\", \"2019-07-25T11:05:00+00:00\", \"2019-07-25T11:10:00+00:00\", \"2019-07-25T11:15:00+00:00\", \"2019-07-25T11:20:00+00:00\", \"2019-07-25T11:25:00+00:00\", \"2019-07-25T11:30:00+00:00\", \"2019-07-25T11:35:00+00:00\", \"2019-07-25T11:40:00+00:00\", \"2019-07-25T11:45:00+00:00\", \"2019-07-25T11:50:00+00:00\", \"2019-07-25T11:55:00+00:00\", \"2019-07-25T12:00:00+00:00\", \"2019-07-25T12:05:00+00:00\", \"2019-07-25T12:10:00+00:00\", \"2019-07-25T12:15:00+00:00\", \"2019-07-25T12:20:00+00:00\", \"2019-07-25T12:25:00+00:00\", \"2019-07-25T12:30:00+00:00\", \"2019-07-25T12:35:00+00:00\", \"2019-07-25T12:40:00+00:00\", \"2019-07-25T12:45:00+00:00\", \"2019-07-25T12:50:00+00:00\", \"2019-07-25T12:55:00+00:00\", \"2019-07-25T13:00:00+00:00\", \"2019-07-25T13:05:00+00:00\", \"2019-07-25T13:10:00+00:00\", \"2019-07-25T13:15:00+00:00\", \"2019-07-25T13:20:00+00:00\", \"2019-07-25T13:25:00+00:00\", \"2019-07-25T13:30:00+00:00\", \"2019-07-25T13:35:00+00:00\", \"2019-07-25T13:40:00+00:00\", \"2019-07-25T13:45:00+00:00\", \"2019-07-25T13:50:00+00:00\", \"2019-07-25T13:55:00+00:00\", \"2019-07-25T14:00:00+00:00\", \"2019-07-25T14:05:00+00:00\", \"2019-07-25T14:10:00+00:00\", \"2019-07-25T14:15:00+00:00\", \"2019-07-25T14:20:00+00:00\", \"2019-07-25T14:25:00+00:00\", \"2019-07-25T14:30:00+00:00\", \"2019-07-25T14:35:00+00:00\", \"2019-07-25T14:40:00+00:00\", \"2019-07-25T14:45:00+00:00\", \"2019-07-25T14:50:00+00:00\", \"2019-07-25T14:55:00+00:00\", \"2019-07-25T15:00:00+00:00\", \"2019-07-25T15:05:00+00:00\", \"2019-07-25T15:10:00+00:00\", \"2019-07-25T15:15:00+00:00\", \"2019-07-25T15:20:00+00:00\", \"2019-07-25T15:25:00+00:00\", \"2019-07-25T15:30:00+00:00\", \"2019-07-25T15:35:00+00:00\", \"2019-07-25T15:40:00+00:00\", \"2019-07-25T15:45:00+00:00\", \"2019-07-25T15:50:00+00:00\", \"2019-07-25T15:55:00+00:00\", \"2019-07-25T16:00:00+00:00\", \"2019-07-25T16:05:00+00:00\", \"2019-07-25T16:10:00+00:00\", \"2019-07-25T16:15:00+00:00\", \"2019-07-25T16:20:00+00:00\", \"2019-07-25T16:25:00+00:00\", \"2019-07-25T16:30:00+00:00\", \"2019-07-25T16:35:00+00:00\", \"2019-07-25T16:40:00+00:00\", \"2019-07-25T16:45:00+00:00\", \"2019-07-25T16:50:00+00:00\", \"2019-07-25T16:55:00+00:00\", \"2019-07-25T17:00:00+00:00\", \"2019-07-25T17:05:00+00:00\", \"2019-07-25T17:10:00+00:00\", \"2019-07-25T17:15:00+00:00\", \"2019-07-25T17:20:00+00:00\", \"2019-07-25T17:25:00+00:00\", \"2019-07-25T17:30:00+00:00\", \"2019-07-25T17:35:00+00:00\", \"2019-07-25T17:40:00+00:00\", \"2019-07-25T17:45:00+00:00\", \"2019-07-25T17:50:00+00:00\", \"2019-07-25T17:55:00+00:00\", \"2019-07-25T18:00:00+00:00\", \"2019-07-25T18:05:00+00:00\", \"2019-07-25T18:10:00+00:00\", \"2019-07-25T18:15:00+00:00\", \"2019-07-25T18:20:00+00:00\", \"2019-07-25T18:25:00+00:00\", \"2019-07-25T18:30:00+00:00\", \"2019-07-25T18:35:00+00:00\", \"2019-07-25T18:40:00+00:00\", \"2019-07-25T18:45:00+00:00\", \"2019-07-25T18:50:00+00:00\", \"2019-07-25T18:55:00+00:00\", \"2019-07-25T19:00:00+00:00\", \"2019-07-25T19:05:00+00:00\", \"2019-07-25T19:10:00+00:00\", \"2019-07-25T19:15:00+00:00\", \"2019-07-25T19:20:00+00:00\", \"2019-07-25T19:25:00+00:00\", \"2019-07-25T19:30:00+00:00\", \"2019-07-25T19:35:00+00:00\", \"2019-07-25T19:40:00+00:00\", \"2019-07-25T19:45:00+00:00\", \"2019-07-25T19:50:00+00:00\", \"2019-07-25T19:55:00+00:00\", \"2019-07-25T20:00:00+00:00\", \"2019-07-25T20:05:00+00:00\", \"2019-07-25T20:10:00+00:00\", \"2019-07-25T20:15:00+00:00\", \"2019-07-25T20:20:00+00:00\", \"2019-07-25T20:25:00+00:00\", \"2019-07-25T20:30:00+00:00\", \"2019-07-25T20:35:00+00:00\", \"2019-07-25T20:40:00+00:00\", \"2019-07-25T20:45:00+00:00\", \"2019-07-25T20:50:00+00:00\", \"2019-07-25T20:55:00+00:00\", \"2019-07-25T21:00:00+00:00\", \"2019-07-25T21:05:00+00:00\", \"2019-07-25T21:10:00+00:00\", \"2019-07-25T21:15:00+00:00\", \"2019-07-25T21:20:00+00:00\", \"2019-07-25T21:25:00+00:00\", \"2019-07-25T21:30:00+00:00\", \"2019-07-25T21:35:00+00:00\", \"2019-07-25T21:40:00+00:00\", \"2019-07-25T21:45:00+00:00\", \"2019-07-25T21:50:00+00:00\", \"2019-07-25T21:55:00+00:00\", \"2019-07-25T22:00:00+00:00\", \"2019-07-25T22:05:00+00:00\", \"2019-07-25T22:10:00+00:00\", \"2019-07-25T22:15:00+00:00\", \"2019-07-25T22:20:00+00:00\", \"2019-07-25T22:25:00+00:00\", \"2019-07-25T22:30:00+00:00\", \"2019-07-25T22:35:00+00:00\", \"2019-07-25T22:40:00+00:00\", \"2019-07-25T22:45:00+00:00\", \"2019-07-25T22:50:00+00:00\", \"2019-07-25T22:55:00+00:00\", \"2019-07-25T23:00:00+00:00\", \"2019-07-25T23:05:00+00:00\", \"2019-07-25T23:10:00+00:00\", \"2019-07-25T23:15:00+00:00\", \"2019-07-25T23:20:00+00:00\", \"2019-07-25T23:25:00+00:00\", \"2019-07-25T23:30:00+00:00\", \"2019-07-25T23:35:00+00:00\", \"2019-07-25T23:40:00+00:00\", \"2019-07-25T23:45:00+00:00\", \"2019-07-25T23:50:00+00:00\", \"2019-07-25T23:55:00+00:00\", \"2019-07-26T00:00:00+00:00\", \"2019-07-26T00:05:00+00:00\", \"2019-07-26T00:10:00+00:00\", \"2019-07-26T00:15:00+00:00\", \"2019-07-26T00:20:00+00:00\", \"2019-07-26T00:25:00+00:00\", \"2019-07-26T00:30:00+00:00\", \"2019-07-26T00:35:00+00:00\", \"2019-07-26T00:40:00+00:00\", \"2019-07-26T00:45:00+00:00\", \"2019-07-26T00:50:00+00:00\", \"2019-07-26T00:55:00+00:00\", \"2019-07-26T01:00:00+00:00\", \"2019-07-26T01:05:00+00:00\", \"2019-07-26T01:10:00+00:00\", \"2019-07-26T01:15:00+00:00\", \"2019-07-26T01:20:00+00:00\", \"2019-07-26T01:25:00+00:00\", \"2019-07-26T01:30:00+00:00\", \"2019-07-26T01:35:00+00:00\", \"2019-07-26T01:40:00+00:00\", \"2019-07-26T01:45:00+00:00\", \"2019-07-26T01:50:00+00:00\", \"2019-07-26T01:55:00+00:00\", \"2019-07-26T02:00:00+00:00\", \"2019-07-26T02:05:00+00:00\", \"2019-07-26T02:10:00+00:00\", \"2019-07-26T02:15:00+00:00\", \"2019-07-26T02:20:00+00:00\", \"2019-07-26T02:25:00+00:00\", \"2019-07-26T02:30:00+00:00\", \"2019-07-26T02:35:00+00:00\", \"2019-07-26T02:40:00+00:00\", \"2019-07-26T02:45:00+00:00\", \"2019-07-26T02:50:00+00:00\", \"2019-07-26T02:55:00+00:00\", \"2019-07-26T03:00:00+00:00\", \"2019-07-26T03:05:00+00:00\", \"2019-07-26T03:10:00+00:00\", \"2019-07-26T03:15:00+00:00\", \"2019-07-26T03:20:00+00:00\", \"2019-07-26T03:25:00+00:00\", \"2019-07-26T03:30:00+00:00\", \"2019-07-26T03:35:00+00:00\", \"2019-07-26T03:40:00+00:00\", \"2019-07-26T03:45:00+00:00\", \"2019-07-26T03:50:00+00:00\", \"2019-07-26T03:55:00+00:00\", \"2019-07-26T04:00:00+00:00\", \"2019-07-26T04:05:00+00:00\", \"2019-07-26T04:10:00+00:00\", \"2019-07-26T04:15:00+00:00\", \"2019-07-26T04:20:00+00:00\", \"2019-07-26T04:25:00+00:00\", \"2019-07-26T04:30:00+00:00\", \"2019-07-26T04:35:00+00:00\", \"2019-07-26T04:40:00+00:00\", \"2019-07-26T04:45:00+00:00\", \"2019-07-26T04:50:00+00:00\", \"2019-07-26T04:55:00+00:00\", \"2019-07-26T05:00:00+00:00\", \"2019-07-26T05:05:00+00:00\", \"2019-07-26T05:10:00+00:00\", \"2019-07-26T05:15:00+00:00\", \"2019-07-26T05:20:00+00:00\", \"2019-07-26T05:25:00+00:00\", \"2019-07-26T05:30:00+00:00\", \"2019-07-26T05:35:00+00:00\", \"2019-07-26T05:40:00+00:00\", \"2019-07-26T05:45:00+00:00\", \"2019-07-26T05:50:00+00:00\", \"2019-07-26T05:55:00+00:00\", \"2019-07-26T06:00:00+00:00\", \"2019-07-26T06:05:00+00:00\", \"2019-07-26T06:10:00+00:00\", \"2019-07-26T06:15:00+00:00\", \"2019-07-26T06:20:00+00:00\", \"2019-07-26T06:25:00+00:00\", \"2019-07-26T06:30:00+00:00\", \"2019-07-26T06:35:00+00:00\", \"2019-07-26T06:40:00+00:00\", \"2019-07-26T06:45:00+00:00\", \"2019-07-26T06:50:00+00:00\", \"2019-07-26T06:55:00+00:00\", \"2019-07-26T07:00:00+00:00\", \"2019-07-26T07:05:00+00:00\", \"2019-07-26T07:10:00+00:00\", \"2019-07-26T07:15:00+00:00\", \"2019-07-26T07:20:00+00:00\", \"2019-07-26T07:25:00+00:00\", \"2019-07-26T07:30:00+00:00\", \"2019-07-26T07:35:00+00:00\", \"2019-07-26T07:40:00+00:00\", \"2019-07-26T07:45:00+00:00\", \"2019-07-26T07:50:00+00:00\", \"2019-07-26T07:55:00+00:00\", \"2019-07-26T08:00:00+00:00\", \"2019-07-26T08:05:00+00:00\", \"2019-07-26T08:10:00+00:00\", \"2019-07-26T08:15:00+00:00\", \"2019-07-26T08:20:00+00:00\", \"2019-07-26T08:25:00+00:00\", \"2019-07-26T08:30:00+00:00\", \"2019-07-26T08:35:00+00:00\", \"2019-07-26T08:40:00+00:00\", \"2019-07-26T08:45:00+00:00\", \"2019-07-26T08:50:00+00:00\", \"2019-07-26T08:55:00+00:00\", \"2019-07-26T09:00:00+00:00\", \"2019-07-26T09:05:00+00:00\", \"2019-07-26T09:10:00+00:00\", \"2019-07-26T09:15:00+00:00\", \"2019-07-26T09:20:00+00:00\", \"2019-07-26T09:25:00+00:00\", \"2019-07-26T09:30:00+00:00\", \"2019-07-26T09:35:00+00:00\", \"2019-07-26T09:40:00+00:00\", \"2019-07-26T09:45:00+00:00\", \"2019-07-26T09:50:00+00:00\", \"2019-07-26T09:55:00+00:00\", \"2019-07-26T10:00:00+00:00\", \"2019-07-26T10:05:00+00:00\", \"2019-07-26T10:10:00+00:00\", \"2019-07-26T10:15:00+00:00\", \"2019-07-26T10:20:00+00:00\", \"2019-07-26T10:25:00+00:00\", \"2019-07-26T10:30:00+00:00\", \"2019-07-26T10:35:00+00:00\", \"2019-07-26T10:40:00+00:00\", \"2019-07-26T10:45:00+00:00\", \"2019-07-26T10:50:00+00:00\", \"2019-07-26T10:55:00+00:00\", \"2019-07-26T11:00:00+00:00\", \"2019-07-26T11:05:00+00:00\", \"2019-07-26T11:10:00+00:00\", \"2019-07-26T11:15:00+00:00\", \"2019-07-26T11:20:00+00:00\", \"2019-07-26T11:25:00+00:00\", \"2019-07-26T11:30:00+00:00\", \"2019-07-26T11:35:00+00:00\", \"2019-07-26T11:40:00+00:00\", \"2019-07-26T11:45:00+00:00\", \"2019-07-26T11:50:00+00:00\", \"2019-07-26T11:55:00+00:00\", \"2019-07-26T12:00:00+00:00\", \"2019-07-26T12:05:00+00:00\", \"2019-07-26T12:10:00+00:00\", \"2019-07-26T12:15:00+00:00\", \"2019-07-26T12:20:00+00:00\", \"2019-07-26T12:25:00+00:00\", \"2019-07-26T12:30:00+00:00\", \"2019-07-26T12:35:00+00:00\", \"2019-07-26T12:40:00+00:00\", \"2019-07-26T12:45:00+00:00\", \"2019-07-26T12:50:00+00:00\", \"2019-07-26T12:55:00+00:00\", \"2019-07-26T13:00:00+00:00\", \"2019-07-26T13:05:00+00:00\", \"2019-07-26T13:10:00+00:00\", \"2019-07-26T13:15:00+00:00\", \"2019-07-26T13:20:00+00:00\", \"2019-07-26T13:25:00+00:00\", \"2019-07-26T13:30:00+00:00\", \"2019-07-26T13:35:00+00:00\", \"2019-07-26T13:40:00+00:00\", \"2019-07-26T13:45:00+00:00\", \"2019-07-26T13:50:00+00:00\", \"2019-07-26T13:55:00+00:00\", \"2019-07-26T14:00:00+00:00\", \"2019-07-26T14:05:00+00:00\", \"2019-07-26T14:10:00+00:00\", \"2019-07-26T14:15:00+00:00\", \"2019-07-26T14:20:00+00:00\", \"2019-07-26T14:25:00+00:00\", \"2019-07-26T14:30:00+00:00\", \"2019-07-26T14:35:00+00:00\", \"2019-07-26T14:40:00+00:00\", \"2019-07-26T14:45:00+00:00\", \"2019-07-26T14:50:00+00:00\", \"2019-07-26T14:55:00+00:00\", \"2019-07-26T15:00:00+00:00\", \"2019-07-26T15:05:00+00:00\", \"2019-07-26T15:10:00+00:00\", \"2019-07-26T15:13:17+00:00\"], \"y\": [0.75, 0.75, 0.75, 0.75, 0.75, 0.75, 0.75, 0.75, 0.75, 0.75, 0.75, 0.75, 0.75, 0.75, 0.75, 0.75, 0.75, 0.75, 0.75, 0.75, 0.75, 0.75, 0.75, 0.75, 0.75, 0.75, 0.75, 0.75, 0.75, 0.75, 0.75, 0.75, 0.75, 0.75, 0.75, 0.75, 1.45, 1.45, 1.45, 1.45, 1.45, 1.45, 1.45, 1.45, 1.45, 1.45, 1.45, 1.45, 1.45, 1.45, 1.45, 1.45, 1.45, 1.45, 1.45, 1.45, 1.45, 1.45, 1.45, 1.45, 1.45, 1.45, 1.45, 1.45, 1.45, 1.45, 1.45, 1.45, 1.45, 1.45, 1.45, 1.45, 1.45, 1.45, 1.45, 1.45, 1.45, 1.45, 1.45, 1.45, 1.45, 1.45, 1.45, 1.45, 1.45, 1.45, 1.45, 1.45, 1.45, 1.45, 1.45, 1.45, 1.45, 1.45, 1.45, 1.45, 1.45, 1.45, 1.45, 1.45, 1.45, 1.45, 1.45, 1.45, 1.45, 1.45, 1.45, 1.45, 1.45, 1.45, 1.45, 1.45, 1.45, 1.45, 1.45, 1.45, 1.45, 1.45, 1.45, 1.45, 1.45, 1.45, 1.45, 1.45, 1.45, 1.45, 1.45, 1.45, 1.45, 1.45, 1.45, 1.45, 1.45, 1.45, 1.45, 1.45, 1.45, 1.45, 1.45, 1.45, 1.45, 1.45, 1.45, 1.45, 1.45, 1.45, 1.45, 1.45, 1.45, 1.45, 0.9, 0.9, 0.9, 0.9, 0.9, 0.9, 0.9, 0.9, 0.9, 0.9, 0.9, 0.9, 0.9, 0.9, 0.9, 0.9, 0.9, 0.9, 0.9, 0.9, 0.9, 0.9, 0.9, 0.9, 0.9, 0.9, 0.9, 0.9, 0.9, 0.9, 0.9, 0.9, 0.9, 0.9, 0.9, 0.9, 0.9, 0.9, 0.9, 0.9, 0.9, 0.9, 0.9, 0.9, 0.9, 0.9, 0.9, 0.9, 0.9, 0.9, 0.9, 0.9, 0.9, 0.9, 0.9, 0.9, 0.9, 0.9, 0.9, 0.9, 0.9, 0.9, 0.9, 0.9, 0.9, 0.9, 0.9, 0.9, 0.9, 0.9, 0.9, 0.9, 0.9, 0.9, 0.9, 0.9, 0.9, 0.9, 0.9, 0.9, 0.9, 0.9, 0.9, 0.9, 0.9, 0.9, 0.9, 0.9, 0.9, 0.9, 0.9, 0.9, 0.9, 0.9, 0.9, 0.9, 0.9, 0.9, 0.9, 0.9, 0.9, 0.9, 0.9, 0.9, 0.9, 0.9, 0.9, 0.9, 0.9, 0.9, 0.9, 0.9, 0.9, 0.9, 0.9, 0.9, 0.9, 0.9, 0.9, 0.9, 0.9, 0.9, 0.9, 0.9, 0.9, 0.9, 0.9, 0.9, 0.9, 0.9, 0.9, 0.9, 0.9, 0.9, 0.9, 0.9, 0.9, 0.9, 0.75, 0.75, 0.75, 0.75, 0.75, 0.75, 0.75, 0.75, 0.75, 0.75, 0.75, 0.75, 0.75, 0.75, 0.75, 0.75, 0.75, 0.75, 0.75, 0.75, 0.75, 0.75, 0.75, 0.75, 0.75, 0.75, 0.75, 0.75, 0.75, 0.75, 0.75, 0.75, 0.75, 0.75, 0.75, 0.75, 1.45, 1.45, 1.45, 1.45, 1.45, 1.45, 1.45, 1.45, 1.45, 1.45, 1.45, 1.45, 1.45, 1.45, 1.45, 1.45, 1.45, 1.45, 1.45, 1.45, 1.45, 1.45, 1.45, 1.45, 1.45, 1.45, 1.45, 1.45, 1.45, 1.45, 1.45, 1.45, 1.45, 1.45, 1.45, 1.45, 1.45, 1.45, 1.45, 1.45, 1.45, 1.45, 1.45, 1.45, 1.45, 1.45, 1.45, 1.45, 1.45, 1.45, 1.45, 1.45, 1.45, 1.45, 1.45, 1.45, 1.45, 1.45, 1.45, 1.45, 1.45, 1.45, 1.45, 1.45, 1.45, 1.45, 1.45, 1.45, 1.45, 1.45, 1.45, 1.45, 1.45, 1.45, 1.45, 1.45, 1.45, 1.45, 1.45, 1.45, 1.45, 1.45, 1.45, 1.45, 1.45, 1.45, 1.45, 1.45, 1.45, 1.45, 1.45, 1.45, 1.45, 1.45, 1.45, 1.45, 1.45, 1.45, 1.45, 1.45, 1.45, 1.45, 1.45, 1.45, 1.45, 1.45, 1.45, 1.45, 1.45, 1.45, 1.45, 1.45, 1.45, 1.45, 0.9, 0.9, 0.9, 0.9, 0.9, 0.9, 0.9, 0.9, 0.9, 0.9, 0.9, 0.9, 0.9, 0.9, 0.9, 0.9, 0.9, 0.9, 0.9, 0.9, 0.9, 0.9, 0.9, 0.9, 0.9, 0.9, 0.9, 0.9, 0.9, 0.9, 0.9, 0.9, 0.9, 0.9, 0.9, 0.9, 0.9, 0.9, 0.9, 0.9, 0.9, 0.9, 0.9, 0.9, 0.9, 0.9, 0.9, 0.9, 0.9, 0.9, 0.9, 0.9, 0.9, 0.9, 0.9, 0.9, 0.9, 0.9, 0.9, 0.9, 0.9, 0.9, 0.9, 0.9, 0.9, 0.9, 0.9, 0.9, 0.9, 0.9], \"yaxis\": \"y\"}, {\"fill\": \"tozeroy\", \"hoverinfo\": \"y+name\", \"line\": {\"color\": \"#5ac6fa\", \"dash\": \"dot\", \"shape\": \"vh\"}, \"mode\": \"lines\", \"name\": \"temp basal set\", \"type\": \"scatter\", \"x\": [\"2019-07-26T15:13:17+00:00\", \"2019-07-26T15:43:17+00:00\"], \"y\": [1.2, 1.2], \"yaxis\": \"y\"}, {\"hoverinfo\": \"y+name\", \"marker\": {\"color\": \"cornflowerblue\"}, \"name\": \"bolus\", \"opacity\": 0.5, \"type\": \"bar\", \"width\": 1200000, \"x\": [\"2019-07-26T15:13:11+00:00\"], \"y\": [3.0], \"yaxis\": \"y\"}, {\"hoverinfo\": \"name\", \"marker\": {\"color\": \"gold\", \"size\": 25}, \"mode\": \"markers+text\", \"name\": \"carbs\", \"text\": [40.0], \"textposition\": \"middle center\", \"type\": \"scatter\", \"x\": [\"2019-07-26T15:13:01+00:00\"], \"y\": [3.8333333333333335], \"yaxis\": \"y\"}, {\"hoverinfo\": \"y+name\", \"marker\": {\"color\": \"#5ac6fa\"}, \"name\": \"bolus recommended\", \"type\": \"bar\", \"width\": 120000, \"x\": [\"2019-07-26T15:13:17+00:00\"], \"y\": [0.15], \"yaxis\": \"y\"}, {\"hoverinfo\": \"y+name\", \"hoverlabel\": {\"bgcolor\": [\"mediumaquamarine\", \"mediumaquamarine\", \"mediumaquamarine\", \"mediumaquamarine\", \"mediumaquamarine\", \"mediumaquamarine\", \"mediumaquamarine\", \"mediumaquamarine\", \"mediumaquamarine\", \"mediumaquamarine\", \"mediumaquamarine\", \"mediumaquamarine\", \"mediumaquamarine\", \"mediumaquamarine\", \"mediumaquamarine\", \"mediumaquamarine\", \"mediumaquamarine\", \"mediumaquamarine\", \"mediumaquamarine\", \"mediumaquamarine\", \"mediumaquamarine\", \"mediumaquamarine\", \"mediumaquamarine\", \"mediumaquamarine\", \"mediumaquamarine\", \"mediumaquamarine\", \"mediumaquamarine\", \"mediumaquamarine\", \"mediumaquamarine\", \"mediumaquamarine\", \"mediumaquamarine\", \"mediumaquamarine\", \"mediumaquamarine\", \"mediumaquamarine\", \"mediumaquamarine\", \"mediumaquamarine\", \"mediumaquamarine\", \"mediumaquamarine\", \"mediumaquamarine\", \"mediumaquamarine\", \"mediumaquamarine\", \"mediumaquamarine\", \"mediumaquamarine\", \"mediumaquamarine\", \"mediumaquamarine\", \"mediumaquamarine\", \"mediumaquamarine\", \"mediumaquamarine\", \"mediumaquamarine\", \"mediumaquamarine\", \"mediumaquamarine\", \"mediumaquamarine\", \"mediumaquamarine\", \"mediumaquamarine\", \"mediumaquamarine\", \"mediumaquamarine\", \"mediumaquamarine\", \"mediumaquamarine\", \"mediumaquamarine\", \"mediumaquamarine\", \"mediumaquamarine\", \"mediumaquamarine\", \"mediumaquamarine\", \"mediumaquamarine\", \"mediumaquamarine\", \"mediumaquamarine\", \"mediumaquamarine\", \"mediumaquamarine\", \"mediumaquamarine\", \"mediumaquamarine\", \"mediumaquamarine\", \"mediumaquamarine\", \"mediumaquamarine\", \"mediumaquamarine\", \"mediumaquamarine\", \"mediumaquamarine\", \"mediumaquamarine\", \"mediumaquamarine\", \"mediumaquamarine\", \"mediumaquamarine\", \"mediumaquamarine\", \"mediumaquamarine\", \"mediumaquamarine\", \"mediumaquamarine\", \"mediumaquamarine\", \"mediumaquamarine\", \"mediumaquamarine\", \"mediumaquamarine\", \"mediumaquamarine\", \"mediumaquamarine\", \"mediumaquamarine\", \"mediumaquamarine\", \"mediumaquamarine\", \"mediumaquamarine\", \"mediumaquamarine\", \"mediumaquamarine\", \"mediumaquamarine\", \"mediumaquamarine\", \"mediumaquamarine\", \"mediumaquamarine\", \"mediumaquamarine\", \"mediumaquamarine\", \"mediumaquamarine\", \"mediumaquamarine\", \"mediumaquamarine\", \"mediumaquamarine\", \"mediumaquamarine\", \"mediumaquamarine\", \"mediumaquamarine\", \"mediumaquamarine\", \"mediumaquamarine\", \"mediumaquamarine\", \"mediumaquamarine\", \"mediumaquamarine\", \"mediumaquamarine\", \"mediumaquamarine\", \"mediumaquamarine\", \"mediumaquamarine\", \"mediumaquamarine\", \"mediumaquamarine\", \"mediumaquamarine\", \"mediumaquamarine\", \"mediumaquamarine\", \"mediumaquamarine\", \"mediumaquamarine\", \"mediumaquamarine\", \"mediumaquamarine\", \"mediumaquamarine\", \"mediumaquamarine\", \"mediumaquamarine\", \"mediumaquamarine\", \"mediumaquamarine\", \"mediumaquamarine\", \"mediumaquamarine\", \"mediumaquamarine\", \"mediumaquamarine\", \"mediumaquamarine\", \"mediumaquamarine\", \"mediumaquamarine\", \"mediumaquamarine\", \"mediumaquamarine\", \"mediumaquamarine\", \"mediumaquamarine\", \"mediumaquamarine\", \"mediumaquamarine\", \"mediumaquamarine\", \"mediumaquamarine\", \"mediumaquamarine\", \"mediumaquamarine\", \"mediumaquamarine\", \"mediumaquamarine\", \"mediumaquamarine\", \"mediumaquamarine\", \"mediumaquamarine\", \"mediumaquamarine\", \"mediumaquamarine\", \"mediumaquamarine\", \"mediumaquamarine\", \"mediumaquamarine\", \"mediumaquamarine\", \"mediumaquamarine\", \"mediumaquamarine\", \"mediumaquamarine\", \"mediumaquamarine\", \"mediumaquamarine\", \"mediumaquamarine\", \"mediumaquamarine\", \"mediumaquamarine\", \"mediumaquamarine\", \"mediumaquamarine\", \"mediumaquamarine\", \"mediumaquamarine\", \"mediumaquamarine\", \"mediumaquamarine\", \"mediumaquamarine\", \"mediumaquamarine\", \"mediumaquamarine\", \"mediumaquamarine\", \"mediumaquamarine\", \"mediumaquamarine\", \"mediumaquamarine\", \"mediumaquamarine\", \"mediumaquamarine\", \"mediumaquamarine\", \"mediumaquamarine\", \"mediumaquamarine\", \"mediumaquamarine\", \"mediumaquamarine\", \"mediumaquamarine\", \"mediumaquamarine\", \"mediumaquamarine\", \"mediumaquamarine\", \"mediumaquamarine\", \"mediumaquamarine\", \"mediumaquamarine\", \"mediumaquamarine\", \"mediumaquamarine\", \"mediumaquamarine\", \"mediumaquamarine\", \"mediumaquamarine\", \"mediumaquamarine\", \"mediumaquamarine\", \"mediumaquamarine\", \"mediumaquamarine\", \"mediumaquamarine\", \"mediumaquamarine\", \"mediumaquamarine\", \"mediumaquamarine\", \"mediumaquamarine\", \"mediumaquamarine\", \"mediumaquamarine\", \"mediumaquamarine\", \"mediumaquamarine\", \"mediumaquamarine\", \"mediumaquamarine\", \"mediumaquamarine\", \"mediumaquamarine\", \"mediumaquamarine\", \"mediumaquamarine\", \"mediumaquamarine\", \"mediumaquamarine\", \"mediumaquamarine\", \"mediumaquamarine\", \"mediumaquamarine\", \"mediumaquamarine\", \"mediumaquamarine\", \"mediumaquamarine\", \"mediumaquamarine\", \"mediumaquamarine\", \"mediumaquamarine\", \"mediumaquamarine\", \"mediumaquamarine\", \"mediumaquamarine\", \"mediumaquamarine\", \"mediumaquamarine\", \"mediumaquamarine\", \"mediumaquamarine\", \"mediumaquamarine\", \"mediumaquamarine\", \"mediumaquamarine\", \"mediumaquamarine\", \"mediumaquamarine\", \"mediumaquamarine\", \"mediumaquamarine\", \"mediumaquamarine\", \"mediumaquamarine\", \"mediumaquamarine\", \"mediumaquamarine\", \"mediumaquamarine\", \"mediumaquamarine\", \"mediumaquamarine\", \"mediumaquamarine\", \"mediumaquamarine\", \"mediumaquamarine\", \"mediumaquamarine\", \"mediumaquamarine\", \"mediumaquamarine\", \"mediumaquamarine\", \"mediumaquamarine\", \"mediumaquamarine\", \"mediumaquamarine\", \"mediumaquamarine\", \"mediumaquamarine\", \"mediumaquamarine\", \"mediumaquamarine\", \"mediumaquamarine\", \"mediumaquamarine\"]}, \"marker\": {\"color\": [\"mediumaquamarine\", \"mediumaquamarine\", \"mediumaquamarine\", \"mediumaquamarine\", \"mediumaquamarine\", \"mediumaquamarine\", \"mediumaquamarine\", \"mediumaquamarine\", \"mediumaquamarine\", \"mediumaquamarine\", \"mediumaquamarine\", \"mediumaquamarine\", \"mediumaquamarine\", \"mediumaquamarine\", \"mediumaquamarine\", \"mediumaquamarine\", \"mediumaquamarine\", \"mediumaquamarine\", \"mediumaquamarine\", \"mediumaquamarine\", \"mediumaquamarine\", \"mediumaquamarine\", \"mediumaquamarine\", \"mediumaquamarine\", \"mediumaquamarine\", \"mediumaquamarine\", \"mediumaquamarine\", \"mediumaquamarine\", \"mediumaquamarine\", \"mediumaquamarine\", \"mediumaquamarine\", \"mediumaquamarine\", \"mediumaquamarine\", \"mediumaquamarine\", \"mediumaquamarine\", \"mediumaquamarine\", \"mediumaquamarine\", \"mediumaquamarine\", \"mediumaquamarine\", \"mediumaquamarine\", \"mediumaquamarine\", \"mediumaquamarine\", \"mediumaquamarine\", \"mediumaquamarine\", \"mediumaquamarine\", \"mediumaquamarine\", \"mediumaquamarine\", \"mediumaquamarine\", \"mediumaquamarine\", \"mediumaquamarine\", \"mediumaquamarine\", \"mediumaquamarine\", \"mediumaquamarine\", \"mediumaquamarine\", \"mediumaquamarine\", \"mediumaquamarine\", \"mediumaquamarine\", \"mediumaquamarine\", \"mediumaquamarine\", \"mediumaquamarine\", \"mediumaquamarine\", \"mediumaquamarine\", \"mediumaquamarine\", \"mediumaquamarine\", \"mediumaquamarine\", \"mediumaquamarine\", \"mediumaquamarine\", \"mediumaquamarine\", \"mediumaquamarine\", \"mediumaquamarine\", \"mediumaquamarine\", \"mediumaquamarine\", \"mediumaquamarine\", \"mediumaquamarine\", \"mediumaquamarine\", \"mediumaquamarine\", \"mediumaquamarine\", \"mediumaquamarine\", \"mediumaquamarine\", \"mediumaquamarine\", \"mediumaquamarine\", \"mediumaquamarine\", \"mediumaquamarine\", \"mediumaquamarine\", \"mediumaquamarine\", \"mediumaquamarine\", \"mediumaquamarine\", \"mediumaquamarine\", \"mediumaquamarine\", \"mediumaquamarine\", \"mediumaquamarine\", \"mediumaquamarine\", \"mediumaquamarine\", \"mediumaquamarine\", \"mediumaquamarine\", \"mediumaquamarine\", \"mediumaquamarine\", \"mediumaquamarine\", \"mediumaquamarine\", \"mediumaquamarine\", \"mediumaquamarine\", \"mediumaquamarine\", \"mediumaquamarine\", \"mediumaquamarine\", \"mediumaquamarine\", \"mediumaquamarine\", \"mediumaquamarine\", \"mediumaquamarine\", \"mediumaquamarine\", \"mediumaquamarine\", \"mediumaquamarine\", \"mediumaquamarine\", \"mediumaquamarine\", \"mediumaquamarine\", \"mediumaquamarine\", \"mediumaquamarine\", \"mediumaquamarine\", \"mediumaquamarine\", \"mediumaquamarine\", \"mediumaquamarine\", \"mediumaquamarine\", \"mediumaquamarine\", \"mediumaquamarine\", \"mediumaquamarine\", \"mediumaquamarine\", \"mediumaquamarine\", \"mediumaquamarine\", \"mediumaquamarine\", \"mediumaquamarine\", \"mediumaquamarine\", \"mediumaquamarine\", \"mediumaquamarine\", \"mediumaquamarine\", \"mediumaquamarine\", \"mediumaquamarine\", \"mediumaquamarine\", \"mediumaquamarine\", \"mediumaquamarine\", \"mediumaquamarine\", \"mediumaquamarine\", \"mediumaquamarine\", \"mediumaquamarine\", \"mediumaquamarine\", \"mediumaquamarine\", \"mediumaquamarine\", \"mediumaquamarine\", \"mediumaquamarine\", \"mediumaquamarine\", \"mediumaquamarine\", \"mediumaquamarine\", \"mediumaquamarine\", \"mediumaquamarine\", \"mediumaquamarine\", \"mediumaquamarine\", \"mediumaquamarine\", \"mediumaquamarine\", \"mediumaquamarine\", \"mediumaquamarine\", \"mediumaquamarine\", \"mediumaquamarine\", \"mediumaquamarine\", \"mediumaquamarine\", \"mediumaquamarine\", \"mediumaquamarine\", \"mediumaquamarine\", \"mediumaquamarine\", \"mediumaquamarine\", \"mediumaquamarine\", \"mediumaquamarine\", \"mediumaquamarine\", \"mediumaquamarine\", \"mediumaquamarine\", \"mediumaquamarine\", \"mediumaquamarine\", \"mediumaquamarine\", \"mediumaquamarine\", \"mediumaquamarine\", \"mediumaquamarine\", \"mediumaquamarine\", \"mediumaquamarine\", \"mediumaquamarine\", \"mediumaquamarine\", \"mediumaquamarine\", \"mediumaquamarine\", \"mediumaquamarine\", \"mediumaquamarine\", \"mediumaquamarine\", \"mediumaquamarine\", \"mediumaquamarine\", \"mediumaquamarine\", \"mediumaquamarine\", \"mediumaquamarine\", \"mediumaquamarine\", \"mediumaquamarine\", \"mediumaquamarine\", \"mediumaquamarine\", \"mediumaquamarine\", \"mediumaquamarine\", \"mediumaquamarine\", \"mediumaquamarine\", \"mediumaquamarine\", \"mediumaquamarine\", \"mediumaquamarine\", \"mediumaquamarine\", \"mediumaquamarine\", \"mediumaquamarine\", \"mediumaquamarine\", \"mediumaquamarine\", \"mediumaquamarine\", \"mediumaquamarine\", \"mediumaquamarine\", \"mediumaquamarine\", \"mediumaquamarine\", \"mediumaquamarine\", \"mediumaquamarine\", \"mediumaquamarine\", \"mediumaquamarine\", \"mediumaquamarine\", \"mediumaquamarine\", \"mediumaquamarine\", \"mediumaquamarine\", \"mediumaquamarine\", \"mediumaquamarine\", \"mediumaquamarine\", \"mediumaquamarine\", \"mediumaquamarine\", \"mediumaquamarine\", \"mediumaquamarine\", \"mediumaquamarine\", \"mediumaquamarine\", \"mediumaquamarine\", \"mediumaquamarine\", \"mediumaquamarine\", \"mediumaquamarine\", \"mediumaquamarine\", \"mediumaquamarine\", \"mediumaquamarine\", \"mediumaquamarine\", \"mediumaquamarine\", \"mediumaquamarine\", \"mediumaquamarine\", \"mediumaquamarine\", \"mediumaquamarine\", \"mediumaquamarine\", \"mediumaquamarine\", \"mediumaquamarine\", \"mediumaquamarine\", \"mediumaquamarine\", \"mediumaquamarine\", \"mediumaquamarine\", \"mediumaquamarine\", \"mediumaquamarine\", \"mediumaquamarine\", \"mediumaquamarine\", \"mediumaquamarine\", \"mediumaquamarine\", \"mediumaquamarine\", \"mediumaquamarine\", \"mediumaquamarine\", \"mediumaquamarine\", \"mediumaquamarine\", \"mediumaquamarine\", \"mediumaquamarine\", \"mediumaquamarine\", \"mediumaquamarine\", \"mediumaquamarine\", \"mediumaquamarine\"], \"line\": {\"width\": 0}, \"size\": 6}, \"mode\": \"markers\", \"name\": \"cgm\", \"type\": \"scattergl\", \"x\": [\"2019-07-25T16:12:46+00:00\", \"2019-07-25T16:17:46+00:00\", \"2019-07-25T16:22:46+00:00\", \"2019-07-25T16:27:46+00:00\", \"2019-07-25T16:32:46+00:00\", \"2019-07-25T16:37:46+00:00\", \"2019-07-25T16:42:46+00:00\", \"2019-07-25T16:47:46+00:00\", \"2019-07-25T16:52:46+00:00\", \"2019-07-25T16:57:46+00:00\", \"2019-07-25T17:02:46+00:00\", \"2019-07-25T17:07:46+00:00\", \"2019-07-25T17:12:46+00:00\", \"2019-07-25T17:17:46+00:00\", \"2019-07-25T17:22:46+00:00\", \"2019-07-25T17:27:46+00:00\", \"2019-07-25T17:32:46+00:00\", \"2019-07-25T17:37:46+00:00\", \"2019-07-25T17:42:46+00:00\", \"2019-07-25T17:47:46+00:00\", \"2019-07-25T17:52:46+00:00\", \"2019-07-25T17:57:46+00:00\", \"2019-07-25T18:02:46+00:00\", \"2019-07-25T18:07:46+00:00\", \"2019-07-25T18:12:46+00:00\", \"2019-07-25T18:17:46+00:00\", \"2019-07-25T18:22:46+00:00\", \"2019-07-25T18:27:46+00:00\", \"2019-07-25T18:32:46+00:00\", \"2019-07-25T18:37:46+00:00\", \"2019-07-25T18:42:46+00:00\", \"2019-07-25T18:47:46+00:00\", \"2019-07-25T18:52:46+00:00\", \"2019-07-25T18:57:46+00:00\", \"2019-07-25T19:02:46+00:00\", \"2019-07-25T19:07:46+00:00\", \"2019-07-25T19:12:46+00:00\", \"2019-07-25T19:17:46+00:00\", \"2019-07-25T19:22:46+00:00\", \"2019-07-25T19:27:46+00:00\", \"2019-07-25T19:32:46+00:00\", \"2019-07-25T19:37:46+00:00\", \"2019-07-25T19:42:46+00:00\", \"2019-07-25T19:47:46+00:00\", \"2019-07-25T19:52:46+00:00\", \"2019-07-25T19:57:46+00:00\", \"2019-07-25T20:02:46+00:00\", \"2019-07-25T20:07:46+00:00\", \"2019-07-25T20:12:46+00:00\", \"2019-07-25T20:17:46+00:00\", \"2019-07-25T20:22:46+00:00\", \"2019-07-25T20:27:46+00:00\", \"2019-07-25T20:32:46+00:00\", \"2019-07-25T20:37:46+00:00\", \"2019-07-25T20:42:46+00:00\", \"2019-07-25T20:47:46+00:00\", \"2019-07-25T20:52:46+00:00\", \"2019-07-25T20:57:46+00:00\", \"2019-07-25T21:02:46+00:00\", \"2019-07-25T21:07:46+00:00\", \"2019-07-25T21:12:46+00:00\", \"2019-07-25T21:17:46+00:00\", \"2019-07-25T21:27:46+00:00\", \"2019-07-25T21:32:46+00:00\", \"2019-07-25T21:37:46+00:00\", \"2019-07-25T21:42:46+00:00\", \"2019-07-25T21:47:46+00:00\", \"2019-07-25T21:52:46+00:00\", \"2019-07-25T21:57:46+00:00\", \"2019-07-25T22:02:46+00:00\", \"2019-07-25T22:07:46+00:00\", \"2019-07-25T22:12:46+00:00\", \"2019-07-25T22:17:46+00:00\", \"2019-07-25T22:27:46+00:00\", \"2019-07-25T22:32:46+00:00\", \"2019-07-25T22:37:46+00:00\", \"2019-07-25T22:42:46+00:00\", \"2019-07-25T22:47:46+00:00\", \"2019-07-25T22:52:46+00:00\", \"2019-07-25T22:57:46+00:00\", \"2019-07-25T23:02:46+00:00\", \"2019-07-25T23:07:46+00:00\", \"2019-07-25T23:17:46+00:00\", \"2019-07-25T23:22:46+00:00\", \"2019-07-25T23:27:46+00:00\", \"2019-07-25T23:32:46+00:00\", \"2019-07-25T23:37:46+00:00\", \"2019-07-25T23:42:46+00:00\", \"2019-07-25T23:47:46+00:00\", \"2019-07-25T23:52:46+00:00\", \"2019-07-25T23:57:46+00:00\", \"2019-07-26T00:02:46+00:00\", \"2019-07-26T00:07:46+00:00\", \"2019-07-26T00:12:46+00:00\", \"2019-07-26T00:17:46+00:00\", \"2019-07-26T00:22:46+00:00\", \"2019-07-26T00:27:46+00:00\", \"2019-07-26T00:37:46+00:00\", \"2019-07-26T00:42:46+00:00\", \"2019-07-26T00:47:46+00:00\", \"2019-07-26T00:52:46+00:00\", \"2019-07-26T00:57:46+00:00\", \"2019-07-26T01:02:46+00:00\", \"2019-07-26T01:07:46+00:00\", \"2019-07-26T01:12:46+00:00\", \"2019-07-26T01:17:46+00:00\", \"2019-07-26T01:22:46+00:00\", \"2019-07-26T01:27:46+00:00\", \"2019-07-26T01:32:46+00:00\", \"2019-07-26T01:37:46+00:00\", \"2019-07-26T01:42:46+00:00\", \"2019-07-26T01:47:46+00:00\", \"2019-07-26T01:52:46+00:00\", \"2019-07-26T01:57:46+00:00\", \"2019-07-26T02:02:46+00:00\", \"2019-07-26T02:07:46+00:00\", \"2019-07-26T02:12:46+00:00\", \"2019-07-26T02:17:46+00:00\", \"2019-07-26T02:22:46+00:00\", \"2019-07-26T02:27:46+00:00\", \"2019-07-26T02:32:46+00:00\", \"2019-07-26T02:37:46+00:00\", \"2019-07-26T02:42:46+00:00\", \"2019-07-26T02:47:46+00:00\", \"2019-07-26T02:52:46+00:00\", \"2019-07-26T02:57:46+00:00\", \"2019-07-26T03:02:46+00:00\", \"2019-07-26T03:07:46+00:00\", \"2019-07-26T03:12:46+00:00\", \"2019-07-26T03:17:46+00:00\", \"2019-07-26T03:22:46+00:00\", \"2019-07-26T03:27:46+00:00\", \"2019-07-26T03:32:46+00:00\", \"2019-07-26T03:37:46+00:00\", \"2019-07-26T03:42:46+00:00\", \"2019-07-26T03:47:46+00:00\", \"2019-07-26T03:52:46+00:00\", \"2019-07-26T03:57:46+00:00\", \"2019-07-26T04:02:46+00:00\", \"2019-07-26T04:07:46+00:00\", \"2019-07-26T04:12:46+00:00\", \"2019-07-26T04:17:46+00:00\", \"2019-07-26T04:22:46+00:00\", \"2019-07-26T04:27:46+00:00\", \"2019-07-26T04:32:46+00:00\", \"2019-07-26T04:37:46+00:00\", \"2019-07-26T04:42:46+00:00\", \"2019-07-26T04:47:46+00:00\", \"2019-07-26T04:52:46+00:00\", \"2019-07-26T04:57:46+00:00\", \"2019-07-26T05:02:46+00:00\", \"2019-07-26T05:07:46+00:00\", \"2019-07-26T05:12:46+00:00\", \"2019-07-26T05:17:46+00:00\", \"2019-07-26T05:22:46+00:00\", \"2019-07-26T05:27:46+00:00\", \"2019-07-26T05:32:46+00:00\", \"2019-07-26T05:37:46+00:00\", \"2019-07-26T05:42:46+00:00\", \"2019-07-26T05:47:46+00:00\", \"2019-07-26T05:52:46+00:00\", \"2019-07-26T05:57:46+00:00\", \"2019-07-26T06:02:46+00:00\", \"2019-07-26T06:07:46+00:00\", \"2019-07-26T06:12:46+00:00\", \"2019-07-26T06:17:46+00:00\", \"2019-07-26T06:22:46+00:00\", \"2019-07-26T06:27:46+00:00\", \"2019-07-26T06:32:46+00:00\", \"2019-07-26T06:37:46+00:00\", \"2019-07-26T06:42:46+00:00\", \"2019-07-26T06:47:46+00:00\", \"2019-07-26T06:52:46+00:00\", \"2019-07-26T06:57:46+00:00\", \"2019-07-26T07:02:46+00:00\", \"2019-07-26T07:07:46+00:00\", \"2019-07-26T07:17:46+00:00\", \"2019-07-26T07:22:46+00:00\", \"2019-07-26T07:27:46+00:00\", \"2019-07-26T07:32:46+00:00\", \"2019-07-26T07:37:46+00:00\", \"2019-07-26T07:42:46+00:00\", \"2019-07-26T07:47:46+00:00\", \"2019-07-26T07:52:46+00:00\", \"2019-07-26T07:57:46+00:00\", \"2019-07-26T08:02:46+00:00\", \"2019-07-26T08:07:46+00:00\", \"2019-07-26T08:12:46+00:00\", \"2019-07-26T08:22:46+00:00\", \"2019-07-26T08:32:46+00:00\", \"2019-07-26T08:37:46+00:00\", \"2019-07-26T08:42:46+00:00\", \"2019-07-26T08:47:46+00:00\", \"2019-07-26T08:52:46+00:00\", \"2019-07-26T08:57:46+00:00\", \"2019-07-26T09:02:46+00:00\", \"2019-07-26T09:07:46+00:00\", \"2019-07-26T09:12:46+00:00\", \"2019-07-26T09:17:46+00:00\", \"2019-07-26T09:22:46+00:00\", \"2019-07-26T09:27:46+00:00\", \"2019-07-26T09:32:46+00:00\", \"2019-07-26T09:37:46+00:00\", \"2019-07-26T09:42:46+00:00\", \"2019-07-26T09:47:46+00:00\", \"2019-07-26T09:52:46+00:00\", \"2019-07-26T09:57:46+00:00\", \"2019-07-26T10:02:46+00:00\", \"2019-07-26T10:07:46+00:00\", \"2019-07-26T10:12:46+00:00\", \"2019-07-26T10:17:46+00:00\", \"2019-07-26T10:22:46+00:00\", \"2019-07-26T10:27:46+00:00\", \"2019-07-26T10:32:46+00:00\", \"2019-07-26T10:37:46+00:00\", \"2019-07-26T10:42:46+00:00\", \"2019-07-26T10:47:46+00:00\", \"2019-07-26T10:52:46+00:00\", \"2019-07-26T11:02:46+00:00\", \"2019-07-26T11:07:46+00:00\", \"2019-07-26T11:12:46+00:00\", \"2019-07-26T11:17:46+00:00\", \"2019-07-26T11:22:46+00:00\", \"2019-07-26T11:27:46+00:00\", \"2019-07-26T11:32:46+00:00\", \"2019-07-26T11:42:46+00:00\", \"2019-07-26T11:47:46+00:00\", \"2019-07-26T11:52:46+00:00\", \"2019-07-26T11:57:46+00:00\", \"2019-07-26T12:02:46+00:00\", \"2019-07-26T12:07:46+00:00\", \"2019-07-26T12:12:46+00:00\", \"2019-07-26T12:17:46+00:00\", \"2019-07-26T12:22:46+00:00\", \"2019-07-26T12:27:46+00:00\", \"2019-07-26T12:32:46+00:00\", \"2019-07-26T12:37:46+00:00\", \"2019-07-26T12:42:46+00:00\", \"2019-07-26T12:47:46+00:00\", \"2019-07-26T12:52:46+00:00\", \"2019-07-26T12:57:46+00:00\", \"2019-07-26T13:02:46+00:00\", \"2019-07-26T13:07:46+00:00\", \"2019-07-26T13:12:46+00:00\", \"2019-07-26T13:17:46+00:00\", \"2019-07-26T13:22:46+00:00\", \"2019-07-26T13:27:46+00:00\", \"2019-07-26T13:32:46+00:00\", \"2019-07-26T13:37:46+00:00\", \"2019-07-26T13:42:46+00:00\", \"2019-07-26T13:47:46+00:00\", \"2019-07-26T13:52:46+00:00\", \"2019-07-26T14:02:46+00:00\", \"2019-07-26T14:07:46+00:00\", \"2019-07-26T14:12:46+00:00\", \"2019-07-26T14:17:46+00:00\", \"2019-07-26T14:22:46+00:00\", \"2019-07-26T14:27:46+00:00\", \"2019-07-26T14:32:46+00:00\", \"2019-07-26T14:37:46+00:00\", \"2019-07-26T14:42:46+00:00\", \"2019-07-26T14:47:46+00:00\", \"2019-07-26T14:52:46+00:00\", \"2019-07-26T14:57:46+00:00\", \"2019-07-26T15:02:46+00:00\", \"2019-07-26T15:07:46+00:00\", \"2019-07-26T15:12:46+00:00\"], \"y\": [167.566, 163.652, 167.946, 172.881, 171.076, 170.151, 166.688, 172.115, 173.963, 170.667, 164.468, 163.089, 171.643, 167.193, 161.512, 161.135, 163.35, 156.961, 159.502, 160.789, 152.023, 159.48, 151.599, 151.344, 149.563, 150.161, 145.305, 143.629, 142.146, 137.398, 143.46, 141.097, 135.426, 131.104, 138.409, 130.823, 133.313, 133.449, 134.108, 134.733, 135.073, 126.458, 127.202, 133.241, 132.021, 130.302, 129.657, 136.853, 128.434, 132.322, 130.75, 139.515, 134.101, 136.061, 137.246, 139.577, 143.936, 140.338, 148.367, 148.861, 148.992, 154.657, 160.387, 155.594, 159.328, 158.985, 163.361, 167.809, 161.837, 166.119, 162.786, 165.696, 171.629, 168.607, 174.311, 170.368, 168.636, 174.886, 168.902, 170.788, 173.239, 164.547, 166.736, 161.479, 166.182, 165.876, 161.587, 163.263, 158.573, 158.603, 159.833, 153.695, 149.252, 147.69, 145.765, 142.682, 149.362, 136.534, 146.928, 138.378, 140.627, 138.626, 131.064, 133.099, 130.005, 129.793, 130.687, 127.631, 128.377, 129.795, 126.689, 133.929, 129.669, 130.752, 129.762, 132.242, 136.861, 134.72, 137.601, 134.317, 141.902, 138.119, 141.119, 138.729, 143.022, 141.245, 144.101, 144.661, 152.612, 149.7, 156.423, 154.557, 157.065, 162.283, 163.47, 157.465, 159.279, 161.204, 166.619, 165.086, 165.785, 172.608, 171.221, 168.168, 171.027, 167.458, 173.837, 167.565, 164.834, 173.266, 169.951, 172.927, 165.772, 167.194, 166.933, 164.01, 163.655, 159.955, 158.469, 159.95, 160.038, 151.425, 154.451, 152.113, 153.638, 149.997, 141.215, 142.654, 147.253, 137.056, 138.146, 137.971, 133.515, 131.956, 139.256, 138.244, 136.203, 131.834, 130.319, 134.166, 127.989, 126.877, 137.9, 134.87, 127.58, 134.316, 134.966, 129.92, 135.127, 133.805, 141.022, 143.45, 140.854, 142.059, 140.864, 147.877, 146.81, 147.764, 153.712, 152.399, 158.311, 154.515, 154.98, 161.152, 164.922, 162.116, 165.064, 167.306, 172.166, 168.182, 163.381, 172.067, 171.106, 169.759, 174.435, 172.012, 172.56, 169.774, 170.554, 171.62, 171.662, 158.654, 168.066, 159.489, 165.321, 163.137, 153.326, 159.809, 153.797, 156.9, 148.938, 147.484, 148.945, 143.919, 142.492, 145.309, 138.783, 143.897, 136.412, 139.515, 136.686, 130.935, 137.846, 130.119, 131.209, 127.391, 131.171, 133.203, 132.964, 125.394, 126.578, 127.162, 127.237, 136.697, 128.675, 135.39, 136.488, 138.63, 138.762, 142.521, 143.365, 144.025, 145.58, 146.192, 147.372, 145.342, 152.968], \"yaxis\": \"y2\"}, {\"hoverinfo\": \"y+name\", \"line\": {\"color\": \"#5ac6fa\", \"dash\": \"dash\"}, \"mode\": \"lines\", \"name\": \"predicted bg\", \"type\": \"scattergl\", \"x\": [\"2019-07-26T15:12:46+00:00\", \"2019-07-26T15:15:00+00:00\", \"2019-07-26T15:20:00+00:00\", \"2019-07-26T15:25:00+00:00\", \"2019-07-26T15:30:00+00:00\", \"2019-07-26T15:35:00+00:00\", \"2019-07-26T15:40:00+00:00\", \"2019-07-26T15:45:00+00:00\", \"2019-07-26T15:50:00+00:00\", \"2019-07-26T15:55:00+00:00\", \"2019-07-26T16:00:00+00:00\", \"2019-07-26T16:05:00+00:00\", \"2019-07-26T16:10:00+00:00\", \"2019-07-26T16:15:00+00:00\", \"2019-07-26T16:20:00+00:00\", \"2019-07-26T16:25:00+00:00\", \"2019-07-26T16:30:00+00:00\", \"2019-07-26T16:35:00+00:00\", \"2019-07-26T16:40:00+00:00\", \"2019-07-26T16:45:00+00:00\", \"2019-07-26T16:50:00+00:00\", \"2019-07-26T16:55:00+00:00\", \"2019-07-26T17:00:00+00:00\", \"2019-07-26T17:05:00+00:00\", \"2019-07-26T17:10:00+00:00\", \"2019-07-26T17:15:00+00:00\", \"2019-07-26T17:20:00+00:00\", \"2019-07-26T17:25:00+00:00\", \"2019-07-26T17:30:00+00:00\", \"2019-07-26T17:35:00+00:00\", \"2019-07-26T17:40:00+00:00\", \"2019-07-26T17:45:00+00:00\", \"2019-07-26T17:50:00+00:00\", \"2019-07-26T17:55:00+00:00\", \"2019-07-26T18:00:00+00:00\", \"2019-07-26T18:05:00+00:00\", \"2019-07-26T18:10:00+00:00\", \"2019-07-26T18:15:00+00:00\", \"2019-07-26T18:20:00+00:00\", \"2019-07-26T18:25:00+00:00\", \"2019-07-26T18:30:00+00:00\", \"2019-07-26T18:35:00+00:00\", \"2019-07-26T18:40:00+00:00\", \"2019-07-26T18:45:00+00:00\", \"2019-07-26T18:50:00+00:00\", \"2019-07-26T18:55:00+00:00\", \"2019-07-26T19:00:00+00:00\", \"2019-07-26T19:05:00+00:00\", \"2019-07-26T19:10:00+00:00\", \"2019-07-26T19:15:00+00:00\", \"2019-07-26T19:20:00+00:00\", \"2019-07-26T19:25:00+00:00\", \"2019-07-26T19:30:00+00:00\", \"2019-07-26T19:35:00+00:00\", \"2019-07-26T19:40:00+00:00\", \"2019-07-26T19:45:00+00:00\", \"2019-07-26T19:50:00+00:00\", \"2019-07-26T19:55:00+00:00\", \"2019-07-26T20:00:00+00:00\", \"2019-07-26T20:05:00+00:00\", \"2019-07-26T20:10:00+00:00\", \"2019-07-26T20:15:00+00:00\", \"2019-07-26T20:20:00+00:00\", \"2019-07-26T20:25:00+00:00\", \"2019-07-26T20:30:00+00:00\", \"2019-07-26T20:35:00+00:00\", \"2019-07-26T20:40:00+00:00\", \"2019-07-26T20:45:00+00:00\", \"2019-07-26T20:50:00+00:00\", \"2019-07-26T20:55:00+00:00\", \"2019-07-26T21:00:00+00:00\", \"2019-07-26T21:05:00+00:00\", \"2019-07-26T21:10:00+00:00\", \"2019-07-26T21:15:00+00:00\", \"2019-07-26T21:20:00+00:00\", \"2019-07-26T21:25:00+00:00\", \"2019-07-26T21:30:00+00:00\", \"2019-07-26T21:35:00+00:00\", \"2019-07-26T21:40:00+00:00\", \"2019-07-26T21:45:00+00:00\", \"2019-07-26T21:50:00+00:00\", \"2019-07-26T21:55:00+00:00\", \"2019-07-26T22:00:00+00:00\", \"2019-07-26T22:05:00+00:00\", \"2019-07-26T22:10:00+00:00\", \"2019-07-26T22:15:00+00:00\"], \"y\": [152.968, 154.21777333333333, 157.08169251028804, 160.05074233444438, 162.31919114360272, 163.3629213271723, 163.46580485434572, 162.77474038220265, 161.42097081592016, 159.52150959309748, 157.18044806566974, 154.490153332797, 151.53236517208092, 148.37920006209603, 145.09406968283474, 141.73252071881947, 138.34300226914812, 134.96756668663375, 131.64250922172408, 128.3989514334744, 125.2633729471136, 122.25809578347678, 119.40172515771106, 116.70955034129382, 114.19390890074241, 111.86451736680348, 109.72877114784218, 107.79201627919247, 106.0577953950476, 104.52807011983958, 103.20342190083741, 102.08323314182479, 101.16585034821489, 100.44873085591084, 99.92857458878177, 99.60144217199885, 99.46286061994806, 99.507917717319, 99.73134611963738, 100.127598114384, 100.69091190537677, 101.41537021079523, 102.29495189862203, 103.3235773219449, 104.49514796009703, 105.80358091964894, 107.24283880146041, 108.8069553960301, 110.49005762896343, 112.28638414122906, 114.19030085475126, 116.19631384254836, 118.2990797938632, 120.49341433834138, 122.77429846910911, 125.13688328241687, 127.5764932311867, 130.0886280711855, 132.66896366150814, 135.31335176546733, 138.01781898373596, 140.7785649385675, 143.59195981602923, 146.45454136233158, 149.36301142044286, 152.31423208416197, 155.30522153860798, 158.333149648618, 161.3953333497503, 164.48923189042281, 167.61244196811649, 170.76269279750167, 173.93784114374654, 175.85037252295245, 175.82863081728485, 175.8248917413816, 175.8248917413816, 175.8248917413816, 175.8248917413816, 175.8248917413816, 175.8248917413816, 175.8248917413816, 175.8248917413816, 175.8248917413816, 175.8248917413816, 175.8248917413816], \"yaxis\": \"y2\"}, {\"hoverinfo\": \"y+name\", \"line\": {\"color\": \"#eb5905\", \"dash\": \"dash\"}, \"mode\": \"lines\", \"name\": \"momentum effect\", \"type\": \"scattergl\", \"x\": [\"2019-07-26T15:12:46+00:00\", \"2019-07-26T15:15:00+00:00\", \"2019-07-26T15:20:00+00:00\", \"2019-07-26T15:25:00+00:00\", \"2019-07-26T15:30:00+00:00\"], \"y\": [152.968, 154.21777333333333, 156.5991822222222, 158.04792444444442, 158.56399999999996], \"yaxis\": \"y2\"}, {\"hoverinfo\": \"y+name\", \"line\": {\"color\": \"#f29741\", \"dash\": \"dash\"}, \"mode\": \"lines\", \"name\": \"insulin effect\", \"type\": \"scattergl\", \"x\": [\"2019-07-26T15:12:46+00:00\", \"2019-07-26T15:15:00+00:00\", \"2019-07-26T15:20:00+00:00\", \"2019-07-26T15:25:00+00:00\", \"2019-07-26T15:30:00+00:00\", \"2019-07-26T15:35:00+00:00\", \"2019-07-26T15:40:00+00:00\", \"2019-07-26T15:45:00+00:00\", \"2019-07-26T15:50:00+00:00\", \"2019-07-26T15:55:00+00:00\", \"2019-07-26T16:00:00+00:00\", \"2019-07-26T16:05:00+00:00\", \"2019-07-26T16:10:00+00:00\", \"2019-07-26T16:15:00+00:00\", \"2019-07-26T16:20:00+00:00\", \"2019-07-26T16:25:00+00:00\", \"2019-07-26T16:30:00+00:00\", \"2019-07-26T16:35:00+00:00\", \"2019-07-26T16:40:00+00:00\", \"2019-07-26T16:45:00+00:00\", \"2019-07-26T16:50:00+00:00\", \"2019-07-26T16:55:00+00:00\", \"2019-07-26T17:00:00+00:00\", \"2019-07-26T17:05:00+00:00\", \"2019-07-26T17:10:00+00:00\", \"2019-07-26T17:15:00+00:00\", \"2019-07-26T17:20:00+00:00\", \"2019-07-26T17:25:00+00:00\", \"2019-07-26T17:30:00+00:00\", \"2019-07-26T17:35:00+00:00\", \"2019-07-26T17:40:00+00:00\", \"2019-07-26T17:45:00+00:00\", \"2019-07-26T17:50:00+00:00\", \"2019-07-26T17:55:00+00:00\", \"2019-07-26T18:00:00+00:00\", \"2019-07-26T18:05:00+00:00\", \"2019-07-26T18:10:00+00:00\", \"2019-07-26T18:15:00+00:00\", \"2019-07-26T18:20:00+00:00\", \"2019-07-26T18:25:00+00:00\", \"2019-07-26T18:30:00+00:00\", \"2019-07-26T18:35:00+00:00\", \"2019-07-26T18:40:00+00:00\", \"2019-07-26T18:45:00+00:00\", \"2019-07-26T18:50:00+00:00\", \"2019-07-26T18:55:00+00:00\", \"2019-07-26T19:00:00+00:00\", \"2019-07-26T19:05:00+00:00\", \"2019-07-26T19:10:00+00:00\", \"2019-07-26T19:15:00+00:00\", \"2019-07-26T19:20:00+00:00\", \"2019-07-26T19:25:00+00:00\", \"2019-07-26T19:30:00+00:00\", \"2019-07-26T19:35:00+00:00\", \"2019-07-26T19:40:00+00:00\", \"2019-07-26T19:45:00+00:00\", \"2019-07-26T19:50:00+00:00\", \"2019-07-26T19:55:00+00:00\", \"2019-07-26T20:00:00+00:00\", \"2019-07-26T20:05:00+00:00\", \"2019-07-26T20:10:00+00:00\", \"2019-07-26T20:15:00+00:00\", \"2019-07-26T20:20:00+00:00\", \"2019-07-26T20:25:00+00:00\", \"2019-07-26T20:30:00+00:00\", \"2019-07-26T20:35:00+00:00\", \"2019-07-26T20:40:00+00:00\", \"2019-07-26T20:45:00+00:00\", \"2019-07-26T20:50:00+00:00\", \"2019-07-26T20:55:00+00:00\", \"2019-07-26T21:00:00+00:00\", \"2019-07-26T21:05:00+00:00\", \"2019-07-26T21:10:00+00:00\", \"2019-07-26T21:15:00+00:00\", \"2019-07-26T21:20:00+00:00\", \"2019-07-26T21:25:00+00:00\", \"2019-07-26T21:30:00+00:00\"], \"y\": [152.968, 152.968, 152.968, 152.87997087617336, 151.78791668617174, 149.5909061290006, 146.45304891543327, 142.52124370254947, 137.9267333955262, 132.7865314319628, 127.20472916379433, 121.27369369018085, 115.07516478872402, 108.6812589379984, 102.15538781799637, 95.55309811324037, 88.92283892282828, 82.30666259957314, 75.74086439392276, 69.25656586493231, 62.88024663783078, 56.63422873345321, 50.53711736694676, 44.60420180978879, 38.84781962849665, 33.27768735381697, 27.901200394114923, 22.72370478472449, 17.748743159838867, 12.97827714389011, 8.412888184147207, 4.051958684393853, -0.10616484995681219, -4.064025083001596, -7.824922090871397, -11.392795248395075, -14.772117541186603, -17.96780118455645, -20.98511352297878, -23.82960226897289, -26.50702921872086, -29.023311654043127, -31.38447070695709, -33.59658602437493, -35.665756126963586, -37.59806390815238, -39.399546767081674, -41.07617091325271, -42.63380942106012, -44.07822364953522, -45.41504767675376, -46.649775429697414, -47.78775021912331, -48.83415641538589, -49.79401302535892, -50.672168952791864, -51.4732997447628, -52.20190564550474, -52.862310795922824, -53.4586634327044, -53.99493695517653, -54.47493174108568, -54.9022776043647, -55.28043679880311, -55.61270748143254, -55.902227558454214, -56.15197884474891, -56.36479147547966, -56.543348515088084, -56.690190715156334, -56.80772137820337, -56.898211289558944, -56.96380368405481, -57.00651921842912, -57.02826092409673, -57.03199999999997, -57.03199999999997], \"yaxis\": \"y2\"}, {\"hoverinfo\": \"y+name\", \"line\": {\"color\": \"#5FCB49\", \"dash\": \"dash\"}, \"mode\": \"lines\", \"name\": \"carb effect\", \"type\": \"scattergl\", \"x\": [\"2019-07-26T15:12:46+00:00\", \"2019-07-26T15:15:00+00:00\", \"2019-07-26T15:20:00+00:00\", \"2019-07-26T15:25:00+00:00\", \"2019-07-26T15:30:00+00:00\", \"2019-07-26T15:35:00+00:00\", \"2019-07-26T15:40:00+00:00\", \"2019-07-26T15:45:00+00:00\", \"2019-07-26T15:50:00+00:00\", \"2019-07-26T15:55:00+00:00\", \"2019-07-26T16:00:00+00:00\", \"2019-07-26T16:05:00+00:00\", \"2019-07-26T16:10:00+00:00\", \"2019-07-26T16:15:00+00:00\", \"2019-07-26T16:20:00+00:00\", \"2019-07-26T16:25:00+00:00\", \"2019-07-26T16:30:00+00:00\", \"2019-07-26T16:35:00+00:00\", \"2019-07-26T16:40:00+00:00\", \"2019-07-26T16:45:00+00:00\", \"2019-07-26T16:50:00+00:00\", \"2019-07-26T16:55:00+00:00\", \"2019-07-26T17:00:00+00:00\", \"2019-07-26T17:05:00+00:00\", \"2019-07-26T17:10:00+00:00\", \"2019-07-26T17:15:00+00:00\", \"2019-07-26T17:20:00+00:00\", \"2019-07-26T17:25:00+00:00\", \"2019-07-26T17:30:00+00:00\", \"2019-07-26T17:35:00+00:00\", \"2019-07-26T17:40:00+00:00\", \"2019-07-26T17:45:00+00:00\", \"2019-07-26T17:50:00+00:00\", \"2019-07-26T17:55:00+00:00\", \"2019-07-26T18:00:00+00:00\", \"2019-07-26T18:05:00+00:00\", \"2019-07-26T18:10:00+00:00\", \"2019-07-26T18:15:00+00:00\", \"2019-07-26T18:20:00+00:00\", \"2019-07-26T18:25:00+00:00\", \"2019-07-26T18:30:00+00:00\", \"2019-07-26T18:35:00+00:00\", \"2019-07-26T18:40:00+00:00\", \"2019-07-26T18:45:00+00:00\", \"2019-07-26T18:50:00+00:00\", \"2019-07-26T18:55:00+00:00\", \"2019-07-26T19:00:00+00:00\", \"2019-07-26T19:05:00+00:00\", \"2019-07-26T19:10:00+00:00\", \"2019-07-26T19:15:00+00:00\", \"2019-07-26T19:20:00+00:00\", \"2019-07-26T19:25:00+00:00\", \"2019-07-26T19:30:00+00:00\", \"2019-07-26T19:35:00+00:00\", \"2019-07-26T19:40:00+00:00\", \"2019-07-26T19:45:00+00:00\", \"2019-07-26T19:50:00+00:00\", \"2019-07-26T19:55:00+00:00\", \"2019-07-26T20:00:00+00:00\", \"2019-07-26T20:05:00+00:00\", \"2019-07-26T20:10:00+00:00\", \"2019-07-26T20:15:00+00:00\", \"2019-07-26T20:20:00+00:00\", \"2019-07-26T20:25:00+00:00\", \"2019-07-26T20:30:00+00:00\", \"2019-07-26T20:35:00+00:00\", \"2019-07-26T20:40:00+00:00\", \"2019-07-26T20:45:00+00:00\", \"2019-07-26T20:50:00+00:00\", \"2019-07-26T20:55:00+00:00\", \"2019-07-26T21:00:00+00:00\", \"2019-07-26T21:05:00+00:00\", \"2019-07-26T21:10:00+00:00\", \"2019-07-26T21:15:00+00:00\", \"2019-07-26T21:20:00+00:00\", \"2019-07-26T21:25:00+00:00\", \"2019-07-26T21:30:00+00:00\", \"2019-07-26T21:35:00+00:00\", \"2019-07-26T21:40:00+00:00\", \"2019-07-26T21:45:00+00:00\", \"2019-07-26T21:50:00+00:00\", \"2019-07-26T21:55:00+00:00\", \"2019-07-26T22:00:00+00:00\", \"2019-07-26T22:05:00+00:00\", \"2019-07-26T22:10:00+00:00\", \"2019-07-26T22:15:00+00:00\"], \"y\": [152.968, 154.2534938271605, 157.49423456790123, 160.73497530864196, 163.9757160493827, 167.21645679012343, 170.45719753086416, 173.6979382716049, 176.93867901234563, 180.17941975308636, 183.4201604938271, 186.66090123456783, 189.90164197530856, 193.1423827160493, 196.38312345679003, 199.62386419753076, 202.8646049382715, 206.10534567901223, 209.34608641975296, 212.58682716049373, 215.82756790123446, 219.0683086419752, 222.30904938271593, 225.54979012345666, 228.7905308641974, 232.03127160493813, 235.2720123456789, 238.5127530864196, 241.75349382716036, 244.99423456790112, 248.23497530864185, 251.47571604938258, 254.71645679012335, 257.95719753086405, 261.19793827160476, 264.4386790123455, 267.6794197530862, 270.920160493827, 274.1609012345677, 277.4016419753084, 280.64238271604916, 283.8831234567899, 287.1238641975307, 290.3646049382714, 293.6053456790122, 296.8460864197529, 300.08682716049367, 303.3275679012344, 306.56830864197514, 309.8090493827159, 313.04979012345666, 316.2905308641974, 319.5312716049382, 322.77201234567895, 326.0127530864197, 329.2534938271604, 332.4942345679012, 335.7349753086419, 338.97571604938264, 342.2164567901234, 345.45719753086416, 348.69793827160487, 351.9386790123456, 355.17941975308634, 358.42016049382704, 361.66090123456786, 364.90164197530856, 368.1423827160493, 371.38312345679003, 374.6238641975308, 377.8646049382715, 381.10534567901226, 384.34608641975296, 386.3013333333332, 386.3013333333332, 386.3013333333332, 386.3013333333332, 386.3013333333332, 386.3013333333332, 386.3013333333332, 386.3013333333332, 386.3013333333332, 386.3013333333332, 386.3013333333332, 386.3013333333332, 386.3013333333332], \"yaxis\": \"y2\"}, {\"hoverinfo\": \"y+name\", \"line\": {\"color\": \"#4253ed\", \"dash\": \"dash\"}, \"mode\": \"lines\", \"name\": \"rc effect\", \"type\": \"scattergl\", \"x\": [], \"y\": [], \"yaxis\": \"y2\"}],\n",
       "                        {\"annotations\": [{\"arrowhead\": 1, \"ax\": 0, \"ay\": 425, \"ayref\": \"y2\", \"showarrow\": true, \"text\": \"current time\", \"x\": \"2019-07-26T15:13:17+00:00\", \"xref\": \"x\", \"y\": 162.968, \"yref\": \"y2\"}, {\"arrowhead\": 1, \"ax\": 0, \"ay\": -2, \"ayref\": \"y\", \"showarrow\": true, \"text\": \"current time\", \"x\": \"2019-07-26T15:13:17+00:00\", \"xref\": \"x\", \"y\": 0, \"yref\": \"y\"}], \"dragmode\": \"pan\", \"hovermode\": \"x\", \"plot_bgcolor\": \"white\", \"showlegend\": true, \"template\": {\"data\": {\"bar\": [{\"error_x\": {\"color\": \"#2a3f5f\"}, \"error_y\": {\"color\": \"#2a3f5f\"}, \"marker\": {\"line\": {\"color\": \"#E5ECF6\", \"width\": 0.5}}, \"type\": \"bar\"}], \"barpolar\": [{\"marker\": {\"line\": {\"color\": \"#E5ECF6\", \"width\": 0.5}}, \"type\": \"barpolar\"}], \"carpet\": [{\"aaxis\": {\"endlinecolor\": \"#2a3f5f\", \"gridcolor\": \"white\", \"linecolor\": \"white\", \"minorgridcolor\": \"white\", \"startlinecolor\": \"#2a3f5f\"}, \"baxis\": {\"endlinecolor\": \"#2a3f5f\", \"gridcolor\": \"white\", \"linecolor\": \"white\", \"minorgridcolor\": \"white\", \"startlinecolor\": \"#2a3f5f\"}, \"type\": \"carpet\"}], \"choropleth\": [{\"colorbar\": {\"outlinewidth\": 0, \"ticks\": \"\"}, \"type\": \"choropleth\"}], \"contour\": [{\"colorbar\": {\"outlinewidth\": 0, \"ticks\": \"\"}, \"colorscale\": [[0.0, \"#0d0887\"], [0.1111111111111111, \"#46039f\"], [0.2222222222222222, \"#7201a8\"], [0.3333333333333333, \"#9c179e\"], [0.4444444444444444, \"#bd3786\"], [0.5555555555555556, \"#d8576b\"], [0.6666666666666666, \"#ed7953\"], [0.7777777777777778, \"#fb9f3a\"], [0.8888888888888888, \"#fdca26\"], [1.0, \"#f0f921\"]], \"type\": \"contour\"}], \"contourcarpet\": [{\"colorbar\": {\"outlinewidth\": 0, \"ticks\": \"\"}, \"type\": \"contourcarpet\"}], \"heatmap\": [{\"colorbar\": {\"outlinewidth\": 0, \"ticks\": \"\"}, \"colorscale\": [[0.0, \"#0d0887\"], [0.1111111111111111, \"#46039f\"], [0.2222222222222222, \"#7201a8\"], [0.3333333333333333, \"#9c179e\"], [0.4444444444444444, \"#bd3786\"], [0.5555555555555556, \"#d8576b\"], [0.6666666666666666, \"#ed7953\"], [0.7777777777777778, \"#fb9f3a\"], [0.8888888888888888, \"#fdca26\"], [1.0, \"#f0f921\"]], \"type\": \"heatmap\"}], \"heatmapgl\": [{\"colorbar\": {\"outlinewidth\": 0, \"ticks\": \"\"}, \"colorscale\": [[0.0, \"#0d0887\"], [0.1111111111111111, \"#46039f\"], [0.2222222222222222, \"#7201a8\"], [0.3333333333333333, \"#9c179e\"], [0.4444444444444444, \"#bd3786\"], [0.5555555555555556, \"#d8576b\"], [0.6666666666666666, \"#ed7953\"], [0.7777777777777778, \"#fb9f3a\"], [0.8888888888888888, \"#fdca26\"], [1.0, \"#f0f921\"]], \"type\": \"heatmapgl\"}], \"histogram\": [{\"marker\": {\"colorbar\": {\"outlinewidth\": 0, \"ticks\": \"\"}}, \"type\": \"histogram\"}], \"histogram2d\": [{\"colorbar\": {\"outlinewidth\": 0, \"ticks\": \"\"}, \"colorscale\": [[0.0, \"#0d0887\"], [0.1111111111111111, \"#46039f\"], [0.2222222222222222, \"#7201a8\"], [0.3333333333333333, \"#9c179e\"], [0.4444444444444444, \"#bd3786\"], [0.5555555555555556, \"#d8576b\"], [0.6666666666666666, \"#ed7953\"], [0.7777777777777778, \"#fb9f3a\"], [0.8888888888888888, \"#fdca26\"], [1.0, \"#f0f921\"]], \"type\": \"histogram2d\"}], \"histogram2dcontour\": [{\"colorbar\": {\"outlinewidth\": 0, \"ticks\": \"\"}, \"colorscale\": [[0.0, \"#0d0887\"], [0.1111111111111111, \"#46039f\"], [0.2222222222222222, \"#7201a8\"], [0.3333333333333333, \"#9c179e\"], [0.4444444444444444, \"#bd3786\"], [0.5555555555555556, \"#d8576b\"], [0.6666666666666666, \"#ed7953\"], [0.7777777777777778, \"#fb9f3a\"], [0.8888888888888888, \"#fdca26\"], [1.0, \"#f0f921\"]], \"type\": \"histogram2dcontour\"}], \"mesh3d\": [{\"colorbar\": {\"outlinewidth\": 0, \"ticks\": \"\"}, \"type\": \"mesh3d\"}], \"parcoords\": [{\"line\": {\"colorbar\": {\"outlinewidth\": 0, \"ticks\": \"\"}}, \"type\": \"parcoords\"}], \"scatter\": [{\"marker\": {\"colorbar\": {\"outlinewidth\": 0, \"ticks\": \"\"}}, \"type\": \"scatter\"}], \"scatter3d\": [{\"line\": {\"colorbar\": {\"outlinewidth\": 0, \"ticks\": \"\"}}, \"marker\": {\"colorbar\": {\"outlinewidth\": 0, \"ticks\": \"\"}}, \"type\": \"scatter3d\"}], \"scattercarpet\": [{\"marker\": {\"colorbar\": {\"outlinewidth\": 0, \"ticks\": \"\"}}, \"type\": \"scattercarpet\"}], \"scattergeo\": [{\"marker\": {\"colorbar\": {\"outlinewidth\": 0, \"ticks\": \"\"}}, \"type\": \"scattergeo\"}], \"scattergl\": [{\"marker\": {\"colorbar\": {\"outlinewidth\": 0, \"ticks\": \"\"}}, \"type\": \"scattergl\"}], \"scattermapbox\": [{\"marker\": {\"colorbar\": {\"outlinewidth\": 0, \"ticks\": \"\"}}, \"type\": \"scattermapbox\"}], \"scatterpolar\": [{\"marker\": {\"colorbar\": {\"outlinewidth\": 0, \"ticks\": \"\"}}, \"type\": \"scatterpolar\"}], \"scatterpolargl\": [{\"marker\": {\"colorbar\": {\"outlinewidth\": 0, \"ticks\": \"\"}}, \"type\": \"scatterpolargl\"}], \"scatterternary\": [{\"marker\": {\"colorbar\": {\"outlinewidth\": 0, \"ticks\": \"\"}}, \"type\": \"scatterternary\"}], \"surface\": [{\"colorbar\": {\"outlinewidth\": 0, \"ticks\": \"\"}, \"colorscale\": [[0.0, \"#0d0887\"], [0.1111111111111111, \"#46039f\"], [0.2222222222222222, \"#7201a8\"], [0.3333333333333333, \"#9c179e\"], [0.4444444444444444, \"#bd3786\"], [0.5555555555555556, \"#d8576b\"], [0.6666666666666666, \"#ed7953\"], [0.7777777777777778, \"#fb9f3a\"], [0.8888888888888888, \"#fdca26\"], [1.0, \"#f0f921\"]], \"type\": \"surface\"}], \"table\": [{\"cells\": {\"fill\": {\"color\": \"#EBF0F8\"}, \"line\": {\"color\": \"white\"}}, \"header\": {\"fill\": {\"color\": \"#C8D4E3\"}, \"line\": {\"color\": \"white\"}}, \"type\": \"table\"}]}, \"layout\": {\"annotationdefaults\": {\"arrowcolor\": \"#2a3f5f\", \"arrowhead\": 0, \"arrowwidth\": 1}, \"colorscale\": {\"diverging\": [[0, \"#8e0152\"], [0.1, \"#c51b7d\"], [0.2, \"#de77ae\"], [0.3, \"#f1b6da\"], [0.4, \"#fde0ef\"], [0.5, \"#f7f7f7\"], [0.6, \"#e6f5d0\"], [0.7, \"#b8e186\"], [0.8, \"#7fbc41\"], [0.9, \"#4d9221\"], [1, \"#276419\"]], \"sequential\": [[0.0, \"#0d0887\"], [0.1111111111111111, \"#46039f\"], [0.2222222222222222, \"#7201a8\"], [0.3333333333333333, \"#9c179e\"], [0.4444444444444444, \"#bd3786\"], [0.5555555555555556, \"#d8576b\"], [0.6666666666666666, \"#ed7953\"], [0.7777777777777778, \"#fb9f3a\"], [0.8888888888888888, \"#fdca26\"], [1.0, \"#f0f921\"]], \"sequentialminus\": [[0.0, \"#0d0887\"], [0.1111111111111111, \"#46039f\"], [0.2222222222222222, \"#7201a8\"], [0.3333333333333333, \"#9c179e\"], [0.4444444444444444, \"#bd3786\"], [0.5555555555555556, \"#d8576b\"], [0.6666666666666666, \"#ed7953\"], [0.7777777777777778, \"#fb9f3a\"], [0.8888888888888888, \"#fdca26\"], [1.0, \"#f0f921\"]]}, \"colorway\": [\"#636efa\", \"#EF553B\", \"#00cc96\", \"#ab63fa\", \"#FFA15A\", \"#19d3f3\", \"#FF6692\", \"#B6E880\", \"#FF97FF\", \"#FECB52\"], \"font\": {\"color\": \"#2a3f5f\"}, \"geo\": {\"bgcolor\": \"white\", \"lakecolor\": \"white\", \"landcolor\": \"#E5ECF6\", \"showlakes\": true, \"showland\": true, \"subunitcolor\": \"white\"}, \"hoverlabel\": {\"align\": \"left\"}, \"hovermode\": \"closest\", \"mapbox\": {\"style\": \"light\"}, \"paper_bgcolor\": \"white\", \"plot_bgcolor\": \"#E5ECF6\", \"polar\": {\"angularaxis\": {\"gridcolor\": \"white\", \"linecolor\": \"white\", \"ticks\": \"\"}, \"bgcolor\": \"#E5ECF6\", \"radialaxis\": {\"gridcolor\": \"white\", \"linecolor\": \"white\", \"ticks\": \"\"}}, \"scene\": {\"xaxis\": {\"backgroundcolor\": \"#E5ECF6\", \"gridcolor\": \"white\", \"gridwidth\": 2, \"linecolor\": \"white\", \"showbackground\": true, \"ticks\": \"\", \"zerolinecolor\": \"white\"}, \"yaxis\": {\"backgroundcolor\": \"#E5ECF6\", \"gridcolor\": \"white\", \"gridwidth\": 2, \"linecolor\": \"white\", \"showbackground\": true, \"ticks\": \"\", \"zerolinecolor\": \"white\"}, \"zaxis\": {\"backgroundcolor\": \"#E5ECF6\", \"gridcolor\": \"white\", \"gridwidth\": 2, \"linecolor\": \"white\", \"showbackground\": true, \"ticks\": \"\", \"zerolinecolor\": \"white\"}}, \"shapedefaults\": {\"line\": {\"color\": \"#2a3f5f\"}}, \"ternary\": {\"aaxis\": {\"gridcolor\": \"white\", \"linecolor\": \"white\", \"ticks\": \"\"}, \"baxis\": {\"gridcolor\": \"white\", \"linecolor\": \"white\", \"ticks\": \"\"}, \"bgcolor\": \"#E5ECF6\", \"caxis\": {\"gridcolor\": \"white\", \"linecolor\": \"white\", \"ticks\": \"\"}}, \"title\": {\"x\": 0.05}, \"xaxis\": {\"automargin\": true, \"gridcolor\": \"white\", \"linecolor\": \"white\", \"ticks\": \"\", \"zerolinecolor\": \"white\", \"zerolinewidth\": 2}, \"yaxis\": {\"automargin\": true, \"gridcolor\": \"white\", \"linecolor\": \"white\", \"ticks\": \"\", \"zerolinecolor\": \"white\", \"zerolinewidth\": 2}}}, \"xaxis\": {\"gridcolor\": \"#c0c0c0\", \"range\": [\"2019-07-26T09:13:17+00:00\", \"2019-07-26T21:13:17+00:00\"], \"showgrid\": true}, \"yaxis\": {\"domain\": [0, 0.3], \"fixedrange\": true, \"gridcolor\": \"#c0c0c0\", \"hoverformat\": \".2f\", \"range\": [0, 6.333333333333334], \"showgrid\": true, \"title\": {\"font\": {\"size\": 12}, \"text\": \"Insulin (U, U/hr)\"}}, \"yaxis2\": {\"domain\": [0.4, 1], \"fixedrange\": true, \"gridcolor\": \"#c0c0c0\", \"hoverformat\": \".0f\", \"range\": [0, 400], \"showgrid\": true, \"tickvals\": [-100, 40, 70, 180, 250, 400], \"title\": {\"font\": {\"size\": 12}, \"text\": \"Blood Glucose (mg/dL)\"}, \"zeroline\": false}},\n",
       "                        {\"responsive\": true}\n",
       "                    ).then(function(){\n",
       "                            \n",
       "var gd = document.getElementById('703f33b2-1bcf-4338-9958-794355bd8a58');\n",
       "var x = new MutationObserver(function (mutations, observer) {{\n",
       "        var display = window.getComputedStyle(gd).display;\n",
       "        if (!display || display === 'none') {{\n",
       "            console.log([gd, 'removed!']);\n",
       "            Plotly.purge(gd);\n",
       "            observer.disconnect();\n",
       "        }}\n",
       "}});\n",
       "\n",
       "// Listen for the removal of the full notebook cells\n",
       "var notebookContainer = gd.closest('#notebook-container');\n",
       "if (notebookContainer) {{\n",
       "    x.observe(notebookContainer, {childList: true});\n",
       "}}\n",
       "\n",
       "// Listen for the clearing of the current output cell\n",
       "var outputEl = gd.closest('.output');\n",
       "if (outputEl) {{\n",
       "    x.observe(outputEl, {childList: true});\n",
       "}}\n",
       "\n",
       "                        })\n",
       "                };\n",
       "                });\n",
       "            </script>\n",
       "        </div>"
      ]
     },
     "metadata": {},
     "output_type": "display_data"
    }
   ],
   "source": [
    "basal_trace.yaxis = \"y\"\n",
    "sbr_trace.yaxis = \"y\"\n",
    "recommended_basal_trace.yaxis = \"y\"\n",
    "bolus_trace.yaxis = \"y\"\n",
    "carb_trace.yaxis = \"y\"\n",
    "recommended_bolus_trace.yaxis = \"y\"\n",
    "\n",
    "bg_trace.yaxis = \"y2\"\n",
    "bg_prediction_trace.yaxis = \"y2\"\n",
    "momentum_effect_trace.yaxis = \"y2\"\n",
    "insulin_effect_trace.yaxis = \"y2\"\n",
    "carb_effect_trace.yaxis = \"y2\"\n",
    "rc_effect_trace.yaxis = \"y2\"\n",
    "\n",
    "data = [\n",
    "    basal_trace, sbr_trace, recommended_basal_trace,\n",
    "    bolus_trace, carb_trace, recommended_bolus_trace,\n",
    "    bg_trace, bg_prediction_trace,\n",
    "    momentum_effect_trace, insulin_effect_trace,\n",
    "    carb_effect_trace, rc_effect_trace\n",
    "]\n",
    "\n",
    "layout = go.Layout(\n",
    "    showlegend=True,\n",
    "    plot_bgcolor=\"white\",\n",
    "    yaxis=dict(\n",
    "        domain=[0, 0.3],\n",
    "        range=[0, max(\n",
    "            basal[\"sbr\"].max() + 1,\n",
    "            basal[\"tbr\"].max() + 1,\n",
    "            bolus[\"dose\"].max() + 3,\n",
    "            carbs[\"bolus_height\"].max() + 3\n",
    "        )],\n",
    "        fixedrange=True,\n",
    "        hoverformat=\".2f\",\n",
    "        showgrid=True,\n",
    "        gridcolor=\"#c0c0c0\",\n",
    "        title=dict(\n",
    "            text=\"Insulin (U, U/hr)\",\n",
    "            font=dict(\n",
    "                size=12\n",
    "            )\n",
    "        )\n",
    "    ),\n",
    "    yaxis2=dict(\n",
    "        domain=[0.4, 1],\n",
    "        range=[0, 400],\n",
    "        tickvals=[-100, 40, 70, 180, 250, 400],\n",
    "        fixedrange=True,\n",
    "        hoverformat=\".0f\",\n",
    "        zeroline=False,\n",
    "        showgrid=True,\n",
    "        gridcolor=\"#c0c0c0\",\n",
    "        title=dict(\n",
    "            text=\"Blood Glucose (mg/dL)\",\n",
    "            font=dict(\n",
    "                size=12\n",
    "            )\n",
    "        )\n",
    "    ),\n",
    "    xaxis=dict(\n",
    "        range=(\n",
    "            current_time - datetime.timedelta(hours=6),  \n",
    "            current_time + datetime.timedelta(hours=6)\n",
    "        ),\n",
    "        showgrid=True,\n",
    "        gridcolor=\"#c0c0c0\",\n",
    "    ),\n",
    "    annotations=[\n",
    "        go.layout.Annotation(\n",
    "            x=current_time,\n",
    "            y=bg[\"mg_dL\"].values[-1] + 10,\n",
    "            xref=\"x\",\n",
    "            yref=\"y2\",\n",
    "            text=\"current time\",\n",
    "            showarrow=True,\n",
    "            arrowhead=1,\n",
    "            ax=0,\n",
    "            ayref=\"y2\",\n",
    "            ay=425\n",
    "        ),\n",
    "        go.layout.Annotation(\n",
    "            x=current_time,\n",
    "            y=0,\n",
    "            xref=\"x\",\n",
    "            yref=\"y\",\n",
    "            text=\"current time\",\n",
    "            showarrow=True,\n",
    "            arrowhead=1,\n",
    "            ax=0,\n",
    "            ayref=\"y\",\n",
    "            ay=-2\n",
    "        )\n",
    "    ],\n",
    "    dragmode=\"pan\",\n",
    "    hovermode=\"x\"\n",
    ")\n",
    "\n",
    "fig = go.Figure(data=data, layout=layout)\n",
    "fig"
   ]
  },
  {
   "cell_type": "code",
   "execution_count": null,
   "metadata": {},
   "outputs": [],
   "source": []
  }
 ],
 "metadata": {
  "kernelspec": {
   "display_name": "Python 3",
   "language": "python",
   "name": "python3"
  },
  "language_info": {
   "codemirror_mode": {
    "name": "ipython",
    "version": 3
   },
   "file_extension": ".py",
   "mimetype": "text/x-python",
   "name": "python",
   "nbconvert_exporter": "python",
   "pygments_lexer": "ipython3",
   "version": "3.7.4"
  }
 },
 "nbformat": 4,
 "nbformat_minor": 4
}
